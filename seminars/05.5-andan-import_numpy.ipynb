{
 "cells": [
  {
   "cell_type": "markdown",
   "id": "b1dcd36d-34d2-43e6-ae0a-31d8dd76e14d",
   "metadata": {},
   "source": [
    "# АнДан: `import` – использование невстроенных функций и `numpy` – удобной математики"
   ]
  },
  {
   "cell_type": "markdown",
   "id": "fc8c1ee8-66b1-457f-b185-e384d4377177",
   "metadata": {},
   "source": [
    "<div class=\"alert alert-block alert-info\">\n",
    "❗Всё это (<code>import</code>, <code>numpy</code>) <b>нельзя</b> использовать на экзамене по Python'у.\n",
    "    Можно только на экзамене по Анализу данных.\n",
    "</div>"
   ]
  },
  {
   "cell_type": "markdown",
   "id": "f91725ed-da6a-4e07-b2ea-570aed4fdb14",
   "metadata": {},
   "source": [
    "Питон не включает в себя всё, что возможно придумать.\n",
    "\n",
    "Кому-то нужно считать статистику, кому-то — сделать веб-сайт для своего магазина, а кому-то —  (ух!) строить неройнные сети.\n",
    "    Для каждой из этих задач нужны совершенно разные программы.\n",
    "    Поскольку это **задачи** достаточно **частые**, то **их кто-то уже решал**.\n",
    "\n",
    "И действительно, немало сторонних разработчиков пишут малые (пакеты) или большие (библиотеки) программы для решения каких-то определённых задач, и делают их общедоступными (спасибо им!).\n",
    "\n",
    "Что очень нужно нам, это удобно считать статистику.\n",
    "    (А позже, возможно, также аккуратно делить русский текст на предложения и слова.)\n",
    "    Оказывается, для этого тоже есть программы!    "
   ]
  },
  {
   "cell_type": "markdown",
   "id": "b5b1f76c-1d4a-4374-9a12-7182e5ea1056",
   "metadata": {},
   "source": [
    "## `numpy`"
   ]
  },
  {
   "cell_type": "markdown",
   "id": "a0f64c6a-940e-4395-8ae0-229fced84330",
   "metadata": {},
   "source": [
    "Ключевое в использовании сторонних пакетов это инструкция `import`.\n",
    "\n",
    "Сразу попробуйте импортировать `numpy` – если у вас `python` и `jupyter` установлены через `Anaconda`, то `numpy` тоже будет уже установлен.\n",
    "\n",
    "* *если не сработало, [перейдите сюда, к пункту \"установка\"](#install-numpy)*"
   ]
  },
  {
   "cell_type": "code",
   "execution_count": 137,
   "id": "fb5390b6-7340-4c63-9e63-6a708997da4a",
   "metadata": {},
   "outputs": [
    {
     "name": "stdout",
     "output_type": "stream",
     "text": [
      "11.0\n",
      "25\n"
     ]
    }
   ],
   "source": [
    "import numpy\n",
    "\n",
    "numbers = [4, 5, 10, 25]\n",
    "print(numpy.mean(numbers))\n",
    "print(numpy.max(numbers))"
   ]
  },
  {
   "cell_type": "code",
   "execution_count": 133,
   "id": "4b7ceec6-f8a9-4076-9563-953119842051",
   "metadata": {},
   "outputs": [
    {
     "name": "stdout",
     "output_type": "stream",
     "text": [
      "11.0\n"
     ]
    }
   ],
   "source": [
    "print(numpy.mean([4, 5, 10, 25]))"
   ]
  },
  {
   "cell_type": "markdown",
   "id": "81a47b8c-74cd-49e2-a713-1f9cec8a3139",
   "metadata": {},
   "source": [
    "конечно, среднее можно было посчитать иначе:"
   ]
  },
  {
   "cell_type": "code",
   "execution_count": 138,
   "id": "2f9d8d0e-eba2-42e3-b2f4-8e14c23d2b21",
   "metadata": {},
   "outputs": [
    {
     "name": "stdout",
     "output_type": "stream",
     "text": [
      "11.0\n"
     ]
    }
   ],
   "source": [
    "mean = sum(numbers) / len(numbers)\n",
    "print(mean)"
   ]
  },
  {
   "cell_type": "code",
   "execution_count": 6,
   "id": "2b228a07-9ae5-4852-90b9-9b38fcdf606b",
   "metadata": {},
   "outputs": [
    {
     "data": {
      "text/plain": [
       "3.141592653589793"
      ]
     },
     "execution_count": 6,
     "metadata": {},
     "output_type": "execute_result"
    }
   ],
   "source": [
    "# (переменная, для иллюстрации)\n",
    "numpy.pi"
   ]
  },
  {
   "cell_type": "markdown",
   "id": "1c24f088-a407-4ad4-a336-d21b901ce353",
   "metadata": {},
   "source": [
    "Что произошло?\n",
    "\n",
    "Мы попросили `python` прочитать весь код пакета `numpy` и запомнить функции и переменные, которые там записаны.\n",
    "    Теперь мы можем к ним обращаться в таком виде: `<имя_пакета><ТОЧКА><имя_функции_или_переменной>`.\n",
    "\n",
    "Выше мы посчитали для списка целых чисел `numbers` его среднее (функцией `numpy.mean` с этим списком как аргументом) и максимальное число в нём (функцией `numpy.max` с этим списком как аргументом).\n",
    "\n",
    "Ниже мы вывели значение переменной `pi` из пакета `numpy`.\n",
    "\n",
    "Обратите внимание, что функция, считающая максимум называется так же, как встроенная функция `python`! Ровно поэтому, чтобы `python` чётко понимал, какую именно функцию (или переменную) мы хотим использовать, и нужно писать `<имя_пакета><ТОЧКА><имя_функции_или_переменной>` с указанием пьакета.\n",
    "\n",
    "* (запись через точку похожа на то, как мы обращались к методам разных *объектов* – списков, строк, но *здесь иначе*: это действительно функции и переменные, а не методы)"
   ]
  },
  {
   "cell_type": "code",
   "execution_count": 139,
   "id": "d1a0b7ed-6794-4700-8d44-eda641934ed8",
   "metadata": {},
   "outputs": [
    {
     "data": {
      "text/plain": [
       "25"
      ]
     },
     "execution_count": 139,
     "metadata": {},
     "output_type": "execute_result"
    }
   ],
   "source": [
    "max(numbers)"
   ]
  },
  {
   "cell_type": "code",
   "execution_count": 140,
   "id": "562de292-9f43-456a-abcd-22e17ed92b16",
   "metadata": {},
   "outputs": [
    {
     "data": {
      "text/plain": [
       "25"
      ]
     },
     "execution_count": 140,
     "metadata": {},
     "output_type": "execute_result"
    }
   ],
   "source": [
    "numpy.max(numbers)"
   ]
  },
  {
   "cell_type": "markdown",
   "id": "7607e0be-fd2f-4d8d-af63-e207844b22c4",
   "metadata": {},
   "source": [
    "Как правило, инструкцию `import` в случае с `numpy` усложняют, и добавляют сокращённое название пакета (по привычке пишут `np`, это очень распространено):\n",
    "\n",
    "`import <пакет> as <наш_псевдоним_для_пакета>`"
   ]
  },
  {
   "cell_type": "code",
   "execution_count": 9,
   "id": "a633d330-01e1-4e12-a1a1-8e60e710930d",
   "metadata": {},
   "outputs": [
    {
     "name": "stdout",
     "output_type": "stream",
     "text": [
      "78.25\n",
      "151\n"
     ]
    }
   ],
   "source": [
    "import numpy as np\n",
    "\n",
    "numbers = [151, 15, 96, 51]\n",
    "print(np.mean(numbers))\n",
    "print(np.max(numbers))"
   ]
  },
  {
   "cell_type": "markdown",
   "id": "c9a9ed9e-9792-49f7-83a3-103a17019809",
   "metadata": {},
   "source": [
    "### Минимум, максимум, размах"
   ]
  },
  {
   "cell_type": "code",
   "execution_count": 13,
   "id": "855aa024-51e4-415d-bd23-32e9203140a7",
   "metadata": {},
   "outputs": [
    {
     "name": "stdout",
     "output_type": "stream",
     "text": [
      "10\n",
      "1\n",
      "9\n"
     ]
    }
   ],
   "source": [
    "numbers = [9, 1, 2, 8, 6, 4, 3, 7, 5, 10]\n",
    "\n",
    "print(np.max(numbers))\n",
    "print(np.min(numbers))\n",
    "\n",
    "# – запишите выражение для размаха:\n",
    "# your code here"
   ]
  },
  {
   "cell_type": "markdown",
   "id": "d4c9270a-3bdf-43d2-aa81-8b317df538f9",
   "metadata": {},
   "source": [
    "### Медиана, квартили"
   ]
  },
  {
   "cell_type": "code",
   "execution_count": 102,
   "id": "ea0b289e-7b95-47e7-93ce-d318e4be0878",
   "metadata": {},
   "outputs": [
    {
     "data": {
      "text/plain": [
       "3.0"
      ]
     },
     "execution_count": 102,
     "metadata": {},
     "output_type": "execute_result"
    }
   ],
   "source": [
    "np.quantile([1, 2, 3, 4, 5], 0.5)"
   ]
  },
  {
   "cell_type": "code",
   "execution_count": 107,
   "id": "aae186e0-21e7-41cc-9fd8-c20e749e4c57",
   "metadata": {},
   "outputs": [
    {
     "data": {
      "text/plain": [
       "[1, 2, 3, 4, 5, 6, 7, 8, 9, 10]"
      ]
     },
     "execution_count": 107,
     "metadata": {},
     "output_type": "execute_result"
    }
   ],
   "source": [
    "sorted(numbers)"
   ]
  },
  {
   "cell_type": "code",
   "execution_count": 105,
   "id": "3fa8baea-00e1-4c5a-a27f-d4d056cd4dd9",
   "metadata": {},
   "outputs": [
    {
     "data": {
      "text/plain": [
       "5.5"
      ]
     },
     "execution_count": 105,
     "metadata": {},
     "output_type": "execute_result"
    }
   ],
   "source": [
    "np.quantile(numbers, 0.5)"
   ]
  },
  {
   "cell_type": "code",
   "execution_count": 106,
   "id": "a3288419-4e39-468a-ad5a-6da5b99534be",
   "metadata": {},
   "outputs": [
    {
     "data": {
      "text/plain": [
       "3.25"
      ]
     },
     "execution_count": 106,
     "metadata": {},
     "output_type": "execute_result"
    }
   ],
   "source": [
    "np.quantile(numbers, 0.25)"
   ]
  },
  {
   "cell_type": "markdown",
   "id": "0810670b-73af-487a-8249-9acb04326018",
   "metadata": {},
   "source": [
    "### Тренировка"
   ]
  },
  {
   "cell_type": "markdown",
   "id": "c049abd1-6af0-4beb-852a-6a3534ded646",
   "metadata": {},
   "source": [
    "Ниже приведён список ростов случайных 100 человек из поликлиники. Найдите:\n",
    "\n",
    "* средний рост\n",
    "* медианный рост, \n",
    "* отметку роста, выше которой 80% людей\n",
    "* отметку роста, ниже которой 90% людей\n",
    "* максимальный рост\n",
    "* отметку роста, ниже которой 99%\n",
    "\n",
    "**позже, после `np.array()`**:\n",
    "* стандартное отклонение ростов"
   ]
  },
  {
   "cell_type": "code",
   "execution_count": 121,
   "id": "eec9a6c5-4a9c-4e05-8a7f-7fddfcfdbae2",
   "metadata": {},
   "outputs": [],
   "source": [
    "heights = [160, 197, 173, 179, 179, 190, 169, 161, 170, 190, 167, 198, 163, 164, 197, 191, 167, 169, 181,\n",
    "           174, 179, 191, 163, 196, 169, 181, 171, 182, 187, 160, 186, 164, 193, 190, 178, 179, 169, 170,\n",
    "           176, 184, 169, 171, 169, 194, 185, 167, 162, 178, 173, 166, 191, 188, 166, 193, 160, 162, 166,\n",
    "           196, 165, 166, 170, 197, 171, 171, 162, 195, 187, 198, 179, 176, 164, 185, 188, 179, 167, 182,\n",
    "           171, 185, 171, 177, 197, 186, 194, 168, 167, 180, 188, 169, 170, 176, 166, 184, 173, 192, 175,\n",
    "           197, 182, 186, 167, 176]"
   ]
  },
  {
   "cell_type": "markdown",
   "id": "db7227ba-70ca-466f-ada1-d1e365a83200",
   "metadata": {},
   "source": [
    "### Мода"
   ]
  },
  {
   "cell_type": "markdown",
   "id": "9400eb6e-6549-46ed-9e55-aa85a4107720",
   "metadata": {},
   "source": [
    "Не очень удобно считается.."
   ]
  },
  {
   "cell_type": "code",
   "execution_count": 112,
   "id": "89830d07-4a97-4b34-9700-478840e6d0fb",
   "metadata": {},
   "outputs": [
    {
     "name": "stdout",
     "output_type": "stream",
     "text": [
      "[9, 1, 2, 8, 6, 4, 3, 7, 5, 10, 3]\n",
      "[ 1  2  3  4  5  6  7  8  9 10]\n",
      "[1 1 2 1 1 1 1 1 1 1]\n"
     ]
    },
    {
     "data": {
      "text/plain": [
       "3"
      ]
     },
     "execution_count": 112,
     "metadata": {},
     "output_type": "execute_result"
    }
   ],
   "source": [
    "numbers2 = list(numbers)\n",
    "numbers2.append(3)\n",
    "print(numbers2)\n",
    "\n",
    "uniq, counts = np.unique(numbers2, return_counts=True)\n",
    "\n",
    "print(uniq)\n",
    "print(counts)\n",
    "\n",
    "i_max = np.argmax(counts)\n",
    "uniq[i_max]"
   ]
  },
  {
   "cell_type": "code",
   "execution_count": 116,
   "id": "1141e0fd-f95c-40b6-a286-7117905f8cac",
   "metadata": {},
   "outputs": [
    {
     "name": "stdout",
     "output_type": "stream",
     "text": [
      "[0 1 1 2 1 1 1 1 1 1 1]\n",
      "3\n"
     ]
    }
   ],
   "source": [
    "print(np.bincount(numbers2))\n",
    "\n",
    "num_max = np.argmax(np.bincount(numbers2))\n",
    "\n",
    "print(num_max)"
   ]
  },
  {
   "cell_type": "markdown",
   "id": "39a8a298-17d5-43e1-bc25-407f3a625233",
   "metadata": {},
   "source": [
    "### 🥰 Массивы `np.array`"
   ]
  },
  {
   "cell_type": "markdown",
   "id": "f2e29e24-fd94-4723-bd05-6389c1b94d87",
   "metadata": {},
   "source": [
    "#### Создаём массив"
   ]
  },
  {
   "cell_type": "code",
   "execution_count": 23,
   "id": "64105062-44ac-4ea1-923b-0d75c720c875",
   "metadata": {
    "scrolled": true
   },
   "outputs": [
    {
     "name": "stdout",
     "output_type": "stream",
     "text": [
      "[ 9  1  2  8  6  4  3  7  5 10]\n"
     ]
    }
   ],
   "source": [
    "arr = np.array(numbers)\n",
    "\n",
    "print(arr)"
   ]
  },
  {
   "cell_type": "code",
   "execution_count": 24,
   "id": "e866b5ca-e455-4f34-a97f-086e294ddbf2",
   "metadata": {
    "scrolled": true
   },
   "outputs": [
    {
     "name": "stdout",
     "output_type": "stream",
     "text": [
      "<class 'numpy.ndarray'>\n"
     ]
    }
   ],
   "source": [
    "print(type(arr)) # массив нампай"
   ]
  },
  {
   "cell_type": "markdown",
   "id": "342a4926-4f11-4d51-a538-9bc8f87be554",
   "metadata": {},
   "source": [
    "#### Действия с массивами"
   ]
  },
  {
   "cell_type": "code",
   "execution_count": 7,
   "id": "b94c1731-557f-4c9a-a659-9fbe972fbef2",
   "metadata": {},
   "outputs": [
    {
     "name": "stdout",
     "output_type": "stream",
     "text": [
      "[156, 172, 164, 8, 2, 3]\n"
     ]
    }
   ],
   "source": [
    "# попробуем сложить два списка\n",
    "height = [156, 172, 164]  # это рост трёх людей\n",
    "d = [8, 2, 3]\n",
    "print(height + d) # выполнилась операция \"склейки\""
   ]
  },
  {
   "cell_type": "code",
   "execution_count": 8,
   "id": "5af60bfe-a63c-4964-bb0d-35029d23f3e9",
   "metadata": {},
   "outputs": [
    {
     "name": "stdout",
     "output_type": "stream",
     "text": [
      "[164 174 167]\n"
     ]
    }
   ],
   "source": [
    "# попробуем сложить два массива numpy\n",
    "height_np = np.array(height)\n",
    "d_np = np.array(d)\n",
    "print(height_np + d_np)  # выполнилось поэлементное сложение"
   ]
  },
  {
   "cell_type": "markdown",
   "id": "9cd2208f-d88c-43eb-869c-af578994a313",
   "metadata": {},
   "source": [
    "Оказывается, можно делать операции с массивами, и они будут проводиться с каждым числом в массиве, параллельно!"
   ]
  },
  {
   "cell_type": "code",
   "execution_count": 9,
   "id": "be52ed10-6db8-47cb-8b27-8f465a8134ea",
   "metadata": {},
   "outputs": [
    {
     "data": {
      "text/plain": [
       "array([158, 174, 166])"
      ]
     },
     "execution_count": 9,
     "metadata": {},
     "output_type": "execute_result"
    }
   ],
   "source": [
    "# Все выросли на 2 см - какой теперь рост?\n",
    "height_np + 2"
   ]
  },
  {
   "cell_type": "markdown",
   "id": "45b258b3-a6b4-498a-88a0-86f25b76a498",
   "metadata": {},
   "source": [
    "Вернёмся к `arr`"
   ]
  },
  {
   "cell_type": "code",
   "execution_count": 25,
   "id": "d7d208cf-025f-442b-b91d-a5ccc4b95ef9",
   "metadata": {},
   "outputs": [
    {
     "data": {
      "text/plain": [
       "array([ 81,   1,   4,  64,  36,  16,   9,  49,  25, 100])"
      ]
     },
     "execution_count": 25,
     "metadata": {},
     "output_type": "execute_result"
    }
   ],
   "source": [
    "arr ** 2"
   ]
  },
  {
   "cell_type": "code",
   "execution_count": 18,
   "id": "9b50b169-9f5f-42fa-b5e2-099cd2c650ea",
   "metadata": {},
   "outputs": [
    {
     "name": "stdout",
     "output_type": "stream",
     "text": [
      "10\n"
     ]
    }
   ],
   "source": [
    "arr2 = np.array([31, 5, 63, 8, 9, 17, 56, 9, 13, 77])\n",
    "\n",
    "print(len(arr2))"
   ]
  },
  {
   "cell_type": "code",
   "execution_count": 19,
   "id": "c65ebb53-a174-4e3d-b98e-ce115b3d62c6",
   "metadata": {},
   "outputs": [
    {
     "data": {
      "text/plain": [
       "array([40,  6, 65, 16, 15, 21, 59, 16, 18, 87])"
      ]
     },
     "execution_count": 19,
     "metadata": {},
     "output_type": "execute_result"
    }
   ],
   "source": [
    "arr + arr2"
   ]
  },
  {
   "cell_type": "code",
   "execution_count": 20,
   "id": "24e0433a-2c12-4ce8-a7fb-6ccb892c3798",
   "metadata": {},
   "outputs": [
    {
     "data": {
      "text/plain": [
       "array([279,   5, 126,  64,  54,  68, 168,  63,  65, 770])"
      ]
     },
     "execution_count": 20,
     "metadata": {},
     "output_type": "execute_result"
    }
   ],
   "source": [
    "arr * arr2"
   ]
  },
  {
   "cell_type": "code",
   "execution_count": 21,
   "id": "c2d38ac9-f5ea-4d88-93bb-b39f38f6821b",
   "metadata": {},
   "outputs": [
    {
     "data": {
      "text/plain": [
       "array([22,  4, 61,  0,  3, 13, 53,  2,  8, 67])"
      ]
     },
     "execution_count": 21,
     "metadata": {},
     "output_type": "execute_result"
    }
   ],
   "source": [
    "arr2 - arr"
   ]
  },
  {
   "cell_type": "markdown",
   "id": "2092381d-3653-45ff-a5ad-cb9f8044205b",
   "metadata": {},
   "source": [
    "Второй массив должен быть той же длины, только тогда можно делать операции поэлементно"
   ]
  },
  {
   "cell_type": "code",
   "execution_count": 28,
   "id": "4d48c8a3-9ad3-4390-9597-44fa1e970fb6",
   "metadata": {
    "scrolled": true
   },
   "outputs": [
    {
     "name": "stdout",
     "output_type": "stream",
     "text": [
      "8\n"
     ]
    }
   ],
   "source": [
    "arr3 = np.array([31, 5, 63, 8, 9, 17, 56, 9])\n",
    "\n",
    "print(len(arr3))"
   ]
  },
  {
   "cell_type": "code",
   "execution_count": 27,
   "id": "36483218-734b-478f-b6f0-011a52eab779",
   "metadata": {
    "scrolled": true
   },
   "outputs": [
    {
     "ename": "ValueError",
     "evalue": "operands could not be broadcast together with shapes (10,) (8,) ",
     "output_type": "error",
     "traceback": [
      "\u001b[1;31m---------------------------------------------------------------------------\u001b[0m",
      "\u001b[1;31mValueError\u001b[0m                                Traceback (most recent call last)",
      "Cell \u001b[1;32mIn[27], line 1\u001b[0m\n\u001b[1;32m----> 1\u001b[0m \u001b[43marr\u001b[49m\u001b[43m \u001b[49m\u001b[38;5;241;43m+\u001b[39;49m\u001b[43m \u001b[49m\u001b[43marr3\u001b[49m\n",
      "\u001b[1;31mValueError\u001b[0m: operands could not be broadcast together with shapes (10,) (8,) "
     ]
    }
   ],
   "source": [
    "arr + arr3"
   ]
  },
  {
   "cell_type": "markdown",
   "id": "7ed3efe6-1db7-416b-8aa3-58499c5cdfbf",
   "metadata": {},
   "source": [
    "#### Тренировка"
   ]
  },
  {
   "cell_type": "markdown",
   "id": "d482b6d5-fe45-4eae-8971-126972e21f15",
   "metadata": {},
   "source": [
    "Я загадал несколько чисел. Вам нужно выяснить, что это были за числа, при условии, что я скажу вам...\n",
    "\n",
    "1. что я прибавил к ним 3, умножил результат на 4 и получил `[16, 20, 24, 28, 32]`\n",
    "2. что я поделил 60 на эти числа, вычел 10 и умножил результат на 2, и получил `[4.0, 10.0, 20.0, 40.0, 100.0]`\n",
    "3. что поделил эти числа на 3, вычел 4, поделил на 4, вычел 5 и умножил результат на 2, чтобы получить `[0.0, 4.0, -10.0, 1.5, -1.0]`"
   ]
  },
  {
   "cell_type": "code",
   "execution_count": null,
   "id": "8f096d12-9c7e-4272-85c0-e79dcf25f548",
   "metadata": {},
   "outputs": [],
   "source": []
  },
  {
   "cell_type": "markdown",
   "id": "b9015bc4-89ef-4e71-8c1d-3f97a646f4f6",
   "metadata": {},
   "source": [
    "#### Логические операции"
   ]
  },
  {
   "cell_type": "code",
   "execution_count": 31,
   "id": "216f1ed5-d448-49fa-ad05-9e2e23860f6f",
   "metadata": {},
   "outputs": [],
   "source": [
    "height_np = np.array([156, 172, 164])"
   ]
  },
  {
   "cell_type": "code",
   "execution_count": 32,
   "id": "c296b9d4-b587-49ff-bd89-7a694cb3f763",
   "metadata": {},
   "outputs": [
    {
     "name": "stdout",
     "output_type": "stream",
     "text": [
      "[False  True  True]\n"
     ]
    }
   ],
   "source": [
    "print(height_np > 160) # сравним каждый элемент с 160"
   ]
  },
  {
   "cell_type": "markdown",
   "id": "6e1a2ff3-f79c-4e46-8d9c-90845639e30d",
   "metadata": {},
   "source": [
    "Это аналогично тому, как арифметические операции делались для одного элемента или для другого массива той же длины!"
   ]
  },
  {
   "cell_type": "code",
   "execution_count": 33,
   "id": "cce9efd0-d1c2-4d50-841b-bb254268c1ad",
   "metadata": {},
   "outputs": [
    {
     "name": "stdout",
     "output_type": "stream",
     "text": [
      "[ True  True False]\n"
     ]
    }
   ],
   "source": [
    "height_min = np.array([150, 165, 165])\n",
    "print(height_np > height_min)"
   ]
  },
  {
   "cell_type": "markdown",
   "id": "a2ed3545-8ee7-43ab-b163-59785ae0d96c",
   "metadata": {},
   "source": [
    "Вернёмся обратно. Этот булев массив `True`/`False` можно подставить в качестве сложного \"индекса\" и будет фильтрация (останутся те, где `True`)!"
   ]
  },
  {
   "cell_type": "code",
   "execution_count": 14,
   "id": "081f0ec5-5518-4aa5-a164-968e624150a4",
   "metadata": {},
   "outputs": [
    {
     "name": "stdout",
     "output_type": "stream",
     "text": [
      "[172 164]\n"
     ]
    }
   ],
   "source": [
    "print(height_np[height_np > 160]) # отфильтровали только значения, которые больше 160"
   ]
  },
  {
   "cell_type": "code",
   "execution_count": 15,
   "id": "9589aa97-926d-4ced-a7b7-662c72425659",
   "metadata": {},
   "outputs": [],
   "source": [
    "age = np.array([18, 19, 20, 4, 12, 21, 48, 32, 85])  # это возрасты людей"
   ]
  },
  {
   "cell_type": "code",
   "execution_count": 16,
   "id": "f69c65f2-9a35-49cd-9404-015bf8aea181",
   "metadata": {},
   "outputs": [
    {
     "data": {
      "text/plain": [
       "array([False, False, False,  True,  True, False, False, False, False])"
      ]
     },
     "execution_count": 16,
     "metadata": {},
     "output_type": "execute_result"
    }
   ],
   "source": [
    "age < 18"
   ]
  },
  {
   "cell_type": "code",
   "execution_count": 17,
   "id": "90b8639e-294c-4288-8b4e-7e4ee7fe60b0",
   "metadata": {},
   "outputs": [
    {
     "data": {
      "text/plain": [
       "array([False, False, False,  True,  True, False, False, False,  True])"
      ]
     },
     "execution_count": 17,
     "metadata": {},
     "output_type": "execute_result"
    }
   ],
   "source": [
    "# У кого скидка в музей?\n",
    "(age < 18) | (age > 75)"
   ]
  },
  {
   "cell_type": "code",
   "execution_count": 18,
   "id": "05a85437-d813-499c-a227-408a1264f398",
   "metadata": {},
   "outputs": [
    {
     "data": {
      "text/plain": [
       "array([ 4, 12, 85])"
      ]
     },
     "execution_count": 18,
     "metadata": {},
     "output_type": "execute_result"
    }
   ],
   "source": [
    "age[(age < 18) | (age > 75)]"
   ]
  },
  {
   "cell_type": "markdown",
   "id": "f482b608-3527-4f4d-bd5d-8764f5c02295",
   "metadata": {},
   "source": [
    "**В массиве все элементы одного типа**"
   ]
  },
  {
   "cell_type": "code",
   "execution_count": 20,
   "id": "8b4f9394-33de-48b5-b9c8-3a79f3069833",
   "metadata": {},
   "outputs": [
    {
     "name": "stdout",
     "output_type": "stream",
     "text": [
      "['cat' '1' '2.4' 'True']\n"
     ]
    }
   ],
   "source": [
    "z_np = np.array(['cat', 1, 2.4, True])\n",
    "print(z_np)"
   ]
  },
  {
   "cell_type": "code",
   "execution_count": 21,
   "id": "ef38f7f6-5ef3-4e31-a434-7a8735193bbf",
   "metadata": {},
   "outputs": [
    {
     "name": "stdout",
     "output_type": "stream",
     "text": [
      "<U32\n",
      "<class 'numpy.str_'>\n"
     ]
    }
   ],
   "source": [
    "print(z_np.dtype)\n",
    "print(type(z_np[2]))  # вот такой тип у каждого элемента"
   ]
  },
  {
   "cell_type": "code",
   "execution_count": 22,
   "id": "cfafeca6-0c77-4833-82cc-6f05b39a5cbd",
   "metadata": {},
   "outputs": [
    {
     "name": "stdout",
     "output_type": "stream",
     "text": [
      "[1.  2.4 1. ]\n",
      "float64\n"
     ]
    }
   ],
   "source": [
    "z_np = np.array([1, 2.4, True])\n",
    "print(z_np)\n",
    "print(z_np.dtype) # целое число и логическое значение превратились во float"
   ]
  },
  {
   "cell_type": "code",
   "execution_count": 23,
   "id": "f8e9b6f8-117e-4a74-b044-512102e8eb51",
   "metadata": {},
   "outputs": [
    {
     "name": "stdout",
     "output_type": "stream",
     "text": [
      "[1 1]\n",
      "int64\n"
     ]
    }
   ],
   "source": [
    "z_np = np.array([1, True])\n",
    "print(z_np)\n",
    "print(z_np.dtype) # логическое значение превратилось в integer"
   ]
  },
  {
   "cell_type": "code",
   "execution_count": 24,
   "id": "c7623a91-17ff-47a7-8d7e-a65248ac39bc",
   "metadata": {},
   "outputs": [
    {
     "name": "stdout",
     "output_type": "stream",
     "text": [
      "[ True]\n",
      "bool\n"
     ]
    }
   ],
   "source": [
    "z_np = np.array([True]) # и только одинокий True смог остаться сам собой\n",
    "print(z_np)\n",
    "print(z_np.dtype)"
   ]
  },
  {
   "cell_type": "markdown",
   "id": "92200d36-9b9a-4961-a9dc-6ca414b042c7",
   "metadata": {},
   "source": [
    "#### Многомерные массивы (матрицы)"
   ]
  },
  {
   "cell_type": "code",
   "execution_count": 25,
   "id": "7a57838f-bde6-4ba9-889c-3533e69ece55",
   "metadata": {},
   "outputs": [
    {
     "name": "stderr",
     "output_type": "stream",
     "text": [
      "/var/folders/91/b5c9lg_s0c9bslz7x5586n040000gp/T/ipykernel_53417/2396008021.py:2: VisibleDeprecationWarning: Creating an ndarray from ragged nested sequences (which is a list-or-tuple of lists-or-tuples-or ndarrays with different lengths or shapes) is deprecated. If you meant to do this, you must specify 'dtype=object' when creating the ndarray.\n",
      "  np.array([[0, 0, 1],\n"
     ]
    },
    {
     "data": {
      "text/plain": [
       "array([list([0, 0, 1]), list([0, 1])], dtype=object)"
      ]
     },
     "execution_count": 25,
     "metadata": {},
     "output_type": "execute_result"
    }
   ],
   "source": [
    "# Надо соблюдать размерность!\n",
    "np.array([[0, 0, 1],\n",
    "         [0, 1]]) "
   ]
  },
  {
   "cell_type": "code",
   "execution_count": 26,
   "id": "5e8ab008-c103-4783-9c48-e55b5ab677ca",
   "metadata": {},
   "outputs": [
    {
     "name": "stdout",
     "output_type": "stream",
     "text": [
      "[[ 7  6 13 11]\n",
      " [ 7  6 12 11]\n",
      " [ 6  6 10  8]]\n"
     ]
    }
   ],
   "source": [
    "tempr = np.array([[7, 6, 13, 11], [7, 6, 12, 11], [6, 6, 10, 8]])\n",
    "\n",
    "# сегодня, завтра, послезавтра\n",
    "# ночь, утро, день, вечер\n",
    "print(tempr)"
   ]
  },
  {
   "cell_type": "code",
   "execution_count": 29,
   "id": "81536d9b-2081-4523-9ccf-45c12aff6389",
   "metadata": {},
   "outputs": [
    {
     "name": "stdout",
     "output_type": "stream",
     "text": [
      "6\n"
     ]
    }
   ],
   "source": [
    "print(tempr[0][1]) # выведи значение в первом ряду во второй колонке"
   ]
  },
  {
   "cell_type": "markdown",
   "id": "d77bbc97-125a-4b50-8148-c4764b2bfbca",
   "metadata": {},
   "source": [
    "А ещё с массивами можно вот так:\n",
    "\n",
    "(осторожно, со списками так нельзя)"
   ]
  },
  {
   "cell_type": "code",
   "execution_count": 30,
   "id": "290a5890-7728-42f3-ba38-c51a4a34c607",
   "metadata": {},
   "outputs": [
    {
     "name": "stdout",
     "output_type": "stream",
     "text": [
      "6\n"
     ]
    }
   ],
   "source": [
    "print(tempr[0, 1]) # выведи значение в первом ряду во второй колонке"
   ]
  },
  {
   "cell_type": "code",
   "execution_count": 31,
   "id": "2e1a90e0-82ed-4b9e-a748-38188efb990d",
   "metadata": {},
   "outputs": [
    {
     "name": "stdout",
     "output_type": "stream",
     "text": [
      "[6 6 6]\n",
      "[ 7  6 13 11]\n",
      "[ 6 13 11]\n"
     ]
    }
   ],
   "source": [
    "print(tempr[:, 1]) # выведи все ряды (:), но только вторую колонку\n",
    "print(tempr[0, :]) # выведи только первый ряд, но все колонки\n",
    "print(tempr[0, 1:]) # выведи только первый ряд, только колонки со второй и до конца"
   ]
  },
  {
   "cell_type": "markdown",
   "id": "48446c8a-8b17-4e08-973e-ce5a32fa99cf",
   "metadata": {},
   "source": [
    "#### Тренировка\n",
    "- Какая температура завтра днём?\n",
    "- Какая температура послезавтра?\n",
    "- Какая температура все ближайшие вечера?"
   ]
  },
  {
   "cell_type": "code",
   "execution_count": 34,
   "id": "304da087-342e-4b6a-9a4a-bcd3d2ec6c82",
   "metadata": {},
   "outputs": [
    {
     "name": "stdout",
     "output_type": "stream",
     "text": [
      "Завтра днём:\n",
      "Послезавтра:\n",
      "Вечера:\n"
     ]
    }
   ],
   "source": [
    "# ваш код\n",
    "print('Завтра днём:', )\n",
    "print('Послезавтра:', )\n",
    "print('Вечера:', )"
   ]
  },
  {
   "cell_type": "markdown",
   "id": "2799e297-a0e3-4085-a759-58c49b96d177",
   "metadata": {},
   "source": [
    "**Атрибуты и методы**"
   ]
  },
  {
   "cell_type": "code",
   "execution_count": 36,
   "id": "e2e0890b-c2fa-4cfa-8f14-59c906ad10cc",
   "metadata": {},
   "outputs": [
    {
     "data": {
      "text/plain": [
       "12"
      ]
     },
     "execution_count": 36,
     "metadata": {},
     "output_type": "execute_result"
    }
   ],
   "source": [
    "tempr.size # атрибут — показывает количество элементов в массиве "
   ]
  },
  {
   "cell_type": "code",
   "execution_count": 37,
   "id": "eb2dd624-c986-4a29-a4ab-f810cba9f573",
   "metadata": {},
   "outputs": [
    {
     "name": "stdout",
     "output_type": "stream",
     "text": [
      "(3, 4)\n"
     ]
    }
   ],
   "source": [
    "print(tempr.shape)  # количество строк, количество столбцов"
   ]
  },
  {
   "cell_type": "code",
   "execution_count": 42,
   "id": "1f29bd15-6c3d-4dd7-acc4-8ac8365294a2",
   "metadata": {},
   "outputs": [
    {
     "name": "stdout",
     "output_type": "stream",
     "text": [
      "8.583333333333334\n"
     ]
    }
   ],
   "source": [
    "print(tempr.mean()) # метод() находит среднее арифметическое массива"
   ]
  },
  {
   "cell_type": "code",
   "execution_count": 40,
   "id": "13f37370-de0c-45b8-9c1d-85630ad9dedf",
   "metadata": {},
   "outputs": [
    {
     "name": "stdout",
     "output_type": "stream",
     "text": [
      "8.583333333333334\n"
     ]
    }
   ],
   "source": [
    "print(tempr.sum() / tempr.size)  # .sum()"
   ]
  },
  {
   "cell_type": "markdown",
   "id": "8a662c34-cafd-4e75-ac37-35ae2f50fba7",
   "metadata": {},
   "source": [
    "Напоминание: атрибут после точки без скобок, метод со скобками после точки.\n",
    "\n",
    "Атрибуты - свойства объекта, подпеременные, в котор хранится\n",
    "\n",
    "Методы (они же вариант функций) выполняют действия."
   ]
  },
  {
   "cell_type": "markdown",
   "id": "4d41385e-700f-41c6-b9f7-e26a3c9336cf",
   "metadata": {},
   "source": [
    "### Массивы быстрее списков (эксперимент 1)"
   ]
  },
  {
   "cell_type": "markdown",
   "id": "3a2cf4b5-a084-4237-a30a-fe4ccb9035df",
   "metadata": {},
   "source": [
    "Вычислительные операции быстрее выполняются с массивами numpy чем со списками. Давайте создадим два списка из 1000000 чисел и перемножим их."
   ]
  },
  {
   "cell_type": "code",
   "execution_count": 41,
   "id": "1f0a243d-415f-4336-8d59-3aca0e0ebc3b",
   "metadata": {},
   "outputs": [
    {
     "name": "stdout",
     "output_type": "stream",
     "text": [
      "Сколько времени заняло перемножение списков? 0.31250619888305664 сек\n"
     ]
    }
   ],
   "source": [
    "import time\n",
    "\n",
    "# задаем размер наших списков\n",
    "size = 1000000  \n",
    "   \n",
    "# объявляем списки\n",
    "list1 = range(size)\n",
    "list2 = range(size)\n",
    "\n",
    "# запоминаем временную метку\n",
    "initial_time = time.time()\n",
    "  \n",
    "# перемножаем элементы списков\n",
    "result_list = [(a * b) for a, b in zip(list1, list2)]\n",
    "list_time = time.time() - initial_time\n",
    "\n",
    "# смотрим, сколько времени это заняло\n",
    "print(\"Сколько времени заняло перемножение списков?\", list_time, \"сек\")"
   ]
  },
  {
   "cell_type": "markdown",
   "id": "c5da8378-6fc9-48a6-a718-7989f3aaa66d",
   "metadata": {},
   "source": [
    "Теперь проделаем то же с массивами NumPy."
   ]
  },
  {
   "cell_type": "code",
   "execution_count": 42,
   "id": "5461b1b3-ff29-4e12-a100-11301eaeb00e",
   "metadata": {},
   "outputs": [
    {
     "name": "stdout",
     "output_type": "stream",
     "text": [
      "Сколько времени заняло перемножение массивов numpy? 0.012279033660888672 сек.\n"
     ]
    }
   ],
   "source": [
    "# объявляем массивы numpy\n",
    "array1 = np.arange(size)  \n",
    "array2 = np.arange(size)\n",
    "   \n",
    "# запоминаем временную метку\n",
    "initial_time = time.time()\n",
    "  \n",
    "# перемножаем массивы\n",
    "result_array = array1 * array2\n",
    "\n",
    "array_time = time.time() - initial_time\n",
    "\n",
    "# смотрим, сколько времени это заняло\n",
    "print(\"Сколько времени заняло перемножение массивов numpy?\", array_time, \"сек.\")"
   ]
  },
  {
   "cell_type": "code",
   "execution_count": 43,
   "id": "333f3e53-d2a7-4d0e-bc64-391fc34ec56b",
   "metadata": {},
   "outputs": [
    {
     "name": "stdout",
     "output_type": "stream",
     "text": [
      "25\n"
     ]
    }
   ],
   "source": [
    "print(round(list_time/array_time))"
   ]
  },
  {
   "cell_type": "markdown",
   "id": "84b8d34e-7d24-4c48-a6b1-a037616690c2",
   "metadata": {},
   "source": [
    "### Специализированные инструменты быстрее (эксперимент 2)"
   ]
  },
  {
   "cell_type": "markdown",
   "id": "29f1cab7-1b50-400a-9173-0c565d88130e",
   "metadata": {},
   "source": [
    "Теперь давайте убедимся, что использовать метод `.sum()` для массивов NumPy предпочтительней, чем функцию `sum()` из стандарной библиотеки Python. Также создадим список из 1000000 чисел и сложим их разными способами."
   ]
  },
  {
   "cell_type": "code",
   "execution_count": 44,
   "id": "518ae972-df29-4769-9043-4baab57f480c",
   "metadata": {},
   "outputs": [
    {
     "name": "stdout",
     "output_type": "stream",
     "text": [
      "Находим сумму элементов списка с функцией sum(): 0.06750178337097168\n",
      "Находим сумму элементов массива с нативным методом .sum(): 0.0022318363189697266\n",
      "Находим сумму элементов массива с функцией sum(): 0.36887192726135254\n"
     ]
    }
   ],
   "source": [
    "size = 1000000  \n",
    "list1 = range(size)\n",
    "array1 = np.array(list1)\n",
    "\n",
    "initial_time = time.time()\n",
    "list_sum = sum(list1) # складываем числа списка Python стандартной функцией\n",
    "sum1_time = time.time() - initial_time\n",
    "\n",
    "initial_time = time.time()\n",
    "array_sum = array1.sum() # складываем числа массива NumPy методом массива\n",
    "sum2_time = time.time() - initial_time\n",
    "\n",
    "initial_time = time.time()\n",
    "array2_sum = sum(array1) # складываем числа массива NumPy стандартной функцией\n",
    "sum3_time = time.time() - initial_time\n",
    "\n",
    "print('Находим сумму элементов списка с функцией sum():', sum1_time)\n",
    "print('Находим сумму элементов массива с нативным методом .sum():', sum2_time)\n",
    "print('Находим сумму элементов массива с функцией sum():', sum3_time)"
   ]
  },
  {
   "cell_type": "markdown",
   "id": "9558fa6e-1f5a-4d3b-b225-61e8d45c96e8",
   "metadata": {},
   "source": [
    "### Установка\n",
    "<a name=\"install-numpy\"></a>\n"
   ]
  },
  {
   "cell_type": "markdown",
   "id": "907467a8-c05b-41ef-9611-8305418b1843",
   "metadata": {},
   "source": [
    "Если `numpy` оказался не установлен, то скорее всего поможет вот такая команда в ячейке (это просьба к питоновскому менеджеру пакетов `pip` установить `numpy`, а восклицательный знак, потому что это не код на питоне, а обращение к *совсем* внешним программам) "
   ]
  },
  {
   "cell_type": "code",
   "execution_count": null,
   "id": "945eaae4-f7a7-4d67-b6f6-a0181f9d5b7f",
   "metadata": {},
   "outputs": [],
   "source": [
    "!pip install numpy"
   ]
  },
  {
   "cell_type": "markdown",
   "id": "d7c54f5e-06b3-4023-ab52-5b4755101f77",
   "metadata": {},
   "source": [
    "## Токенизация\n",
    "***(этого не будет в экзамене)***\n",
    "\n",
    "\"Не для экзамена, а для жизни мы <s>учимся</s> учим питон\""
   ]
  },
  {
   "cell_type": "markdown",
   "id": "ab27b27c-2c9d-4137-88bf-1abed9249238",
   "metadata": {},
   "source": [
    "**Natasha** &mdash; библиотека для обработки текстов на естественном русском языке.\n",
    "\n",
    "Есть много пакетов, которые могут делить текст на предложения.\n",
    "    Но с русским особенно хорош пакет `razdel` (это часть проекта-библиотеки `natasha`)."
   ]
  },
  {
   "cell_type": "code",
   "execution_count": 52,
   "id": "c093a6e3-e42e-4ab9-95d9-f0c216a14bd2",
   "metadata": {},
   "outputs": [
    {
     "name": "stdout",
     "output_type": "stream",
     "text": [
      "\u001b[33mDEPRECATION: Configuring installation scheme with distutils config files is deprecated and will no longer work in the near future. If you are using a Homebrew or Linuxbrew Python, please see discussion at https://github.com/Homebrew/homebrew-core/issues/76621\u001b[0m\u001b[33m\n",
      "\u001b[0mRequirement already satisfied: natasha in /usr/local/lib/python3.9/site-packages (1.5.0)\n",
      "Requirement already satisfied: ipymarkup>=0.8.0 in /usr/local/lib/python3.9/site-packages (from natasha) (0.9.0)\n",
      "Requirement already satisfied: razdel>=0.5.0 in /usr/local/lib/python3.9/site-packages (from natasha) (0.5.0)\n",
      "Requirement already satisfied: slovnet>=0.6.0 in /usr/local/lib/python3.9/site-packages (from natasha) (0.6.0)\n",
      "Requirement already satisfied: yargy>=0.14.0 in /usr/local/lib/python3.9/site-packages (from natasha) (0.15.1)\n",
      "Requirement already satisfied: pymorphy2 in /usr/local/lib/python3.9/site-packages (from natasha) (0.9.1)\n",
      "Requirement already satisfied: navec>=0.9.0 in /usr/local/lib/python3.9/site-packages (from natasha) (0.10.0)\n",
      "Requirement already satisfied: intervaltree>=3 in /usr/local/lib/python3.9/site-packages (from ipymarkup>=0.8.0->natasha) (3.1.0)\n",
      "Requirement already satisfied: numpy in /usr/local/lib/python3.9/site-packages (from navec>=0.9.0->natasha) (1.23.4)\n",
      "Requirement already satisfied: pymorphy2-dicts-ru<3.0,>=2.4 in /usr/local/lib/python3.9/site-packages (from pymorphy2->natasha) (2.4.417127.4579844)\n",
      "Requirement already satisfied: dawg-python>=0.7.1 in /usr/local/lib/python3.9/site-packages (from pymorphy2->natasha) (0.7.2)\n",
      "Requirement already satisfied: docopt>=0.6 in /usr/local/lib/python3.9/site-packages (from pymorphy2->natasha) (0.6.2)\n",
      "Requirement already satisfied: sortedcontainers<3.0,>=2.0 in /usr/local/lib/python3.9/site-packages (from intervaltree>=3->ipymarkup>=0.8.0->natasha) (2.4.0)\n",
      "\u001b[33mDEPRECATION: Configuring installation scheme with distutils config files is deprecated and will no longer work in the near future. If you are using a Homebrew or Linuxbrew Python, please see discussion at https://github.com/Homebrew/homebrew-core/issues/76621\u001b[0m\u001b[33m\n",
      "\u001b[0m\n",
      "\u001b[1m[\u001b[0m\u001b[34;49mnotice\u001b[0m\u001b[1;39;49m]\u001b[0m\u001b[39;49m A new release of pip available: \u001b[0m\u001b[31;49m22.3.1\u001b[0m\u001b[39;49m -> \u001b[0m\u001b[32;49m23.0\u001b[0m\n",
      "\u001b[1m[\u001b[0m\u001b[34;49mnotice\u001b[0m\u001b[1;39;49m]\u001b[0m\u001b[39;49m To update, run: \u001b[0m\u001b[32;49mpython3.9 -m pip install --upgrade pip\u001b[0m\n",
      "Note: you may need to restart the kernel to use updated packages.\n"
     ]
    }
   ],
   "source": [
    "# чтобы использовать, надо установить библиотеку\n",
    "!pip install natasha"
   ]
  },
  {
   "cell_type": "markdown",
   "id": "b3511a37-eb83-439d-a2b1-c30b72bdb991",
   "metadata": {},
   "source": [
    "Теперь у нас установлен этот большой набор программ (библиотека `natasha`),\n",
    "    среди которых наш небольшой пакет для разбиения текстов &mdash; `razdel`.\n",
    "\n",
    "Но пакет этот нам может быть нужен не каждый раз!\n",
    "    Например, когда у нас уже есть какая-то статистика по авторам (их годам жизни, количеству произведений с годами публикаций и т.д.),\n",
    "    нам не нужно разбивать тексты на слова, а нужна простая программа, которая будет что-то считать.\n",
    "    Поэтому, когда мы прямо хотим воспользоваться в своей программе какой-то другой программой (пакетом / библиотекой), то нам это нужно явно указать.\n",
    "    Тогда Python поймёт, что внешняя программа понадобится и подключит её *(а если бы не написали этого, то не подключал бы. Экономия!)*."
   ]
  },
  {
   "cell_type": "code",
   "execution_count": 1,
   "id": "6aa00a65-2265-482e-8344-1a1c6f6aa4f3",
   "metadata": {},
   "outputs": [],
   "source": [
    "from razdel import sentenize"
   ]
  },
  {
   "cell_type": "markdown",
   "id": "41518f52-0a79-46e9-8676-fdc8eae5f2d8",
   "metadata": {},
   "source": [
    "Что мы сейчас сделали? Мы сначала установили библиотеку, а потом импортировали из неё нужную нам функцию. Сначала взяли огромную коробку, а потом рассказали программе, что есть функция внутри коробки, которую хочется уметь использовать."
   ]
  },
  {
   "cell_type": "code",
   "execution_count": 5,
   "id": "dab7bd74-8559-43ce-bd8a-0b66d80e08fe",
   "metadata": {},
   "outputs": [
    {
     "name": "stdout",
     "output_type": "stream",
     "text": [
      "<generator object find_substrings at 0x0000027941628890>\n"
     ]
    }
   ],
   "source": [
    "text = \"Вот хотим мы поделить текст на предложения. Можно просто поделить по точке. Но что делать, с предложениями, заканчивающимися не на точку? Восклицательные и вопросительные знаки забыли! Как же быть... Проверять все завершающие знаки препинания. А что скажет на это А.С.Пушкин, чьи инициалы содержат точки? Лучше воспользоваться библиотекой, которая умеет делить на предложения! Она и про 0.5 гр. и 100 руб. знает...\"\n",
    "\n",
    "print(sentenize(text))"
   ]
  },
  {
   "cell_type": "markdown",
   "id": "5abc61c2-5d90-478f-990a-a4ab12b5c6ec",
   "metadata": {},
   "source": [
    "*(снова печатается непонятно что, как и с `range` и `enumerate`. Помним, что можно поглотить и создать, например, список или пройтись в цикле `for`)*"
   ]
  },
  {
   "cell_type": "code",
   "execution_count": 6,
   "id": "1da7d002-7a79-4472-80a5-90a1e742e928",
   "metadata": {},
   "outputs": [
    {
     "data": {
      "text/plain": [
       "[Substring(0, 43, 'Вот хотим мы поделить текст на предложения.'),\n",
       " Substring(44, 75, 'Можно просто поделить по точке.'),\n",
       " Substring(76,\n",
       "           137,\n",
       "           'Но что делать, с предложениями, заканчивающимися не на точку?'),\n",
       " Substring(138, 184, 'Восклицательные и вопросительные знаки забыли!'),\n",
       " Substring(185, 199, 'Как же быть...'),\n",
       " Substring(200, 243, 'Проверять все завершающие знаки препинания.'),\n",
       " Substring(244,\n",
       "           304,\n",
       "           'А что скажет на это А.С.Пушкин, чьи инициалы содержат точки?'),\n",
       " Substring(305,\n",
       "           376,\n",
       "           'Лучше воспользоваться библиотекой, которая умеет делить на предложения!'),\n",
       " Substring(377, 414, 'Она и про 0.5 гр. и 100 руб. знает...')]"
      ]
     },
     "execution_count": 6,
     "metadata": {},
     "output_type": "execute_result"
    }
   ],
   "source": [
    "# А вот так можно посмотреть\n",
    "list(sentenize(text))"
   ]
  },
  {
   "cell_type": "code",
   "execution_count": 8,
   "id": "984ba849-993c-4bbc-94b4-43c5e3ca9ac6",
   "metadata": {},
   "outputs": [
    {
     "name": "stdout",
     "output_type": "stream",
     "text": [
      "Вот хотим мы поделить текст на предложения.\n",
      "Можно просто поделить по точке.\n",
      "Но что делать, с предложениями, заканчивающимися не на точку?\n",
      "Восклицательные и вопросительные знаки забыли!\n",
      "Как же быть...\n",
      "Проверять все завершающие знаки препинания.\n",
      "А что скажет на это А.С.Пушкин, чьи инициалы содержат точки?\n",
      "Лучше воспользоваться библиотекой, которая умеет делить на предложения!\n",
      "Она и про 0.5 гр. и 100 руб. знает...\n"
     ]
    }
   ],
   "source": [
    "# Вот так удобнее\n",
    "for sent in sentenize(text):\n",
    "    print(sent.text)  # тут нет скобочек, потому что это не совсем действие, просто свойство\n",
    "                      # но об этом можно не думать"
   ]
  },
  {
   "cell_type": "code",
   "execution_count": 9,
   "id": "49685261-db8e-46cf-a3a6-5a31e78c4697",
   "metadata": {},
   "outputs": [
    {
     "data": {
      "text/plain": [
       "[Substring(0, 51, 'Почему я как композитор-оперник тяготею к классике?'),\n",
       " Substring(52, 73, 'Это у меня с детства.'),\n",
       " Substring(74, 116, 'В детстве я очень любил играть в классики.'),\n",
       " Substring(117,\n",
       "           191,\n",
       "           'Ребенком я любил пить чай, естественно, с пирожными, и лучше всего с безе.'),\n",
       " Substring(192,\n",
       "           289,\n",
       "           'Отсюда в сублимации ассоциаций детства тяготение к Чайковскому, к Бизе, и т. д., и т. п., и т. д.'),\n",
       " Substring(290,\n",
       "           363,\n",
       "           'Как сказал классик, надо брать музыку у народа, и только обрабатывать её.'),\n",
       " Substring(364, 378, 'Так я и делаю.'),\n",
       " Substring(379,\n",
       "           579,\n",
       "           'Поэтому, когда сегодня берёшь у композитора — это, собственно говоря, берёшь у народа, берёшь у народа — берёшь у себя, и главное, чтобы музыка была твоя, и кто говорит \"плагиат\", я говорю \"традиция\".')]"
      ]
     },
     "execution_count": 9,
     "metadata": {},
     "output_type": "execute_result"
    }
   ],
   "source": [
    "# Поделим на предложения текст с разными сокращениями\n",
    "text2 = \"\"\"Почему я как композитор-оперник тяготею к классике? Это у меня с детства. В детстве я очень любил играть в классики. Ребенком я любил пить чай, естественно, с пирожными, и лучше всего с безе. Отсюда в сублимации ассоциаций детства тяготение к Чайковскому, к Бизе, и т. д., и т. п., и т. д. Как сказал классик, надо брать музыку у народа, и только обрабатывать её. Так я и делаю. Поэтому, когда сегодня берёшь у композитора — это, собственно говоря, берёшь у народа, берёшь у народа — берёшь у себя, и главное, чтобы музыка была твоя, и кто говорит \"плагиат\", я говорю \"традиция\".\"\"\"\n",
    "\n",
    "list(sentenize(text2))"
   ]
  },
  {
   "cell_type": "code",
   "execution_count": 10,
   "id": "731a4643-e383-478c-bfc0-0d51a7d14c5b",
   "metadata": {},
   "outputs": [
    {
     "data": {
      "text/plain": [
       "[Substring(0, 30, '\"Привет!\" - сказали мы питону.')]"
      ]
     },
     "execution_count": 10,
     "metadata": {},
     "output_type": "execute_result"
    }
   ],
   "source": [
    "# И даже с прямой речью справляется\n",
    "list(sentenize('''\"Привет!\" - сказали мы питону.'''))"
   ]
  },
  {
   "cell_type": "markdown",
   "id": "98c95fac-b714-4bf6-9ced-f719c8d1fdbe",
   "metadata": {},
   "source": [
    "## Теперь делим на слова"
   ]
  },
  {
   "cell_type": "markdown",
   "id": "90b3dcb5-ea99-4e22-b16f-488f7d00f5d4",
   "metadata": {},
   "source": [
    "Что такое токен? Последовательность символов. (Какая последовательность? Авторы кода определяют для себя это сами.) Обычно это слова в тексте, смайлики, числ в тексте, иногда пунктуация.\n",
    "\n",
    "Почему бы не сказать, что токен=слово? Потому что \"что такое слово?\" + числа и пунктуацию сложно назвать словами.\n",
    "\n",
    "> *Сладострастная отрава - золотая Бричмула,*\n",
    "\n",
    "> *Где чинара притулилась под скалою, - под скалою...*\n",
    "\n",
    "> *Про тебя жужжит над ухом вечная пчела:*\n",
    "\n",
    "> *Бричмула, Бричмулы, Бричмуле, Бричмулу, <span style=\"color:blue\">Бричмулою</span>.*\n",
    "\n",
    "> *Про тебя жужжит над ухом вечная пчела:*\n",
    "\n",
    "> *Бричмула, Бричмулы, Бричмуле, Бричмулу, <span style=\"color:orange\">Бричмулою</span>.*\n",
    "\n",
    "Сколько тут слов - неизвестно. \"Бричмула\" и \"Бричмулы\" - разные слова? \"<span style=\"color:blue\">Бричмулою</span>\" и \"<span style=\"color:orange\">Бричмулою</span>\" - разные слова?\n",
    "\n",
    "Это точно разные токены."
   ]
  },
  {
   "cell_type": "code",
   "execution_count": 67,
   "id": "70a5de44-066f-4e8b-9284-3f38468bf1a1",
   "metadata": {},
   "outputs": [],
   "source": [
    "from razdel import tokenize"
   ]
  },
  {
   "cell_type": "code",
   "execution_count": 60,
   "id": "02d336b1-94de-4b20-acdb-5eedf2c16135",
   "metadata": {},
   "outputs": [
    {
     "data": {
      "text/plain": [
       "[Substring(0, 2, 'Мы'),\n",
       " Substring(3, 8, 'любим'),\n",
       " Substring(9, 14, 'питон'),\n",
       " Substring(14, 15, '.'),\n",
       " Substring(16, 17, 'И'),\n",
       " Substring(18, 20, 'он'),\n",
       " Substring(21, 24, 'нас'),\n",
       " Substring(24, 25, '.'),\n",
       " Substring(26, 32, 'Просто'),\n",
       " Substring(33, 38, 'нужно'),\n",
       " Substring(39, 52, 'познакомиться'),\n",
       " Substring(53, 60, 'поближе'),\n",
       " Substring(60, 61, '.')]"
      ]
     },
     "execution_count": 60,
     "metadata": {},
     "output_type": "execute_result"
    }
   ],
   "source": [
    "list(tokenize('Мы любим питон. И он нас. Просто нужно познакомиться поближе.'))\n",
    "# Да, конкретно этот способ сохраняет пунктуацию как отдельные токены\n",
    "# (можно потом убрать всё, что не буквы)"
   ]
  },
  {
   "cell_type": "code",
   "execution_count": 61,
   "id": "0675914c-ddab-435a-85f5-ef60b6c22a30",
   "metadata": {},
   "outputs": [
    {
     "name": "stdout",
     "output_type": "stream",
     "text": [
      "И\n",
      "побольше\n",
      "времени\n",
      "с\n",
      "ним\n",
      "проводить\n",
      "Привыкнуть\n"
     ]
    }
   ],
   "source": [
    "punctuation = '''!\"#$%&'()*+,-./:;<=>?@[\\]^_`{|}~...'''\n",
    "\n",
    "for token in tokenize('И побольше времени с ним проводить... Привыкнуть.'):\n",
    "    if token.text not in punctuation:\n",
    "        print(token.text)"
   ]
  },
  {
   "cell_type": "code",
   "execution_count": 62,
   "id": "80a8c5b7-ff58-4a9d-a80c-017fcadb0013",
   "metadata": {},
   "outputs": [
    {
     "data": {
      "text/plain": [
       "[Substring(0, 2, '25'), Substring(2, 4, 'кг'), Substring(5, 12, 'надежды')]"
      ]
     },
     "execution_count": 62,
     "metadata": {},
     "output_type": "execute_result"
    }
   ],
   "source": [
    "# Он справится с:\n",
    "text5 = \"25кг надежды\"\n",
    "list(tokenize(text5)) # Если бы мы делили по пробелам, получили бы слово \"25кг \""
   ]
  },
  {
   "cell_type": "code",
   "execution_count": 63,
   "id": "fa9b14f6-7b1b-40cd-8109-54af4522451b",
   "metadata": {},
   "outputs": [
    {
     "data": {
      "text/plain": [
       "[Substring(0, 2, '14'), Substring(2, 5, 'ого'), Substring(6, 11, 'числа')]"
      ]
     },
     "execution_count": 63,
     "metadata": {},
     "output_type": "execute_result"
    }
   ],
   "source": [
    "text9 = \"14ого числа\"  # ну вот...\n",
    "list(tokenize(text9))"
   ]
  },
  {
   "cell_type": "code",
   "execution_count": 64,
   "id": "3a078021-f759-4247-8f28-096f99e0797b",
   "metadata": {},
   "outputs": [
    {
     "data": {
      "text/plain": [
       "[Substring(0, 5, 'Лежал'),\n",
       " Substring(6, 8, 'ли'),\n",
       " Substring(9, 10, 'А'),\n",
       " Substring(10, 11, '.'),\n",
       " Substring(11, 12, 'С'),\n",
       " Substring(12, 13, '.'),\n",
       " Substring(13, 19, 'Пушкин'),\n",
       " Substring(20, 21, 'в'),\n",
       " Substring(22, 38, 'Санкт-Петербурге'),\n",
       " Substring(39, 41, 'на'),\n",
       " Substring(42, 56, 'диване-кровати'),\n",
       " Substring(56, 57, '?')]"
      ]
     },
     "execution_count": 64,
     "metadata": {},
     "output_type": "execute_result"
    }
   ],
   "source": [
    "list(tokenize(\"Лежал ли А.С.Пушкин в Санкт-Петербурге на диване-кровати?\"))"
   ]
  },
  {
   "cell_type": "code",
   "execution_count": 65,
   "id": "7e536a95-5b8a-475e-bbb3-3bcbd10150ed",
   "metadata": {},
   "outputs": [
    {
     "data": {
      "text/plain": [
       "[Substring(0, 6, 'Привет'), Substring(6, 7, '!'), Substring(8, 10, ':)')]"
      ]
     },
     "execution_count": 65,
     "metadata": {},
     "output_type": "execute_result"
    }
   ],
   "source": [
    "list(tokenize(\"Привет! :)\"))"
   ]
  },
  {
   "cell_type": "code",
   "execution_count": 66,
   "id": "f568803e-0098-4ebf-b600-9fd6cf2b10d2",
   "metadata": {},
   "outputs": [
    {
     "data": {
      "text/plain": [
       "[Substring(0, 8, 'Смайлики'),\n",
       " Substring(9, 15, 'разные'),\n",
       " Substring(15, 16, ':'),\n",
       " Substring(17, 18, '♥'),\n",
       " Substring(18, 19, ','),\n",
       " Substring(20, 21, '('),\n",
       " Substring(21, 24, 'о_о'),\n",
       " Substring(24, 25, ')'),\n",
       " Substring(25, 26, ','),\n",
       " Substring(27, 34, '👨\\u200d👩\\u200d👧\\u200d👦')]"
      ]
     },
     "execution_count": 66,
     "metadata": {},
     "output_type": "execute_result"
    }
   ],
   "source": [
    "list(tokenize(\"Смайлики разные: ♥, (о_о), 👨‍👩‍👧‍👦\"))"
   ]
  }
 ],
 "metadata": {
  "kernelspec": {
   "display_name": "Python 3 (ipykernel)",
   "language": "python",
   "name": "python3"
  },
  "language_info": {
   "codemirror_mode": {
    "name": "ipython",
    "version": 3
   },
   "file_extension": ".py",
   "mimetype": "text/x-python",
   "name": "python",
   "nbconvert_exporter": "python",
   "pygments_lexer": "ipython3",
   "version": "3.11.3"
  }
 },
 "nbformat": 4,
 "nbformat_minor": 5
}
