{
 "cells": [
  {
   "cell_type": "markdown",
   "id": "f72945bf-256f-442f-9933-02779021a5cf",
   "metadata": {},
   "source": [
    "# Ещё о for и о методах списков"
   ]
  },
  {
   "cell_type": "markdown",
   "id": "d5d32cf1-06f3-4361-b136-e6fa97deed47",
   "metadata": {
    "id": "vSXzDnQOnK_5",
    "tags": []
   },
   "source": [
    "## Цикл в цикле"
   ]
  },
  {
   "cell_type": "markdown",
   "id": "746f74bf-3732-45e1-8605-110e0d8f0860",
   "metadata": {},
   "source": [
    "Циклы `for`, как и `while` могут вкладываться один в другой.\n",
    "    \n",
    "```python\n",
    "for outer_index in outer_sequence:\n",
    "    for inner_index in inner_sequence:\n",
    "        ... # <действие>\n",
    "```\n",
    "\n",
    "В такой ситуации на каждом шаге внешнего цикла (`for outer_index in outer_sequence`) **полностью** прогонится внутренний цикл.\n",
    "\n",
    "В итоге:\n",
    "- внешний цикл выполнится столько раз, какова длина `outer_sequence`,\n",
    "- внутренний цикл выполнится столько раз, какова длина `inner_sequence`,\n",
    "- а `...` действие выполнится столько раз, каково число $len(outer\\_sequence) * len(inner\\_sequence)$\n",
    "\n",
    "\n"
   ]
  },
  {
   "cell_type": "markdown",
   "id": "9d477523-f60e-4824-8abb-24ec7a130093",
   "metadata": {
    "id": "vSXzDnQOnK_5",
    "tags": []
   },
   "source": [
    "Максим подтягивается 4 подхода по 5 раз. \n",
    "В этой задаче... \n",
    "- внешний цикл (подходы) выполнится 4 раза\n",
    "    - внутренний цикл (повторения) при каждом шаге внешнего выполнится 5 раз\n",
    "    - т.е. вообще всего печатание числа повторений будет выполнено $4 * 5 = 20$ раз!"
   ]
  },
  {
   "cell_type": "code",
   "execution_count": 25,
   "id": "dabc174b-9aae-4f88-978c-98588b1fb04c",
   "metadata": {
    "id": "JwhcaMP8oIaj"
   },
   "outputs": [
    {
     "name": "stdout",
     "output_type": "stream",
     "text": [
      "Начался подход\n",
      "Повторов сделано:\n",
      "1\n",
      "2\n",
      "3\n",
      "ПОДХОДОВ сделано: 1\n",
      "\n",
      "Начался подход\n",
      "Повторов сделано:\n",
      "1\n",
      "2\n",
      "3\n",
      "ПОДХОДОВ сделано: 2\n",
      "\n"
     ]
    }
   ],
   "source": [
    "num_sets = 2\n",
    "num_repeats = 3\n",
    "\n",
    "for set_povtor in range(num_sets):\n",
    "    print(\"Начался подход\")\n",
    "    print(\"Повторов сделано:\")\n",
    "    for repeat in range(num_repeats):\n",
    "        print(repeat + 1)\n",
    "    print(\"ПОДХОДОВ сделано:\", set_povtor + 1)\n",
    "    print()"
   ]
  },
  {
   "cell_type": "code",
   "execution_count": null,
   "id": "88d9ed92-d6f5-40e9-b4eb-6886d7f050a2",
   "metadata": {},
   "outputs": [],
   "source": []
  },
  {
   "cell_type": "markdown",
   "id": "1e837c62-0acf-48da-a4eb-2e6b077b199c",
   "metadata": {
    "id": "mXEPZcDIoNCn"
   },
   "source": [
    "### Тренировка\n",
    "Снова напишем таблицу умножения (используя `range`)"
   ]
  },
  {
   "cell_type": "markdown",
   "id": "1b2d1d1d-a328-4a4f-a896-b104377f9e60",
   "metadata": {},
   "source": [
    "- `a` определяет левые числа в строчках, `b` &mdash; правые. Заметьте, как `a`, левое число, остаётся тем же в каждых 8 последовательных строчках, меняется только правое, `b`\n",
    "- затем, наконец, левым числом становится следующее по счёту и снова 8 строк \n",
    "- ... (и т.д.)\n"
   ]
  },
  {
   "cell_type": "code",
   "execution_count": 30,
   "id": "7457b728-37f3-467a-a74f-ecfc4cdc1ae2",
   "metadata": {},
   "outputs": [
    {
     "name": "stdout",
     "output_type": "stream",
     "text": [
      "1 * 5 = 5\n",
      "2 * 5 = 10\n",
      "3 * 5 = 15\n",
      "\n",
      "1 * 6 = 6\n",
      "2 * 6 = 12\n",
      "3 * 6 = 18\n",
      "\n",
      "1 * 7 = 7\n",
      "2 * 7 = 14\n",
      "3 * 7 = 21\n",
      "\n",
      "1 * 8 = 8\n",
      "2 * 8 = 16\n",
      "3 * 8 = 24\n",
      "\n",
      "1 * 9 = 9\n",
      "2 * 9 = 18\n",
      "3 * 9 = 27\n",
      "\n"
     ]
    }
   ],
   "source": [
    "for a in range(5, 10):\n",
    "    for b in range(1, 4):\n",
    "        print(b, \"*\", a, \"=\", a * b)\n",
    "    print()"
   ]
  },
  {
   "cell_type": "code",
   "execution_count": null,
   "id": "6fd9f5b7-c882-4e01-86e4-4b109fa3e589",
   "metadata": {},
   "outputs": [],
   "source": []
  },
  {
   "cell_type": "code",
   "execution_count": 9,
   "id": "a85fcf6d-bbcc-405d-850b-36f63da0328e",
   "metadata": {},
   "outputs": [
    {
     "name": "stdout",
     "output_type": "stream",
     "text": [
      "1 * 5 = 5\n",
      "2 * 5 = 10\n",
      "3 * 5 = 15\n",
      "4 * 5 = 20\n",
      "5 * 5 = 25\n",
      "\n",
      "1 * 6 = 6\n",
      "2 * 6 = 12\n",
      "3 * 6 = 18\n",
      "4 * 6 = 24\n",
      "5 * 6 = 30\n",
      "\n",
      "1 * 7 = 7\n",
      "2 * 7 = 14\n",
      "3 * 7 = 21\n",
      "4 * 7 = 28\n",
      "5 * 7 = 35\n",
      "\n",
      "1 * 8 = 8\n",
      "2 * 8 = 16\n",
      "3 * 8 = 24\n",
      "4 * 8 = 32\n",
      "5 * 8 = 40\n",
      "\n",
      "1 * 9 = 9\n",
      "2 * 9 = 18\n",
      "3 * 9 = 27\n",
      "4 * 9 = 36\n",
      "5 * 9 = 45\n",
      "\n"
     ]
    }
   ],
   "source": [
    "for a in range(5, 10):\n",
    "    for b in range(1, 6):\n",
    "        # print(f\"{a} * {b} = {a*b}\")\n",
    "        print(b, \"*\", a, \"=\", a*b)\n",
    "    print()"
   ]
  },
  {
   "cell_type": "markdown",
   "id": "bcaf564c-8a74-464e-bfd4-27aa555c765e",
   "metadata": {},
   "source": [
    "### Тренировка 2\n"
   ]
  },
  {
   "cell_type": "markdown",
   "id": "c9abfab6-80f5-4173-9d82-a8ec9be1dd84",
   "metadata": {},
   "source": [
    "\n",
    "❓ Как напечатать длины каждого слова в каждом предложении?\n",
    "\n",
    "Алгоритм такой:\n",
    "\n",
    "- проходясь по предложениям:\n",
    "    - так как предложение - строчка, делить предложение на слова\n",
    "    - проходясь по словам из предложения:\n",
    "        - печатать длину слова и само слово "
   ]
  },
  {
   "cell_type": "code",
   "execution_count": 33,
   "id": "213a46bd-6a2f-4e9a-9544-ad073835f504",
   "metadata": {},
   "outputs": [
    {
     "name": "stdout",
     "output_type": "stream",
     "text": [
      "6 любить\n",
      "1 и\n",
      "4 быть\n",
      "7 любимым\n",
      "\n",
      "4 чтоб\n",
      "2 не\n",
      "6 болела\n",
      "4 мать\n",
      "\n",
      "4 чтоб\n",
      "2 на\n",
      "5 нашей\n",
      "9 горестной\n",
      "7 планете\n",
      "6 только\n",
      "6 звезды\n",
      "6 падали\n",
      "1 с\n",
      "5 небес\n",
      "\n",
      "4 были\n",
      "3 все\n",
      "10 доверчивы,\n",
      "3 как\n",
      "5 дети,\n",
      "1 и\n",
      "6 любили\n",
      "6 дождь,\n",
      "5 цветы\n",
      "1 и\n",
      "3 лес\n",
      "\n"
     ]
    }
   ],
   "source": [
    "wishes = ['любить и быть любимым',\n",
    "          'чтоб не болела мать',\n",
    "          'чтоб на нашей горестной планете только звезды падали с небес',\n",
    "          'были все доверчивы, как дети, и любили дождь, цветы и лес']\n",
    "\n",
    "for wish in wishes:\n",
    "    # words = wish.split()\n",
    "    # for word in words:\n",
    "    for word in wish.split():\n",
    "        print(len(word), word)\n",
    "    print()"
   ]
  },
  {
   "cell_type": "code",
   "execution_count": null,
   "id": "fb186c5d-e98c-4c53-b303-da46aa5b23c8",
   "metadata": {},
   "outputs": [],
   "source": []
  },
  {
   "cell_type": "code",
   "execution_count": null,
   "id": "362be2bb-2bd6-43d9-b80e-4a12380b652a",
   "metadata": {},
   "outputs": [],
   "source": []
  },
  {
   "cell_type": "markdown",
   "id": "075d7d5e-ec22-48c1-aa9a-ec1f77ae61a0",
   "metadata": {},
   "source": [
    "\n",
    "❓ Как напечатать длины каждого слова в каждом предложении?\n",
    "\n",
    "Алгоритм такой:\n",
    "\n",
    "- проходясь по предложениям:\n",
    "    - так как предложение - строчка, делить предложение на слова\n",
    "    - проходясь по словам из предложения:\n",
    "        - печатать длину слова и само слово "
   ]
  },
  {
   "cell_type": "code",
   "execution_count": 21,
   "id": "91ba8efe-7940-418b-b8a8-c482fd1f1caf",
   "metadata": {},
   "outputs": [
    {
     "name": "stdout",
     "output_type": "stream",
     "text": [
      "6 любить\n",
      "1 и\n",
      "4 быть\n",
      "7 любимым\n",
      "\n",
      "4 чтоб\n",
      "2 не\n",
      "6 болела\n",
      "4 мать\n",
      "\n",
      "4 чтоб\n",
      "2 на\n",
      "5 нашей\n",
      "9 горестной\n",
      "7 планете\n",
      "6 только\n",
      "6 звезды\n",
      "6 падали\n",
      "1 с\n",
      "5 небес\n",
      "\n",
      "4 были\n",
      "3 все\n",
      "10 доверчивы,\n",
      "3 как\n",
      "5 дети,\n",
      "1 и\n",
      "6 любили\n",
      "6 дождь,\n",
      "5 цветы\n",
      "1 и\n",
      "3 лес\n",
      "\n"
     ]
    }
   ],
   "source": [
    "wishes = ['любить и быть любимым',\n",
    "          'чтоб не болела мать',\n",
    "          'чтоб на нашей горестной планете только звезды падали с небес',\n",
    "          'были все доверчивы, как дети, и любили дождь, цветы и лес']\n",
    "\n",
    "for wish in wishes:\n",
    "    # words = wish.split(sep=\" \")\n",
    "    # words = wish.split(\" \")\n",
    "    words = wish.split()\n",
    "    for word in words:\n",
    "        print(len(word), word)\n",
    "    print()"
   ]
  },
  {
   "cell_type": "code",
   "execution_count": 19,
   "id": "f2ebd71f-1870-4b56-8ebf-16a0c508011a",
   "metadata": {},
   "outputs": [
    {
     "name": "stdout",
     "output_type": "stream",
     "text": [
      "Вася, привет! \n",
      "Привет, Петя!\n",
      "['Вася,', 'привет!', 'Привет,', 'Петя!']\n"
     ]
    }
   ],
   "source": [
    "s = \"\"\"Вася, привет! \n",
    "Привет, Петя!\"\"\"\n",
    "\n",
    "print(s)\n",
    "print(s.split())"
   ]
  },
  {
   "cell_type": "markdown",
   "id": "cb545683-a75a-46dc-b92d-58f2c9a7f58f",
   "metadata": {},
   "source": [
    "Пример работы:\n",
    "\n",
    "```\n",
    "\n",
    "любить 6\n",
    "и 1\n",
    "быть 4\n",
    "любимым 7\n",
    "\n",
    "чтоб 4\n",
    "не 2\n",
    "болела 6\n",
    "мать 4\n",
    "\n",
    "...\n",
    "```"
   ]
  },
  {
   "cell_type": "markdown",
   "id": "f9c2239f-ae41-42d5-9af2-7677da8a05bc",
   "metadata": {},
   "source": [
    "Обратите внимание, что `for` по строке это не то (получатся отдельные её символы, а не слова): "
   ]
  },
  {
   "cell_type": "code",
   "execution_count": 27,
   "id": "38d7ef27-a0cd-4c60-86b3-196516b89edd",
   "metadata": {
    "tags": []
   },
   "outputs": [
    {
     "name": "stdout",
     "output_type": "stream",
     "text": [
      "л\n",
      "ю\n",
      "б\n",
      "и\n",
      "т\n",
      "ь\n",
      " \n",
      "и\n",
      " \n",
      "б\n",
      "ы\n",
      "т\n",
      "ь\n",
      " \n",
      "л\n",
      "ю\n",
      "б\n",
      "и\n",
      "м\n",
      "ы\n",
      "м\n"
     ]
    }
   ],
   "source": [
    "for symb in 'любить и быть любимым':\n",
    "    print(symb)"
   ]
  },
  {
   "cell_type": "markdown",
   "id": "450f106e-37a9-4f2e-9ae1-58bc09b7d93a",
   "metadata": {},
   "source": [
    "Ещё не пойдёт применять метод `.split` к списку, это не поделит строчки из списка (потому что каждая строчка только элемент (!) списка).\n",
    "    (Вспомните, что в списке могут быть не только строки. Мы же не можем делить числа!) "
   ]
  },
  {
   "cell_type": "code",
   "execution_count": 28,
   "id": "85fe4e00-7e73-4b0d-af55-5c5d7db1da21",
   "metadata": {},
   "outputs": [
    {
     "ename": "AttributeError",
     "evalue": "'list' object has no attribute 'split'",
     "output_type": "error",
     "traceback": [
      "\u001b[1;31m---------------------------------------------------------------------------\u001b[0m",
      "\u001b[1;31mAttributeError\u001b[0m                            Traceback (most recent call last)",
      "Cell \u001b[1;32mIn [28], line 6\u001b[0m\n\u001b[0;32m      1\u001b[0m wishes \u001b[38;5;241m=\u001b[39m [\u001b[38;5;124m'\u001b[39m\u001b[38;5;124mлюбить и быть любимым\u001b[39m\u001b[38;5;124m'\u001b[39m,\n\u001b[0;32m      2\u001b[0m           \u001b[38;5;124m'\u001b[39m\u001b[38;5;124mчтоб не болела мать\u001b[39m\u001b[38;5;124m'\u001b[39m,\n\u001b[0;32m      3\u001b[0m           \u001b[38;5;124m'\u001b[39m\u001b[38;5;124mчтоб на нашей горестной планете только звезды падали с небес\u001b[39m\u001b[38;5;124m'\u001b[39m,\n\u001b[0;32m      4\u001b[0m           \u001b[38;5;124m'\u001b[39m\u001b[38;5;124mбыли все доверчивы, как дети, и любили дождь, цветы и лес\u001b[39m\u001b[38;5;124m'\u001b[39m]\n\u001b[1;32m----> 6\u001b[0m \u001b[43mwishes\u001b[49m\u001b[38;5;241;43m.\u001b[39;49m\u001b[43msplit\u001b[49m()\n",
      "\u001b[1;31mAttributeError\u001b[0m: 'list' object has no attribute 'split'"
     ]
    }
   ],
   "source": [
    "wishes = ['любить и быть любимым',\n",
    "          'чтоб не болела мать',\n",
    "          'чтоб на нашей горестной планете только звезды падали с небес',\n",
    "          'были все доверчивы, как дети, и любили дождь, цветы и лес']\n",
    "\n",
    "wishes.split()"
   ]
  },
  {
   "cell_type": "markdown",
   "id": "2d8c296e-c45a-4a62-8e16-e279725a9cc0",
   "metadata": {},
   "source": [
    "В общем, решение может быть таким"
   ]
  },
  {
   "cell_type": "code",
   "execution_count": 29,
   "id": "b08cdc66-6d5d-432d-b04b-57b9512f57f3",
   "metadata": {},
   "outputs": [
    {
     "name": "stdout",
     "output_type": "stream",
     "text": [
      "любить 6\n",
      "и 1\n",
      "быть 4\n",
      "любимым 7\n",
      "\n",
      "чтоб 4\n",
      "не 2\n",
      "болела 6\n",
      "мать 4\n",
      "\n",
      "чтоб 4\n",
      "на 2\n",
      "нашей 5\n",
      "горестной 9\n",
      "планете 7\n",
      "только 6\n",
      "звезды 6\n",
      "падали 6\n",
      "с 1\n",
      "небес 5\n",
      "\n",
      "были 4\n",
      "все 3\n",
      "доверчивы, 10\n",
      "как 3\n",
      "дети, 5\n",
      "и 1\n",
      "любили 6\n",
      "дождь, 6\n",
      "цветы 5\n",
      "и 1\n",
      "лес 3\n",
      "\n"
     ]
    }
   ],
   "source": [
    "wishes = ['любить и быть любимым',\n",
    "          'чтоб не болела мать',\n",
    "          'чтоб на нашей горестной планете только звезды падали с небес',\n",
    "          'были все доверчивы, как дети, и любили дождь, цветы и лес']\n"
   ]
  },
  {
   "cell_type": "markdown",
   "id": "d1d18709-40c7-4275-872d-0e41dc5df853",
   "metadata": {
    "id": "tDzK-Px1oZ9t"
   },
   "source": [
    "## Методы списков"
   ]
  },
  {
   "cell_type": "markdown",
   "id": "62ecba09-7e1f-4d51-a2e3-0f87ec86feca",
   "metadata": {},
   "source": [
    "Списки можно менять, они изменяемые! (В отличие от кортежей и строк). \n",
    "\n",
    "Поэтому большинство методов действительно меняют исходный список."
   ]
  },
  {
   "cell_type": "markdown",
   "id": "da264648-cce1-4370-8d60-370c5dc43f8e",
   "metadata": {
    "id": "R3AcYelMpo5i"
   },
   "source": [
    "### .append()  — добавление элемента в конец списка"
   ]
  },
  {
   "cell_type": "code",
   "execution_count": 17,
   "id": "aabfab2a-0978-4e67-a932-2ed6de76a302",
   "metadata": {
    "colab": {
     "base_uri": "https://localhost:8080/"
    },
    "id": "jn18l5qEpoRr",
    "outputId": "c9b1f58e-8f65-41a3-fd34-57a10b596174"
   },
   "outputs": [
    {
     "name": "stdout",
     "output_type": "stream",
     "text": [
      "[]\n",
      "['спать']\n"
     ]
    }
   ],
   "source": [
    "list_of_wishes = []  # Список желаний, когда спрашивают.\n",
    "print(list_of_wishes)\n",
    "list_of_wishes.append('спать')  # После секунды раздумий\n",
    "print(list_of_wishes)\n",
    "\n",
    "# добавьте ещё одно желание"
   ]
  },
  {
   "cell_type": "markdown",
   "id": "4b2c5862-d499-45c6-82d3-c1e9a60f598a",
   "metadata": {
    "id": "JeAv65F-rIiM"
   },
   "source": [
    "Метод принимает один аргумент — объект, который нужно добавить. Метод ничего **не возвращает, а просто изменяет исходный список** (результат работы метода нельзя сохранить в переменную!).\n"
   ]
  },
  {
   "cell_type": "code",
   "execution_count": 36,
   "id": "efaad87a-2123-4def-a0a6-b5d51b9fe1f5",
   "metadata": {},
   "outputs": [
    {
     "name": "stdout",
     "output_type": "stream",
     "text": [
      "[[1, 2, 3], [4, 5, 6], [7, 8, 9]]\n",
      "\n",
      "[1, 2, 3]\n",
      "[4, 5, 6]\n",
      "[7, 8, 9]\n",
      "[10, 11, 12]\n"
     ]
    }
   ],
   "source": [
    "matrix = [[1, 2, 3], [4, 5, 6], [7, 8, 9]]\n",
    "print(matrix)\n",
    "print()\n",
    "\n",
    "matrix.append([10, 11, 12])\n",
    "\n",
    "print(*matrix, sep=\"\\n\")"
   ]
  },
  {
   "cell_type": "markdown",
   "id": "ea1ada96-e36b-4869-9825-ce68c832e278",
   "metadata": {
    "id": "Whp4WwToq5VU"
   },
   "source": [
    "### .extend(`another_list`)  — расширяет список, добавляя в конец все элементы списка `another_list`"
   ]
  },
  {
   "cell_type": "markdown",
   "id": "bc879b25-6b66-4941-874b-222dd1e826c2",
   "metadata": {},
   "source": [
    "Но вообще-то передать в `extend` можно не только список, увидим ниже"
   ]
  },
  {
   "cell_type": "code",
   "execution_count": 18,
   "id": "9da45f20-d95b-4840-8603-bc33f974af8b",
   "metadata": {
    "colab": {
     "base_uri": "https://localhost:8080/"
    },
    "id": "cSQ5yzo7q4la",
    "outputId": "edf36948-543e-43f5-80f2-b17b33684364"
   },
   "outputs": [
    {
     "name": "stdout",
     "output_type": "stream",
     "text": [
      "['спать', 'любить и быть любимым', 'чтоб не болела мать', 'чтоб на нашей горестной планете только звезды падали с небес', 'были все доверчивы, как дети, и любили дождь, цветы и лес']\n"
     ]
    }
   ],
   "source": [
    "ready_wishlist = ['любить и быть любимым',\n",
    "                  'чтоб не болела мать',\n",
    "                  'чтоб на нашей горестной планете только звезды падали с небес',\n",
    "                  'были все доверчивы, как дети, и любили дождь, цветы и лес']\n",
    "list_of_wishes.extend(ready_wishlist)\n",
    "print(list_of_wishes)"
   ]
  },
  {
   "cell_type": "markdown",
   "id": "5d438131-57de-4c30-a100-cf4b7c64e540",
   "metadata": {},
   "source": [
    "А вот `.extend()` со списком списков. Числа добавились поодиночке! "
   ]
  },
  {
   "cell_type": "code",
   "execution_count": 68,
   "id": "9fb5fb79-b149-4d66-992f-a4f949b06f86",
   "metadata": {
    "tags": []
   },
   "outputs": [
    {
     "name": "stdout",
     "output_type": "stream",
     "text": [
      "[[1, 2, 3], [4, 5, 6], [7, 8, 9]]\n",
      "[[1, 2, 3], [4, 5, 6], [7, 8, 9], 10, 11, 12]\n"
     ]
    }
   ],
   "source": [
    "matrix = [[1, 2, 3], [4, 5, 6], [7, 8, 9]]\n",
    "print(matrix)\n",
    "\n",
    "matrix.extend([10, 11, 12])\n",
    "\n",
    "print(matrix)"
   ]
  },
  {
   "cell_type": "markdown",
   "id": "423edbee-42d8-4a53-97b5-1ff6958c792c",
   "metadata": {},
   "source": [
    "А есть ещё сложение списков!"
   ]
  },
  {
   "cell_type": "code",
   "execution_count": 69,
   "id": "e57a4842-7ba8-4524-8ef1-366ea3d7707e",
   "metadata": {
    "colab": {
     "base_uri": "https://localhost:8080/"
    },
    "id": "WhArMMwqvzZW",
    "outputId": "6634848c-6bbb-423d-ecdb-b9e36b0b616a"
   },
   "outputs": [
    {
     "name": "stdout",
     "output_type": "stream",
     "text": [
      "['конфета', 'шоколадка']\n",
      "['крекер', 'сухарик']\n",
      "['конфета', 'шоколадка', 'крекер', 'сухарик']\n"
     ]
    }
   ],
   "source": [
    "# Как объединить списки в один, не меняя исходных?\n",
    "# Сложить!\n",
    "\n",
    "sweet = ['конфета', 'шоколадка']\n",
    "salty = ['крекер', 'сухарик']\n",
    "basket = sweet + salty\n",
    "print(sweet)\n",
    "print(salty)\n",
    "print(basket)"
   ]
  },
  {
   "cell_type": "code",
   "execution_count": 39,
   "id": "ea433fe6-cd43-4eec-957b-00696432210d",
   "metadata": {},
   "outputs": [
    {
     "data": {
      "text/plain": [
       "5710"
      ]
     },
     "execution_count": 39,
     "metadata": {},
     "output_type": "execute_result"
    }
   ],
   "source": [
    "1515 + 4195"
   ]
  },
  {
   "cell_type": "code",
   "execution_count": 40,
   "id": "ae6f02cf-da8a-48ef-9b6d-e93cc4341778",
   "metadata": {},
   "outputs": [
    {
     "name": "stdout",
     "output_type": "stream",
     "text": [
      "Привет, Вася\n"
     ]
    }
   ],
   "source": [
    "name = \"Вася\"\n",
    "print(\"Привет,\" + \" \" + name)"
   ]
  },
  {
   "cell_type": "markdown",
   "id": "7a0cdbba-548d-421d-8bd3-c298a074626f",
   "metadata": {},
   "source": [
    "В `.extend()` можно передать не другой список, а ещё и кортеж, и даже строчку."
   ]
  },
  {
   "cell_type": "markdown",
   "id": "ddbf5648-fedf-4047-bfb6-38d33fd78c99",
   "metadata": {},
   "source": [
    "Если передать **в `.extend()` строчку**, то список расширится **отдельными символами** из неё.\n",
    "    Это похоже на то, как в цикле `for` по строчке будут печататься её символы:\n",
    "\n",
    "```python\n",
    "for symb in \"мир\":\n",
    "    print(symb)\n",
    "\n",
    "м\n",
    "и\n",
    "р\n",
    "```"
   ]
  },
  {
   "cell_type": "markdown",
   "id": "b0ebb628-009f-40ad-9108-4dd558ef1900",
   "metadata": {},
   "source": [
    "(Это связано с тем, что строчка это просто последовательность символов. Видно из английского названия string, ведь бывают string of perls и т.д.)"
   ]
  },
  {
   "cell_type": "code",
   "execution_count": 33,
   "id": "27ef81fe-4623-4064-83c8-d3054a6236c3",
   "metadata": {},
   "outputs": [
    {
     "name": "stdout",
     "output_type": "stream",
     "text": [
      "['hello', 'п', 'р', 'и', 'в', 'е', 'т']\n"
     ]
    }
   ],
   "source": [
    "letters = [\"hello\"]\n",
    "letters.extend(\"привет\")\n",
    "print(letters)"
   ]
  },
  {
   "cell_type": "markdown",
   "id": "d8800ea0-6d79-4d82-b431-46ef7d2dd43f",
   "metadata": {},
   "source": [
    "Сравните это с добавлением строки целиком в список методом `.append()`"
   ]
  },
  {
   "cell_type": "code",
   "execution_count": 34,
   "id": "fcca2482-84b5-40f4-a682-4b7832918066",
   "metadata": {},
   "outputs": [
    {
     "name": "stdout",
     "output_type": "stream",
     "text": [
      "['hello', 'привет']\n"
     ]
    }
   ],
   "source": [
    "salutes = [\"hello\"]\n",
    "\n",
    "salutes.append(\"привет\")\n",
    "print(salutes)"
   ]
  },
  {
   "cell_type": "markdown",
   "id": "e5421ddf-a359-4f5e-82a6-05237f88252d",
   "metadata": {},
   "source": [
    "## Тренировка \n",
    "Вводятся на каждой строке через пробел целые числа. Ввод заканчивается, когда введена пустая строка.\n",
    "\n",
    "Выведите в ответе список, содержащий последовательно все введённые числа\n",
    "\n",
    "Ввод:\n",
    "\n",
    "`1 24 56`  \n",
    "`51 5 0`  \n",
    "`\"\"`\n",
    "\n",
    "Вывод:\n",
    "\n",
    "`[1, 24, 56, 51, 5, 0]`"
   ]
  },
  {
   "cell_type": "code",
   "execution_count": 2,
   "id": "5d96c5c4-e4a6-4563-8ae6-129e78a70555",
   "metadata": {},
   "outputs": [
    {
     "data": {
      "text/plain": [
       "[1, 2, 3]"
      ]
     },
     "execution_count": 2,
     "metadata": {},
     "output_type": "execute_result"
    }
   ],
   "source": [
    "list((1, 2, 3))"
   ]
  },
  {
   "cell_type": "code",
   "execution_count": 3,
   "id": "9658fb8c-a8fa-44f2-a0d1-f37a42b3ef15",
   "metadata": {},
   "outputs": [
    {
     "data": {
      "text/plain": [
       "['1', '2', '3']"
      ]
     },
     "execution_count": 3,
     "metadata": {},
     "output_type": "execute_result"
    }
   ],
   "source": [
    "list(\"123\")"
   ]
  },
  {
   "cell_type": "code",
   "execution_count": 4,
   "id": "c57b2dae-6589-4252-9f52-042654f940e3",
   "metadata": {},
   "outputs": [
    {
     "ename": "TypeError",
     "evalue": "'int' object is not iterable",
     "output_type": "error",
     "traceback": [
      "\u001b[1;31m---------------------------------------------------------------------------\u001b[0m",
      "\u001b[1;31mTypeError\u001b[0m                                 Traceback (most recent call last)",
      "Cell \u001b[1;32mIn[4], line 1\u001b[0m\n\u001b[1;32m----> 1\u001b[0m \u001b[38;5;28;43mlist\u001b[39;49m\u001b[43m(\u001b[49m\u001b[38;5;241;43m14151\u001b[39;49m\u001b[43m)\u001b[49m\n",
      "\u001b[1;31mTypeError\u001b[0m: 'int' object is not iterable"
     ]
    }
   ],
   "source": [
    "list(14151)"
   ]
  },
  {
   "cell_type": "code",
   "execution_count": 15,
   "id": "c35c3746-f89c-4d06-8f5d-8b1e2744390b",
   "metadata": {},
   "outputs": [
    {
     "name": "stdin",
     "output_type": "stream",
     "text": [
      " 3\n",
      " 14 15 92 6\n",
      " \n"
     ]
    },
    {
     "name": "stdout",
     "output_type": "stream",
     "text": [
      "[3, 14, 15, 92, 6]\n"
     ]
    }
   ],
   "source": [
    "answer = []\n",
    "\n",
    "inp = input()\n",
    "\n",
    "while inp != \"\":\n",
    "    numbers_str = inp.split()\n",
    "    for one_number_str in numbers_str:\n",
    "        answer.append(int(one_number_str))\n",
    "    \n",
    "    inp = input()\n",
    "\n",
    "print(answer)"
   ]
  },
  {
   "cell_type": "code",
   "execution_count": 12,
   "id": "ff9d90a8-0d91-4069-b9a6-61b0d16761fd",
   "metadata": {},
   "outputs": [
    {
     "name": "stdin",
     "output_type": "stream",
     "text": [
      " 1 24 56\n",
      " 51 5 0\n",
      " \n"
     ]
    },
    {
     "name": "stdout",
     "output_type": "stream",
     "text": [
      "[1, 24, 56, 51, 5, 0]\n"
     ]
    }
   ],
   "source": [
    "answer = []\n",
    "\n",
    "inp = input()\n",
    "\n",
    "while inp != \"\":\n",
    "    numbers_str = inp.split()\n",
    "    for i in range(len(numbers_str)):\n",
    "        numbers_str[i] = int(numbers_str[i])\n",
    "\n",
    "    answer.extend(numbers_str)    \n",
    "    inp = input()\n",
    "\n",
    "print(answer)"
   ]
  },
  {
   "cell_type": "code",
   "execution_count": 14,
   "id": "338b0392-f941-4118-9cc0-1b6670bbe811",
   "metadata": {},
   "outputs": [
    {
     "name": "stdout",
     "output_type": "stream",
     "text": [
      "<class 'str'> 1\n",
      "<class 'str'> 24\n",
      "<class 'str'> 56\n"
     ]
    }
   ],
   "source": [
    "numbers_str = ['1', '24', '56']\n",
    "for one_number_str in numbers_str:\n",
    "    print(type(one_number_str), one_number_str)"
   ]
  },
  {
   "cell_type": "code",
   "execution_count": 7,
   "id": "fbddd5be-a88f-4a91-a8b3-4018e1b323a3",
   "metadata": {},
   "outputs": [
    {
     "ename": "TypeError",
     "evalue": "int() argument must be a string, a bytes-like object or a real number, not 'list'",
     "output_type": "error",
     "traceback": [
      "\u001b[1;31m---------------------------------------------------------------------------\u001b[0m",
      "\u001b[1;31mTypeError\u001b[0m                                 Traceback (most recent call last)",
      "Cell \u001b[1;32mIn[7], line 1\u001b[0m\n\u001b[1;32m----> 1\u001b[0m \u001b[38;5;28;43mint\u001b[39;49m\u001b[43m(\u001b[49m\u001b[43m[\u001b[49m\u001b[38;5;124;43m'\u001b[39;49m\u001b[38;5;124;43m1\u001b[39;49m\u001b[38;5;124;43m'\u001b[39;49m\u001b[43m,\u001b[49m\u001b[43m \u001b[49m\u001b[38;5;124;43m'\u001b[39;49m\u001b[38;5;124;43m24\u001b[39;49m\u001b[38;5;124;43m'\u001b[39;49m\u001b[43m,\u001b[49m\u001b[43m \u001b[49m\u001b[38;5;124;43m'\u001b[39;49m\u001b[38;5;124;43m56\u001b[39;49m\u001b[38;5;124;43m'\u001b[39;49m\u001b[43m]\u001b[49m\u001b[43m)\u001b[49m\n",
      "\u001b[1;31mTypeError\u001b[0m: int() argument must be a string, a bytes-like object or a real number, not 'list'"
     ]
    }
   ],
   "source": [
    "int(['1', '24', '56'])"
   ]
  },
  {
   "cell_type": "code",
   "execution_count": 5,
   "id": "1c87ce29-9aaf-444f-89ac-00068e69187e",
   "metadata": {},
   "outputs": [
    {
     "data": {
      "text/plain": [
       "['1', '24', '56']"
      ]
     },
     "execution_count": 5,
     "metadata": {},
     "output_type": "execute_result"
    }
   ],
   "source": [
    "list(['1', '24', '56'])"
   ]
  },
  {
   "cell_type": "code",
   "execution_count": null,
   "id": "4808e8c4-6e19-4cbc-9e0f-877372a24805",
   "metadata": {},
   "outputs": [],
   "source": []
  },
  {
   "cell_type": "code",
   "execution_count": 50,
   "id": "d49437ce-d02b-4987-b0db-fab9e0c681ea",
   "metadata": {},
   "outputs": [
    {
     "data": {
      "text/plain": [
       "['1', '24', '56']"
      ]
     },
     "execution_count": 50,
     "metadata": {},
     "output_type": "execute_result"
    }
   ],
   "source": [
    "\"1 24 56\".split()"
   ]
  },
  {
   "cell_type": "code",
   "execution_count": 49,
   "id": "3afa28e0-a54c-44ad-820c-de6847c91b3f",
   "metadata": {},
   "outputs": [
    {
     "data": {
      "text/plain": [
       "[]"
      ]
     },
     "execution_count": 49,
     "metadata": {},
     "output_type": "execute_result"
    }
   ],
   "source": [
    "\"\".split()"
   ]
  },
  {
   "cell_type": "code",
   "execution_count": 47,
   "id": "ad31050d-3ed0-4245-9bb7-af03b658dc34",
   "metadata": {},
   "outputs": [
    {
     "name": "stdin",
     "output_type": "stream",
     "text": [
      " 1 24 56\n",
      " 51 5 0\n",
      " \n"
     ]
    },
    {
     "name": "stdout",
     "output_type": "stream",
     "text": [
      "[1, 24, 56, 51, 5, 0]\n"
     ]
    }
   ],
   "source": [
    "numbers = []\n",
    "\n",
    "elements = input().split()\n",
    "while elements != []:\n",
    "    for i in range(len(elements)):\n",
    "        elements[i] = int(elements[i])\n",
    "    \n",
    "    numbers.extend(elements)\n",
    "        \n",
    "    elements = input().split()\n",
    "\n",
    "print(numbers)"
   ]
  },
  {
   "cell_type": "code",
   "execution_count": 46,
   "id": "fe80cc46-0b03-4647-a72f-2405a9b0b2e8",
   "metadata": {},
   "outputs": [
    {
     "name": "stdin",
     "output_type": "stream",
     "text": [
      " 1 24 56\n",
      " 51 5 0\n",
      " \n"
     ]
    },
    {
     "name": "stdout",
     "output_type": "stream",
     "text": [
      "[1, 24, 56, 51, 5, 0]\n"
     ]
    }
   ],
   "source": [
    "numbers = []\n",
    "\n",
    "elements = input().split()\n",
    "while elements != []:\n",
    "    for i in range(len(elements)):\n",
    "        numbers.append(int(elements[i]))\n",
    "        \n",
    "    elements = input().split()\n",
    "\n",
    "print(numbers)"
   ]
  },
  {
   "cell_type": "code",
   "execution_count": 48,
   "id": "4f270c67-cb49-4668-ba20-f767685c76c6",
   "metadata": {},
   "outputs": [
    {
     "name": "stdin",
     "output_type": "stream",
     "text": [
      " 1 24 56\n",
      " 0 51 5\n",
      " \n"
     ]
    },
    {
     "name": "stdout",
     "output_type": "stream",
     "text": [
      "[1, 24, 56, 0, 51, 5]\n"
     ]
    }
   ],
   "source": [
    "numbers = []\n",
    "\n",
    "inp = input()\n",
    "while inp != \"\":\n",
    "    for elem in inp.split():\n",
    "        numbers.append(int(elem))\n",
    "        \n",
    "    inp = input()\n",
    "\n",
    "print(numbers)"
   ]
  },
  {
   "cell_type": "code",
   "execution_count": null,
   "id": "deb52541-528e-4b91-b058-85b13f279f74",
   "metadata": {},
   "outputs": [],
   "source": []
  },
  {
   "cell_type": "code",
   "execution_count": 44,
   "id": "e5cee6fb-38f3-4911-9894-b6a2bdca0012",
   "metadata": {},
   "outputs": [
    {
     "data": {
      "text/plain": [
       "str"
      ]
     },
     "execution_count": 44,
     "metadata": {},
     "output_type": "execute_result"
    }
   ],
   "source": [
    "type(numbers[0])"
   ]
  },
  {
   "cell_type": "markdown",
   "id": "3174d57a-415c-4873-9309-3ed95251e739",
   "metadata": {
    "id": "gMC01XWIrWX1"
   },
   "source": [
    "### .insert(`i`, `x`)  — вставляет в `i`-ую позицию в списке значение `x`"
   ]
  },
  {
   "cell_type": "code",
   "execution_count": 19,
   "id": "0cf1f911-8b55-4b5c-b46e-137b707190b3",
   "metadata": {
    "scrolled": true
   },
   "outputs": [
    {
     "data": {
      "text/plain": [
       "['спать',\n",
       " 'любить и быть любимым',\n",
       " 'чтоб не болела мать',\n",
       " 'чтоб на нашей горестной планете только звезды падали с небес',\n",
       " 'были все доверчивы, как дети, и любили дождь, цветы и лес']"
      ]
     },
     "execution_count": 19,
     "metadata": {},
     "output_type": "execute_result"
    }
   ],
   "source": [
    "list_of_wishes"
   ]
  },
  {
   "cell_type": "code",
   "execution_count": 20,
   "id": "cc5b1be1-90f5-4258-a2bd-bcac30bfa87e",
   "metadata": {},
   "outputs": [
    {
     "name": "stdout",
     "output_type": "stream",
     "text": [
      "['жить', 'спать', 'любить и быть любимым', 'чтоб не болела мать', 'чтоб на нашей горестной планете только звезды падали с небес', 'были все доверчивы, как дети, и любили дождь, цветы и лес']\n"
     ]
    }
   ],
   "source": [
    "list_of_wishes.insert(0, 'жить')\n",
    "print(list_of_wishes)"
   ]
  },
  {
   "cell_type": "code",
   "execution_count": 21,
   "id": "ec19f3dc-d9ac-4de4-800b-fb81dbf90a5b",
   "metadata": {
    "colab": {
     "base_uri": "https://localhost:8080/"
    },
    "id": "amOISBbJqiWv",
    "outputId": "e410f726-b1ab-4d8b-8ab4-c19414cf524a"
   },
   "outputs": [
    {
     "name": "stdout",
     "output_type": "stream",
     "text": [
      "7\n"
     ]
    },
    {
     "data": {
      "text/plain": [
       "['жить',\n",
       " 'спать',\n",
       " 'любить и быть любимым',\n",
       " 'чтоб не болела мать',\n",
       " 'гулять',\n",
       " 'чтоб на нашей горестной планете только звезды падали с небес',\n",
       " 'были все доверчивы, как дети, и любили дождь, цветы и лес']"
      ]
     },
     "execution_count": 21,
     "metadata": {},
     "output_type": "execute_result"
    }
   ],
   "source": [
    "# вставьте ещё желаний\n",
    "list_of_wishes.insert(4, 'гулять')\n",
    "print(len(list_of_wishes))\n",
    "list_of_wishes"
   ]
  },
  {
   "cell_type": "code",
   "execution_count": 22,
   "id": "57a63bbb-b4c9-48ca-ba55-d7edeff9822d",
   "metadata": {},
   "outputs": [
    {
     "name": "stdout",
     "output_type": "stream",
     "text": [
      "жить\n",
      "гулять\n"
     ]
    }
   ],
   "source": [
    "print(list_of_wishes[0])\n",
    "\n",
    "print(list_of_wishes[4])"
   ]
  },
  {
   "cell_type": "markdown",
   "id": "79b11b61-c325-477d-b186-cf17a1217fe4",
   "metadata": {},
   "source": [
    "### `.pop(i)` &mdash; удаляет элемент, расположенный по индексу `i` в списке "
   ]
  },
  {
   "cell_type": "code",
   "execution_count": 57,
   "id": "accbdb55-1dbc-458e-bc75-65b91bf19f51",
   "metadata": {},
   "outputs": [
    {
     "name": "stdout",
     "output_type": "stream",
     "text": [
      "['жить', 'спать', 'любить и быть любимым', 'чтоб не болела мать', 'гулять', 'чтоб на нашей горестной планете только звезды падали с небес', 'были все доверчивы, как дети, и любили дождь, цветы и лес']\n",
      "спать\n",
      "['жить', 'любить и быть любимым', 'чтоб не болела мать', 'гулять', 'чтоб на нашей горестной планете только звезды падали с небес', 'были все доверчивы, как дети, и любили дождь, цветы и лес']\n"
     ]
    }
   ],
   "source": [
    "print(list_of_wishes)\n",
    "\n",
    "print(list_of_wishes[1])\n",
    "list_of_wishes.pop(1)\n",
    "\n",
    "print(list_of_wishes)\n"
   ]
  },
  {
   "cell_type": "markdown",
   "id": "8d6366a5-e87e-4e59-8c8a-95faf5c9aae1",
   "metadata": {},
   "source": [
    "Можно не передавать аргумента `i`, тогда, по умолчанию, удаляется последний элемент списка."
   ]
  },
  {
   "cell_type": "code",
   "execution_count": 23,
   "id": "e76c6d8a-76b7-431b-89ca-e2019616d9aa",
   "metadata": {},
   "outputs": [
    {
     "name": "stdout",
     "output_type": "stream",
     "text": [
      "['жить', 'спать', 'любить и быть любимым', 'чтоб не болела мать', 'гулять', 'чтоб на нашей горестной планете только звезды падали с небес', 'были все доверчивы, как дети, и любили дождь, цветы и лес']\n",
      "['жить', 'спать', 'любить и быть любимым', 'чтоб не болела мать', 'гулять', 'чтоб на нашей горестной планете только звезды падали с небес']\n"
     ]
    }
   ],
   "source": [
    "print(list_of_wishes)\n",
    "\n",
    "element = list_of_wishes.pop()\n",
    "\n",
    "print(list_of_wishes)\n",
    "# print(element)"
   ]
  },
  {
   "cell_type": "code",
   "execution_count": 24,
   "id": "446c0df9-872c-48cd-8d8d-86501e1cef26",
   "metadata": {},
   "outputs": [
    {
     "data": {
      "text/plain": [
       "'были все доверчивы, как дети, и любили дождь, цветы и лес'"
      ]
     },
     "execution_count": 24,
     "metadata": {},
     "output_type": "execute_result"
    }
   ],
   "source": [
    "element"
   ]
  },
  {
   "cell_type": "markdown",
   "id": "10572aec-de9c-48ab-b8cf-287f57de2a36",
   "metadata": {
    "id": "d21hjkSttlGI"
   },
   "source": [
    "### .remove(`x`) - удаляет первый элемент в списке, имеющий значение `x`"
   ]
  },
  {
   "cell_type": "code",
   "execution_count": 25,
   "id": "9e0438ad-3fba-4be2-a265-acdccdc54f96",
   "metadata": {
    "id": "4zTIIwV3toIf"
   },
   "outputs": [
    {
     "name": "stdout",
     "output_type": "stream",
     "text": [
      "['жить', 'спать', 'любить и быть любимым', 'чтоб не болела мать', 'гулять', 'чтоб на нашей горестной планете только звезды падали с небес']\n"
     ]
    },
    {
     "data": {
      "text/plain": [
       "['жить', 'спать', 'любить и быть любимым', 'чтоб не болела мать', 'гулять']"
      ]
     },
     "execution_count": 25,
     "metadata": {},
     "output_type": "execute_result"
    }
   ],
   "source": [
    "print(list_of_wishes)\n",
    "list_of_wishes.remove('чтоб на нашей горестной планете только звезды падали с небес')\n",
    "list_of_wishes"
   ]
  },
  {
   "cell_type": "code",
   "execution_count": 26,
   "id": "8a36c478-d90a-43a4-8edd-08b7394d22d6",
   "metadata": {
    "colab": {
     "base_uri": "https://localhost:8080/"
    },
    "id": "hOCcb5ERuSQj",
    "outputId": "91b85b35-cfa4-4b7b-b5cf-06980ff1b2ac"
   },
   "outputs": [
    {
     "name": "stdout",
     "output_type": "stream",
     "text": [
      "['молоко', 'кефир', 'вода', 'сок', 'морс']\n",
      "['молоко', 'кефир', 'вода', 'морс']\n"
     ]
    }
   ],
   "source": [
    "shoplist = ['молоко', 'кефир', 'сок', 'вода', 'сок', 'морс']  # тут 2 сока\n",
    "shoplist.remove('сок')\n",
    "print(shoplist)  # тут 1 сок, причём второй\n",
    "\n",
    "shoplist.remove('сок')\n",
    "print(shoplist)"
   ]
  },
  {
   "cell_type": "code",
   "execution_count": 61,
   "id": "8d1e8f06-d852-4cd6-a098-2d1da5c8c315",
   "metadata": {
    "colab": {
     "base_uri": "https://localhost:8080/"
    },
    "id": "hOCcb5ERuSQj",
    "outputId": "91b85b35-cfa4-4b7b-b5cf-06980ff1b2ac"
   },
   "outputs": [
    {
     "ename": "ValueError",
     "evalue": "list.remove(x): x not in list",
     "output_type": "error",
     "traceback": [
      "\u001b[1;31m---------------------------------------------------------------------------\u001b[0m",
      "\u001b[1;31mValueError\u001b[0m                                Traceback (most recent call last)",
      "Cell \u001b[1;32mIn[61], line 2\u001b[0m\n\u001b[0;32m      1\u001b[0m shoplist \u001b[38;5;241m=\u001b[39m [\u001b[38;5;124m'\u001b[39m\u001b[38;5;124mмолоко\u001b[39m\u001b[38;5;124m'\u001b[39m, \u001b[38;5;124m'\u001b[39m\u001b[38;5;124mкефир\u001b[39m\u001b[38;5;124m'\u001b[39m, \u001b[38;5;124m'\u001b[39m\u001b[38;5;124mсок\u001b[39m\u001b[38;5;124m'\u001b[39m, \u001b[38;5;124m'\u001b[39m\u001b[38;5;124mвода\u001b[39m\u001b[38;5;124m'\u001b[39m, \u001b[38;5;124m'\u001b[39m\u001b[38;5;124mсок\u001b[39m\u001b[38;5;124m'\u001b[39m, \u001b[38;5;124m'\u001b[39m\u001b[38;5;124mморс\u001b[39m\u001b[38;5;124m'\u001b[39m]  \u001b[38;5;66;03m# тут 2 сока\u001b[39;00m\n\u001b[1;32m----> 2\u001b[0m \u001b[43mshoplist\u001b[49m\u001b[38;5;241;43m.\u001b[39;49m\u001b[43mremove\u001b[49m\u001b[43m(\u001b[49m\u001b[38;5;124;43m\"\u001b[39;49m\u001b[38;5;124;43mмороженое\u001b[39;49m\u001b[38;5;124;43m\"\u001b[39;49m\u001b[43m)\u001b[49m\n",
      "\u001b[1;31mValueError\u001b[0m: list.remove(x): x not in list"
     ]
    }
   ],
   "source": [
    "shoplist = ['молоко', 'кефир', 'сок', 'вода', 'сок', 'морс']  # тут 2 сока\n",
    "shoplist.remove(\"мороженое\")"
   ]
  },
  {
   "cell_type": "code",
   "execution_count": 33,
   "id": "8c6abf3f-9761-44dc-89b4-4b93228bf61e",
   "metadata": {},
   "outputs": [],
   "source": [
    "shoplist = ['молоко', 'кефир', 'сок', 'вода', 'сок', 'морс']  # тут 2 сока\n",
    "if \"мороженое\" in shoplist:\n",
    "    shoplist.remove(\"мороженое\")"
   ]
  },
  {
   "cell_type": "code",
   "execution_count": 32,
   "id": "c8da68c2-31c4-4508-a917-423345f5855a",
   "metadata": {},
   "outputs": [
    {
     "name": "stdout",
     "output_type": "stream",
     "text": [
      "вода морс\n"
     ]
    }
   ],
   "source": [
    "shoplist = ['молоко', 'кефир', 'сок', 'вода', 'сок', 'морс']  # тут 2 сока\n",
    "\n",
    "# создать список оставив нужное\n",
    "# удалить и сок и молоко\n",
    "items_to_delete = [\"сок\", \"молоко\", \"кефир\"]\n",
    "\n",
    "new_shoplist = []\n",
    "for item in shoplist:\n",
    "    # if item != \"сок\" and item != \"молоко\":\n",
    "    if item not in items_to_delete:\n",
    "        new_shoplist.append(item)\n",
    "\n",
    "print(*new_shoplist)"
   ]
  },
  {
   "cell_type": "markdown",
   "id": "8f34098c-febb-4a22-a655-68dc846630be",
   "metadata": {},
   "source": [
    "удалить циклом легче, не даёт ошибок"
   ]
  },
  {
   "cell_type": "code",
   "execution_count": 34,
   "id": "ed02e4dd-78ac-4c8f-ae87-90d063d1e83c",
   "metadata": {},
   "outputs": [
    {
     "name": "stdout",
     "output_type": "stream",
     "text": [
      "молоко кефир сок вода сок морс\n"
     ]
    }
   ],
   "source": [
    "shoplist = ['молоко', 'кефир', 'сок', 'вода', 'сок', 'морс']  # тут 2 сока\n",
    "\n",
    "# создать список оставив нужное\n",
    "# удалить и сок и молоко\n",
    "items_to_delete = [\"мороженое\"]\n",
    "\n",
    "new_shoplist = []\n",
    "for item in shoplist:\n",
    "    # if item != \"сок\" and item != \"молоко\":\n",
    "    if item not in items_to_delete:\n",
    "        new_shoplist.append(item)\n",
    "\n",
    "print(*new_shoplist)"
   ]
  },
  {
   "cell_type": "markdown",
   "id": "0684f837-34f5-4778-bac0-3729734bfbc3",
   "metadata": {
    "id": "abbiYBGgtpWm"
   },
   "source": [
    "### `.clear()`  — очищает список"
   ]
  },
  {
   "cell_type": "code",
   "execution_count": 62,
   "id": "e20f574c-871b-40d4-a489-5eb636d36f26",
   "metadata": {
    "colab": {
     "base_uri": "https://localhost:8080/"
    },
    "id": "iuZLh59Stsue",
    "outputId": "3bc1125f-18d5-4d4e-fc07-2d4c81bcd112"
   },
   "outputs": [
    {
     "name": "stdout",
     "output_type": "stream",
     "text": [
      "['молоко', 'кефир', 'сок', 'вода', 'сок', 'морс']\n",
      "[]\n"
     ]
    }
   ],
   "source": [
    "print(shoplist)\n",
    "shoplist.clear()\n",
    "print(shoplist)"
   ]
  },
  {
   "cell_type": "markdown",
   "id": "07303b86-b9fa-439c-8c82-3ff36f2b9266",
   "metadata": {
    "id": "WVKoImeTxToU"
   },
   "source": [
    "### .count(`x`)  — узнать, сколько раз встречается элемент `x`"
   ]
  },
  {
   "cell_type": "code",
   "execution_count": 27,
   "id": "6176e068-ebe3-4d6e-83d3-e0019b0939d3",
   "metadata": {
    "colab": {
     "base_uri": "https://localhost:8080/"
    },
    "id": "43DkWmLixSkl",
    "outputId": "fd327da2-e325-4231-bee9-3d71ff32b308"
   },
   "outputs": [
    {
     "data": {
      "text/plain": [
       "2"
      ]
     },
     "execution_count": 27,
     "metadata": {},
     "output_type": "execute_result"
    }
   ],
   "source": [
    "shoplist = ['молоко', 'кефир', 'сок', 'вода', 'сок', 'морс']\n",
    "shoplist.count('сок')"
   ]
  },
  {
   "cell_type": "code",
   "execution_count": 28,
   "id": "7fa3cb49-ad15-438a-b567-680b68cf4e69",
   "metadata": {
    "colab": {
     "base_uri": "https://localhost:8080/"
    },
    "id": "43DkWmLixSkl",
    "outputId": "fd327da2-e325-4231-bee9-3d71ff32b308"
   },
   "outputs": [
    {
     "data": {
      "text/plain": [
       "0"
      ]
     },
     "execution_count": 28,
     "metadata": {},
     "output_type": "execute_result"
    }
   ],
   "source": [
    "shoplist = ['молоко', 'кефир', 'сок', 'вода', 'сок', 'морс']\n",
    "shoplist.count('малина')"
   ]
  },
  {
   "cell_type": "markdown",
   "id": "96e6a876-fca4-4f00-a7ff-01c18f02d0dc",
   "metadata": {
    "id": "kYM1eRhZOm4e",
    "tags": []
   },
   "source": [
    "#### Тренировка\n",
    "Игра \"Я знаю 5 имён девочек\"\n",
    "\n",
    "Спрашивайте у пользователя 5 названий чего-нибудь. Если пользователь повторился и ввёл имя 2й раз, игра завершается."
   ]
  },
  {
   "cell_type": "code",
   "execution_count": 30,
   "id": "cb5f8136-d393-46d6-86f7-291f8ca6e18f",
   "metadata": {
    "id": "h8aUPXPvvfYZ"
   },
   "outputs": [
    {
     "name": "stdin",
     "output_type": "stream",
     "text": [
      " Саша\n",
      " Валя\n",
      " Таня\n",
      " Маша\n",
      " КАтя\n"
     ]
    }
   ],
   "source": [
    "names = []\n",
    "\n",
    "for i in range(5):\n",
    "    name = input()\n",
    "    if name not in names:\n",
    "        names.append(name)\n",
    "        \n",
    "    else:\n",
    "        print(\"имя\", name, \"уже было\")\n",
    "        break"
   ]
  },
  {
   "cell_type": "code",
   "execution_count": 68,
   "id": "2ea787f9-acf0-4e0a-bb87-22cbb92cc8b2",
   "metadata": {
    "id": "h8aUPXPvvfYZ"
   },
   "outputs": [
    {
     "name": "stdin",
     "output_type": "stream",
     "text": [
      " Таня\n",
      " Саша\n",
      " Таня\n"
     ]
    },
    {
     "name": "stdout",
     "output_type": "stream",
     "text": [
      "имя Таня уже было\n"
     ]
    }
   ],
   "source": [
    "names = []\n",
    "\n",
    "for i in range(5):\n",
    "    name = input()\n",
    "    if names.count(name) == 0:\n",
    "        names.append(name)\n",
    "    else:\n",
    "        print(\"имя\", name, \"уже было\")\n",
    "        break"
   ]
  },
  {
   "cell_type": "markdown",
   "id": "3690525d-d64f-413d-96df-eebf4ffb66ca",
   "metadata": {},
   "source": [
    "Обратите внимание на вариацию задачи:\n",
    "\n",
    "> Спрашивайте у пользователя 5 названий чего-нибудь. **Можно повториться один раз**. Если пользователь пытается назвать что-то в третий раз, то игра завершается."
   ]
  },
  {
   "cell_type": "code",
   "execution_count": 36,
   "id": "b5b26373-1004-4cf7-b98c-574c4a01e676",
   "metadata": {},
   "outputs": [
    {
     "name": "stdin",
     "output_type": "stream",
     "text": [
      " Таня\n",
      " Саша\n",
      " Таня\n",
      " Саша\n",
      " Таня\n"
     ]
    },
    {
     "name": "stdout",
     "output_type": "stream",
     "text": [
      "имя Таня уже было\n"
     ]
    }
   ],
   "source": [
    "names = []\n",
    "\n",
    "for i in range(5):\n",
    "    name = input()\n",
    "    if names.count(name) < 2:\n",
    "        names.append(name)\n",
    "    else:\n",
    "        print(\"имя\", name, \"уже было\")\n",
    "        break"
   ]
  },
  {
   "cell_type": "code",
   "execution_count": null,
   "id": "fff6baaf-93c4-447e-b22c-fb29923b754f",
   "metadata": {},
   "outputs": [],
   "source": []
  },
  {
   "cell_type": "code",
   "execution_count": 48,
   "id": "359aa4aa-f2d0-4a0a-a979-1ddbe99f2098",
   "metadata": {
    "id": "h8aUPXPvvfYZ"
   },
   "outputs": [
    {
     "name": "stdin",
     "output_type": "stream",
     "text": [
      "Имя девочки:  Хельга\n",
      "Имя девочки:  Анна\n",
      "Имя девочки:  Хельга\n",
      "Имя девочки:  Анна\n",
      "Имя девочки:  Анна\n"
     ]
    },
    {
     "name": "stdout",
     "output_type": "stream",
     "text": [
      "Было!\n"
     ]
    }
   ],
   "source": [
    "..."
   ]
  },
  {
   "cell_type": "markdown",
   "id": "2b0b4757-db01-4698-9ac7-d3aa938544b4",
   "metadata": {
    "id": "3VKAEkWSQMdQ"
   },
   "source": [
    "### .index(`x`)  — узнать индекс элемента `x` в списке"
   ]
  },
  {
   "cell_type": "markdown",
   "id": "00356d0e-1202-429b-9125-78229c007695",
   "metadata": {},
   "source": [
    "Чтобы узнать на какой позиции что-то находится можно пройтись в цикле по списку и выйти из цикла, когда что-то найдено.\n",
    "    Если элементов с таким значением было несколько, то это позволяет узнать **индекс первого**."
   ]
  },
  {
   "cell_type": "code",
   "execution_count": 39,
   "id": "00a9baf0-e361-4318-b935-ab7ba0dbd4ec",
   "metadata": {
    "colab": {
     "base_uri": "https://localhost:8080/"
    },
    "id": "eV0h9wvYxANV",
    "outputId": "74d15f4c-c384-4dd8-add9-3f84d33874d2"
   },
   "outputs": [
    {
     "name": "stdout",
     "output_type": "stream",
     "text": [
      "2\n"
     ]
    }
   ],
   "source": [
    "# Так вы умели:\n",
    "\n",
    "shopping_list = ['молоко', 'сок', 'хлеб', 'сок', 'кефир']\n",
    "\n",
    "for i in range(len(shopping_list)):\n",
    "    if shopping_list[i] == 'хлеб':  # если мы нашли хлеб\n",
    "        print(i)\n",
    "        break      # остановим цикл, и индекс будет в переменной i \n",
    "                                    "
   ]
  },
  {
   "cell_type": "code",
   "execution_count": 48,
   "id": "869b2232-da02-4821-80a2-255369a108ef",
   "metadata": {},
   "outputs": [
    {
     "name": "stdout",
     "output_type": "stream",
     "text": [
      "[1, 3]\n"
     ]
    }
   ],
   "source": [
    "shopping_list = ['молоко', 'сок', 'хлеб', 'сок', 'кефир']\n",
    "\n",
    "item_sought = \"сок\"\n",
    "\n",
    "indices_list = []\n",
    "for i in range(len(shopping_list)):\n",
    "    if shopping_list[i] == item_sought:\n",
    "        indices_list.append(i)\n",
    "\n",
    "print(indices_list)"
   ]
  },
  {
   "cell_type": "code",
   "execution_count": 51,
   "id": "40a0ceb5-edc3-4176-a837-ed3fa0398e5b",
   "metadata": {},
   "outputs": [
    {
     "data": {
      "text/plain": [
       "['молоко', 'сок', 'хлеб', 'сок', 'кефир']"
      ]
     },
     "execution_count": 51,
     "metadata": {},
     "output_type": "execute_result"
    }
   ],
   "source": [
    "shopping_list"
   ]
  },
  {
   "cell_type": "code",
   "execution_count": 49,
   "id": "aae834b2-8d87-4350-a087-11382e105545",
   "metadata": {},
   "outputs": [
    {
     "data": {
      "text/plain": [
       "[(0, 'молоко'), (1, 'сок'), (2, 'хлеб'), (3, 'сок'), (4, 'кефир')]"
      ]
     },
     "execution_count": 49,
     "metadata": {},
     "output_type": "execute_result"
    }
   ],
   "source": [
    "list(enumerate(shopping_list))"
   ]
  },
  {
   "cell_type": "code",
   "execution_count": 50,
   "id": "39f9a0ab-a85a-4f90-bb12-f254df989b5e",
   "metadata": {},
   "outputs": [
    {
     "name": "stdout",
     "output_type": "stream",
     "text": [
      "[1, 3]\n"
     ]
    }
   ],
   "source": [
    "shopping_list = ['молоко', 'сок', 'хлеб', 'сок', 'кефир']\n",
    "\n",
    "item_sought = \"сок\"\n",
    "\n",
    "indices_list = []\n",
    "for i, item in enumerate(shopping_list):\n",
    "    if item == item_sought:\n",
    "        indices_list.append(i)\n",
    "\n",
    "print(indices_list)"
   ]
  },
  {
   "cell_type": "code",
   "execution_count": 40,
   "id": "b9d7dece-1165-4b9c-806f-d5b21f7e69ac",
   "metadata": {
    "colab": {
     "base_uri": "https://localhost:8080/"
    },
    "id": "Hf07fQxaQhdy",
    "outputId": "e145d79a-5729-4c07-b102-09e0d958fd92"
   },
   "outputs": [
    {
     "data": {
      "text/plain": [
       "1"
      ]
     },
     "execution_count": 40,
     "metadata": {},
     "output_type": "execute_result"
    }
   ],
   "source": [
    "shopping_list.index('сок')  # узнаём индекс первого такого элемента"
   ]
  },
  {
   "cell_type": "code",
   "execution_count": 41,
   "id": "3f692837-4153-4858-8060-10e7f7e97346",
   "metadata": {},
   "outputs": [
    {
     "name": "stdout",
     "output_type": "stream",
     "text": [
      "2\n",
      "['молоко', 'хлеб', 'сок', 'кефир']\n"
     ]
    }
   ],
   "source": [
    "shopping_list.remove(\"сок\")\n",
    "print(shopping_list.index(\"сок\"))\n",
    "print(shopping_list)"
   ]
  },
  {
   "cell_type": "markdown",
   "id": "f9adf0ea-ce81-473f-adee-4657caccb563",
   "metadata": {},
   "source": [
    "Мы не умеем работать с ошибками, поэтому сложновато хорошо использовать `.index`:"
   ]
  },
  {
   "cell_type": "code",
   "execution_count": 52,
   "id": "f38dc04a-66aa-4035-b968-21dc312b6e0c",
   "metadata": {
    "colab": {
     "base_uri": "https://localhost:8080/",
     "height": 173
    },
    "id": "Sum2RXpOSslk",
    "outputId": "a87a2cca-4b95-4ec6-9e2a-5229aebb5245"
   },
   "outputs": [
    {
     "ename": "ValueError",
     "evalue": "'морс' is not in list",
     "output_type": "error",
     "traceback": [
      "\u001b[1;31m---------------------------------------------------------------------------\u001b[0m",
      "\u001b[1;31mValueError\u001b[0m                                Traceback (most recent call last)",
      "Cell \u001b[1;32mIn [52], line 1\u001b[0m\n\u001b[1;32m----> 1\u001b[0m \u001b[43mshopping_list\u001b[49m\u001b[38;5;241;43m.\u001b[39;49m\u001b[43mindex\u001b[49m\u001b[43m(\u001b[49m\u001b[38;5;124;43m'\u001b[39;49m\u001b[38;5;124;43mморс\u001b[39;49m\u001b[38;5;124;43m'\u001b[39;49m\u001b[43m)\u001b[49m  \u001b[38;5;66;03m# если такого элемента, сломается\u001b[39;00m\n",
      "\u001b[1;31mValueError\u001b[0m: 'морс' is not in list"
     ]
    }
   ],
   "source": [
    "shopping_list.index('морс')  # если такого элемента, сломается"
   ]
  },
  {
   "cell_type": "code",
   "execution_count": 45,
   "id": "dcc274a0-1566-404f-83f0-1d2a7e64697e",
   "metadata": {},
   "outputs": [
    {
     "name": "stdout",
     "output_type": "stream",
     "text": [
      "2\n"
     ]
    }
   ],
   "source": [
    "item = \"сок\"\n",
    "\n",
    "if item in shopping_list:\n",
    "    print(shopping_list.index(item))"
   ]
  },
  {
   "cell_type": "markdown",
   "id": "6d103c20-28e0-4a93-ac41-6dff6752d1b1",
   "metadata": {},
   "source": [
    "> Но можно сперва проверять, есть ли что-то в списке, а затем узнавать индекс если есть (но это чуточку не оптимально)"
   ]
  },
  {
   "cell_type": "markdown",
   "id": "a8697b8c-cbd3-437a-a5d7-3a40580929ab",
   "metadata": {},
   "source": [
    "### Тренировка\n"
   ]
  },
  {
   "cell_type": "markdown",
   "id": "97068d4a-c41e-423c-9dc2-f4122b362cd9",
   "metadata": {},
   "source": [
    "Как хранитель_ница музея вы делаете каталог.\n",
    "    Скажем, вы для некоторой очень известной картины сохраняете имеющиеся её репродукции (или подделки...) по годам.\n",
    "    Сначала считайте данные — в каждой строке записан год, а затем через запятую имена авторов репродукций, написанных в этот год.\n",
    "    \n",
    "В конце вводится одно число — интересующий год.\n",
    "    Нужно вывести репродукции за этот год, если они есть, и фразу `Репродукций нет`, если их нет.\n",
    "\n",
    "Пример:\n",
    "\n",
    "`1950, ХX, YY, MM`  \n",
    "`1976, NN, BB`  \n",
    "`1960`  \n",
    "\\>>> `Репродукций нет`\n",
    "\n",
    "`1950, ХX, YY, MM`  \n",
    "`1976, NN, BB`   \n",
    "`1950`  \n",
    "\\>>> `ХX, YY, MM`\n",
    "\n",
    "\n",
    "\n",
    "\n",
    "    "
   ]
  },
  {
   "cell_type": "code",
   "execution_count": null,
   "id": "28cd6443-b04e-4def-a260-db3fa2d491aa",
   "metadata": {},
   "outputs": [],
   "source": []
  },
  {
   "cell_type": "code",
   "execution_count": null,
   "id": "3e33f350-27df-4cbd-b78d-7640e11b7bf1",
   "metadata": {},
   "outputs": [],
   "source": []
  },
  {
   "cell_type": "markdown",
   "id": "0988504e-9dc1-409b-a8d9-5abcf0871b56",
   "metadata": {
    "id": "znT1UuQ9Rqe0"
   },
   "source": [
    "## Ещё несколько функций для списков и кортежей"
   ]
  },
  {
   "cell_type": "markdown",
   "id": "5d300dab-549b-4228-beda-83bcd4448034",
   "metadata": {
    "id": "rYybFZW3R5JB"
   },
   "source": [
    "### `sum(<последовательность>)` &mdash; сумма"
   ]
  },
  {
   "cell_type": "code",
   "execution_count": 58,
   "id": "d08120a1-d676-43ac-8151-e92366fad1d8",
   "metadata": {
    "colab": {
     "base_uri": "https://localhost:8080/"
    },
    "id": "Y6Hd96MjRorC",
    "outputId": "93487b22-90ad-44b1-ad92-2d9a2670581f"
   },
   "outputs": [
    {
     "name": "stdout",
     "output_type": "stream",
     "text": [
      "6\n",
      "10.5\n"
     ]
    }
   ],
   "source": [
    "print(sum([1, 2, 3]))     # попросим посчитать и вывести сумму чисел в списке\n",
    "print(sum((3.5, 3, 4)))   # попросим посчитать и вывести сумму чисел в кортеже"
   ]
  },
  {
   "cell_type": "markdown",
   "id": "ea6f098a-b796-4f44-8818-78c7564e2777",
   "metadata": {
    "id": "t8Ms0P1gTDvg"
   },
   "source": [
    "### `min(<последовательность>)`  — минимальное"
   ]
  },
  {
   "cell_type": "code",
   "execution_count": 59,
   "id": "372f940b-d77a-41c1-a0aa-2c6f2f03cde6",
   "metadata": {
    "colab": {
     "base_uri": "https://localhost:8080/"
    },
    "id": "cNJu7lFBTByJ",
    "outputId": "a5853322-2256-4da7-8765-bbcd84291bc9"
   },
   "outputs": [
    {
     "name": "stdout",
     "output_type": "stream",
     "text": [
      "1\n",
      "3\n"
     ]
    }
   ],
   "source": [
    "print(min([1, 2, 3]))     # попросим посчитать и вывести сумму чисел в списке\n",
    "print(min((3.5, 3, 4)))"
   ]
  },
  {
   "cell_type": "markdown",
   "id": "b0ea6b10-b271-4615-a8e1-ab771fd0b99d",
   "metadata": {
    "id": "Oj_PZyhgTDL7"
   },
   "source": [
    "### `max(<последовательность>)`  — максимальное"
   ]
  },
  {
   "cell_type": "code",
   "execution_count": 60,
   "id": "4c58aff9-23e2-4c17-84f1-93185f26afa4",
   "metadata": {
    "colab": {
     "base_uri": "https://localhost:8080/"
    },
    "id": "jHeBvTWaTjmQ",
    "outputId": "e39bc4b7-8820-4e6f-82d8-a897ea6b9da5"
   },
   "outputs": [
    {
     "name": "stdout",
     "output_type": "stream",
     "text": [
      "3\n",
      "4\n"
     ]
    }
   ],
   "source": [
    "print(max([1, 2, 3]))     # попросим посчитать и вывести сумму чисел в списке\n",
    "print(max((3.5, 3, 4)))"
   ]
  },
  {
   "cell_type": "code",
   "execution_count": 61,
   "id": "f1ef72c3-db1b-459d-9f2a-e9815c51d9db",
   "metadata": {
    "colab": {
     "base_uri": "https://localhost:8080/"
    },
    "id": "iCFlo3spT2aV",
    "outputId": "85e81b86-0c15-4fd1-b315-4822669e32e2"
   },
   "outputs": [
    {
     "name": "stdout",
     "output_type": "stream",
     "text": [
      "я\n"
     ]
    }
   ],
   "source": [
    "# работает и со строками\n",
    "s = 'abzя112358--0=-=-='\n",
    "print(max(s))"
   ]
  },
  {
   "cell_type": "markdown",
   "id": "256d2b4f-a94d-44cf-ae38-fea8d4c7fc2c",
   "metadata": {},
   "source": [
    "_\\* (это работает потому, что каждому символу в памяти компьютера соответствует какое-то число)_"
   ]
  },
  {
   "cell_type": "markdown",
   "id": "48c0b86e-c362-4de7-a1f0-6e5e40669965",
   "metadata": {
    "id": "E8w8b9PEVH6b"
   },
   "source": [
    "## `map(<имя_функции>, <последовательность>)` &mdash; применить функцию или метод ко всем элементам последовательности сразу (к каждому)"
   ]
  },
  {
   "cell_type": "markdown",
   "id": "9914e366-deb9-4c3d-bf05-ab1448f79dba",
   "metadata": {},
   "source": [
    "Как и `range` и `enumerate`, при печати сходу ничего полезного не даёт.\n",
    "\n",
    "Вот мы пробуем применить функцию вычисления длины `len` к строчкам из списка:"
   ]
  },
  {
   "cell_type": "code",
   "execution_count": 62,
   "id": "aa087aef-05aa-4974-8ad7-88f5b9e5a7e2",
   "metadata": {
    "colab": {
     "base_uri": "https://localhost:8080/"
    },
    "id": "vufAQzqxVnXe",
    "outputId": "cd143384-0478-47bf-acae-cd5f4a5babdd"
   },
   "outputs": [
    {
     "data": {
      "text/plain": [
       "<map at 0x1af2f1c45e0>"
      ]
     },
     "execution_count": 62,
     "metadata": {},
     "output_type": "execute_result"
    }
   ],
   "source": [
    "map(len, ['Привет', 'ТЕСТ', 'функции', 'map!'])"
   ]
  },
  {
   "cell_type": "markdown",
   "id": "aa8f6881-b1b7-45a0-b0ba-ca2878c472ad",
   "metadata": {},
   "source": [
    "Но при поглощении с `list` уже работает:"
   ]
  },
  {
   "cell_type": "code",
   "execution_count": 63,
   "id": "09fa13df-5506-4989-83dd-0421c99e1719",
   "metadata": {
    "colab": {
     "base_uri": "https://localhost:8080/"
    },
    "id": "ldyfXKEAVLP4",
    "outputId": "35eeb80f-ce17-4f08-e717-cadc252c6c17"
   },
   "outputs": [
    {
     "name": "stdout",
     "output_type": "stream",
     "text": [
      "[6, 4, 7, 4]\n"
     ]
    }
   ],
   "source": [
    "print(list(map(len, ['Привет', 'ТЕСТ', 'функции', 'map!'])))"
   ]
  },
  {
   "cell_type": "markdown",
   "id": "45e0a2fb-9037-4c2e-ad55-cad50542b94f",
   "metadata": {},
   "source": [
    "Обратите внимание, функция `len` записана без скобок!\n",
    "    Почему?\n",
    "    Потому что мы хотим просто указать имя нужной функции, а уже `map` сама будет применять указанную нами функцию к каждому элементу последовательности."
   ]
  },
  {
   "cell_type": "markdown",
   "id": "6f59d6f7-9675-49b1-9fd4-47117e0fc421",
   "metadata": {},
   "source": [
    "Вообще-то можно применять таким образом и методы (то, что пишется через точку, типа `.split()`).\n",
    "\n",
    "Но в этом случае нужно использовать полное имя метода.\n",
    "    Т.е. писать не `.split` (так нельзя), не `\"\".split` (не то что нужно и не пойдёт здесь), а полное имя.\n",
    "    Полные имена методов перед точкой содержат тот тип данных, чьи они методы, например `str.split`:"
   ]
  },
  {
   "cell_type": "code",
   "execution_count": 64,
   "id": "137fa812-ffdc-429d-850c-5081627a8f11",
   "metadata": {
    "colab": {
     "base_uri": "https://localhost:8080/"
    },
    "id": "siz6hvU2WVA2",
    "outputId": "354f863e-ce8a-4161-d357-e7d272ab35ca"
   },
   "outputs": [
    {
     "name": "stdout",
     "output_type": "stream",
     "text": [
      "[['Таня', 'Казакова'], ['Максим', 'Бажуков'], ['Олег', 'Сериков']]\n"
     ]
    }
   ],
   "source": [
    "print(list(map(str.split, ['Таня Казакова', 'Максим Бажуков', 'Олег Сериков'])))"
   ]
  },
  {
   "cell_type": "markdown",
   "id": "bd5e2c0d-b69d-472a-97fc-89d250555b72",
   "metadata": {},
   "source": [
    "Здесь мы попросили функцию `map` применить к каждой строчке из списка строковый метод `str.split` (собственно, то что он строковый, т.е. от `str` мы и указали, написав `str` перед точкой)"
   ]
  },
  {
   "cell_type": "markdown",
   "id": "f4d7bf0c-de06-432e-9f8e-e4c75f5fd625",
   "metadata": {},
   "source": [
    "Нельзя без `str`:"
   ]
  },
  {
   "cell_type": "code",
   "execution_count": 65,
   "id": "542a6e52-a0bd-4faa-bc29-266bfe14bf88",
   "metadata": {},
   "outputs": [
    {
     "ename": "SyntaxError",
     "evalue": "invalid syntax (3148066646.py, line 1)",
     "output_type": "error",
     "traceback": [
      "\u001b[1;36m  Cell \u001b[1;32mIn [65], line 1\u001b[1;36m\u001b[0m\n\u001b[1;33m    print(list(map(.split, ['Таня Казакова', 'Максим Бажуков', 'Олег Сериков'])))\u001b[0m\n\u001b[1;37m                   ^\u001b[0m\n\u001b[1;31mSyntaxError\u001b[0m\u001b[1;31m:\u001b[0m invalid syntax\n"
     ]
    }
   ],
   "source": [
    "print(list(map(.split, ['Таня Казакова', 'Максим Бажуков', 'Олег Сериков'])))"
   ]
  },
  {
   "cell_type": "markdown",
   "id": "4e019750-68b6-4620-9c30-008bf3c3e62d",
   "metadata": {},
   "source": [
    "Совсем не то если перед точкой кавычки с какой-то строчкой (например, пустой):"
   ]
  },
  {
   "cell_type": "code",
   "execution_count": 66,
   "id": "38397e94-3a95-4757-b845-5fc2b0922a25",
   "metadata": {},
   "outputs": [
    {
     "name": "stdout",
     "output_type": "stream",
     "text": [
      "[[''], [''], ['']]\n"
     ]
    }
   ],
   "source": [
    "print(list(map(\"\".split, ['Таня Казакова', 'Максим Бажуков', 'Олег Сериков'])))"
   ]
  }
 ],
 "metadata": {
  "kernelspec": {
   "display_name": "Python 3 (ipykernel)",
   "language": "python",
   "name": "python3"
  },
  "language_info": {
   "codemirror_mode": {
    "name": "ipython",
    "version": 3
   },
   "file_extension": ".py",
   "mimetype": "text/x-python",
   "name": "python",
   "nbconvert_exporter": "python",
   "pygments_lexer": "ipython3",
   "version": "3.11.3"
  }
 },
 "nbformat": 4,
 "nbformat_minor": 5
}
