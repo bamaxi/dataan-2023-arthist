{
 "cells": [
  {
   "cell_type": "markdown",
   "id": "54980e21-2bfa-4b51-8bec-1867f0ebf6c4",
   "metadata": {
    "id": "fe4aa52a"
   },
   "source": [
    "# Списки, кортежи. Цикл for"
   ]
  },
  {
   "cell_type": "markdown",
   "id": "eafdb10f-1615-4ddc-b91e-acbca37e2b84",
   "metadata": {
    "id": "aec3aa23"
   },
   "source": [
    "Мы уже знаем про:\n",
    "- типы данных `int`, `float`, `str`, `bool`\n",
    "- математические операторы: `+`, `-`, `/`, `*`, `**` (в степень), `%` (остаток от деления), `//` (целая часть при делении)\n",
    "- `print()` — напечатать\n",
    "- `type()` — узнать тип данных\n",
    "- `input()` — принять значение от пользователя\n",
    "- `int()` — преобразовать в целочисленный формат\n",
    "- `float()` — преобразовать в формат дробного числа\n",
    "- `str()` — преобразовать в строку\n",
    "- `bool()` — преобразовать в bool (True/False)\n",
    "- условия:\n",
    "\n",
    "```\n",
    "if <условие>:\n",
    "    <инструкции, для случая если условие истинно (True)>\n",
    "(\n",
    "#elif <условие №2>:\n",
    "    #<инструкции, для случая если условие №2 истинно (True)>\n",
    "else:\n",
    "    <инструкции, когда все условия не выполнились (False)>\n",
    ")\n",
    "```\n",
    "- операторы сравнения: `>`, `<`, `>=`, `<=`, `==` (равно), `!=` (не равно)\n",
    "- логические операторы: `and`, `or`, `not`\n",
    "- цикл `while`:\n",
    "\n",
    "```\n",
    "while <условие>:\n",
    "    <инструкции, которые будут выполняться по кругу, пока условие выполняется True>\n",
    "```"
   ]
  },
  {
   "cell_type": "markdown",
   "id": "a983bec8-db6c-4427-b028-eeaef39682c4",
   "metadata": {
    "id": "077c0bb1"
   },
   "source": [
    "В этот раз узнаем про:\n",
    "- списки (list) - `[]`\n",
    "- кортежи (tuple) - `()`\n",
    "- `.split()` - метод, делящий строку на части по сочетанию символов, указанных в скрбках\n",
    "- `list()` - преобразовать в список\n",
    "- `tuple()` - преобразовать в кортеж\n",
    "- `len()` - узнать длину\n",
    "- цикл `for`:\n",
    "\n",
    "```\n",
    "for <element> in <elements>:\n",
    "       <инструкции, которые будут выполняться для каждого элемента>\n",
    "```\n",
    "\n",
    "- `range()`\n",
    "- `enumerate()`"
   ]
  },
  {
   "cell_type": "markdown",
   "id": "5f1792ab-ff5f-4aaf-92c8-2d6e015f3645",
   "metadata": {
    "id": "ccd54bdb"
   },
   "source": [
    "# Список\n",
    "Список (list) - упорядоченная изменяемая коллекция элементов различных типов.\n",
    "\n",
    "списки почти не ограничены по длине (не больше 500 миллионов элементов)"
   ]
  },
  {
   "cell_type": "markdown",
   "id": "3e318e25-bd65-46ac-9adb-d3e17cfba740",
   "metadata": {
    "id": "1dd5ddfe"
   },
   "source": [
    "## Создание списков"
   ]
  },
  {
   "cell_type": "code",
   "execution_count": 9,
   "id": "e541ee1d-f174-4e56-80df-1a563944943e",
   "metadata": {
    "id": "fad92805"
   },
   "outputs": [],
   "source": [
    "some_food = ['сайки', 'коржики', 'коврижки', 'апельсины',\n",
    "             'мандарины', 'малина из корзины',\n",
    "             'на палочках петушки', 'с повидлом пирожки']  # список строк\n",
    "# Про красоту кода: по PEP-8 длина строки не больше 79 символов\n",
    "# Перенос строки список не меняет"
   ]
  },
  {
   "cell_type": "markdown",
   "id": "b0bd2a3e-a830-465c-a949-3ef94adaea86",
   "metadata": {
    "id": "6a7fe463"
   },
   "source": [
    "Общий вид:\n",
    "в квадратных скобках элементы через запятую"
   ]
  },
  {
   "cell_type": "code",
   "execution_count": 66,
   "id": "f7b27fab-6997-49dc-a1ae-873de649ceab",
   "metadata": {
    "colab": {
     "base_uri": "https://localhost:8080/"
    },
    "id": "8ba02bca",
    "outputId": "50f322fe-0176-4710-dba7-3156a1fa515e"
   },
   "outputs": [
    {
     "data": {
      "text/plain": [
       "['сайки',\n",
       " 'коржики',\n",
       " 'коврижки',\n",
       " 'апельсины',\n",
       " 'мандарины',\n",
       " 'малина из корзины',\n",
       " 'на палочках петушки',\n",
       " 'с повидлом пирожки']"
      ]
     },
     "execution_count": 66,
     "metadata": {},
     "output_type": "execute_result"
    }
   ],
   "source": [
    "some_food"
   ]
  },
  {
   "cell_type": "code",
   "execution_count": 3,
   "id": "6848cd9e-e10a-46a3-ba0e-91e4fd40ad2f",
   "metadata": {
    "id": "e818914b"
   },
   "outputs": [
    {
     "data": {
      "text/plain": [
       "list"
      ]
     },
     "execution_count": 3,
     "metadata": {},
     "output_type": "execute_result"
    }
   ],
   "source": [
    "type(some_food)"
   ]
  },
  {
   "cell_type": "code",
   "execution_count": 4,
   "id": "1409999a-1b45-4585-868a-0ab9e6d7a3fc",
   "metadata": {
    "id": "31f10e92"
   },
   "outputs": [],
   "source": [
    "empty_list = []  # а так создают пустой список\n",
    "\n",
    "fibo_digits = [0, 1, 1, 2, 3, 5, 8, 13, 21, 34, 55, 89]  # список чисел Фибоначчи\n",
    "mixed_list = ['год', 2023, True]  # в одном списке могут храниться элементы разных типов\n",
    "matrix = [\n",
    "    [1, 2, 3],\n",
    "    [4, 5, 6],\n",
    "    [7, 8, 9]\n",
    "]  # список может содержать другие списки"
   ]
  },
  {
   "cell_type": "code",
   "execution_count": 67,
   "id": "709f9c52-2ee6-4b1f-8f2a-c915caba4f7e",
   "metadata": {},
   "outputs": [
    {
     "name": "stdin",
     "output_type": "stream",
     "text": [
      " 4515151\n"
     ]
    },
    {
     "name": "stdout",
     "output_type": "stream",
     "text": [
      "4515151\n"
     ]
    }
   ],
   "source": [
    "num = int(input())\n",
    "\n",
    "print(num)"
   ]
  },
  {
   "cell_type": "code",
   "execution_count": 68,
   "id": "2ac2234d-221f-402d-9eb8-0a9fdb491179",
   "metadata": {},
   "outputs": [
    {
     "data": {
      "text/plain": [
       "4"
      ]
     },
     "execution_count": 68,
     "metadata": {},
     "output_type": "execute_result"
    }
   ],
   "source": [
    "int(4.5151)"
   ]
  },
  {
   "cell_type": "markdown",
   "id": "d5295c34-28ff-4b79-afc9-acf09f3387ad",
   "metadata": {
    "id": "ae19b0bd"
   },
   "source": [
    "### list()\n",
    "`list()` - функция для преобразования в список"
   ]
  },
  {
   "cell_type": "code",
   "execution_count": 5,
   "id": "4996a145-3a54-4338-aacf-930361b4add7",
   "metadata": {
    "id": "29c051d1",
    "outputId": "41831970-e391-43f7-b8d1-2a58529eb18f"
   },
   "outputs": [
    {
     "data": {
      "text/plain": [
       "['п', 'р', 'и', 'в', 'е', 'т']"
      ]
     },
     "execution_count": 5,
     "metadata": {},
     "output_type": "execute_result"
    }
   ],
   "source": [
    "list('привет')\n",
    "# Сама по себе строка является упорядоченной коллекцией символов."
   ]
  },
  {
   "cell_type": "code",
   "execution_count": 13,
   "id": "52dd6ba3-112c-45a4-807c-8607ff9a294c",
   "metadata": {},
   "outputs": [
    {
     "ename": "TypeError",
     "evalue": "'int' object is not iterable",
     "output_type": "error",
     "traceback": [
      "\u001b[1;31m---------------------------------------------------------------------------\u001b[0m",
      "\u001b[1;31mTypeError\u001b[0m                                 Traceback (most recent call last)",
      "Cell \u001b[1;32mIn[13], line 1\u001b[0m\n\u001b[1;32m----> 1\u001b[0m \u001b[38;5;28;43mlist\u001b[39;49m\u001b[43m(\u001b[49m\u001b[38;5;241;43m5\u001b[39;49m\u001b[43m)\u001b[49m\n",
      "\u001b[1;31mTypeError\u001b[0m: 'int' object is not iterable"
     ]
    }
   ],
   "source": [
    "list(5)"
   ]
  },
  {
   "cell_type": "code",
   "execution_count": 15,
   "id": "6d8c6e97-cb1c-4d96-be96-ea614259b55e",
   "metadata": {},
   "outputs": [
    {
     "ename": "TypeError",
     "evalue": "'int' object is not iterable",
     "output_type": "error",
     "traceback": [
      "\u001b[1;31m---------------------------------------------------------------------------\u001b[0m",
      "\u001b[1;31mTypeError\u001b[0m                                 Traceback (most recent call last)",
      "Cell \u001b[1;32mIn[15], line 1\u001b[0m\n\u001b[1;32m----> 1\u001b[0m \u001b[38;5;28;43mlist\u001b[39;49m\u001b[43m(\u001b[49m\u001b[38;5;241;43m5551515\u001b[39;49m\u001b[43m)\u001b[49m\n",
      "\u001b[1;31mTypeError\u001b[0m: 'int' object is not iterable"
     ]
    }
   ],
   "source": [
    "list(5551515)"
   ]
  },
  {
   "cell_type": "code",
   "execution_count": 16,
   "id": "0b1a1880-e530-470d-ae80-b2d49dcb772f",
   "metadata": {},
   "outputs": [
    {
     "ename": "TypeError",
     "evalue": "'float' object is not iterable",
     "output_type": "error",
     "traceback": [
      "\u001b[1;31m---------------------------------------------------------------------------\u001b[0m",
      "\u001b[1;31mTypeError\u001b[0m                                 Traceback (most recent call last)",
      "Cell \u001b[1;32mIn[16], line 1\u001b[0m\n\u001b[1;32m----> 1\u001b[0m \u001b[38;5;28;43mlist\u001b[39;49m\u001b[43m(\u001b[49m\u001b[38;5;241;43m51.55151\u001b[39;49m\u001b[43m)\u001b[49m\n",
      "\u001b[1;31mTypeError\u001b[0m: 'float' object is not iterable"
     ]
    }
   ],
   "source": [
    "list(51.55151)"
   ]
  },
  {
   "cell_type": "code",
   "execution_count": 6,
   "id": "f7e1fdcf-90e1-4283-970e-cafaa447a27d",
   "metadata": {
    "id": "31ef4cdd",
    "outputId": "7fa1a38f-0fec-4169-85d8-0a9cb0b624c1"
   },
   "outputs": [
    {
     "ename": "TypeError",
     "evalue": "'bool' object is not iterable",
     "output_type": "error",
     "traceback": [
      "\u001b[0;31m---------------------------------------------------------------------------\u001b[0m",
      "\u001b[0;31mTypeError\u001b[0m                                 Traceback (most recent call last)",
      "Input \u001b[0;32mIn [6]\u001b[0m, in \u001b[0;36m<cell line: 1>\u001b[0;34m()\u001b[0m\n\u001b[0;32m----> 1\u001b[0m \u001b[38;5;28;43mlist\u001b[39;49m\u001b[43m(\u001b[49m\u001b[38;5;28;43;01mTrue\u001b[39;49;00m\u001b[43m)\u001b[49m\n",
      "\u001b[0;31mTypeError\u001b[0m: 'bool' object is not iterable"
     ]
    }
   ],
   "source": [
    "list(True)"
   ]
  },
  {
   "cell_type": "code",
   "execution_count": 17,
   "id": "fc268d96-68de-4c5e-bb9a-eeaa0d3c4f94",
   "metadata": {},
   "outputs": [
    {
     "data": {
      "text/plain": [
       "['5', '1', '5', '1', '5', '1']"
      ]
     },
     "execution_count": 17,
     "metadata": {},
     "output_type": "execute_result"
    }
   ],
   "source": [
    "list(str(515151))"
   ]
  },
  {
   "cell_type": "markdown",
   "id": "3915c738-61e0-4b64-abef-a7bd98d0c5a5",
   "metadata": {
    "id": "1d55ff3b"
   },
   "source": [
    "`list()` применяется к объектам, которые iterable (=итерируемы), т.е. которые способны возвращать элементы по одному, которые являются собранием чего-то."
   ]
  },
  {
   "cell_type": "code",
   "execution_count": 18,
   "id": "7e04256a-3f94-46ec-9ee3-3631e2aec7d0",
   "metadata": {
    "id": "9dc06c1e"
   },
   "outputs": [],
   "source": [
    "# Можно создать пустой список и так:\n",
    "\n",
    "empty_list2 = list()  # аналогично empty_list = []"
   ]
  },
  {
   "cell_type": "code",
   "execution_count": 19,
   "id": "952bc07e-3425-4f5d-b4c9-f5a8bd6eeeb7",
   "metadata": {},
   "outputs": [
    {
     "data": {
      "text/plain": [
       "[]"
      ]
     },
     "execution_count": 19,
     "metadata": {},
     "output_type": "execute_result"
    }
   ],
   "source": [
    "empty_list2"
   ]
  },
  {
   "cell_type": "markdown",
   "id": "9711ba30-8d2f-43eb-948a-63afb31acf9e",
   "metadata": {
    "id": "f269eefa"
   },
   "source": [
    "### .split()\n",
    "`.split()` - метод, который применяется к строкам. Делит их на части."
   ]
  },
  {
   "cell_type": "code",
   "execution_count": 70,
   "id": "ca091a38-0ce0-41e9-a025-e482902d8d66",
   "metadata": {
    "id": "f13f2c59",
    "outputId": "696d2dfb-34c4-44e0-abdf-5b84e4f08700"
   },
   "outputs": [
    {
     "name": "stdout",
     "output_type": "stream",
     "text": [
      "['сахар', 'яйца', 'мука', 'масло', 'яблоки', 'корица']\n"
     ]
    }
   ],
   "source": [
    "mom_asked = 'сахар яйца мука масло яблоки корица'\n",
    "\n",
    "# Как из этого сделать список?\n",
    "# Что будет, если сделать list(mom_asked)?\n",
    "# Вот так - хорошо\n",
    "\n",
    "product_list = mom_asked.split()\n",
    "print(product_list)"
   ]
  },
  {
   "cell_type": "code",
   "execution_count": 71,
   "id": "52e78c14-5f9d-4d5c-ad81-1238234ea262",
   "metadata": {},
   "outputs": [
    {
     "data": {
      "text/plain": [
       "'сахар яйца мука масло яблоки корица'"
      ]
     },
     "execution_count": 71,
     "metadata": {},
     "output_type": "execute_result"
    }
   ],
   "source": [
    "mom_asked"
   ]
  },
  {
   "cell_type": "code",
   "execution_count": 24,
   "id": "dfd2d91e-6988-4728-bafd-ffbf98c64752",
   "metadata": {},
   "outputs": [
    {
     "name": "stdout",
     "output_type": "stream",
     "text": [
      "['с', 'а', 'х', 'а', 'р', ' ', 'я', 'й', 'ц', 'а', ' ', 'м', 'у', 'к', 'а', ' ', 'м', 'а', 'с', 'л', 'о', ' ', 'я', 'б', 'л', 'о', 'к', 'и', ' ', 'к', 'о', 'р', 'и', 'ц', 'а']\n"
     ]
    }
   ],
   "source": [
    "print(list(mom_asked))"
   ]
  },
  {
   "cell_type": "code",
   "execution_count": 72,
   "id": "a3be9d6a-71ec-4659-adaa-3545c6dbb4d4",
   "metadata": {},
   "outputs": [
    {
     "data": {
      "text/plain": [
       "35"
      ]
     },
     "execution_count": 72,
     "metadata": {},
     "output_type": "execute_result"
    }
   ],
   "source": [
    "len(mom_asked)"
   ]
  },
  {
   "cell_type": "code",
   "execution_count": 73,
   "id": "cdb75a20-7427-4006-944b-5a43e39b6d76",
   "metadata": {},
   "outputs": [
    {
     "data": {
      "text/plain": [
       "35"
      ]
     },
     "execution_count": 73,
     "metadata": {},
     "output_type": "execute_result"
    }
   ],
   "source": [
    "len(list(mom_asked))"
   ]
  },
  {
   "cell_type": "code",
   "execution_count": 10,
   "id": "f0e040fc-cad3-4841-8665-91e511d43be9",
   "metadata": {
    "id": "db6cafc0",
    "outputId": "d810e2d1-9314-4ede-bcad-8d0eaad2e71f"
   },
   "outputs": [
    {
     "name": "stdout",
     "output_type": "stream",
     "text": [
      "['сахар,', 'яйца,', 'мука,', 'масло,', 'яблоки,', 'корица']\n"
     ]
    }
   ],
   "source": [
    "# А если\n",
    "mom_asked = 'сахар, яйца, мука, масло, яблоки, корица'\n",
    "\n",
    "product_list = mom_asked.split()\n",
    "print(product_list)"
   ]
  },
  {
   "cell_type": "code",
   "execution_count": 74,
   "id": "46872e40-8c05-4047-a140-4645ed33114b",
   "metadata": {
    "id": "db6cafc0",
    "outputId": "d810e2d1-9314-4ede-bcad-8d0eaad2e71f"
   },
   "outputs": [
    {
     "name": "stdout",
     "output_type": "stream",
     "text": [
      "['сахар', 'яйца', 'мука', 'масло', 'яблоки', 'корица']\n"
     ]
    }
   ],
   "source": [
    "# А если\n",
    "mom_asked = 'сахар, яйца, мука, масло, яблоки, корица'\n",
    "\n",
    "product_list = mom_asked.split(\", \")\n",
    "print(product_list)"
   ]
  },
  {
   "cell_type": "markdown",
   "id": "1d6fd1b5-a811-40ec-91b0-490f4046cfb0",
   "metadata": {
    "id": "180a42a4"
   },
   "source": [
    "По умолчанию `.split()` делит по пробелоподобным символам. Но можно указать разделитель (наш знакомый sep)."
   ]
  },
  {
   "cell_type": "code",
   "execution_count": 75,
   "id": "110dd4ca-500c-4317-960a-4c68871b9fd9",
   "metadata": {
    "id": "2313bfee",
    "outputId": "4ed5e531-e83b-40b4-a466-652b5a7279e9"
   },
   "outputs": [
    {
     "name": "stdout",
     "output_type": "stream",
     "text": [
      "строчка хихи с хихи необычными хихи разделителями\n"
     ]
    }
   ],
   "source": [
    "# воспоминание про sep\n",
    "print('строчка', 'с', 'необычными', 'разделителями', sep=' хихи ')"
   ]
  },
  {
   "cell_type": "markdown",
   "id": "c353a173-2e90-4ba6-a5d5-b5cf9343e815",
   "metadata": {},
   "source": [
    "*Что делать, если забыли, какие аргументы есть у функции?*"
   ]
  },
  {
   "cell_type": "code",
   "execution_count": 12,
   "id": "53fb4094-4582-4b06-ae43-e9501530d485",
   "metadata": {
    "colab": {
     "base_uri": "https://localhost:8080/"
    },
    "id": "pCvGETyO_rqo",
    "outputId": "b84074d2-7b48-4e12-9fe7-50066351c776"
   },
   "outputs": [
    {
     "name": "stdout",
     "output_type": "stream",
     "text": [
      "Help on built-in function print in module builtins:\n",
      "\n",
      "print(...)\n",
      "    print(value, ..., sep=' ', end='\\n', file=sys.stdout, flush=False)\n",
      "    \n",
      "    Prints the values to a stream, or to sys.stdout by default.\n",
      "    Optional keyword arguments:\n",
      "    file:  a file-like object (stream); defaults to the current sys.stdout.\n",
      "    sep:   string inserted between values, default a space.\n",
      "    end:   string appended after the last value, default a newline.\n",
      "    flush: whether to forcibly flush the stream.\n",
      "\n"
     ]
    }
   ],
   "source": [
    "help(print)"
   ]
  },
  {
   "cell_type": "code",
   "execution_count": 1,
   "id": "f4b2475a-4601-4578-9919-1df13051c5b5",
   "metadata": {
    "id": "39AGyPTS_sXE"
   },
   "outputs": [
    {
     "data": {
      "text/plain": [
       "\u001b[1;31mSignature:\u001b[0m \u001b[0mprint\u001b[0m\u001b[1;33m(\u001b[0m\u001b[1;33m*\u001b[0m\u001b[0margs\u001b[0m\u001b[1;33m,\u001b[0m \u001b[0msep\u001b[0m\u001b[1;33m=\u001b[0m\u001b[1;34m' '\u001b[0m\u001b[1;33m,\u001b[0m \u001b[0mend\u001b[0m\u001b[1;33m=\u001b[0m\u001b[1;34m'\\n'\u001b[0m\u001b[1;33m,\u001b[0m \u001b[0mfile\u001b[0m\u001b[1;33m=\u001b[0m\u001b[1;32mNone\u001b[0m\u001b[1;33m,\u001b[0m \u001b[0mflush\u001b[0m\u001b[1;33m=\u001b[0m\u001b[1;32mFalse\u001b[0m\u001b[1;33m)\u001b[0m\u001b[1;33m\u001b[0m\u001b[1;33m\u001b[0m\u001b[0m\n",
       "\u001b[1;31mDocstring:\u001b[0m\n",
       "Prints the values to a stream, or to sys.stdout by default.\n",
       "\n",
       "sep\n",
       "  string inserted between values, default a space.\n",
       "end\n",
       "  string appended after the last value, default a newline.\n",
       "file\n",
       "  a file-like object (stream); defaults to the current sys.stdout.\n",
       "flush\n",
       "  whether to forcibly flush the stream.\n",
       "\u001b[1;31mType:\u001b[0m      builtin_function_or_method"
      ]
     },
     "metadata": {},
     "output_type": "display_data"
    }
   ],
   "source": [
    "?print"
   ]
  },
  {
   "cell_type": "markdown",
   "id": "651bb925-2183-474e-941d-ac957859af55",
   "metadata": {},
   "source": [
    "*Обратно к `.split()`.*"
   ]
  },
  {
   "cell_type": "code",
   "execution_count": 81,
   "id": "2175061c-3ac6-4e23-8693-3e17736a8215",
   "metadata": {
    "id": "5741eb53",
    "outputId": "44318a10-20cc-455b-b713-127c9fa032e5"
   },
   "outputs": [
    {
     "name": "stdout",
     "output_type": "stream",
     "text": [
      "['сахар', 'яйца', 'мука', 'масло', 'яблоки', 'корица']\n"
     ]
    }
   ],
   "source": [
    "mom_asked = 'сахар, яйца, мука, масло, яблоки, корица'\n",
    "\n",
    "product_list = mom_asked.split(', ')  # mom_asked.split(sep=', ')\n",
    "print(product_list)\n",
    "\n",
    "# mom_asked не меняется при этом, там всё ещё строка. Проверьте."
   ]
  },
  {
   "cell_type": "code",
   "execution_count": 82,
   "id": "ad45e9e2-83b9-4e05-a37d-b48e50fd7301",
   "metadata": {},
   "outputs": [
    {
     "data": {
      "text/plain": [
       "'сахар, яйца, мука, масло, яблоки, корица'"
      ]
     },
     "execution_count": 82,
     "metadata": {},
     "output_type": "execute_result"
    }
   ],
   "source": [
    "mom_asked.split(', ')\n",
    "mom_asked"
   ]
  },
  {
   "cell_type": "markdown",
   "id": "8ebd4cca-078c-4824-a43d-1b022f73dfae",
   "metadata": {
    "id": "dc9d5864"
   },
   "source": [
    "Общий вид:\n",
    "\n",
    "`<то, к чему применяется>.split(аргументы)`\n",
    "\n",
    "Сравните с функциями: `print(аргументы, в т.ч. <то, к чему применяется>)`\n",
    "\n",
    "Теперь мы знаем, что у `.split()` есть аргумент `sep` для указания, по какому сочетанию символов делить строку. По умолчанию делит по пробелоподобным символам.\n",
    "\n",
    "Этот метод отдаёт список из строки."
   ]
  },
  {
   "cell_type": "code",
   "execution_count": 16,
   "id": "1508950f-a5e6-4a1a-899e-9a187e4eeb2e",
   "metadata": {
    "id": "b51c70c0",
    "outputId": "16a02806-6c0d-426e-864f-5fc1b8bf6a6e"
   },
   "outputs": [
    {
     "name": "stdout",
     "output_type": "stream",
     "text": [
      "какой-то\n",
      "неаккуратно\tнаписанный текст\n",
      "['какой-то', 'неаккуратно', 'написанный', 'текст']\n"
     ]
    }
   ],
   "source": [
    "# Почему \"пробелоподобным\"?\n",
    "some_text = 'какой-то\\nнеаккуратно\\tнаписанный текст'  # \\n - новый абзац, \\t - табуляция\n",
    "print(some_text)\n",
    "print(some_text.split())"
   ]
  },
  {
   "cell_type": "markdown",
   "id": "42988f34-4a61-4a53-8812-f3cf93859cf7",
   "metadata": {
    "id": "230d8ed3"
   },
   "source": [
    "### Тренировка\n",
    "Поделите `text` на предложения"
   ]
  },
  {
   "cell_type": "code",
   "execution_count": 37,
   "id": "97e71d89-f000-4d23-8f9f-2995cfd435e2",
   "metadata": {
    "colab": {
     "base_uri": "https://localhost:8080/"
    },
    "id": "2d11f987",
    "outputId": "fba0ae3f-0a5e-4086-d260-edf1584a316c"
   },
   "outputs": [
    {
     "data": {
      "text/plain": [
       "['Иван Топорышкин пошел на охоту, с ним пудель пошел, перепрыгнув забор, Иван, как бревно провалился в болото, а пудель в реке утонул, как топор',\n",
       " 'Иван Топорышкин пошел на охоту, с ним пудель вприпрыжку пошел, как топор',\n",
       " 'Иван повалился бревном на болото, а пудель в реке перепрыгнул забор',\n",
       " 'Иван Топорышкин пошел на охоту, с ним пудель в реке провалился в забор',\n",
       " 'Иван как бревно перепрыгнул болото, а пудель вприпрыжку попал на топор.']"
      ]
     },
     "execution_count": 37,
     "metadata": {},
     "output_type": "execute_result"
    }
   ],
   "source": [
    "text = 'Иван Топорышкин пошел на охоту, с ним пудель пошел, перепрыгнув забор, Иван, как бревно провалился в болото, а пудель в реке утонул, как топор. Иван Топорышкин пошел на охоту, с ним пудель вприпрыжку пошел, как топор. Иван повалился бревном на болото, а пудель в реке перепрыгнул забор. Иван Топорышкин пошел на охоту, с ним пудель в реке провалился в забор. Иван как бревно перепрыгнул болото, а пудель вприпрыжку попал на топор.'\n",
    "\n",
    "# ваш код\n",
    "text.split(\". \")"
   ]
  },
  {
   "cell_type": "code",
   "execution_count": 83,
   "id": "4c49e8aa-cb2a-484a-8d47-86d51d00e349",
   "metadata": {},
   "outputs": [
    {
     "data": {
      "text/plain": [
       "['Когда он пришёл? - Вчера..', 'Я не знал', 'Он неожиданно пришёл.']"
      ]
     },
     "execution_count": 83,
     "metadata": {},
     "output_type": "execute_result"
    }
   ],
   "source": [
    "\"Когда он пришёл? - Вчера... Я не знал. Он неожиданно пришёл.\".split(\". \")"
   ]
  },
  {
   "cell_type": "code",
   "execution_count": 38,
   "id": "eb8306bb-8d51-4d84-91fa-37a1a8bae426",
   "metadata": {},
   "outputs": [
    {
     "data": {
      "text/plain": [
       "['А', 'С', 'Пушкин заходит в бар', 'Там его рады видеть']"
      ]
     },
     "execution_count": 38,
     "metadata": {},
     "output_type": "execute_result"
    }
   ],
   "source": [
    "sent = \"А. С. Пушкин заходит в бар. Там его рады видеть\"\n",
    "sent.split(\". \")"
   ]
  },
  {
   "cell_type": "markdown",
   "id": "92ad13c7-2e3f-48ec-aadc-823f1b52cc52",
   "metadata": {
    "id": "2ac684cc"
   },
   "source": [
    "Комментарий: через несколько недель мы покажем хороший способ делить на предложения"
   ]
  },
  {
   "cell_type": "markdown",
   "id": "dfaeb215-2961-4cab-9af7-97f50e903be8",
   "metadata": {
    "id": "b6366f30"
   },
   "source": [
    "## Индексы\n",
    "В упорядоченных коллекциях элементы пронумерованы.\n",
    "\n",
    "**нумерация с нуля!**"
   ]
  },
  {
   "cell_type": "code",
   "execution_count": 85,
   "id": "29532508-cccf-4fcf-966a-8a9fed5d43dc",
   "metadata": {
    "id": "90207adb",
    "outputId": "1f7a5a9d-5ddb-4038-fe6d-736c5823629c"
   },
   "outputs": [
    {
     "name": "stdout",
     "output_type": "stream",
     "text": [
      "с\n"
     ]
    }
   ],
   "source": [
    "word = 'австралопитек'\n",
    "\n",
    "# Какая 3я буква?\n",
    "print(word[2])\n",
    "\n",
    "# а - нулевая буква\n",
    "# Как вывести \"с\"? word[3-1]"
   ]
  },
  {
   "cell_type": "code",
   "execution_count": 43,
   "id": "2de993fd-6741-483b-8267-6c36ae6e5dc7",
   "metadata": {},
   "outputs": [
    {
     "name": "stdout",
     "output_type": "stream",
     "text": [
      "а\n"
     ]
    }
   ],
   "source": [
    "print(word[0])"
   ]
  },
  {
   "cell_type": "code",
   "execution_count": 86,
   "id": "1e846441-47c4-4929-8c65-93738d9a4ca0",
   "metadata": {},
   "outputs": [
    {
     "data": {
      "text/plain": [
       "13"
      ]
     },
     "execution_count": 86,
     "metadata": {},
     "output_type": "execute_result"
    }
   ],
   "source": [
    "len(word)"
   ]
  },
  {
   "cell_type": "code",
   "execution_count": 87,
   "id": "e608d756-5b9a-4362-ab30-59fb3f6eff24",
   "metadata": {},
   "outputs": [
    {
     "data": {
      "text/plain": [
       "'к'"
      ]
     },
     "execution_count": 87,
     "metadata": {},
     "output_type": "execute_result"
    }
   ],
   "source": [
    "word[12]"
   ]
  },
  {
   "cell_type": "code",
   "execution_count": 88,
   "id": "993411a2-ac98-467c-985c-fcdb2e3c480e",
   "metadata": {},
   "outputs": [
    {
     "ename": "IndexError",
     "evalue": "string index out of range",
     "output_type": "error",
     "traceback": [
      "\u001b[1;31m---------------------------------------------------------------------------\u001b[0m",
      "\u001b[1;31mIndexError\u001b[0m                                Traceback (most recent call last)",
      "Cell \u001b[1;32mIn[88], line 1\u001b[0m\n\u001b[1;32m----> 1\u001b[0m \u001b[43mword\u001b[49m\u001b[43m[\u001b[49m\u001b[38;5;241;43m13\u001b[39;49m\u001b[43m]\u001b[49m\n",
      "\u001b[1;31mIndexError\u001b[0m: string index out of range"
     ]
    }
   ],
   "source": [
    "word[13]"
   ]
  },
  {
   "cell_type": "code",
   "execution_count": 42,
   "id": "ef09e77a-74e5-4f4f-8ca9-2c9bc5d747b7",
   "metadata": {
    "id": "2e65f745",
    "outputId": "12fb362d-e239-44b0-9b0d-a2e778d2300a"
   },
   "outputs": [
    {
     "name": "stdout",
     "output_type": "stream",
     "text": [
      "к\n"
     ]
    }
   ],
   "source": [
    "# Какая последняя буква?\n",
    "print(word[-1])  # отрицательная индексация"
   ]
  },
  {
   "cell_type": "code",
   "execution_count": 91,
   "id": "b7c9c26d-9d92-4c39-9403-69c680b3e3c1",
   "metadata": {},
   "outputs": [
    {
     "name": "stdout",
     "output_type": "stream",
     "text": [
      "к\n",
      "к\n",
      "к\n"
     ]
    }
   ],
   "source": [
    "print(word[len(word)-1]) # word[-1]\n",
    "print(word[12])\n",
    "print(word[-1])"
   ]
  },
  {
   "cell_type": "code",
   "execution_count": 44,
   "id": "d8c19f4e-b992-4f04-90ad-bc33447f5bd7",
   "metadata": {},
   "outputs": [
    {
     "name": "stdout",
     "output_type": "stream",
     "text": [
      "т\n"
     ]
    }
   ],
   "source": [
    "print(word[-3])"
   ]
  },
  {
   "cell_type": "code",
   "execution_count": 93,
   "id": "a4b9565d-4d88-4613-a00e-8684c0ee352f",
   "metadata": {
    "id": "253f1072",
    "outputId": "91adfef7-40a3-458d-c38c-f33dfd256fa9"
   },
   "outputs": [
    {
     "name": "stdout",
     "output_type": "stream",
     "text": [
      "австралопитек\n",
      "стра\n"
     ]
    }
   ],
   "source": [
    "print(word)\n",
    "print(word[2:6:1])"
   ]
  },
  {
   "cell_type": "code",
   "execution_count": 23,
   "id": "4ce27704-a6b8-403c-8ddf-394796e5da7d",
   "metadata": {
    "id": "b443cbea",
    "outputId": "310d890c-480c-4932-da6c-3f2dd261fb7a"
   },
   "outputs": [
    {
     "name": "stdout",
     "output_type": "stream",
     "text": [
      "австра\n"
     ]
    }
   ],
   "source": [
    "print(word[:6])"
   ]
  },
  {
   "cell_type": "code",
   "execution_count": 24,
   "id": "4d4a3cfb-bc8c-4e94-885e-f317fa1fe7e3",
   "metadata": {
    "id": "a62db9f5",
    "outputId": "12c837d7-5da4-4a27-f539-65401b717ca4"
   },
   "outputs": [
    {
     "name": "stdout",
     "output_type": "stream",
     "text": [
      "питек\n"
     ]
    }
   ],
   "source": [
    "print(word[8:])"
   ]
  },
  {
   "cell_type": "code",
   "execution_count": 98,
   "id": "5e130c02-de29-4a88-9f11-32b2dd2299e1",
   "metadata": {},
   "outputs": [
    {
     "name": "stdout",
     "output_type": "stream",
     "text": [
      "тек\n"
     ]
    }
   ],
   "source": [
    "# хочу \"тек\"\n",
    "print(word[-3:])"
   ]
  },
  {
   "cell_type": "code",
   "execution_count": 45,
   "id": "e1cd54cc-8dc7-4647-ac92-9a6bcdc0d3f0",
   "metadata": {},
   "outputs": [
    {
     "name": "stdout",
     "output_type": "stream",
     "text": [
      "тек\n"
     ]
    }
   ],
   "source": [
    "# хочу \"тек\"\n",
    "\n",
    "print(word[-3:])"
   ]
  },
  {
   "cell_type": "code",
   "execution_count": 46,
   "id": "96619836-c46b-4d0c-8896-0514001e3e08",
   "metadata": {},
   "outputs": [
    {
     "name": "stdout",
     "output_type": "stream",
     "text": [
      "австралопи\n"
     ]
    }
   ],
   "source": [
    "# хочу всё до \"тек\"\n",
    "print(word[:-3])"
   ]
  },
  {
   "cell_type": "code",
   "execution_count": 47,
   "id": "838ab2ba-d972-4735-ac1f-d2ada72ff248",
   "metadata": {},
   "outputs": [
    {
     "data": {
      "text/plain": [
       "13"
      ]
     },
     "execution_count": 47,
     "metadata": {},
     "output_type": "execute_result"
    }
   ],
   "source": [
    "len(word)"
   ]
  },
  {
   "cell_type": "code",
   "execution_count": 49,
   "id": "0d6836ed-9c60-49fc-9a70-a7f5b25ff54e",
   "metadata": {},
   "outputs": [
    {
     "data": {
      "text/plain": [
       "10"
      ]
     },
     "execution_count": 49,
     "metadata": {},
     "output_type": "execute_result"
    }
   ],
   "source": [
    "len(word)-3"
   ]
  },
  {
   "cell_type": "code",
   "execution_count": 50,
   "id": "f56bf905-b92a-4159-9d21-5265668f76d9",
   "metadata": {},
   "outputs": [
    {
     "name": "stdout",
     "output_type": "stream",
     "text": [
      "австралопи\n"
     ]
    }
   ],
   "source": [
    "print(word[:10])"
   ]
  },
  {
   "cell_type": "code",
   "execution_count": 48,
   "id": "cc923fc1-1dca-48d9-993a-c9f13db0f3d8",
   "metadata": {},
   "outputs": [
    {
     "name": "stdout",
     "output_type": "stream",
     "text": [
      "австралопи\n"
     ]
    }
   ],
   "source": [
    "print(word[:len(word)-3])"
   ]
  },
  {
   "cell_type": "code",
   "execution_count": 51,
   "id": "0517b3ed-ac8b-4cc7-ae01-9ec0e980cc4d",
   "metadata": {},
   "outputs": [
    {
     "name": "stdout",
     "output_type": "stream",
     "text": [
      "к\n"
     ]
    }
   ],
   "source": [
    "print(word[len(word)-1])"
   ]
  },
  {
   "cell_type": "code",
   "execution_count": 52,
   "id": "c4c29519-1660-4c46-a7c7-f06ef414d98e",
   "metadata": {},
   "outputs": [
    {
     "data": {
      "text/plain": [
       "13"
      ]
     },
     "execution_count": 52,
     "metadata": {},
     "output_type": "execute_result"
    }
   ],
   "source": [
    "len(word)"
   ]
  },
  {
   "cell_type": "code",
   "execution_count": 54,
   "id": "f0650362-77a2-4f39-b9bf-e338de0065cc",
   "metadata": {},
   "outputs": [
    {
     "data": {
      "text/plain": [
       "'австралопитек'"
      ]
     },
     "execution_count": 54,
     "metadata": {},
     "output_type": "execute_result"
    }
   ],
   "source": [
    "word"
   ]
  },
  {
   "cell_type": "code",
   "execution_count": 53,
   "id": "84e26135-518b-4a36-b444-d73403fbe864",
   "metadata": {},
   "outputs": [
    {
     "ename": "IndexError",
     "evalue": "string index out of range",
     "output_type": "error",
     "traceback": [
      "\u001b[1;31m---------------------------------------------------------------------------\u001b[0m",
      "\u001b[1;31mIndexError\u001b[0m                                Traceback (most recent call last)",
      "Cell \u001b[1;32mIn[53], line 1\u001b[0m\n\u001b[1;32m----> 1\u001b[0m \u001b[43mword\u001b[49m\u001b[43m[\u001b[49m\u001b[38;5;241;43m13\u001b[39;49m\u001b[43m]\u001b[49m\n",
      "\u001b[1;31mIndexError\u001b[0m: string index out of range"
     ]
    }
   ],
   "source": [
    "word[13]"
   ]
  },
  {
   "cell_type": "code",
   "execution_count": 55,
   "id": "a41c1d95-ea7d-49c8-8934-95067e0c61f3",
   "metadata": {},
   "outputs": [
    {
     "data": {
      "text/plain": [
       "'к'"
      ]
     },
     "execution_count": 55,
     "metadata": {},
     "output_type": "execute_result"
    }
   ],
   "source": [
    "word[12]"
   ]
  },
  {
   "cell_type": "code",
   "execution_count": 56,
   "id": "4f1d2757-9f8a-4050-9151-cf6ff5fc4db9",
   "metadata": {},
   "outputs": [
    {
     "name": "stdout",
     "output_type": "stream",
     "text": [
      "к\n",
      "к\n",
      "к\n"
     ]
    }
   ],
   "source": [
    "# 12 это как раз len - 1\n",
    "print(word[12])\n",
    "print(word[len(word)-1])\n",
    "print(word[-1])"
   ]
  },
  {
   "cell_type": "code",
   "execution_count": 100,
   "id": "0e319353-5637-4452-a262-fcf60b3f35d2",
   "metadata": {
    "id": "f34ea7c6",
    "outputId": "185995fc-94a5-4a44-85c8-4d788541b9b1"
   },
   "outputs": [
    {
     "name": "stdout",
     "output_type": "stream",
     "text": [
      "асрлптк\n",
      "асрлптк\n"
     ]
    }
   ],
   "source": [
    "print(word[::2])  # print(word[0:13:2])\n",
    "print(word[0:13:2])"
   ]
  },
  {
   "cell_type": "code",
   "execution_count": 102,
   "id": "f8ecc6f6-edd8-4a2c-9175-93ef005315de",
   "metadata": {
    "id": "8f51ce6a"
   },
   "outputs": [
    {
     "name": "stdout",
     "output_type": "stream",
     "text": [
      "кетиполартсва\n"
     ]
    }
   ],
   "source": [
    "# Как вывести слово с буквами в обратном порядке?\n",
    "print(word[::-1])"
   ]
  },
  {
   "cell_type": "code",
   "execution_count": 103,
   "id": "ac0f0f42-da07-4f83-b408-120d37f65067",
   "metadata": {},
   "outputs": [
    {
     "name": "stdout",
     "output_type": "stream",
     "text": [
      "иполартсва\n"
     ]
    }
   ],
   "source": [
    "print(word[-4::-1])"
   ]
  },
  {
   "cell_type": "code",
   "execution_count": 104,
   "id": "79e841e9-2b58-458d-a11a-c96e119bb2fc",
   "metadata": {},
   "outputs": [
    {
     "name": "stdout",
     "output_type": "stream",
     "text": [
      "кет\n"
     ]
    }
   ],
   "source": [
    "print(word[-1:-4:-1])"
   ]
  },
  {
   "cell_type": "code",
   "execution_count": 106,
   "id": "d7bf0fab-1cc4-427e-a289-bf18cfb18215",
   "metadata": {},
   "outputs": [
    {
     "name": "stdout",
     "output_type": "stream",
     "text": [
      "\n"
     ]
    }
   ],
   "source": [
    "print(word[-1:-4]) # print(word[-1:-4:1])"
   ]
  },
  {
   "cell_type": "code",
   "execution_count": 108,
   "id": "19b31bc2-606c-4263-ac8e-e5ce26936e2e",
   "metadata": {},
   "outputs": [
    {
     "data": {
      "text/plain": [
       "''"
      ]
     },
     "execution_count": 108,
     "metadata": {},
     "output_type": "execute_result"
    }
   ],
   "source": [
    "word[1000:5000]"
   ]
  },
  {
   "cell_type": "code",
   "execution_count": null,
   "id": "7052b069-c2f5-4767-92e1-4677104185f5",
   "metadata": {},
   "outputs": [],
   "source": []
  },
  {
   "cell_type": "code",
   "execution_count": 62,
   "id": "5717506e-9362-4056-8cd9-c11b43db9f59",
   "metadata": {},
   "outputs": [
    {
     "name": "stdout",
     "output_type": "stream",
     "text": [
      "кет\n"
     ]
    }
   ],
   "source": [
    "print(word[-1:-4:-1])"
   ]
  },
  {
   "cell_type": "code",
   "execution_count": 60,
   "id": "8bca351f-b060-4bf0-99e9-25ec35061aa3",
   "metadata": {},
   "outputs": [
    {
     "name": "stdout",
     "output_type": "stream",
     "text": [
      "\n"
     ]
    }
   ],
   "source": [
    "print(word[-1:-4:])"
   ]
  },
  {
   "cell_type": "code",
   "execution_count": 63,
   "id": "8f0250fc-324f-438a-b839-64c417b672a9",
   "metadata": {},
   "outputs": [
    {
     "name": "stdout",
     "output_type": "stream",
     "text": [
      "ктплрса\n"
     ]
    }
   ],
   "source": [
    "print(word[::-2])"
   ]
  },
  {
   "cell_type": "code",
   "execution_count": 64,
   "id": "55119c17-48f7-482f-95a8-af56d940b660",
   "metadata": {
    "id": "4aa9e2b9",
    "outputId": "4eb2db44-4a3f-409f-a8a0-a377b9b5c2d9"
   },
   "outputs": [
    {
     "name": "stdout",
     "output_type": "stream",
     "text": [
      "['хлеб', 'сметана']\n"
     ]
    }
   ],
   "source": [
    "# Со списками и кортежами так же работает\n",
    "products = ['огурцы', 'помидоры', 'картошка', 'хлеб',\n",
    "            'масло', 'сметана', 'молоко', 'мука', 'яйца']\n",
    "print(products[3:7:2])"
   ]
  },
  {
   "cell_type": "code",
   "execution_count": 109,
   "id": "1f9f98e6-fb73-424f-bee8-8449fc83bfce",
   "metadata": {
    "id": "db207cfa",
    "outputId": "ea031052-a11b-4f07-c167-2239b93d0dd2"
   },
   "outputs": [
    {
     "ename": "IndexError",
     "evalue": "list index out of range",
     "output_type": "error",
     "traceback": [
      "\u001b[1;31m---------------------------------------------------------------------------\u001b[0m",
      "\u001b[1;31mIndexError\u001b[0m                                Traceback (most recent call last)",
      "Cell \u001b[1;32mIn[109], line 2\u001b[0m\n\u001b[0;32m      1\u001b[0m \u001b[38;5;66;03m# Несуществующее не печатает\u001b[39;00m\n\u001b[1;32m----> 2\u001b[0m \u001b[43mproducts\u001b[49m\u001b[43m[\u001b[49m\u001b[38;5;241;43m12\u001b[39;49m\u001b[43m]\u001b[49m\n",
      "\u001b[1;31mIndexError\u001b[0m: list index out of range"
     ]
    }
   ],
   "source": [
    "# Несуществующее не печатает\n",
    "products[12]"
   ]
  },
  {
   "cell_type": "markdown",
   "id": "7bcde188-cb9f-4d9b-8e89-5160737ec7ac",
   "metadata": {},
   "source": [
    "### Тренировка"
   ]
  },
  {
   "cell_type": "markdown",
   "id": "85a58dc6-f137-4c9e-972d-e748d2d54e8d",
   "metadata": {},
   "source": [
    "Распечатайте слова в строке со второго по пятое (включительно!)"
   ]
  },
  {
   "cell_type": "code",
   "execution_count": 110,
   "id": "dc8d05e5-0541-4557-b82c-ba68969b802b",
   "metadata": {},
   "outputs": [],
   "source": [
    "s = \"не-первое не-второе не-третье не-четвёртое не-пятое не-шестое не-седьмое\"\n"
   ]
  },
  {
   "cell_type": "code",
   "execution_count": 111,
   "id": "9293c66e-6a62-4a7d-998b-8f0b69483017",
   "metadata": {},
   "outputs": [
    {
     "data": {
      "text/plain": [
       "'е-пе'"
      ]
     },
     "execution_count": 111,
     "metadata": {},
     "output_type": "execute_result"
    }
   ],
   "source": [
    "s[1:5]"
   ]
  },
  {
   "cell_type": "code",
   "execution_count": 113,
   "id": "4045db9f-5be5-4d77-aef8-9ff4875b3c0d",
   "metadata": {},
   "outputs": [
    {
     "data": {
      "text/plain": [
       "['не-второе', 'не-третье', 'не-четвёртое', 'не-пятое']"
      ]
     },
     "execution_count": 113,
     "metadata": {},
     "output_type": "execute_result"
    }
   ],
   "source": [
    "s.split()[1:5]"
   ]
  },
  {
   "cell_type": "code",
   "execution_count": 5,
   "id": "a39bd1ce-d56e-43b9-a2fb-ba61f90eb564",
   "metadata": {},
   "outputs": [
    {
     "data": {
      "text/plain": [
       "['не-второе', 'не-третье', 'не-четвёртое', 'не-пятое']"
      ]
     },
     "execution_count": 5,
     "metadata": {},
     "output_type": "execute_result"
    }
   ],
   "source": [
    "# "
   ]
  },
  {
   "cell_type": "markdown",
   "id": "5d8a370c-e8a3-4c55-96ab-17a00da9c26a",
   "metadata": {
    "id": "3680d9d9"
   },
   "source": [
    "## Кортежи"
   ]
  },
  {
   "cell_type": "code",
   "execution_count": 114,
   "id": "846d4b33-443e-451f-bb90-17651dea08e0",
   "metadata": {
    "colab": {
     "base_uri": "https://localhost:8080/"
    },
    "id": "40a0361d",
    "outputId": "3fb412d9-b199-4cd7-99de-13c63fe53df1"
   },
   "outputs": [
    {
     "name": "stdout",
     "output_type": "stream",
     "text": [
      "<class 'tuple'>\n"
     ]
    }
   ],
   "source": [
    "months = ('January', 'February', 'March',\n",
    "          'April', 'May', 'June', 'July',\n",
    "          'August', 'September', 'October',\n",
    "          'November', 'December')\n",
    "print(type(months))"
   ]
  },
  {
   "cell_type": "code",
   "execution_count": 115,
   "id": "74222363-d203-453c-9a60-6e8dc2e5e87e",
   "metadata": {
    "colab": {
     "base_uri": "https://localhost:8080/"
    },
    "id": "83e87d8d",
    "outputId": "b7c48f68-879f-4326-c8a0-418371bcbd37"
   },
   "outputs": [
    {
     "name": "stdout",
     "output_type": "stream",
     "text": [
      "Второй месяц:  February\n"
     ]
    }
   ],
   "source": [
    "print('Второй месяц: ', months[2-1] )"
   ]
  },
  {
   "cell_type": "markdown",
   "id": "56cdb0c9-8370-4b03-bd30-6cd955b26434",
   "metadata": {
    "id": "0ddbfcda"
   },
   "source": [
    "## Распаковка\n",
    "Как красиво распечатать список или кортеж (без скобочек)?"
   ]
  },
  {
   "cell_type": "code",
   "execution_count": 31,
   "id": "e496f6a6-b9a4-4eec-8178-408afab4386c",
   "metadata": {
    "id": "62bd1b31",
    "outputId": "1f299c95-88a8-4b38-938f-9c5d83eb773b"
   },
   "outputs": [
    {
     "name": "stdout",
     "output_type": "stream",
     "text": [
      "('January', 'February', 'March', 'April', 'May', 'June', 'July', 'August', 'September', 'October', 'November', 'December')\n"
     ]
    }
   ],
   "source": [
    "print(months)  # Как убрать скобочки?"
   ]
  },
  {
   "cell_type": "code",
   "execution_count": 116,
   "id": "436cd2ec-bfb0-4408-a024-119a647988d9",
   "metadata": {},
   "outputs": [],
   "source": [
    "months2 = ('January', 'February', 'March', 'April', 'May', 'June', 'July', 'August', 'September', 'October', 'November', 'December')"
   ]
  },
  {
   "cell_type": "code",
   "execution_count": 32,
   "id": "f905c4e2-4b7d-4643-b109-4d5f955f34a4",
   "metadata": {
    "id": "b5a64b67",
    "outputId": "fc6780c5-3052-4664-aa31-ae6e5ee35f41"
   },
   "outputs": [
    {
     "name": "stdout",
     "output_type": "stream",
     "text": [
      "January\n",
      "February\n",
      "March\n",
      "April\n",
      "May\n"
     ]
    }
   ],
   "source": [
    "print(months[0])\n",
    "print(months[1])\n",
    "print(months[2])\n",
    "print(months[3])\n",
    "print(months[4])\n",
    "# Так очень долго"
   ]
  },
  {
   "cell_type": "code",
   "execution_count": 117,
   "id": "4963dac0-f5d7-4325-9776-526bd9c1fd55",
   "metadata": {
    "id": "bb944b3c"
   },
   "outputs": [
    {
     "name": "stdout",
     "output_type": "stream",
     "text": [
      "January\n",
      "February\n",
      "March\n",
      "April\n",
      "May\n",
      "June\n",
      "July\n",
      "August\n",
      "September\n",
      "October\n",
      "November\n",
      "December\n"
     ]
    }
   ],
   "source": [
    "# Напишите разумнее (мы помним про while)\n",
    "index = 0\n",
    "while index < len(months):\n",
    "    print(months[index])\n",
    "    index += 1"
   ]
  },
  {
   "cell_type": "code",
   "execution_count": 34,
   "id": "9021ab51-2659-43f9-ab52-2687a5bcb623",
   "metadata": {
    "id": "5ac268c9",
    "outputId": "5c3fc579-89d3-4352-a467-3ff5d902fd5e"
   },
   "outputs": [
    {
     "name": "stdout",
     "output_type": "stream",
     "text": [
      "January February March April May June July August September October November December\n"
     ]
    }
   ],
   "source": [
    "print(*months)\n",
    "# это то же самое, что print(months[0], months[1], months[2], months[3], months[4]...)"
   ]
  },
  {
   "cell_type": "code",
   "execution_count": 35,
   "id": "ca2a91b5-b55b-48f3-a779-7c40209842db",
   "metadata": {
    "colab": {
     "base_uri": "https://localhost:8080/"
    },
    "id": "tXz1kzp98_U_",
    "outputId": "dd885a81-9aee-4e73-fe89-ae85cfeb685b"
   },
   "outputs": [
    {
     "name": "stdout",
     "output_type": "stream",
     "text": [
      "January\n",
      "February\n",
      "March\n",
      "April\n",
      "May\n",
      "June\n",
      "July\n",
      "August\n",
      "September\n",
      "October\n",
      "November\n",
      "December\n"
     ]
    }
   ],
   "source": [
    "print(*months, sep='\\n')"
   ]
  },
  {
   "cell_type": "code",
   "execution_count": 36,
   "id": "8f088b21-5e0d-4533-a5ea-1f70171ccd9d",
   "metadata": {
    "colab": {
     "base_uri": "https://localhost:8080/"
    },
    "id": "FWZNewOT9XDz",
    "outputId": "3f34de8e-4145-4f5e-e380-1d253e08d2d8"
   },
   "outputs": [
    {
     "name": "stdout",
     "output_type": "stream",
     "text": [
      "('January', 'February', 'March', 'April', 'May', 'June', 'July', 'August', 'September', 'October', 'November', 'December')\n"
     ]
    }
   ],
   "source": [
    "print(months, sep='\\n')"
   ]
  },
  {
   "cell_type": "markdown",
   "id": "1841f8a3-ff99-4bf9-aa3f-c283712377be",
   "metadata": {},
   "source": [
    "#### Ещё про звёздочку"
   ]
  },
  {
   "cell_type": "code",
   "execution_count": 118,
   "id": "51f97230-335e-4abb-b0a7-23939af9fae8",
   "metadata": {},
   "outputs": [
    {
     "name": "stdout",
     "output_type": "stream",
     "text": [
      "1\n",
      "2\n"
     ]
    }
   ],
   "source": [
    "a, b = 1, 2\n",
    "\n",
    "print(a)\n",
    "print(b)"
   ]
  },
  {
   "cell_type": "code",
   "execution_count": 119,
   "id": "fc237c5a-3a5b-46da-b82e-df58d029ad9c",
   "metadata": {},
   "outputs": [
    {
     "name": "stdout",
     "output_type": "stream",
     "text": [
      "10\n",
      "7\n",
      "7\n",
      "10\n"
     ]
    }
   ],
   "source": [
    "a = 10\n",
    "b = 7\n",
    "\n",
    "print(a)\n",
    "print(b)\n",
    "\n",
    "a, b = b, a\n",
    "\n",
    "print(a)\n",
    "print(b)"
   ]
  },
  {
   "cell_type": "code",
   "execution_count": 120,
   "id": "b01b3ab5-dcdb-42c6-b9b4-e2e5c2530e97",
   "metadata": {},
   "outputs": [
    {
     "name": "stdout",
     "output_type": "stream",
     "text": [
      "1\n",
      "2\n",
      "3\n"
     ]
    }
   ],
   "source": [
    "elem1, elem2, elem3 = [1, 2, 3]\n",
    "\n",
    "print(elem1)\n",
    "print(elem2)\n",
    "print(elem3)"
   ]
  },
  {
   "cell_type": "code",
   "execution_count": 121,
   "id": "74ee2fc0-a29b-4f4f-8dfa-f10bf1c9a1c0",
   "metadata": {},
   "outputs": [
    {
     "name": "stdout",
     "output_type": "stream",
     "text": [
      "January\n",
      "['February', 'March', 'April', 'May', 'June', 'July', 'August', 'September', 'October', 'November', 'December']\n"
     ]
    }
   ],
   "source": [
    "first_month, *rest = months\n",
    "\n",
    "print(first_month)\n",
    "print(rest)"
   ]
  },
  {
   "cell_type": "code",
   "execution_count": 122,
   "id": "d8ef1782-c139-4b8f-8eb7-bcaafdbdad66",
   "metadata": {},
   "outputs": [
    {
     "name": "stdout",
     "output_type": "stream",
     "text": [
      "December\n",
      "['January', 'February', 'March', 'April', 'May', 'June', 'July', 'August', 'September', 'October', 'November']\n"
     ]
    }
   ],
   "source": [
    "*rest, last_month = months\n",
    "\n",
    "print(last_month)\n",
    "print(rest)"
   ]
  },
  {
   "cell_type": "code",
   "execution_count": 123,
   "id": "b7557bf7-805b-489a-8fb5-a05f59a3aacd",
   "metadata": {
    "colab": {
     "base_uri": "https://localhost:8080/"
    },
    "id": "Sf-b-oSG-ecY",
    "outputId": "21923dc5-b3c6-4809-81e6-127009023c16"
   },
   "outputs": [
    {
     "name": "stdout",
     "output_type": "stream",
     "text": [
      "January\n",
      "February\n",
      "['March', 'April', 'May', 'June', 'July', 'August', 'September', 'October', 'November']\n",
      "December\n"
     ]
    }
   ],
   "source": [
    "first_month, second_month, *rest, last_month = months\n",
    "\n",
    "print(first_month)\n",
    "print(second_month)\n",
    "print(rest)\n",
    "print(last_month)"
   ]
  },
  {
   "cell_type": "code",
   "execution_count": 128,
   "id": "9ca147c4-84c7-4e23-99f9-7593995e8747",
   "metadata": {},
   "outputs": [
    {
     "name": "stdout",
     "output_type": "stream",
     "text": [
      "а\n",
      "к\n",
      "['в', 'с', 'т', 'р', 'а', 'л', 'о', 'п', 'и', 'т', 'е']\n"
     ]
    }
   ],
   "source": [
    "first_letter, *other, last_letter = word\n",
    "\n",
    "print(first_letter)\n",
    "print(last_letter)\n",
    "\n",
    "print(other)"
   ]
  },
  {
   "cell_type": "markdown",
   "id": "d9ad0aed-aab1-4cbd-909a-e6a9596731ff",
   "metadata": {},
   "source": [
    "## in"
   ]
  },
  {
   "cell_type": "code",
   "execution_count": 129,
   "id": "68973813-1408-4b63-bbfb-1f6ca3b76e63",
   "metadata": {},
   "outputs": [
    {
     "name": "stdout",
     "output_type": "stream",
     "text": [
      "False\n"
     ]
    }
   ],
   "source": [
    "products = ['огурцы', 'помидоры', 'картошка', 'хлеб', 'масло', 'сметана', 'молоко', 'мука', 'яйца']\n",
    "\n",
    "print('рыба' in products)"
   ]
  },
  {
   "cell_type": "code",
   "execution_count": 130,
   "id": "27984412-473d-4dc6-bb45-6885e4900602",
   "metadata": {},
   "outputs": [
    {
     "data": {
      "text/plain": [
       "False"
      ]
     },
     "execution_count": 130,
     "metadata": {},
     "output_type": "execute_result"
    }
   ],
   "source": [
    "\"в\" in \"Вася\""
   ]
  },
  {
   "cell_type": "code",
   "execution_count": 132,
   "id": "f62ff537-2f5f-4340-b846-b6dbf2e7bcab",
   "metadata": {},
   "outputs": [
    {
     "data": {
      "text/plain": [
       "True"
      ]
     },
     "execution_count": 132,
     "metadata": {},
     "output_type": "execute_result"
    }
   ],
   "source": [
    "\"а\" in \"Вася\""
   ]
  },
  {
   "cell_type": "markdown",
   "id": "dcf8eb82-d382-44db-bcd2-919e02bb65f3",
   "metadata": {},
   "source": [
    "### Тренировка\n",
    "Проверьте, купит ли мама 'мороженое'? Если да, напечатайте 'Ура!' Если нет, напечатайте что-нибудь другое."
   ]
  },
  {
   "cell_type": "code",
   "execution_count": 133,
   "id": "f98337db-1bc6-449a-8fe5-6b1e71925b31",
   "metadata": {},
   "outputs": [
    {
     "name": "stdout",
     "output_type": "stream",
     "text": [
      "True\n"
     ]
    }
   ],
   "source": [
    "products = ['огурцы', 'помидоры', 'картошка', 'хлеб', 'масло', 'сметана', 'молоко', 'мука', 'мороженое']\n",
    "\n",
    "print(\"мороженое\" in products)"
   ]
  },
  {
   "cell_type": "markdown",
   "id": "e2f73883-306a-4960-99e8-4dc55b1e9619",
   "metadata": {
    "id": "9000cb7f"
   },
   "source": [
    "## Изменяемость и неизменяемость типов данных"
   ]
  },
  {
   "cell_type": "code",
   "execution_count": 135,
   "id": "5277d34b-79e0-4e3c-b93b-f16a381b05c6",
   "metadata": {
    "id": "83766c64",
    "outputId": "1e6355d1-9684-4130-89f8-36ce097a11f5"
   },
   "outputs": [
    {
     "name": "stdout",
     "output_type": "stream",
     "text": [
      "картошка ['огурцы', 'помидоры', 'картошка', 'хлеб', 'масло', 'сметана', 'молоко', 'мука', 'яйца']\n",
      "лук ['огурцы', 'помидоры', 'лук', 'хлеб', 'масло', 'сметана', 'молоко', 'мука', 'яйца']\n"
     ]
    }
   ],
   "source": [
    "# Списки изменяемые\n",
    "\n",
    "products = ['огурцы', 'помидоры', 'картошка', 'хлеб', 'масло', 'сметана', 'молоко', 'мука', 'яйца']\n",
    "# картошка есть, а лук кончился\n",
    "print(products[2], products)\n",
    "\n",
    "# картошка кончилась, а лук привезли\n",
    "products[2] = 'лук'\n",
    "print(products[2], products)"
   ]
  },
  {
   "cell_type": "code",
   "execution_count": 136,
   "id": "c038b739-ff82-4323-b9c5-0781223c0519",
   "metadata": {
    "id": "a920bd2c",
    "outputId": "aba1a7e4-86fd-4cb3-9d03-bad206c6f1b9"
   },
   "outputs": [
    {
     "name": "stdout",
     "output_type": "stream",
     "text": [
      "['огурцы', 'помидоры', 'лук', 'хлеб', 'масло', 'сметана', 'молоко', 'мука', 'яйца']\n"
     ]
    }
   ],
   "source": [
    "print(products)"
   ]
  },
  {
   "cell_type": "markdown",
   "id": "2cc4b435-4a89-45cf-8c76-1a5f0279cca4",
   "metadata": {},
   "source": [
    "**Обратите внимание:** когда мы пишем `products = ['огурцы', 'помидоры', 'картошка']` мы **называем** последовательность строк, которая сохранится в памяти. Если дать ей второе (ниже это `myproducts`), третье, ... десятое названия, изменения, которые мы внесём, обращаясь по одному имени, отразятся везде! \n",
    "\n",
    "Для кого-то Пушкин был Александром Сергеевичем, для кого-то наверняка Сашей, лицеисты могли звать его француз (?).\n",
    "    Дантес его, наверное, звал \"Александр Сергеевич\".\n",
    "    Но так или иначе, после дуэли с Дантесом изменился сам Пушкин, как его ни назови, Саша, Александр Сергеевич или как-то ещё.\n",
    "    Так и списки.\n",
    "    Меняются, как их ни назови!\n",
    "\n",
    "(про переменные как названия значений в памяти, это верно для всего в питоне, про изменения, отражающиеся на всех именах, &mdash; для **изменяемых типов данных**, коим является список)"
   ]
  },
  {
   "cell_type": "code",
   "execution_count": 13,
   "id": "d457b17c-1302-46f2-a1f4-dc0b4fef01e0",
   "metadata": {
    "id": "83766c64",
    "outputId": "1e6355d1-9684-4130-89f8-36ce097a11f5"
   },
   "outputs": [
    {
     "name": "stdout",
     "output_type": "stream",
     "text": [
      "картошка ['огурцы', 'помидоры', 'картошка', 'хлеб', 'масло', 'сметана', 'молоко', 'мука', 'яйца']\n",
      "лук ['огурцы', 'помидоры', 'лук', 'хлеб', 'масло', 'сметана', 'молоко', 'мука', 'яйца']\n",
      "['огурцы', 'помидоры', 'лук', 'хлеб', 'масло', 'сметана', 'молоко', 'мука', 'яйца']\n"
     ]
    }
   ],
   "source": [
    "# Списки изменяемые\n",
    "\n",
    "products = ['огурцы', 'помидоры', 'картошка', 'хлеб', 'масло', 'сметана', 'молоко', 'мука', 'яйца']\n",
    "# картошка есть, а лук кончился\n",
    "myproducts = products\n",
    "\n",
    "print(products[2], products)\n",
    "products[2] = 'лук'\n",
    "print(products[2], products)\n",
    "\n",
    "print(myproducts)"
   ]
  },
  {
   "cell_type": "code",
   "execution_count": 14,
   "id": "5d6e2bfb-fe6e-430e-9fc5-89a7ec2fd092",
   "metadata": {},
   "outputs": [
    {
     "name": "stdout",
     "output_type": "stream",
     "text": [
      "картошка ['огурцы', 'помидоры', 'хлеб', 'масло', 'сметана', 'молоко', 'мука', 'яйца']\n"
     ]
    }
   ],
   "source": [
    "products = ['огурцы', 'помидоры', 'картошка', 'хлеб', 'масло', 'сметана', 'молоко', 'мука', 'яйца']\n",
    "\n",
    "deleted_product = products.pop(2)\n",
    "print(deleted_product, products)"
   ]
  },
  {
   "cell_type": "code",
   "execution_count": 137,
   "id": "cd10d404-383a-445d-8033-7fd4dee3aaac",
   "metadata": {},
   "outputs": [
    {
     "name": "stdout",
     "output_type": "stream",
     "text": [
      "['огурцы', 'помидоры', 'картошка', 'хлеб', 'масло', 'сметана', 'молоко', 'мука', 'яйца', 'сыр']\n"
     ]
    }
   ],
   "source": [
    "products = ['огурцы', 'помидоры', 'картошка', 'хлеб', 'масло', 'сметана', 'молоко', 'мука', 'яйца']\n",
    "\n",
    "products.append(\"сыр\")\n",
    "print(products)"
   ]
  },
  {
   "cell_type": "code",
   "execution_count": 148,
   "id": "e3b14080-4fe9-4502-b8b9-97f30596e897",
   "metadata": {
    "id": "c0713148",
    "outputId": "995a8fde-ed6a-4dcf-8b22-4ea35f2ae2ff"
   },
   "outputs": [
    {
     "ename": "TypeError",
     "evalue": "'str' object does not support item assignment",
     "output_type": "error",
     "traceback": [
      "\u001b[1;31m---------------------------------------------------------------------------\u001b[0m",
      "\u001b[1;31mTypeError\u001b[0m                                 Traceback (most recent call last)",
      "Cell \u001b[1;32mIn[148], line 3\u001b[0m\n\u001b[0;32m      1\u001b[0m \u001b[38;5;66;03m# строки неизменяемые\u001b[39;00m\n\u001b[0;32m      2\u001b[0m word \u001b[38;5;241m=\u001b[39m \u001b[38;5;124m'\u001b[39m\u001b[38;5;124mтомик\u001b[39m\u001b[38;5;124m'\u001b[39m\n\u001b[1;32m----> 3\u001b[0m \u001b[43mword\u001b[49m\u001b[43m[\u001b[49m\u001b[38;5;241;43m0\u001b[39;49m\u001b[43m]\u001b[49m \u001b[38;5;241m=\u001b[39m \u001b[38;5;124m'\u001b[39m\u001b[38;5;124mд\u001b[39m\u001b[38;5;124m'\u001b[39m\n",
      "\u001b[1;31mTypeError\u001b[0m: 'str' object does not support item assignment"
     ]
    }
   ],
   "source": [
    "# строки неизменяемые\n",
    "word = 'томик'\n",
    "word[0] = 'д'"
   ]
  },
  {
   "cell_type": "code",
   "execution_count": 146,
   "id": "6f79b2c3-8289-4891-a7f4-1ba86aa30ccc",
   "metadata": {},
   "outputs": [
    {
     "name": "stdout",
     "output_type": "stream",
     "text": [
      "домик\n"
     ]
    }
   ],
   "source": [
    "letters = list(word)\n",
    "letters[0] = \"д\"\n",
    "print(*letters, sep=\"\")\n",
    "\n",
    "# позже научимся из элементов списка сделать одну строку"
   ]
  },
  {
   "cell_type": "code",
   "execution_count": 147,
   "id": "953eac8a-b8ee-47fc-a088-d38f14219763",
   "metadata": {
    "id": "008e34d2",
    "outputId": "a6cf24ab-b81e-4281-d651-4647037b965c"
   },
   "outputs": [
    {
     "ename": "TypeError",
     "evalue": "'tuple' object does not support item assignment",
     "output_type": "error",
     "traceback": [
      "\u001b[1;31m---------------------------------------------------------------------------\u001b[0m",
      "\u001b[1;31mTypeError\u001b[0m                                 Traceback (most recent call last)",
      "Cell \u001b[1;32mIn[147], line 6\u001b[0m\n\u001b[0;32m      1\u001b[0m \u001b[38;5;66;03m# кортежи неизменяемые\u001b[39;00m\n\u001b[0;32m      2\u001b[0m months \u001b[38;5;241m=\u001b[39m (\u001b[38;5;124m'\u001b[39m\u001b[38;5;124mJanuary\u001b[39m\u001b[38;5;124m'\u001b[39m, \u001b[38;5;124m'\u001b[39m\u001b[38;5;124mFebruary\u001b[39m\u001b[38;5;124m'\u001b[39m, \u001b[38;5;124m'\u001b[39m\u001b[38;5;124mMarch\u001b[39m\u001b[38;5;124m'\u001b[39m,\n\u001b[0;32m      3\u001b[0m          \u001b[38;5;124m'\u001b[39m\u001b[38;5;124mApril\u001b[39m\u001b[38;5;124m'\u001b[39m, \u001b[38;5;124m'\u001b[39m\u001b[38;5;124mMay\u001b[39m\u001b[38;5;124m'\u001b[39m, \u001b[38;5;124m'\u001b[39m\u001b[38;5;124mJune\u001b[39m\u001b[38;5;124m'\u001b[39m, \u001b[38;5;124m'\u001b[39m\u001b[38;5;124mJuly\u001b[39m\u001b[38;5;124m'\u001b[39m,\n\u001b[0;32m      4\u001b[0m          \u001b[38;5;124m'\u001b[39m\u001b[38;5;124mAugust\u001b[39m\u001b[38;5;124m'\u001b[39m, \u001b[38;5;124m'\u001b[39m\u001b[38;5;124mSeptember\u001b[39m\u001b[38;5;124m'\u001b[39m, \u001b[38;5;124m'\u001b[39m\u001b[38;5;124mOctober\u001b[39m\u001b[38;5;124m'\u001b[39m,\n\u001b[0;32m      5\u001b[0m          \u001b[38;5;124m'\u001b[39m\u001b[38;5;124mNovember\u001b[39m\u001b[38;5;124m'\u001b[39m, \u001b[38;5;124m'\u001b[39m\u001b[38;5;124mDecember\u001b[39m\u001b[38;5;124m'\u001b[39m)\n\u001b[1;32m----> 6\u001b[0m \u001b[43mmonths\u001b[49m\u001b[43m[\u001b[49m\u001b[38;5;241;43m1\u001b[39;49m\u001b[43m]\u001b[49m \u001b[38;5;241m=\u001b[39m \u001b[38;5;124m'\u001b[39m\u001b[38;5;124mФевраль\u001b[39m\u001b[38;5;124m'\u001b[39m\n\u001b[0;32m      7\u001b[0m \u001b[38;5;28mprint\u001b[39m(months)\n",
      "\u001b[1;31mTypeError\u001b[0m: 'tuple' object does not support item assignment"
     ]
    }
   ],
   "source": [
    "# кортежи неизменяемые\n",
    "months = ('January', 'February', 'March',\n",
    "         'April', 'May', 'June', 'July',\n",
    "         'August', 'September', 'October',\n",
    "         'November', 'December')\n",
    "months[1] = 'Февраль'\n",
    "print(months)"
   ]
  },
  {
   "cell_type": "markdown",
   "id": "4da520dc-fe86-4493-93b4-b437dd71a73d",
   "metadata": {},
   "source": [
    "Есть способ изменить кортеж! Делаем списком, меняем, обратно делаем кортежем."
   ]
  },
  {
   "cell_type": "code",
   "execution_count": 150,
   "id": "e12bf85a-4812-411b-b022-455a7ebe36c2",
   "metadata": {},
   "outputs": [
    {
     "data": {
      "text/plain": [
       "tuple"
      ]
     },
     "execution_count": 150,
     "metadata": {},
     "output_type": "execute_result"
    }
   ],
   "source": [
    "type(months)"
   ]
  },
  {
   "cell_type": "code",
   "execution_count": 152,
   "id": "8a4155fe-0072-42af-8c74-62a9be682f85",
   "metadata": {},
   "outputs": [
    {
     "data": {
      "text/plain": [
       "('January',\n",
       " 'February',\n",
       " 'March',\n",
       " 'April',\n",
       " 'May',\n",
       " 'June',\n",
       " 'July',\n",
       " 'August',\n",
       " 'September',\n",
       " 'October',\n",
       " 'November',\n",
       " 'December')"
      ]
     },
     "execution_count": 152,
     "metadata": {},
     "output_type": "execute_result"
    }
   ],
   "source": [
    "tuple(list(months))"
   ]
  },
  {
   "cell_type": "code",
   "execution_count": 45,
   "id": "f09ad0b6-20dd-4fda-84af-49f3c1054e09",
   "metadata": {},
   "outputs": [
    {
     "name": "stdout",
     "output_type": "stream",
     "text": [
      "<class 'list'>\n",
      "<class 'tuple'>\n",
      "('January', 'Февраль', 'March', 'April', 'May', 'June', 'July', 'August', 'September', 'October', 'November', 'December')\n"
     ]
    }
   ],
   "source": [
    "list_months = list(months)\n",
    "print(type(list_months))\n",
    "\n",
    "list_months[1] = 'Февраль'\n",
    "\n",
    "months = tuple(list_months)\n",
    "\n",
    "print(type(months))\n",
    "print(months)"
   ]
  },
  {
   "cell_type": "markdown",
   "id": "95d8f5ad-bebe-4c26-a51f-9413bcd334dd",
   "metadata": {},
   "source": [
    "### Неизменяемые данные &mdash; \"поменять\" это на самом деле \"сделать отдельный новый\""
   ]
  },
  {
   "cell_type": "markdown",
   "id": "03103b00-eda0-4521-994c-530f9634bbe0",
   "metadata": {},
   "source": [
    "> Ниже материал посложнее.\n",
    "    Но вообще понимать это неплохо, чтобы избежать ошибок."
   ]
  },
  {
   "cell_type": "markdown",
   "id": "4622da11-c536-4f36-9813-792fe0fd815a",
   "metadata": {},
   "source": [
    "Нужно быть внимательным с чем-то, о чём мы давно говорили. Имена переменных &mdash; это отсылки, указатели на то, где искать значение переменной (плюс дополнительная информация вроде типа переменной). То, можно ли поменять данные, зависит от их типа (который известен Питону и который всегда можно узнать используя `type()`), но имя это всегда ссылка.\n",
    "\n",
    "Поэтому если у нас несколько одинаковых ссылок на данные неизменемого типа, то \"изменить\" их значит использовать то же имя для новой ссылки, и это не отразится на существующих ссылках/указателях:"
   ]
  },
  {
   "cell_type": "code",
   "execution_count": 154,
   "id": "d36a73f8-8adc-45cf-abc6-aaf407133059",
   "metadata": {},
   "outputs": [
    {
     "name": "stdout",
     "output_type": "stream",
     "text": [
      "Привет, мир! Привет, мир!\n",
      "Ух Привет, мир!\n"
     ]
    }
   ],
   "source": [
    "mystr = \"Привет, мир!\"\n",
    "mystr_same = mystr\n",
    "print(mystr, mystr_same)\n",
    "\n",
    "mystr = \"Ух\"\n",
    "print(mystr, mystr_same)"
   ]
  },
  {
   "cell_type": "code",
   "execution_count": 9,
   "id": "951271f8-2a53-4656-b969-8747a65fc35d",
   "metadata": {},
   "outputs": [
    {
     "name": "stdout",
     "output_type": "stream",
     "text": [
      "120 120\n",
      "3141411 120\n"
     ]
    }
   ],
   "source": [
    "mynum = 120\n",
    "mynum_same = mynum\n",
    "print(mynum, mynum_same)\n",
    "\n",
    "mynum = 3141411\n",
    "print(mynum, mynum_same)"
   ]
  },
  {
   "cell_type": "markdown",
   "id": "1fcb20e5-e4cf-406d-b6e6-5420b567f859",
   "metadata": {},
   "source": [
    "Представим, что у нас есть описание транспорта в каком-то городе.\n",
    "    Сперва число направлений, потом сами направления. \n",
    "    Направления сами это тоже списки, потому что по одному направлению может быть несколько городов. "
   ]
  },
  {
   "cell_type": "code",
   "execution_count": 3,
   "id": "53f857f4-5143-49e1-bd89-8885bc5536e0",
   "metadata": {},
   "outputs": [],
   "source": [
    "one_destination = ['казань', 'волгоград', 'астрахань'] # \"казань волгоград астрахань\".split()"
   ]
  },
  {
   "cell_type": "code",
   "execution_count": 4,
   "id": "22fb8aa8-c7bf-4531-8c80-6425932d3385",
   "metadata": {},
   "outputs": [
    {
     "name": "stdout",
     "output_type": "stream",
     "text": [
      "[['курск'], ['казань', 'волгоград', 'астрахань']]\n"
     ]
    }
   ],
   "source": [
    "all_destinations = [[\"курск\"], one_destination]\n",
    "print(all_destinations)"
   ]
  },
  {
   "cell_type": "markdown",
   "id": "02b1d646-9e9f-47ad-af85-35916642d644",
   "metadata": {},
   "source": [
    "Мы можем добавить во внутренний список, (к одному из направлений), что-то просто обратившись по индексу к внутреннему списку.\n",
    "    (За добавление отвечает метод списка `.append`, см. [дальше в тетрадке methods](./230207_methods.ipynb))\n",
    "    Конечно, изменения отобразятся и во внешнем списке всех направлений!"
   ]
  },
  {
   "cell_type": "code",
   "execution_count": 5,
   "id": "1c2d24ae-c4e6-4c26-b0aa-a085fc54e481",
   "metadata": {},
   "outputs": [
    {
     "name": "stdout",
     "output_type": "stream",
     "text": [
      "[['курск'], ['казань', 'волгоград', 'астрахань', 'брянск']]\n"
     ]
    }
   ],
   "source": [
    "all_destinations[1].append(\"брянск\")\n",
    "print(all_destinations)"
   ]
  },
  {
   "cell_type": "markdown",
   "id": "5673fcb6-5a5e-4044-83d1-df332145243c",
   "metadata": {},
   "source": [
    "А теперь давайте я обращусь к исходному направлению `one_destination`, которое включено в список всех направлений `all_destinations`  и закрою это направление (очистив список методом `.clear()` &mdash; см. [тетрадку](./230207_methods.ipynb))"
   ]
  },
  {
   "cell_type": "code",
   "execution_count": 6,
   "id": "708e4dfa-8e68-421d-a4b3-a6fd9fd6c31a",
   "metadata": {},
   "outputs": [
    {
     "name": "stdout",
     "output_type": "stream",
     "text": [
      "[['курск'], []]\n"
     ]
    }
   ],
   "source": [
    "one_destination.clear()\n",
    "print(all_destinations)"
   ]
  },
  {
   "cell_type": "markdown",
   "id": "558dff75-cb0c-4174-9498-877fe06ba738",
   "metadata": {},
   "source": [
    "Очищал обращаясь к `one_destination`, но и из большого списка `all_destinations` это оказалось заметно!"
   ]
  },
  {
   "cell_type": "markdown",
   "id": "cbbce0b7-c85b-48b9-a3c7-04279cc05f64",
   "metadata": {},
   "source": [
    "А теперь **кортежи!**"
   ]
  },
  {
   "cell_type": "markdown",
   "id": "931728d6-36a5-4a75-b69f-81ed773799f7",
   "metadata": {},
   "source": [
    "Спойлер: с кортежами нельзя менять штуку по индексу, если она сама неизменяемая, т.е. число или строка. \n",
    "    А список можно! "
   ]
  },
  {
   "cell_type": "code",
   "execution_count": 155,
   "id": "eaa4d580-9505-4659-aa2a-35f24c5f2da7",
   "metadata": {},
   "outputs": [],
   "source": [
    "# результаты соревнования: имя победителя, имена участников не-победителей\n",
    "tourney_result = (\"Vasya\", [\"Andrew\", \"Kirill\"])"
   ]
  },
  {
   "cell_type": "markdown",
   "id": "b64fb0a1-98ac-4e82-a39a-851def8636fd",
   "metadata": {},
   "source": [
    "Победителя не поменять, это &mdash; строка и она элемент кортежа:"
   ]
  },
  {
   "cell_type": "code",
   "execution_count": 156,
   "id": "dc053c12-0ca4-498b-ab82-1fca57f2c3f5",
   "metadata": {},
   "outputs": [
    {
     "ename": "TypeError",
     "evalue": "'tuple' object does not support item assignment",
     "output_type": "error",
     "traceback": [
      "\u001b[1;31m---------------------------------------------------------------------------\u001b[0m",
      "\u001b[1;31mTypeError\u001b[0m                                 Traceback (most recent call last)",
      "Cell \u001b[1;32mIn[156], line 1\u001b[0m\n\u001b[1;32m----> 1\u001b[0m \u001b[43mtourney_result\u001b[49m\u001b[43m[\u001b[49m\u001b[38;5;241;43m0\u001b[39;49m\u001b[43m]\u001b[49m \u001b[38;5;241m=\u001b[39m \u001b[38;5;124m\"\u001b[39m\u001b[38;5;124mAlexey\u001b[39m\u001b[38;5;124m\"\u001b[39m\n",
      "\u001b[1;31mTypeError\u001b[0m: 'tuple' object does not support item assignment"
     ]
    }
   ],
   "source": [
    "tourney_result[0] = \"Alexey\""
   ]
  },
  {
   "cell_type": "markdown",
   "id": "38de6cc9-4205-44ac-a322-8b5fa9170d3a",
   "metadata": {},
   "source": [
    "А вот расширить список не-победителей можно!"
   ]
  },
  {
   "cell_type": "code",
   "execution_count": 157,
   "id": "1d27a594-9e17-4e06-bee2-f86648f0d95b",
   "metadata": {},
   "outputs": [
    {
     "name": "stdout",
     "output_type": "stream",
     "text": [
      "('Vasya', ['Andrew', 'Kirill', 'Ivan'])\n"
     ]
    }
   ],
   "source": [
    "tourney_result[1].append(\"Ivan\")\n",
    "print(tourney_result)"
   ]
  },
  {
   "cell_type": "code",
   "execution_count": 158,
   "id": "b71de9c8-970b-4f3d-a8d9-b898cd10fa9f",
   "metadata": {},
   "outputs": [
    {
     "ename": "TypeError",
     "evalue": "'tuple' object does not support item assignment",
     "output_type": "error",
     "traceback": [
      "\u001b[1;31m---------------------------------------------------------------------------\u001b[0m",
      "\u001b[1;31mTypeError\u001b[0m                                 Traceback (most recent call last)",
      "Cell \u001b[1;32mIn[158], line 1\u001b[0m\n\u001b[1;32m----> 1\u001b[0m \u001b[43mtourney_result\u001b[49m\u001b[43m[\u001b[49m\u001b[38;5;241;43m1\u001b[39;49m\u001b[43m]\u001b[49m \u001b[38;5;241m=\u001b[39m []\n",
      "\u001b[1;31mTypeError\u001b[0m: 'tuple' object does not support item assignment"
     ]
    }
   ],
   "source": [
    "tourney_result[1] = []"
   ]
  },
  {
   "cell_type": "markdown",
   "id": "05cf71cd-b2dd-42f9-b91d-80223e73ddcc",
   "metadata": {
    "id": "3acg0z_XBorC"
   },
   "source": [
    "## Цикл for"
   ]
  },
  {
   "cell_type": "markdown",
   "id": "cc707f71-80ce-4f78-927b-f999d7c19fd8",
   "metadata": {},
   "source": [
    "Ранее мы познакомились с циклом `while`, который работает на основе какого-то условия, пока оно не станет неверным (или мы не выйдем из цикла сами, используя `break`). Он удобен ровно для этого, когда мы можем сформулировать условие для продолжения (просто `while <условие>`) или прекращения (что-то вроде `while <not условие>`) повторяющихся действий. Например, мы принимали с этим циклом ввод от пользователя (и завершали цикл, когда введена пустая строка, то есть просто нажат <kbd>enter</kbd>).\n",
    "\n",
    "Бывают задачи, которые легче формулировать в других терминах: для каждого элемента набора (списка, строки, диапазона чисел), нужно выполнить какое-то действие. `while` здесь не очень удобен. Например, если для овощного салата у нас есть набор ингредиентов-овощей, то нужно каждый овощ сперва помыть. Как сформулировать на питоне, что `<моем> <каждый овощ>`? Можно заметить, что здесь повторяется одинаковое действие (мытьё) с немного разными объектами (разными овощами)."
   ]
  },
  {
   "cell_type": "markdown",
   "id": "3f90f7a4-8de5-4f5e-9962-f2d88781b1fb",
   "metadata": {},
   "source": [
    "Вот как мы могли бы это делать с `while`:"
   ]
  },
  {
   "cell_type": "markdown",
   "id": "0bf1ced0-04ad-403c-ab8c-688debce49b3",
   "metadata": {},
   "source": [
    "```python\n",
    "some_collection = [...]\n",
    "\n",
    "max_elems = len(some_collection)\n",
    "i = 0\n",
    "while i < max_elems:\n",
    "    current_elem = some_collection[i]\n",
    "    ... # действия\n",
    "    i += 1  \n",
    "```"
   ]
  },
  {
   "cell_type": "code",
   "execution_count": 5,
   "id": "6f56ed6c-09af-46a1-823d-04f8ae8c30c2",
   "metadata": {},
   "outputs": [
    {
     "name": "stdout",
     "output_type": "stream",
     "text": [
      "мою овощ: огурец\n",
      "мою овощ: помидор\n"
     ]
    }
   ],
   "source": [
    "vegetables = [\"огурец\", \"помидор\"]\n",
    "\n",
    "max_elems = len(vegetables)\n",
    "i = 0\n",
    "while i < max_elems:\n",
    "    veg = vegetables[i]\n",
    "    print(\"мою овощ:\", veg)\n",
    "    i += 1  "
   ]
  },
  {
   "cell_type": "markdown",
   "id": "3c82e676-3d64-4617-a9d5-254731bd0cde",
   "metadata": {},
   "source": [
    "Не очень красиво и удобно...\n",
    "\n",
    "Для такого рода задач существует другая конструкция, другой цикл: цикл `for`."
   ]
  },
  {
   "cell_type": "markdown",
   "id": "0d8919d9-eb96-42f9-bb91-c4ca6a3d0aaa",
   "metadata": {},
   "source": [
    "```\n",
    "for <element> in <elements>:\n",
    "       <инструкции, которые будут выполняться для каждого элемента>\n",
    "```"
   ]
  },
  {
   "cell_type": "markdown",
   "id": "4b6931f9-2e65-41e1-a037-2d9e6210407a",
   "metadata": {},
   "source": [
    "```\n",
    "for овощ in овощи:\n",
    "       моем(овощ) \n",
    "```"
   ]
  },
  {
   "cell_type": "code",
   "execution_count": 2,
   "id": "9d786e74-2c03-4036-a5ec-b90a6f231b4f",
   "metadata": {},
   "outputs": [
    {
     "name": "stdout",
     "output_type": "stream",
     "text": [
      "мою овощ: огурец\n",
      "мою овощ: помидор\n"
     ]
    }
   ],
   "source": [
    "vegetables = [\"огурец\", \"помидор\"]\n",
    "\n",
    "for veg in vegetables:\n",
    "    print(\"мою овощ:\", veg)"
   ]
  },
  {
   "cell_type": "markdown",
   "id": "37652442-1ca6-495c-9cce-22b84c962b39",
   "metadata": {},
   "source": [
    "`veg` здесь переменная, в которую на время повтора цикла сохраняется элемент из `vegetables`."
   ]
  },
  {
   "cell_type": "code",
   "execution_count": 2,
   "id": "4683c6c4-6a26-48af-af27-65891d4dad6d",
   "metadata": {
    "id": "ehAdEdK6BXHW"
   },
   "outputs": [
    {
     "name": "stdout",
     "output_type": "stream",
     "text": [
      "January February March April May June July August September October November December "
     ]
    }
   ],
   "source": [
    "# Ещё один способ распечатать названия месяцев\n",
    "months = ('January', 'February', 'March',\n",
    "         'April', 'May', 'June', 'July',\n",
    "         'August', 'September', 'October',\n",
    "         'November', 'December')\n",
    "\n",
    "\n",
    "for month in months:  # для каждого месяца в месяцах\n",
    "    print(month, end=\" \")      # распечатай месяц\n",
    "    \n",
    "# print(months[0], end=\" \")\n",
    "# print(months[1], end=\" \")\n",
    "# print(months[2], end=\" \")\n",
    "# ...\n",
    "# print(months[11], end=\" \")"
   ]
  },
  {
   "cell_type": "markdown",
   "id": "a7d54095-1faa-4ef9-983c-5b1f05ec4173",
   "metadata": {},
   "source": [
    "`month` здесь переменная, в которую на время цикла сохраняется элемент из `months`.\n",
    "\n",
    "Мы могли её назвать `m` или `elem` и вообще как угодно."
   ]
  },
  {
   "cell_type": "markdown",
   "id": "211267fc-acc2-4782-b9e0-d81819bad349",
   "metadata": {},
   "source": [
    "Не забывайте, что выше использован именованный аргумент `end=<что напечатать после того, как напечатали то, что спросили>`.\n",
    "\n",
    "Обычно можно узнать, какие есть у функции аргументы используя функцию `help(<интересующая_функция>)`. \n",
    "    В неё мы передадим просто имя функции, о которой что-то интересно."
   ]
  },
  {
   "cell_type": "code",
   "execution_count": 3,
   "id": "68b3d362-b8b9-4aab-9c7b-46107d19102a",
   "metadata": {},
   "outputs": [
    {
     "name": "stdout",
     "output_type": "stream",
     "text": [
      "Help on built-in function print in module builtins:\n",
      "\n",
      "print(...)\n",
      "    print(value, ..., sep=' ', end='\\n', file=sys.stdout, flush=False)\n",
      "    \n",
      "    Prints the values to a stream, or to sys.stdout by default.\n",
      "    Optional keyword arguments:\n",
      "    file:  a file-like object (stream); defaults to the current sys.stdout.\n",
      "    sep:   string inserted between values, default a space.\n",
      "    end:   string appended after the last value, default a newline.\n",
      "    flush: whether to forcibly flush the stream.\n",
      "\n"
     ]
    }
   ],
   "source": [
    "help(print)"
   ]
  },
  {
   "cell_type": "markdown",
   "id": "0097c82d-59da-4dee-8fc7-74725c61f8da",
   "metadata": {},
   "source": [
    "### Тренировка\n",
    "Поздровайтесь с каждым из списка (напишите \"Привет, `name`\")"
   ]
  },
  {
   "cell_type": "code",
   "execution_count": null,
   "id": "5c21c84f-ffbe-4d11-bc18-0c988da2652a",
   "metadata": {},
   "outputs": [
    {
     "name": "stdout",
     "output_type": "stream",
     "text": [
      "Привет, Антон\n",
      "Привет, Андре\n",
      "Привет, Симон\n",
      "Привет, Марья\n",
      "Привет, Тереза\n",
      "Привет, Француаз\n",
      "Привет, Изобель\n"
     ]
    }
   ],
   "source": [
    "names = ['Антон', 'Андре', 'Симон', 'Марья', 'Тереза', 'Француаз', 'Изобель']\n",
    "# не в тему: закончите список\n",
    "\n",
    "# ..."
   ]
  },
  {
   "cell_type": "markdown",
   "id": "1f4dcb87-82c3-40a7-b050-526162d3594f",
   "metadata": {},
   "source": [
    "### Тренировка\n"
   ]
  },
  {
   "cell_type": "markdown",
   "id": "f4d615c9-cdfe-4a3b-b12c-b099365c1256",
   "metadata": {},
   "source": [
    "Поменяйте картошку на лук. Вы не знаете, на каком месте стоит элемент 'картошка'"
   ]
  },
  {
   "cell_type": "code",
   "execution_count": 52,
   "id": "e1996e9b-47b2-4916-9bcc-0659a5d10c72",
   "metadata": {},
   "outputs": [
    {
     "name": "stdout",
     "output_type": "stream",
     "text": [
      "['огурцы', 'помидоры', 'лук', 'хлеб', 'масло']\n"
     ]
    }
   ],
   "source": [
    "products = ['огурцы', 'помидоры', 'картошка', 'хлеб', 'масло']\n",
    "    \n",
    "print(products)"
   ]
  },
  {
   "cell_type": "markdown",
   "id": "66a724a2-5417-4499-bdb3-7477ba17c07b",
   "metadata": {},
   "source": [
    "А если картошек несколько?"
   ]
  },
  {
   "cell_type": "code",
   "execution_count": 13,
   "id": "a9a11797-b610-4b8b-86af-962f25156e8a",
   "metadata": {},
   "outputs": [
    {
     "name": "stdout",
     "output_type": "stream",
     "text": [
      "['огурцы', 'помидоры', 'лук', 'хлеб', 'масло', 'лук']\n"
     ]
    }
   ],
   "source": [
    "products = ['огурцы', 'помидоры', 'картошка', 'хлеб', 'масло', 'картошка']\n",
    "    \n",
    "print(products)"
   ]
  },
  {
   "cell_type": "markdown",
   "id": "a0e9dbac-7cf0-40aa-974f-389b349713cd",
   "metadata": {
    "id": "oriScWuCacNt"
   },
   "source": [
    "### range() &mdash; \"обещание последовательности чисел\" "
   ]
  },
  {
   "cell_type": "markdown",
   "id": "a86e4c7e-3054-443c-873b-ea59445785f9",
   "metadata": {},
   "source": [
    "Бывают ситуации, когда нужен диапазон чисел.\n",
    "    Эта функция здесь и поможет!"
   ]
  },
  {
   "cell_type": "markdown",
   "id": "e477112c-9518-4dfd-bdac-4263aa831c0b",
   "metadata": {},
   "source": [
    "Просто так ничего полезного не печатает:"
   ]
  },
  {
   "cell_type": "code",
   "execution_count": 4,
   "id": "2e2e880c-62e6-4849-adde-cc8f1d83b037",
   "metadata": {
    "colab": {
     "base_uri": "https://localhost:8080/"
    },
    "id": "jyJ6Ah-IaeZg",
    "outputId": "aee76753-39bb-4c74-c9e0-bc17a0723570"
   },
   "outputs": [
    {
     "name": "stdout",
     "output_type": "stream",
     "text": [
      "range(0, 8)\n"
     ]
    }
   ],
   "source": [
    "print(range(8))"
   ]
  },
  {
   "cell_type": "markdown",
   "id": "02ec413c-d124-4b10-b887-286d312b289e",
   "metadata": {},
   "source": [
    "Но можно поглотить функциями `tuple` или `list`, чтобы получить заполненный объект соответствующего типа! И чудо, там будет диапазон чисел! "
   ]
  },
  {
   "cell_type": "code",
   "execution_count": 5,
   "id": "559a2d6f-654d-4dec-91c7-c34aa456c4e4",
   "metadata": {
    "colab": {
     "base_uri": "https://localhost:8080/"
    },
    "id": "PX8iWwYjjieL",
    "outputId": "a95a3b83-29a9-4002-a8b7-1c006acef34f"
   },
   "outputs": [
    {
     "data": {
      "text/plain": [
       "(0, 1, 2, 3, 4, 5, 6, 7)"
      ]
     },
     "execution_count": 5,
     "metadata": {},
     "output_type": "execute_result"
    }
   ],
   "source": [
    "tuple(range(8))"
   ]
  },
  {
   "cell_type": "code",
   "execution_count": 6,
   "id": "b73d1870-704d-4665-bd8d-6ae7b9c8f759",
   "metadata": {
    "id": "0PSGmTiYafTD"
   },
   "outputs": [
    {
     "data": {
      "text/plain": [
       "[2, 3, 4, 5, 6, 7]"
      ]
     },
     "execution_count": 6,
     "metadata": {},
     "output_type": "execute_result"
    }
   ],
   "source": [
    "list(range(2,8))"
   ]
  },
  {
   "cell_type": "code",
   "execution_count": 7,
   "id": "40e798b8-e509-4bb1-9bf0-ec39c9ecbbca",
   "metadata": {
    "id": "2zB8Tew9aiS2"
   },
   "outputs": [
    {
     "data": {
      "text/plain": [
       "[0, 2, 4, 6]"
      ]
     },
     "execution_count": 7,
     "metadata": {},
     "output_type": "execute_result"
    }
   ],
   "source": [
    "list(range(0, 8, 2))"
   ]
  },
  {
   "cell_type": "markdown",
   "id": "2beaeb93-9f60-40a8-a143-7f09cd6c2347",
   "metadata": {},
   "source": [
    "Другой способ использовать `range`, это не совсем поглотить, а пройтись по нему в цикле"
   ]
  },
  {
   "cell_type": "code",
   "execution_count": 8,
   "id": "6cba8ea8-dabf-433b-af33-408e8c3c61d6",
   "metadata": {
    "colab": {
     "base_uri": "https://localhost:8080/"
    },
    "id": "CUxX-e-janFa",
    "outputId": "4660b180-f097-4881-a2f2-9301f06a3088"
   },
   "outputs": [
    {
     "name": "stdout",
     "output_type": "stream",
     "text": [
      "Привет! 0\n",
      "Привет! 1\n",
      "Привет! 2\n",
      "Привет! 3\n",
      "Привет! 4\n"
     ]
    }
   ],
   "source": [
    "# kolvo = 0\n",
    "# while kolvo < 5:\n",
    "    # print('Привет!')\n",
    "    # kolvo +=1\n",
    "    \n",
    "\n",
    "# здороваемся 5 раз и считаем\n",
    "for i in range(5):\n",
    "    print('Привет!', i)"
   ]
  },
  {
   "cell_type": "markdown",
   "id": "6047e29e-d776-474e-896b-2adea2a545a3",
   "metadata": {},
   "source": [
    "Обратите внимание, что числа из диапазона мы можем использовать как индексы для какой-то последовательности!\n",
    "    (Для списков, кортежей, строк и т.д.)"
   ]
  },
  {
   "cell_type": "code",
   "execution_count": 9,
   "id": "e36fb245-a24a-46f3-bed1-e2c9add64c70",
   "metadata": {
    "id": "wKSeWLJpaqrp"
   },
   "outputs": [
    {
     "name": "stdout",
     "output_type": "stream",
     "text": [
      "l 2\n",
      "l 3\n"
     ]
    }
   ],
   "source": [
    "word = 'Hello'\n",
    "for i in range(2,4):  # как l l напечатать?\n",
    "    print(word[i], i)"
   ]
  },
  {
   "cell_type": "markdown",
   "id": "900950d3-2b69-493f-9f25-97242fcc31bd",
   "metadata": {},
   "source": [
    "Если в коде выше собирать строчку по кусочкам, то это будет эквивалентно срезу ниже.\n",
    "    **Обратите внимание**, индексы устроены так же, только разделены двоеточием: `[начало:конец:шаг]`, а не запятой как в `range`"
   ]
  },
  {
   "cell_type": "code",
   "execution_count": 10,
   "id": "a725ac38-ebaf-476e-ba1c-98cab37a9519",
   "metadata": {},
   "outputs": [
    {
     "data": {
      "text/plain": [
       "'ll'"
      ]
     },
     "execution_count": 10,
     "metadata": {},
     "output_type": "execute_result"
    }
   ],
   "source": [
    "word[2:4]"
   ]
  },
  {
   "cell_type": "markdown",
   "id": "c6846532-c083-4cf9-b1fd-f074f9e6662b",
   "metadata": {
    "id": "D7Hfzprsa7X2"
   },
   "source": [
    "### Тренировка\n",
    "\n",
    "Как напечатать номер месяца и название? Есть много способов. Но попробуем `range(len(months))`"
   ]
  },
  {
   "cell_type": "markdown",
   "id": "f1e892d6-bd36-4069-9a74-8daeef77f457",
   "metadata": {},
   "source": [
    "Ниже для полноты пример с проходом по всему кортежу.\n",
    "    Тут хитро сочетается получение длины функцией `len` (для такого кортежа это будет `12`), и создание диапазона чисел от `0` (это начало по умолчанию, когда не указано иного), до `12` (`len(months)`) невключительно.\n",
    "    \n",
    "Но это и есть в точности все возможные индексы для нашего кортежа!\n",
    "    Ведь они тоже `0..11`!\n",
    "    \n",
    "Поэтому `range()` в сочетании с `len(<список/кортеж/строка/другая последовательность>)` в качестве аргумента, удобен для прохода по последовательностям, когда нужны также индексы."
   ]
  },
  {
   "cell_type": "code",
   "execution_count": 12,
   "id": "f3b97b5b-196b-418d-8130-9869616c4e6b",
   "metadata": {
    "id": "aTfofsFqatN-"
   },
   "outputs": [
    {
     "name": "stdout",
     "output_type": "stream",
     "text": [
      "1 January\n",
      "2 February\n",
      "3 March\n",
      "4 April\n",
      "5 May\n",
      "6 June\n",
      "7 July\n",
      "8 August\n",
      "9 September\n",
      "10 October\n",
      "11 November\n",
      "12 December\n"
     ]
    }
   ],
   "source": [
    "for i in range(len(months)):\n",
    "    print(i+1, months[i])"
   ]
  },
  {
   "cell_type": "code",
   "execution_count": null,
   "id": "ba518be7-332a-438a-b579-3dbd96c45219",
   "metadata": {},
   "outputs": [],
   "source": [
    "list(range(8))"
   ]
  },
  {
   "cell_type": "code",
   "execution_count": null,
   "id": "95cfe965-9b49-4b8a-bbf3-849fb9e56281",
   "metadata": {},
   "outputs": [],
   "source": [
    "list(range(2,8))"
   ]
  },
  {
   "cell_type": "code",
   "execution_count": null,
   "id": "eec4d257-22f2-4e52-a555-70edc052fa5b",
   "metadata": {},
   "outputs": [],
   "source": [
    "list(range(0, 8, 2))"
   ]
  },
  {
   "cell_type": "code",
   "execution_count": null,
   "id": "599831cd-1ba6-4437-a1ba-90e3d6de0584",
   "metadata": {},
   "outputs": [],
   "source": [
    "# здороваемся 5 раз и считаем\n",
    "for i in range(5):\n",
    "    print('Привет!', i+1)"
   ]
  },
  {
   "cell_type": "code",
   "execution_count": null,
   "id": "bdf1d700-2981-483e-bf01-a2383a251632",
   "metadata": {},
   "outputs": [],
   "source": [
    "word = 'Hello'\n",
    "for i in range(_____):  # что сюда добавить, чтобы l l напечатать?\n",
    "    print(word[i])"
   ]
  },
  {
   "cell_type": "markdown",
   "id": "91cf4709-e293-4aa1-a8c4-35a9801da479",
   "metadata": {},
   "source": [
    "### Тренировка\n",
    "Как напечатать номер месяца и название? Есть много способов. Но попробуем `range(len(months))`"
   ]
  },
  {
   "cell_type": "code",
   "execution_count": null,
   "id": "1b6a1a5d-d2ec-49c4-86e1-b3e52b1502cc",
   "metadata": {},
   "outputs": [],
   "source": []
  },
  {
   "cell_type": "markdown",
   "id": "500bf5b8-32a3-4c32-b2ce-feca81fd03d7",
   "metadata": {
    "id": "bb11460f"
   },
   "source": [
    "### Тренировка\n",
    "Напечатайте в строку название книги, автора, год издания"
   ]
  },
  {
   "cell_type": "code",
   "execution_count": null,
   "id": "0a2b9877-7b42-42f8-b5ca-f80ddc4b7c60",
   "metadata": {
    "id": "3f273e9b"
   },
   "outputs": [],
   "source": [
    "books = ['Петя и Волк', 'Муфта, Полботинка и Моховая Борода', 'Зоки и Бада']\n",
    "authors = ['С.С. Прокофьев', 'Эно Рауд', 'Ирина и Леонид Тюхтяевы']\n",
    "publication = ['1936', '1976', '1990']\n",
    "\n",
    "# ваш код"
   ]
  },
  {
   "cell_type": "markdown",
   "id": "c9caa9fd-f8a6-4e48-9ebb-973a52f92194",
   "metadata": {
    "id": "bb11460f"
   },
   "source": [
    "### Тренировка\n",
    "\n",
    "Вводятся числа, по одному на строке. Выведите наибольшее из этих чисел.\n",
    "\n",
    "> Пример:\n",
    "> \n",
    "> ввод:  \n",
    "> `5`  \n",
    "> `41`  \n",
    "> вывод:  \n",
    "> `41`\n"
   ]
  },
  {
   "cell_type": "markdown",
   "id": "683ffae5-157f-454f-8222-8568a579122e",
   "metadata": {
    "id": "bb11460f"
   },
   "source": [
    "#### Тренировка 2\n",
    "\n",
    "\n",
    "Вводятся числа, по одному на строке. Выведите **два самых больших** из этих чисел в порядке убывания\n",
    "\n",
    "> Пример:\n",
    "> \n",
    "> ввод:  \n",
    "> `5`  \n",
    "> `41`  \n",
    "> `51215`\n",
    "> \n",
    "> вывод:  \n",
    "> `51215`    \n",
    "> `41`  \n"
   ]
  },
  {
   "cell_type": "markdown",
   "id": "ae6406b8-69d3-4ec4-b91a-90c26f030a46",
   "metadata": {
    "id": "Rhm23mTbcJWs"
   },
   "source": [
    "## `enumerate(<последовательность>)` &mdash; получить новую последовательность дополненную порядковыми номерами"
   ]
  },
  {
   "cell_type": "markdown",
   "id": "6fc5c6af-1c0c-4498-aeb4-f162ab9061c3",
   "metadata": {},
   "source": [
    "Как и `range` сам по себе ничего не печатает:"
   ]
  },
  {
   "cell_type": "code",
   "execution_count": 15,
   "id": "f9d2f26a-0377-449e-830a-5369511576fc",
   "metadata": {},
   "outputs": [
    {
     "data": {
      "text/plain": [
       "<enumerate at 0x1af30460940>"
      ]
     },
     "execution_count": 15,
     "metadata": {},
     "output_type": "execute_result"
    }
   ],
   "source": [
    "enumerate(months)"
   ]
  },
  {
   "cell_type": "markdown",
   "id": "edc8eded-0447-4326-adc4-8ccf1212ad2f",
   "metadata": {},
   "source": [
    "Но список позволяет поглотить и увидеть, что `enumerate` делает последовательность кортежей (показан список, потому что применили `list`, а не `tuple` например):\n",
    "    \n",
    "    [(порядковый_номер, элемент), (порядковый_номер, элемент), (порядковый_номер, элемент)]\n",
    "    \n"
   ]
  },
  {
   "cell_type": "code",
   "execution_count": 16,
   "id": "d17f212a-8d5c-47ae-8641-d21e0cf5e785",
   "metadata": {},
   "outputs": [
    {
     "data": {
      "text/plain": [
       "[(0, 'January'),\n",
       " (1, 'February'),\n",
       " (2, 'March'),\n",
       " (3, 'April'),\n",
       " (4, 'May'),\n",
       " (5, 'June'),\n",
       " (6, 'July'),\n",
       " (7, 'August'),\n",
       " (8, 'September'),\n",
       " (9, 'October'),\n",
       " (10, 'November'),\n",
       " (11, 'December')]"
      ]
     },
     "execution_count": 16,
     "metadata": {},
     "output_type": "execute_result"
    }
   ],
   "source": [
    "list(enumerate(months))"
   ]
  },
  {
   "cell_type": "markdown",
   "id": "e4085674-a396-4713-88a4-f90fdf0d5e6f",
   "metadata": {},
   "source": [
    "Как это удобно использовать в цикле?"
   ]
  },
  {
   "cell_type": "markdown",
   "id": "fee77d8b-4876-4f5d-b635-d636fc1ad709",
   "metadata": {},
   "source": [
    "Вспомним сперва, что в питоне можно распределять присвоение (со знаком равно `=`) через запятую:"
   ]
  },
  {
   "cell_type": "code",
   "execution_count": 17,
   "id": "b7a3b3d5-d770-43bb-ae87-9ffb4b64a0db",
   "metadata": {
    "id": "SrrQ58N9cTOd"
   },
   "outputs": [
    {
     "name": "stdout",
     "output_type": "stream",
     "text": [
      "a: 4\n",
      "b: 5\n"
     ]
    }
   ],
   "source": [
    "# воспоминание:\n",
    "a, b = 4, 5\n",
    "print(\"a:\", a)\n",
    "print(\"b:\", b)"
   ]
  },
  {
   "cell_type": "markdown",
   "id": "e0646fd2-36fa-491d-9267-9cd3f1318199",
   "metadata": {},
   "source": [
    "Если справа есть скобки, т.е. правая часть &mdash; кортеж, то не страшно, всё работает точно так же:"
   ]
  },
  {
   "cell_type": "code",
   "execution_count": 18,
   "id": "78d6815e-cc2f-4ded-910d-29b0af122ca8",
   "metadata": {},
   "outputs": [
    {
     "name": "stdout",
     "output_type": "stream",
     "text": [
      "i: 5\n",
      "month: June\n"
     ]
    }
   ],
   "source": [
    "i, month =  (5, 'June')\n",
    "\n",
    "print(\"i:\", i)\n",
    "print(\"month:\", month)"
   ]
  },
  {
   "cell_type": "markdown",
   "id": "88491002-316d-4e6d-89cb-ab41c873f62a",
   "metadata": {},
   "source": [
    "Этот способ \"развернуть\" кортеж в отдельные переменные мы и используем! "
   ]
  },
  {
   "cell_type": "markdown",
   "id": "1856bf3a-c2a7-4ef3-a492-2cdb49a62e57",
   "metadata": {},
   "source": [
    "Как и с `range` пройдёмся сразу по `enumerate` (не вызывая `list`):"
   ]
  },
  {
   "cell_type": "code",
   "execution_count": 19,
   "id": "ec46a34c-c2c3-46ff-b1fa-fcac54efbd2e",
   "metadata": {
    "id": "Agil8Md2lGoR"
   },
   "outputs": [
    {
     "name": "stdout",
     "output_type": "stream",
     "text": [
      "id: 0 month: January\n",
      "id: 1 month: February\n",
      "id: 2 month: March\n",
      "id: 3 month: April\n",
      "id: 4 month: May\n",
      "id: 5 month: June\n",
      "id: 6 month: July\n",
      "id: 7 month: August\n",
      "id: 8 month: September\n",
      "id: 9 month: October\n",
      "id: 10 month: November\n",
      "id: 11 month: December\n"
     ]
    }
   ],
   "source": [
    "months = ('January', 'February', 'March',\n",
    "          'April', 'May', 'June', 'July',\n",
    "          'August', 'September', 'October',\n",
    "          'November', 'December')\n",
    "\n",
    "for i, month in enumerate(months):\n",
    "    print(\"id:\", i, \"month:\", month)    "
   ]
  },
  {
   "cell_type": "markdown",
   "id": "4bd32ca7-7307-40d0-9f69-81afb4f7b872",
   "metadata": {},
   "source": [
    "Ну и действительно, на каждом шагу цикла нам выдаётся кортеж из двух элементов, индекса и элемента оригинальной последовательности, и мы этот кортеж просто распаковываем / разворачиваем в отдельные переменные."
   ]
  },
  {
   "cell_type": "markdown",
   "id": "de2400e9-47c5-4b30-8875-f7e9f1040dec",
   "metadata": {},
   "source": [
    "Элементов в кортежах выданных `enumerate` на каждом шагу всегда два, какими бы сложными ни были элементы исходной последовательности:"
   ]
  },
  {
   "cell_type": "code",
   "execution_count": 20,
   "id": "a4edf89b-523a-4f90-8121-a9e7f6a65b4b",
   "metadata": {
    "colab": {
     "base_uri": "https://localhost:8080/"
    },
    "id": "lv-8vhRLnCcy",
    "outputId": "827c2f80-fdaf-4c65-fde2-e38ef68d4a68"
   },
   "outputs": [
    {
     "name": "stdout",
     "output_type": "stream",
     "text": [
      "[(0, [1, 2, 3]), (1, [4, 5, 6]), (2, [7, 8, 9])]\n"
     ]
    }
   ],
   "source": [
    "matrix = [[1, 2, 3], [4, 5, 6], [7, 8, 9]]\n",
    "enum_matrix = list(enumerate(matrix))\n",
    "\n",
    "print(enum_matrix)"
   ]
  },
  {
   "cell_type": "code",
   "execution_count": 21,
   "id": "05d83705-7c47-4301-a640-890809386418",
   "metadata": {
    "colab": {
     "base_uri": "https://localhost:8080/"
    },
    "id": "lv-8vhRLnCcy",
    "outputId": "827c2f80-fdaf-4c65-fde2-e38ef68d4a68"
   },
   "outputs": [
    {
     "name": "stdout",
     "output_type": "stream",
     "text": [
      "index of the row is: 0 values of the row are: [1, 2, 3]\n",
      "index of the row is: 1 values of the row are: [4, 5, 6]\n",
      "index of the row is: 2 values of the row are: [7, 8, 9]\n"
     ]
    }
   ],
   "source": [
    "for row_i, row in enumerate(matrix):\n",
    "    print(\"index of the row is:\", row_i, \"values of the row are:\", row)"
   ]
  },
  {
   "cell_type": "markdown",
   "id": "8fa3821f-9c21-4b67-ab4c-ee2414b38307",
   "metadata": {},
   "source": [
    "Наконец, можно попросить начинать отсчёт с какого-то другого целого числа, не с нуля: "
   ]
  },
  {
   "cell_type": "code",
   "execution_count": 22,
   "id": "4a53798c-e85f-487c-9a97-827208633208",
   "metadata": {},
   "outputs": [
    {
     "name": "stdout",
     "output_type": "stream",
     "text": [
      "2 [1, 2, 3]\n",
      "3 [4, 5, 6]\n",
      "4 [7, 8, 9]\n"
     ]
    }
   ],
   "source": [
    "for i, row in enumerate(matrix, start=2):\n",
    "    print(i, row)    "
   ]
  },
  {
   "cell_type": "markdown",
   "id": "cb092648-12eb-477f-be16-cfc04ae51fa3",
   "metadata": {},
   "source": [
    "#### Цикл в цикле"
   ]
  },
  {
   "cell_type": "markdown",
   "id": "90ad18bb-58e9-4d9c-8ba5-efa95d69042c",
   "metadata": {},
   "source": [
    "Максим подтягивается 2 подхода по 10 раз:"
   ]
  },
  {
   "cell_type": "code",
   "execution_count": 7,
   "id": "f96a5226-760d-4880-95b7-91f167f1810b",
   "metadata": {
    "colab": {
     "base_uri": "https://localhost:8080/"
    },
    "id": "rLnMop4YBZuq",
    "outputId": "977fb38b-e5a5-4bd5-cf6f-b97792890763"
   },
   "outputs": [
    {
     "name": "stdout",
     "output_type": "stream",
     "text": [
      "повторов сделано:\n",
      " 1\n",
      " 2\n",
      " 3\n",
      " 4\n",
      " 5\n",
      " 6\n",
      " 7\n",
      " 8\n",
      " 9\n",
      " 10\n",
      "\n",
      "ПОДХОДОВ сделано: 1\n",
      "повторов сделано:\n",
      " 1\n",
      " 2\n",
      " 3\n",
      " 4\n",
      " 5\n",
      " 6\n",
      " 7\n",
      " 8\n",
      " 9\n",
      " 10\n",
      "\n",
      "ПОДХОДОВ сделано: 2\n"
     ]
    }
   ],
   "source": [
    "num_sets = 2\n",
    "num_repeats = 10\n",
    "\n",
    "for set_povtor in range(num_sets):\n",
    "    print(\"повторов сделано:\")\n",
    "    for repeat in range(num_repeats):\n",
    "        print(\"\", repeat + 1)\n",
    "\n",
    "    print()\n",
    "    print(\"ПОДХОДОВ сделано:\", set_povtor + 1)    "
   ]
  },
  {
   "cell_type": "markdown",
   "id": "d28e841a-1ca3-40e6-9439-0a4e8ac8f561",
   "metadata": {},
   "source": [
    "### Тренировка\n",
    "Снова напишем таблицу умножения"
   ]
  },
  {
   "cell_type": "code",
   "execution_count": null,
   "id": "c4b3015a-b2dd-4c40-9fd9-8b7a41bac71b",
   "metadata": {},
   "outputs": [],
   "source": []
  }
 ],
 "metadata": {
  "kernelspec": {
   "display_name": "Python 3 (ipykernel)",
   "language": "python",
   "name": "python3"
  },
  "language_info": {
   "codemirror_mode": {
    "name": "ipython",
    "version": 3
   },
   "file_extension": ".py",
   "mimetype": "text/x-python",
   "name": "python",
   "nbconvert_exporter": "python",
   "pygments_lexer": "ipython3",
   "version": "3.11.3"
  }
 },
 "nbformat": 4,
 "nbformat_minor": 5
}
