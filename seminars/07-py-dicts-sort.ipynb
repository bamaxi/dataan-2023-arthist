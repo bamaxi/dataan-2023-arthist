{
 "cells": [
  {
   "cell_type": "markdown",
   "id": "329e313e-0ea4-4211-ba4a-6e7b29052c54",
   "metadata": {},
   "source": [
    "# Словари. Сортировка."
   ]
  },
  {
   "cell_type": "markdown",
   "id": "e7b2d036-758a-4185-8f4c-ab0dc064b8ec",
   "metadata": {},
   "source": [
    "### Создание словаря\n",
    "#### `dict()` - функция для создания словаря"
   ]
  },
  {
   "cell_type": "code",
   "execution_count": 38,
   "id": "4516ae5e-6000-44fd-a76f-9f56f50e3ddc",
   "metadata": {},
   "outputs": [
    {
     "name": "stdout",
     "output_type": "stream",
     "text": [
      "{}\n",
      "<class 'dict'>\n"
     ]
    }
   ],
   "source": [
    "empty_dict_1 = {}           # Пустой словарь\n",
    "empty_dict_2 = dict()       # И еще один пустой словарь\n",
    "print(empty_dict_1)  \n",
    "print(type(empty_dict_2))   # Python видит словарь как тип данных dict"
   ]
  },
  {
   "cell_type": "markdown",
   "id": "8b40ba26-0bbc-4b28-aabb-98e355d6570b",
   "metadata": {},
   "source": [
    "**Можно задать словарь парами ключ - значение**"
   ]
  },
  {
   "cell_type": "code",
   "execution_count": 39,
   "id": "17d206e7-0ae6-44db-8ca4-396bec585431",
   "metadata": {},
   "outputs": [
    {
     "name": "stdout",
     "output_type": "stream",
     "text": [
      "{'Совунья': 'сова', 'Копатыч': 'медведь', 'Карыч': 'ворон', 'Крош': 'кролик'}\n"
     ]
    }
   ],
   "source": [
    "kikoriki_animal_dict = {'Совунья': 'сова', 'Копатыч': 'медведь', 'Карыч': 'ворон', 'Крош': 'кролик'}  # создадим словарь\n",
    "print(kikoriki_animal_dict)"
   ]
  },
  {
   "cell_type": "markdown",
   "id": "8abde75f-446b-4c20-85a9-de7d3c94864f",
   "metadata": {},
   "source": [
    "<img alt=\"диаграмма Венна для симметрической разности множеств\" width=\"300\" height=\"200\" src=\"data:image/png;base64,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\" />"
   ]
  },
  {
   "cell_type": "markdown",
   "id": "9b3cd32e-4aa4-47b1-b0da-b41e0952b8e9",
   "metadata": {},
   "source": [
    "Объекты-ключи **уникальные** и неизменяемые, каждому из них сопоставлено значение, которое может быть неуникальным и изменяемым. \n",
    "    То есть ключи словаря похожи на элементы множества, а словарь на $множество + соответствия$.\n"
   ]
  },
  {
   "cell_type": "code",
   "execution_count": 40,
   "id": "a050033f-02ea-4977-b306-c414aaddfc8d",
   "metadata": {},
   "outputs": [
    {
     "data": {
      "text/plain": [
       "{'Рождественская мистерия': ['Юстейн Гордер', 1992],\n",
       " True: True,\n",
       " ('Гарри Поттер и Дары Смерти 1',\n",
       "  'Гарри Поттер и Дары Смерти 2'): ['Дэвид Йейтс', '2010-2011'],\n",
       " 451: 451}"
      ]
     },
     "execution_count": 40,
     "metadata": {},
     "output_type": "execute_result"
    }
   ],
   "source": [
    "strange_dict = {'Рождественская мистерия': ['Юстейн Гордер', 1992],\n",
    "                 True: True,\n",
    "               ('Гарри Поттер и Дары Смерти 1', 'Гарри Поттер и Дары Смерти 2'): ['Дэвид Йейтс', '2010-2011'],\n",
    "                 451: 451}\n",
    "strange_dict"
   ]
  },
  {
   "cell_type": "code",
   "execution_count": 41,
   "id": "f607a12a-9997-42cf-bbb4-154b6de2fe84",
   "metadata": {},
   "outputs": [
    {
     "ename": "TypeError",
     "evalue": "unhashable type: 'list'",
     "output_type": "error",
     "traceback": [
      "\u001b[1;31m---------------------------------------------------------------------------\u001b[0m",
      "\u001b[1;31mTypeError\u001b[0m                                 Traceback (most recent call last)",
      "Cell \u001b[1;32mIn [41], line 2\u001b[0m\n\u001b[0;32m      1\u001b[0m \u001b[38;5;66;03m# Вот так не работает:\u001b[39;00m\n\u001b[1;32m----> 2\u001b[0m books \u001b[38;5;241m=\u001b[39m {[\u001b[38;5;124m'\u001b[39m\u001b[38;5;124mВойна и мир\u001b[39m\u001b[38;5;124m'\u001b[39m, \u001b[38;5;124m'\u001b[39m\u001b[38;5;124mАнна Каренина\u001b[39m\u001b[38;5;124m'\u001b[39m, \u001b[38;5;124m'\u001b[39m\u001b[38;5;124mДетство\u001b[39m\u001b[38;5;124m'\u001b[39m]: \u001b[38;5;124m'\u001b[39m\u001b[38;5;124mЛ. Н. Толстой\u001b[39m\u001b[38;5;124m'\u001b[39m}\n\u001b[0;32m      3\u001b[0m \u001b[38;5;66;03m# Список не может быть в ключе\u001b[39;00m\n",
      "\u001b[1;31mTypeError\u001b[0m: unhashable type: 'list'"
     ]
    }
   ],
   "source": [
    "# Вот так не работает:\n",
    "books = {['Война и мир', 'Анна Каренина', 'Детство']: 'Л. Н. Толстой'}\n",
    "# Список не может быть в ключе"
   ]
  },
  {
   "cell_type": "markdown",
   "id": "b4a6ff15-6ac1-4a89-80a3-d22823965072",
   "metadata": {},
   "source": [
    "**Можно сделать словарь из списка (последовательности) особой структуры**\n",
    "\n",
    "Это должен быть список (последовательность) кортежей (или списков) из двух элементов &mdash; это пара ключ-значение.\n",
    "    Первый элемент тогда станет ключом в будущем словаре, а второй значением для этого ключа."
   ]
  },
  {
   "cell_type": "code",
   "execution_count": 42,
   "id": "0d9a8c30-d4cc-45c0-9e9a-ef0cf63f6e62",
   "metadata": {},
   "outputs": [
    {
     "name": "stdout",
     "output_type": "stream",
     "text": [
      "{'Совунья': 'сова', 'Копатыч': 'медведь', 'Карыч': 'ворон', 'Крош': 'кролик'}\n"
     ]
    }
   ],
   "source": [
    "kikoriki_animal_dict = dict([[\"Совунья\", \"сова\"],\n",
    "                             [\"Копатыч\", \"медведь\"],\n",
    "                             [\"Карыч\", \"ворон\"],\n",
    "                             [\"Крош\", \"кролик\"]])\n",
    "print(kikoriki_animal_dict)"
   ]
  },
  {
   "cell_type": "markdown",
   "id": "89816bff-e957-4b00-9799-c64325104d69",
   "metadata": {},
   "source": [
    "(чаще вложенными бывают кортежи, а не списки)"
   ]
  },
  {
   "cell_type": "code",
   "execution_count": 43,
   "id": "8ca46a11-33c7-4bee-b7dc-eaea8b2c6f5b",
   "metadata": {},
   "outputs": [
    {
     "name": "stdout",
     "output_type": "stream",
     "text": [
      "{'Совунья': 'сова', 'Копатыч': 'медведь', 'Карыч': 'ворон', 'Крош': 'кролик'}\n"
     ]
    }
   ],
   "source": [
    "kikoriki_animal_dict = dict([(\"Совунья\", \"сова\"),\n",
    "                             (\"Копатыч\", \"медведь\"),\n",
    "                             (\"Карыч\", \"ворон\"),\n",
    "                             (\"Крош\", \"кролик\")])\n",
    "print(kikoriki_animal_dict)"
   ]
  },
  {
   "cell_type": "markdown",
   "id": "ea70f1cc-104b-429c-a67f-02233604f457",
   "metadata": {},
   "source": [
    "Мы помним, что `enumerate` выдаёт нам кортежи, поэтому результат выполнения этой функции тоже может быть здесь использован в качестве последовательности."
   ]
  },
  {
   "cell_type": "code",
   "execution_count": 44,
   "id": "2e703aab-5ece-4747-b9a4-32a5a8a2b7ac",
   "metadata": {},
   "outputs": [
    {
     "name": "stdout",
     "output_type": "stream",
     "text": [
      "{1: 'Достоевский', 2: 'Гёте', 3: 'Толстой'}\n"
     ]
    }
   ],
   "source": [
    "place_in_my_list2author = dict(\n",
    "    enumerate([\"Достоевский\", \"Гёте\", \"Толстой\"], start=1)\n",
    ")\n",
    "\n",
    "print(place_in_my_list2author)"
   ]
  },
  {
   "cell_type": "markdown",
   "id": "680f797d-8ef7-4721-846f-90948f703124",
   "metadata": {},
   "source": [
    "### Длина словаря `len()`"
   ]
  },
  {
   "cell_type": "code",
   "execution_count": 45,
   "id": "7f662bb2-365c-4442-b286-ab1ad0806243",
   "metadata": {},
   "outputs": [
    {
     "data": {
      "text/plain": [
       "4"
      ]
     },
     "execution_count": 45,
     "metadata": {},
     "output_type": "execute_result"
    }
   ],
   "source": [
    "len(kikoriki_animal_dict)  # количество ключей"
   ]
  },
  {
   "cell_type": "markdown",
   "id": "f9c8be22-fb51-4f4d-a4f4-e9571ce75d0a",
   "metadata": {},
   "source": [
    "### Доступ к элементам"
   ]
  },
  {
   "cell_type": "code",
   "execution_count": 46,
   "id": "dcd75a8d-f21a-4957-973e-40c975b2a88f",
   "metadata": {},
   "outputs": [
    {
     "name": "stdout",
     "output_type": "stream",
     "text": [
      "{'Совунья': 'сова', 'Копатыч': 'медведь', 'Карыч': 'ворон', 'Крош': 'кролик'}\n"
     ]
    }
   ],
   "source": [
    "print(kikoriki_animal_dict)"
   ]
  },
  {
   "cell_type": "markdown",
   "id": "b6868e82-3cf8-46c3-bbb3-2d1cf64c8d69",
   "metadata": {},
   "source": [
    "Словарь - неупорядоченная коллекция, поэтому доступ по индексу невозможен:"
   ]
  },
  {
   "cell_type": "code",
   "execution_count": 47,
   "id": "b273d58e-5d5a-4a3b-bcd3-618fe01cc950",
   "metadata": {},
   "outputs": [
    {
     "ename": "KeyError",
     "evalue": "2",
     "output_type": "error",
     "traceback": [
      "\u001b[1;31m---------------------------------------------------------------------------\u001b[0m",
      "\u001b[1;31mKeyError\u001b[0m                                  Traceback (most recent call last)",
      "Cell \u001b[1;32mIn [47], line 1\u001b[0m\n\u001b[1;32m----> 1\u001b[0m \u001b[43mkikoriki_animal_dict\u001b[49m\u001b[43m[\u001b[49m\u001b[38;5;241;43m2\u001b[39;49m\u001b[43m]\u001b[49m\n",
      "\u001b[1;31mKeyError\u001b[0m: 2"
     ]
    }
   ],
   "source": [
    "kikoriki_animal_dict[2]"
   ]
  },
  {
   "cell_type": "markdown",
   "id": "0c98e973-0ab5-43c8-ab95-7389da788ce9",
   "metadata": {},
   "source": [
    "**Можно обращаться по ключу**"
   ]
  },
  {
   "cell_type": "code",
   "execution_count": 48,
   "id": "de272725-0e44-4daa-ab3e-faefa53a6057",
   "metadata": {},
   "outputs": [
    {
     "name": "stdout",
     "output_type": "stream",
     "text": [
      "кролик\n"
     ]
    }
   ],
   "source": [
    "kikoriki_animal_dict = {'Совунья': 'сова', 'Копатыч': 'медведь', 'Карыч': 'ворон', 'Крош': 'кролик'}\n",
    "print(kikoriki_animal_dict['Крош'])"
   ]
  },
  {
   "cell_type": "code",
   "execution_count": 49,
   "id": "9e2d5019-b5c4-4d0b-a293-de7aae9b069f",
   "metadata": {},
   "outputs": [
    {
     "ename": "KeyError",
     "evalue": "'Бараш'",
     "output_type": "error",
     "traceback": [
      "\u001b[1;31m---------------------------------------------------------------------------\u001b[0m",
      "\u001b[1;31mKeyError\u001b[0m                                  Traceback (most recent call last)",
      "Cell \u001b[1;32mIn [49], line 1\u001b[0m\n\u001b[1;32m----> 1\u001b[0m \u001b[38;5;28mprint\u001b[39m(\u001b[43mkikoriki_animal_dict\u001b[49m\u001b[43m[\u001b[49m\u001b[38;5;124;43m'\u001b[39;49m\u001b[38;5;124;43mБараш\u001b[39;49m\u001b[38;5;124;43m'\u001b[39;49m\u001b[43m]\u001b[49m)  \u001b[38;5;66;03m# если такой ключ в словаре отсутствует — получим ошибку KeyError\u001b[39;00m\n",
      "\u001b[1;31mKeyError\u001b[0m: 'Бараш'"
     ]
    }
   ],
   "source": [
    "print(kikoriki_animal_dict['Бараш'])  # если такой ключ в словаре отсутствует — получим ошибку KeyError"
   ]
  },
  {
   "cell_type": "markdown",
   "id": "8ca5f936-60c8-434a-b9b0-356d4cdad01d",
   "metadata": {},
   "source": [
    "как исправить?"
   ]
  },
  {
   "cell_type": "markdown",
   "id": "d615953a-ed3c-44bf-a68e-4de0a7f01a62",
   "metadata": {},
   "source": [
    "### Проверка наличия"
   ]
  },
  {
   "cell_type": "markdown",
   "id": "067ad166-3ae1-47eb-8fc4-f2b2271bccbe",
   "metadata": {},
   "source": [
    "**Можно проверить наличие ключа в словаре** с помощью `in / not in`"
   ]
  },
  {
   "cell_type": "code",
   "execution_count": 50,
   "id": "57aeae9b-bdfd-4135-879c-f75dcd068b9a",
   "metadata": {},
   "outputs": [
    {
     "name": "stdout",
     "output_type": "stream",
     "text": [
      "True\n",
      "False\n"
     ]
    }
   ],
   "source": [
    "kikoriki_animal_dict = {'Совунья': 'сова', 'Копатыч': 'медведь', 'Карыч': 'ворон', 'Крош': 'кролик'}\n",
    "print('Карыч' in kikoriki_animal_dict)  # есть ли в нашем словаре ключ 'Карыч'?\n",
    "print('ворон' in kikoriki_animal_dict)  # есть ли в нашем словаре ключ 'ворон'?"
   ]
  },
  {
   "cell_type": "code",
   "execution_count": 4,
   "id": "c7b89258-b78e-4c70-bac9-9b3181275182",
   "metadata": {},
   "outputs": [
    {
     "ename": "KeyError",
     "evalue": "'Бараш'",
     "output_type": "error",
     "traceback": [
      "\u001b[0;31m---------------------------------------------------------------------------\u001b[0m",
      "\u001b[0;31mKeyError\u001b[0m                                  Traceback (most recent call last)",
      "Input \u001b[0;32mIn [4]\u001b[0m, in \u001b[0;36m<cell line: 4>\u001b[0;34m()\u001b[0m\n\u001b[1;32m      1\u001b[0m kikoriki_dict \u001b[38;5;241m=\u001b[39m {\u001b[38;5;124m'\u001b[39m\u001b[38;5;124mСовунья\u001b[39m\u001b[38;5;124m'\u001b[39m: \u001b[38;5;124m'\u001b[39m\u001b[38;5;124mсова\u001b[39m\u001b[38;5;124m'\u001b[39m, \u001b[38;5;124m'\u001b[39m\u001b[38;5;124mКопатыч\u001b[39m\u001b[38;5;124m'\u001b[39m: \u001b[38;5;124m'\u001b[39m\u001b[38;5;124mмедведь\u001b[39m\u001b[38;5;124m'\u001b[39m,\n\u001b[1;32m      2\u001b[0m                  \u001b[38;5;124m'\u001b[39m\u001b[38;5;124mКарыч\u001b[39m\u001b[38;5;124m'\u001b[39m: \u001b[38;5;124m'\u001b[39m\u001b[38;5;124mворон\u001b[39m\u001b[38;5;124m'\u001b[39m, \u001b[38;5;124m'\u001b[39m\u001b[38;5;124mКрош\u001b[39m\u001b[38;5;124m'\u001b[39m: \u001b[38;5;124m'\u001b[39m\u001b[38;5;124mкролик\u001b[39m\u001b[38;5;124m'\u001b[39m}\n\u001b[0;32m----> 4\u001b[0m \u001b[43mkikoriki_dict\u001b[49m\u001b[43m[\u001b[49m\u001b[38;5;124;43m'\u001b[39;49m\u001b[38;5;124;43mБараш\u001b[39;49m\u001b[38;5;124;43m'\u001b[39;49m\u001b[43m]\u001b[49m\n",
      "\u001b[0;31mKeyError\u001b[0m: 'Бараш'"
     ]
    }
   ],
   "source": [
    "kikoriki_dict = {'Совунья': 'сова', 'Копатыч': 'медведь',\n",
    "                 'Карыч': 'ворон', 'Крош': 'кролик'}\n",
    "\n",
    "kikoriki_dict['Бараш']  # Хотим узнать про Бараша, если про него есть информация\n",
    "\n",
    "# Как исправить?"
   ]
  },
  {
   "cell_type": "markdown",
   "id": "7d5ad4f4-5691-4856-91da-32fd37646e58",
   "metadata": {},
   "source": [
    "**При прохождении по циклу работаем с ключами**"
   ]
  },
  {
   "cell_type": "code",
   "execution_count": 51,
   "id": "36ed8a05-532e-4807-9dee-47d2bf64ff75",
   "metadata": {},
   "outputs": [
    {
     "name": "stdout",
     "output_type": "stream",
     "text": [
      "Совунья\n",
      "Копатыч\n",
      "Карыч\n",
      "Крош\n"
     ]
    }
   ],
   "source": [
    "for kikorik in kikoriki_animal_dict:\n",
    "    print(kikorik)"
   ]
  },
  {
   "cell_type": "markdown",
   "id": "014725bf-4d5e-43e4-b18f-e7d637297e35",
   "metadata": {},
   "source": [
    "**Можно обращаться к ключам, значениям и кортежам `(ключ, значение)`** с помощью специальных методов.\n",
    "\n",
    "* `.keys()` — возвращает объект с ключами словаря.\n",
    "* `.values()` — возвращает объект со значениями словаря.\n",
    "* `.items()` — возвращает объект с кортежами вида (ключ, значение).\n",
    "\n",
    "По каждому из этих объектов можно, например, пройтись циклом `for`, вывести с помощью оператора распаковки `*` или объединить в строку с помощью `.join()` (если объекты внутри — строки)."
   ]
  },
  {
   "cell_type": "code",
   "execution_count": 52,
   "id": "79682899-0def-453d-a254-e5923bed7759",
   "metadata": {},
   "outputs": [
    {
     "name": "stdout",
     "output_type": "stream",
     "text": [
      "dict_keys(['Совунья', 'Копатыч', 'Карыч', 'Крош'])\n",
      "dict_values(['сова', 'медведь', 'ворон', 'кролик'])\n",
      "dict_items([('Совунья', 'сова'), ('Копатыч', 'медведь'), ('Карыч', 'ворон'), ('Крош', 'кролик')])\n"
     ]
    }
   ],
   "source": [
    "print(kikoriki_animal_dict.keys())   # ключи\n",
    "print(kikoriki_animal_dict.values()) # значения\n",
    "print(kikoriki_animal_dict.items())  # кортежи (ключ, значение)"
   ]
  },
  {
   "cell_type": "markdown",
   "id": "6b21c91d-bd32-4203-9a97-d2c48703d191",
   "metadata": {},
   "source": [
    "### Тренировка\n",
    "Проверьте, что \"ворон\" в значениях, а \"панда\" нет."
   ]
  },
  {
   "cell_type": "code",
   "execution_count": null,
   "id": "c4720bbd-f4d0-4219-8030-f9781e0fa50c",
   "metadata": {},
   "outputs": [],
   "source": []
  },
  {
   "cell_type": "markdown",
   "id": "f8641bda-c871-49e5-9e9f-b78788efc987",
   "metadata": {},
   "source": [
    "### Тренировка\n",
    "Выведите информацию про то, какими животными являются смешарики-дети (если они есть в словаре)"
   ]
  },
  {
   "cell_type": "code",
   "execution_count": 2,
   "id": "25c0a284-5eb6-452c-98a1-ec616bb3943b",
   "metadata": {},
   "outputs": [],
   "source": [
    "kikoriki_animal_dict = {'Совунья': 'сова', 'Копатыч': 'медведь', 'Карыч': 'ворон', 'Крош': 'кролик', 'Ёжик': 'ёж'}\n",
    "kikoriki_kids_set = {'Ёжик', 'Бараш', 'Биби', 'Крош', 'Нюша'}\n",
    "\n"
   ]
  },
  {
   "cell_type": "markdown",
   "id": "919c8b0a-ee8d-4b99-becd-1eba2217cf07",
   "metadata": {},
   "source": [
    "### `.get()` - взять значение, если есть"
   ]
  },
  {
   "cell_type": "markdown",
   "id": "5b83a2e6-2720-49f1-849d-91788f929801",
   "metadata": {},
   "source": [
    "Есть ещё полезный метод словарей `.get(<ключ>, (<что_вернуть_если_ключа_нет>))`"
   ]
  },
  {
   "cell_type": "code",
   "execution_count": null,
   "id": "16e11e68-d8a5-432c-a35e-c20c4b400e15",
   "metadata": {},
   "outputs": [],
   "source": [
    "kikoriki_dict = {'Совунья': 'сова', 'Копатыч': 'медведь',\n",
    "                 'Карыч': 'ворон', 'Крош': 'кролик'}\n",
    "\n",
    "print(kikoriki_dict.get(\"Бараш\"))\n",
    "# значение None - уникальная штучка, символизирующая отсутствие"
   ]
  },
  {
   "cell_type": "code",
   "execution_count": 5,
   "id": "aeb426d3-e24c-4929-8d93-cdfb7bfc34cc",
   "metadata": {},
   "outputs": [
    {
     "data": {
      "text/plain": [
       "'вид неизвестен'"
      ]
     },
     "execution_count": 5,
     "metadata": {},
     "output_type": "execute_result"
    }
   ],
   "source": [
    "kikoriki_dict = {'Совунья': 'сова', 'Копатыч': 'медведь',\n",
    "                 'Карыч': 'ворон', 'Крош': 'кролик'}\n",
    "\n",
    "kikoriki_dict.get(\"Бараш\", \"вид неизвестен\")\n",
    "# значение уже не None, а то, что указали"
   ]
  },
  {
   "cell_type": "code",
   "execution_count": 6,
   "id": "e9fd9b7e-59a8-4290-99ec-f2b74e3e9adb",
   "metadata": {},
   "outputs": [
    {
     "data": {
      "text/plain": [
       "'ворон'"
      ]
     },
     "execution_count": 6,
     "metadata": {},
     "output_type": "execute_result"
    }
   ],
   "source": [
    "kikoriki_dict.get(\"Карыч\", \"вид неизвестен\")"
   ]
  },
  {
   "cell_type": "code",
   "execution_count": 1,
   "id": "f7a83911-e8b1-4fed-bcaa-a19e062bb2b1",
   "metadata": {},
   "outputs": [],
   "source": [
    "# Как узнать, есть ли в словаре имя у кролика?\n"
   ]
  },
  {
   "cell_type": "markdown",
   "id": "10c68ec4-ce30-4472-a4fa-4643fc3f085f",
   "metadata": {},
   "source": [
    "#### Тренировка"
   ]
  },
  {
   "cell_type": "markdown",
   "id": "e80514cf-fe0d-49e7-9192-b8fb08798677",
   "metadata": {},
   "source": [
    "Узнайте, как зовут медведя"
   ]
  },
  {
   "cell_type": "code",
   "execution_count": 13,
   "id": "e4d19d26-ea9e-4ca0-8e63-e7f4ceb6f3f8",
   "metadata": {},
   "outputs": [
    {
     "name": "stdout",
     "output_type": "stream",
     "text": [
      "Копатыч\n"
     ]
    }
   ],
   "source": [
    "# ваш код\n"
   ]
  },
  {
   "cell_type": "markdown",
   "id": "d869e99d-355f-4d89-b86a-f799e178d908",
   "metadata": {},
   "source": [
    "**Способы вывести пары ключ-значение**"
   ]
  },
  {
   "cell_type": "code",
   "execution_count": 14,
   "id": "4595a94d-f5f8-461f-9222-ff2c9d75c631",
   "metadata": {},
   "outputs": [
    {
     "name": "stdout",
     "output_type": "stream",
     "text": [
      "Совунья  -  сова\n",
      "---------------\n",
      "Копатыч  -  медведь\n",
      "---------------\n",
      "Карыч  -  ворон\n",
      "---------------\n",
      "Крош  -  кролик\n",
      "---------------\n"
     ]
    }
   ],
   "source": [
    "# значения\n",
    "kikoriki_dict = {'Совунья': 'сова', 'Копатыч': 'медведь',\n",
    "                 'Карыч': 'ворон', 'Крош': 'кролик'}\n",
    "\n",
    "for key in kikoriki_dict:  # перебираем ключи словаря\n",
    "    print(key, ' - ', kikoriki_dict[key])  # печатаем ключ и печатаем значение, соответсвующее ключу\n",
    "    print('-'* 15)"
   ]
  },
  {
   "cell_type": "code",
   "execution_count": 15,
   "id": "aa1353f8-7035-4cdf-9513-a2ef1f472baa",
   "metadata": {},
   "outputs": [
    {
     "name": "stdout",
     "output_type": "stream",
     "text": [
      "Совунья  -  сова\n",
      "---------------\n",
      "Копатыч  -  медведь\n",
      "---------------\n",
      "Карыч  -  ворон\n",
      "---------------\n",
      "Крош  -  кролик\n",
      "---------------\n"
     ]
    }
   ],
   "source": [
    "# Как сделать это при помощи .items()?\n",
    "for kikorik in kikoriki_dict.items():\n",
    "    print(kikorik[0], ' - ', kikorik[1])\n",
    "    print('-'* 15)"
   ]
  },
  {
   "cell_type": "code",
   "execution_count": 16,
   "id": "d5457ea9-1ab9-4608-b57b-f8f4cbafb252",
   "metadata": {},
   "outputs": [
    {
     "name": "stdout",
     "output_type": "stream",
     "text": [
      "Совунья  -  сова\n",
      "---------------\n",
      "Копатыч  -  медведь\n",
      "---------------\n",
      "Карыч  -  ворон\n",
      "---------------\n",
      "Крош  -  кролик\n",
      "---------------\n"
     ]
    }
   ],
   "source": [
    "# Как сделать по-другому при помощи .items()?\n",
    "for name, animal in kikoriki_dict.items():\n",
    "    print(name, ' - ', animal)\n",
    "    print('-'* 15)"
   ]
  },
  {
   "cell_type": "markdown",
   "id": "df12c444-b43f-4a82-8814-08ae1e34a222",
   "metadata": {},
   "source": [
    "#### Добавление пары ключ-значение"
   ]
  },
  {
   "cell_type": "code",
   "execution_count": 17,
   "id": "8c5913c4-fd67-4973-bd26-c97468380151",
   "metadata": {},
   "outputs": [
    {
     "name": "stdout",
     "output_type": "stream",
     "text": [
      "Сейчас словарь пуст: {}\n"
     ]
    }
   ],
   "source": [
    "to_do = {}  # Создадим пустой словарь\n",
    "print(f'Сейчас словарь пуст: {to_do}')"
   ]
  },
  {
   "cell_type": "code",
   "execution_count": 18,
   "id": "982be7c3-c9e8-4879-8a99-a9924d702f12",
   "metadata": {},
   "outputs": [
    {
     "name": "stdout",
     "output_type": "stream",
     "text": [
      "Сейчас в словаре: {'Учебное': ['прочитать книгу', 'дз по питону']}\n"
     ]
    }
   ],
   "source": [
    "# Добавим дела учебные\n",
    "to_do['Учебное'] = ['прочитать книгу', 'дз по питону']\n",
    "print(f'Сейчас в словаре: {to_do}')"
   ]
  },
  {
   "cell_type": "code",
   "execution_count": 19,
   "id": "a6ae788b-90e0-460c-841b-7c95321fa23e",
   "metadata": {},
   "outputs": [
    {
     "name": "stdout",
     "output_type": "stream",
     "text": [
      "Сейчас в словаре: {'Учебное': ['прочитать книгу', 'дз по питону'], 'Домашнее': 'уборка'}\n"
     ]
    }
   ],
   "source": [
    "to_do['Домашнее'] = 'уборка'\n",
    "print(f'Сейчас в словаре: {to_do}')"
   ]
  },
  {
   "cell_type": "code",
   "execution_count": 20,
   "id": "aa4840c0-d088-4781-ba4f-0af21dffd272",
   "metadata": {},
   "outputs": [
    {
     "name": "stdout",
     "output_type": "stream",
     "text": [
      "{'Учебное': ['прочитать книгу', 'дз по питону'], 'Домашнее': 'уборка', 'Хобби': ['выучить песню', 'заявка на конкурс']}\n"
     ]
    }
   ],
   "source": [
    "# Добавьте своё\n",
    "to_do['Хобби'] = ['выучить песню', 'заявка на конкурс']\n",
    "print(to_do)"
   ]
  },
  {
   "cell_type": "markdown",
   "id": "61d08e17-7021-4b4d-99be-62d6ac803b43",
   "metadata": {},
   "source": [
    "#### Изменение пары ключ-значение"
   ]
  },
  {
   "cell_type": "code",
   "execution_count": 21,
   "id": "703323c2-a5b8-4a71-9789-163be862df50",
   "metadata": {},
   "outputs": [
    {
     "data": {
      "text/plain": [
       "{'Учебное': ['прочитать книгу', 'дз по питону'],\n",
       " 'Домашнее': ['уборка', 'отдых'],\n",
       " 'Хобби': ['выучить песню', 'заявка на конкурс']}"
      ]
     },
     "execution_count": 21,
     "metadata": {},
     "output_type": "execute_result"
    }
   ],
   "source": [
    "to_do['Домашнее'] = ['уборка', 'отдых']  # изменили\n",
    "to_do"
   ]
  },
  {
   "cell_type": "code",
   "execution_count": 22,
   "id": "f74f7a45-eb24-4dcd-a154-195291a4434b",
   "metadata": {},
   "outputs": [
    {
     "data": {
      "text/plain": [
       "{'Учебное': ['прочитать книгу', 'дз по питону'],\n",
       " 'Домашнее': ['уборка', 'отдых', 'готовка'],\n",
       " 'Хобби': ['выучить песню', 'заявка на конкурс']}"
      ]
     },
     "execution_count": 22,
     "metadata": {},
     "output_type": "execute_result"
    }
   ],
   "source": [
    "# Как добавить готовку в Домашнее?\n",
    "# Чтобы получилось:\n",
    "# 'Домашнее': ['уборка', 'отдых', 'готовка']\n",
    "\n",
    "to_do['Домашнее'].append('готовка')\n",
    "to_do"
   ]
  },
  {
   "cell_type": "markdown",
   "id": "68e60e83-c4a8-4132-94a9-761b337256a1",
   "metadata": {},
   "source": [
    "#### Удаление пары ключ-значение `del`"
   ]
  },
  {
   "cell_type": "code",
   "execution_count": 23,
   "id": "feeec304-1a96-4de0-81f8-03f24e002fef",
   "metadata": {},
   "outputs": [
    {
     "data": {
      "text/plain": [
       "{'Домашнее': ['уборка', 'отдых', 'готовка'],\n",
       " 'Хобби': ['выучить песню', 'заявка на конкурс']}"
      ]
     },
     "execution_count": 23,
     "metadata": {},
     "output_type": "execute_result"
    }
   ],
   "source": [
    "del to_do['Учебное'] # после выпуска из института такое бывает\n",
    "\n",
    "to_do"
   ]
  },
  {
   "cell_type": "code",
   "execution_count": 24,
   "id": "abe90c13-9f9d-436b-a0b0-86ed46001ab1",
   "metadata": {},
   "outputs": [
    {
     "data": {
      "text/plain": [
       "{'Домашнее': ['отдых', 'готовка'],\n",
       " 'Хобби': ['выучить песню', 'заявка на конкурс']}"
      ]
     },
     "execution_count": 24,
     "metadata": {},
     "output_type": "execute_result"
    }
   ],
   "source": [
    "# А как удалить уборку из Домашнего?\n",
    "# Чтобы осталось: ['отдых', 'готовка']\n",
    "to_do['Домашнее'].remove('уборка')\n",
    "to_do"
   ]
  },
  {
   "cell_type": "markdown",
   "id": "74e6c49b-42b3-4ee2-89ce-873347df363f",
   "metadata": {},
   "source": [
    "### Отступление про `.copy()`"
   ]
  },
  {
   "cell_type": "code",
   "execution_count": 25,
   "id": "56770504-d91f-47a0-9a71-63569f4de6c0",
   "metadata": {},
   "outputs": [
    {
     "data": {
      "text/plain": [
       "{'Совунья': 'сова', 'Копатыч': 'медведь', 'Карыч': 'ворон', 'Крош': 'кролик'}"
      ]
     },
     "execution_count": 25,
     "metadata": {},
     "output_type": "execute_result"
    }
   ],
   "source": [
    "# Есть словарь\n",
    "kikoriki_dict1 = {'Совунья': 'сова', 'Копатыч': 'медведь',\n",
    "                 'Карыч': 'ворон', 'Крош': 'кролик'}\n",
    "kikoriki_dict_full = kikoriki_dict1\n",
    "kikoriki_dict_full"
   ]
  },
  {
   "cell_type": "code",
   "execution_count": 26,
   "id": "174806bd-a950-4169-84e8-8b1c73e2edb8",
   "metadata": {},
   "outputs": [
    {
     "data": {
      "text/plain": [
       "{'Совунья': 'сова',\n",
       " 'Копатыч': 'медведь',\n",
       " 'Карыч': 'ворон',\n",
       " 'Крош': 'кролик',\n",
       " 'Ёжик': 'ёж',\n",
       " 'Нюша': 'свинья',\n",
       " 'Бараш': 'баран'}"
      ]
     },
     "execution_count": 26,
     "metadata": {},
     "output_type": "execute_result"
    }
   ],
   "source": [
    "kikoriki_dict_full['Ёжик'] = 'ёж'\n",
    "kikoriki_dict_full['Нюша'] = 'свинья'\n",
    "kikoriki_dict_full['Бараш'] = 'баран'\n",
    "kikoriki_dict_full"
   ]
  },
  {
   "cell_type": "code",
   "execution_count": 27,
   "id": "91c5e797-5dfe-4d3c-b77f-166cd2ce828a",
   "metadata": {},
   "outputs": [
    {
     "data": {
      "text/plain": [
       "{'Совунья': 'сова',\n",
       " 'Копатыч': 'медведь',\n",
       " 'Карыч': 'ворон',\n",
       " 'Крош': 'кролик',\n",
       " 'Ёжик': 'ёж',\n",
       " 'Нюша': 'свинья',\n",
       " 'Бараш': 'баран'}"
      ]
     },
     "execution_count": 27,
     "metadata": {},
     "output_type": "execute_result"
    }
   ],
   "source": [
    "# Что лежит в kikoriki_dict1?\n",
    "kikoriki_dict1"
   ]
  },
  {
   "cell_type": "markdown",
   "id": "12082c33-0315-4e4d-addd-25166ca042b3",
   "metadata": {},
   "source": [
    "Наши действия поменяли и исходный словарь!\n",
    "\n",
    "Почему?\n",
    "\n",
    "Потому что приравнять `kikoriki_dict_full = kikoriki_dict1`, значит сказать \"ищите данные для `kikoriki_dict_full` **там же**, где и для `kikorici_dict1`\". А поскольку словари изменяемые, то мы, делая `kikoriki_dict_full['Ёжик'] = 'ёж'`, проходим по этому указателю и меняем там данные.\n",
    "\n",
    "Поэтому, конечно же, это отразится на всех переменных, которые ведут к одним и тем же данным."
   ]
  },
  {
   "cell_type": "markdown",
   "id": "b9b59f3e-d70d-4c75-8efa-db4524662e17",
   "metadata": {},
   "source": [
    "А теперь с `.copy()`"
   ]
  },
  {
   "cell_type": "code",
   "execution_count": 28,
   "id": "58b9ed70-a4b8-4f4f-94bd-a5349dd4f8d1",
   "metadata": {},
   "outputs": [
    {
     "data": {
      "text/plain": [
       "{'Совунья': 'сова', 'Копатыч': 'медведь', 'Карыч': 'ворон', 'Крош': 'кролик'}"
      ]
     },
     "execution_count": 28,
     "metadata": {},
     "output_type": "execute_result"
    }
   ],
   "source": [
    "kikoriki_dict1 = {'Совунья': 'сова', 'Копатыч': 'медведь',\n",
    "                  'Карыч': 'ворон', 'Крош': 'кролик'}\n",
    "kikoriki_dict_full = kikoriki_dict1.copy()\n",
    "\n",
    "kikoriki_dict_full"
   ]
  },
  {
   "cell_type": "code",
   "execution_count": 29,
   "id": "080c871f-0d34-4a85-9b3c-5652607c2340",
   "metadata": {},
   "outputs": [
    {
     "data": {
      "text/plain": [
       "{'Совунья': 'сова',\n",
       " 'Копатыч': 'медведь',\n",
       " 'Карыч': 'ворон',\n",
       " 'Крош': 'кролик',\n",
       " 'Ёжик': 'ёж',\n",
       " 'Нюша': 'свинья',\n",
       " 'Бараш': 'баран'}"
      ]
     },
     "execution_count": 29,
     "metadata": {},
     "output_type": "execute_result"
    }
   ],
   "source": [
    "kikoriki_dict_full['Ёжик'] = 'ёж'\n",
    "kikoriki_dict_full['Нюша'] = 'свинья'\n",
    "kikoriki_dict_full['Бараш'] = 'баран'\n",
    "kikoriki_dict_full"
   ]
  },
  {
   "cell_type": "code",
   "execution_count": 30,
   "id": "9a41b0eb-a9d2-4aea-b214-2937f53870dd",
   "metadata": {},
   "outputs": [
    {
     "data": {
      "text/plain": [
       "{'Совунья': 'сова', 'Копатыч': 'медведь', 'Карыч': 'ворон', 'Крош': 'кролик'}"
      ]
     },
     "execution_count": 30,
     "metadata": {},
     "output_type": "execute_result"
    }
   ],
   "source": [
    "# Что лежит в kikoriki_dict1?\n",
    "kikoriki_dict1"
   ]
  },
  {
   "cell_type": "markdown",
   "id": "ae4e508c-9b8d-4a14-99d5-a397b02fa64b",
   "metadata": {},
   "source": [
    "`.copy()` честно копирует то, что *непосредственно* содержится в словаре.\n",
    "\n",
    "**со вложенными структурами есть дополнительные сложности. Они остаются указаниями на исходное. Но скопировать структуру полностью сложнее...*"
   ]
  },
  {
   "cell_type": "markdown",
   "id": "93e37b0a-8004-45a9-9404-64ed382b7e8e",
   "metadata": {},
   "source": [
    "# Сортировка"
   ]
  },
  {
   "cell_type": "markdown",
   "id": "d08e0906-7b23-48e5-b5ee-4f66da31c055",
   "metadata": {},
   "source": [
    "### `sorted()` - функция сортировки"
   ]
  },
  {
   "cell_type": "code",
   "execution_count": 31,
   "id": "f7307456-da6b-4a5c-a254-2029e1d7576b",
   "metadata": {},
   "outputs": [
    {
     "name": "stdout",
     "output_type": "stream",
     "text": [
      "[6, 8, 8, 9.5, 10]\n"
     ]
    }
   ],
   "source": [
    "marks = [8, 10, 6, 8, 9.5]\n",
    "print(sorted(marks))                # Отсортировали список оценок по возрастанию"
   ]
  },
  {
   "cell_type": "code",
   "execution_count": 32,
   "id": "72a355f9-133b-4e3b-8e17-10ba9ee9909d",
   "metadata": {},
   "outputs": [
    {
     "name": "stdout",
     "output_type": "stream",
     "text": [
      "[10, 9.5, 8, 8, 6]\n"
     ]
    }
   ],
   "source": [
    "# А теперь по убыванию\n",
    "print(sorted(marks, reverse=True))"
   ]
  },
  {
   "cell_type": "code",
   "execution_count": 33,
   "id": "55c1fd5b-09b8-470c-a8e7-f56972f11660",
   "metadata": {},
   "outputs": [
    {
     "name": "stdout",
     "output_type": "stream",
     "text": [
      "[8, 10, 6, 8, 9.5]\n"
     ]
    },
    {
     "data": {
      "text/plain": [
       "[6, 8, 8, 9.5, 10]"
      ]
     },
     "execution_count": 33,
     "metadata": {},
     "output_type": "execute_result"
    }
   ],
   "source": [
    "# Функция sorted() не изменяет, а создает новое\n",
    "print(marks)\n",
    "sorted_marks = sorted(marks)  # Можно сохранить в новую переменную.\n",
    "sorted_marks"
   ]
  },
  {
   "cell_type": "markdown",
   "id": "e6751837-9a90-43dd-8273-08b5f182ab6f",
   "metadata": {},
   "source": [
    "Разнотипное не сортируется"
   ]
  },
  {
   "cell_type": "code",
   "execution_count": 34,
   "id": "800b99e6-50f4-440c-b9d2-b32405ffb916",
   "metadata": {},
   "outputs": [
    {
     "ename": "TypeError",
     "evalue": "'<' not supported between instances of 'int' and 'str'",
     "output_type": "error",
     "traceback": [
      "\u001b[0;31m---------------------------------------------------------------------------\u001b[0m",
      "\u001b[0;31mTypeError\u001b[0m                                 Traceback (most recent call last)",
      "Input \u001b[0;32mIn [34]\u001b[0m, in \u001b[0;36m<cell line: 1>\u001b[0;34m()\u001b[0m\n\u001b[0;32m----> 1\u001b[0m \u001b[38;5;28mprint\u001b[39m(\u001b[38;5;28;43msorted\u001b[39;49m\u001b[43m(\u001b[49m\u001b[43m[\u001b[49m\u001b[38;5;124;43m'\u001b[39;49m\u001b[38;5;124;43ma\u001b[39;49m\u001b[38;5;124;43m'\u001b[39;49m\u001b[43m,\u001b[49m\u001b[43m \u001b[49m\u001b[38;5;124;43m'\u001b[39;49m\u001b[38;5;124;43mb\u001b[39;49m\u001b[38;5;124;43m'\u001b[39;49m\u001b[43m,\u001b[49m\u001b[43m \u001b[49m\u001b[38;5;241;43m3\u001b[39;49m\u001b[43m,\u001b[49m\u001b[43m]\u001b[49m\u001b[43m)\u001b[49m)\n",
      "\u001b[0;31mTypeError\u001b[0m: '<' not supported between instances of 'int' and 'str'"
     ]
    }
   ],
   "source": [
    "print(sorted(['a', 'b', 3,]))  "
   ]
  },
  {
   "cell_type": "markdown",
   "id": "a8ecd801-34a3-4f26-befe-f75a84ae4e84",
   "metadata": {},
   "source": [
    "#### Сортировать можно и строки"
   ]
  },
  {
   "cell_type": "code",
   "execution_count": 35,
   "id": "603a1fd2-7002-4680-81b1-4a117cc33dce",
   "metadata": {},
   "outputs": [
    {
     "name": "stdout",
     "output_type": "stream",
     "text": [
      "['apple', 'orange', 'апельсин', 'манго', 'яблоко']\n"
     ]
    }
   ],
   "source": [
    "fruits = ['apple', 'яблоко', 'апельсин', 'orange', 'манго']\n",
    "print(sorted(fruits))  # сортируем строки по возрастанию"
   ]
  },
  {
   "cell_type": "code",
   "execution_count": 36,
   "id": "90ad6342-cefe-45bf-9194-fba2b854baf9",
   "metadata": {},
   "outputs": [
    {
     "name": "stdout",
     "output_type": "stream",
     "text": [
      "['!dragonfruit', '1 лимон', 'Orange', 'apple', 'Ёж из теста (большой)', 'апельсин', 'манго', 'яблоко', 'ёжик из теста']\n"
     ]
    }
   ],
   "source": [
    "food = ['apple', 'яблоко', 'апельсин', 'Orange', 'манго',\n",
    "        'ёжик из теста', '1 лимон', '!dragonfruit', 'Ёж из теста (большой)']\n",
    "print(sorted(food))\n",
    "# Почему?"
   ]
  },
  {
   "cell_type": "markdown",
   "id": "93d81e9b-f9c0-4645-a587-cb2da67285cf",
   "metadata": {},
   "source": [
    "[Юникод таблица](https://symbl.cc/en/unicode/blocks/basic-latin/)\n",
    "\n",
    "Не забывайте, что компьютер глубоко внутри умеет работать вообще-то только с нулями и единицами.\n",
    "    И вот нужно было придумать способ, как буквы разных языков, знаки препинания, диакритические символы и т.д. и т.п. записать как нолики и единички.\n",
    "    Люди разные, задачи разные, языки разные, поэтому таких систем записи было придумано много.\n",
    "    Несоответствие систем это то, почему иногда текст выглядит как бессмысленный набор неизвестных символов.\n",
    "    \n",
    "Юникод &mdash; одна из систем, и очень распространённая.\n",
    "    В ней много удобств и поэтому стараются пользоваться ей.\n",
    "    То, \"больше ли\" один символ, чем другой, определяется их позициями в таблице.\n",
    "    Что позже, то и больше. \n",
    "\n",
    "Напоминание: мы уже видели это в min() и max()."
   ]
  },
  {
   "cell_type": "code",
   "execution_count": 37,
   "id": "7ab34538-bc86-49e4-86ae-7419b0d733e8",
   "metadata": {},
   "outputs": [
    {
     "data": {
      "text/plain": [
       "'!dragonfruit'"
      ]
     },
     "execution_count": 37,
     "metadata": {},
     "output_type": "execute_result"
    }
   ],
   "source": [
    "min(food)"
   ]
  },
  {
   "cell_type": "markdown",
   "id": "16bfbf65-41d4-4cdd-878f-02ce9fce843b",
   "metadata": {},
   "source": [
    "#### Аргумент key"
   ]
  },
  {
   "cell_type": "code",
   "execution_count": 38,
   "id": "e40d8dd3-a1c2-4aa4-b468-2674490931f1",
   "metadata": {},
   "outputs": [
    {
     "data": {
      "text/plain": [
       "['Арагорн',\n",
       " 'ГЕНДАЛЬФ',\n",
       " 'Гимли',\n",
       " 'Леголас',\n",
       " 'Том Бомбадил',\n",
       " 'бильбо',\n",
       " 'мэриадок',\n",
       " 'перегрин',\n",
       " 'сэм',\n",
       " 'фродо']"
      ]
     },
     "execution_count": 38,
     "metadata": {},
     "output_type": "execute_result"
    }
   ],
   "source": [
    "characters = ['фродо', 'сэм', 'мэриадок', 'перегрин', 'бильбо',\n",
    "              'Арагорн', 'Том Бомбадил', 'Леголас', 'ГЕНДАЛЬФ', 'Гимли']\n",
    "sorted(characters)"
   ]
  },
  {
   "cell_type": "code",
   "execution_count": 39,
   "id": "f730869a-8f6c-46d9-b8ee-79e42e6394ad",
   "metadata": {},
   "outputs": [
    {
     "data": {
      "text/plain": [
       "['арагорн',\n",
       " 'бильбо',\n",
       " 'бомбадил',\n",
       " 'гендальф',\n",
       " 'гимли',\n",
       " 'леголас',\n",
       " 'мэриадок',\n",
       " 'перегрин',\n",
       " 'сэм',\n",
       " 'том',\n",
       " 'фродо']"
      ]
     },
     "execution_count": 39,
     "metadata": {},
     "output_type": "execute_result"
    }
   ],
   "source": [
    "# Как игнорировать регистр?\n",
    "# наш вариант (что умеем)\n",
    "\n",
    "sorted(' '.join(characters).lower().split())"
   ]
  },
  {
   "cell_type": "markdown",
   "id": "2493895b-c482-4ce8-b0fc-1878fe231cbf",
   "metadata": {},
   "source": [
    "Знакомьтесь: **key**"
   ]
  },
  {
   "cell_type": "code",
   "execution_count": 40,
   "id": "ff61a594-e899-4d59-8993-cabbf082e8f4",
   "metadata": {},
   "outputs": [
    {
     "name": "stdout",
     "output_type": "stream",
     "text": [
      "['Арагорн', 'бильбо', 'ГЕНДАЛЬФ', 'Гимли', 'Леголас', 'мэриадок', 'перегрин', 'сэм', 'Том Бомбадил', 'фродо']\n"
     ]
    }
   ],
   "source": [
    "print(sorted(characters, key=str.lower)) \n",
    "# Слова действительно отсортировались в алфавитном порядке, а регистр сохранился"
   ]
  },
  {
   "cell_type": "markdown",
   "id": "805b63ea-70c6-4317-887a-cc5b438d090d",
   "metadata": {},
   "source": [
    "`key` &mdash; (именованный / по умолчательный) аргумент функции `sorted()`.\n",
    "\n",
    "Принимает название функции, которую надо применить к элементам перед сортировкой.\n",
    "\n",
    "Что происходит внутри?\n",
    "- создаёт копию списка, в котором к элементам применили функцию\n",
    "- сортирует копию списка\n",
    "- возвращает список с исходными элементами"
   ]
  },
  {
   "cell_type": "markdown",
   "id": "7b69c3e5-313b-49ad-83b3-a2217bf4c4ae",
   "metadata": {},
   "source": [
    "Чем-то похоже на `map()`. (См. пример вверху в пройденном.)"
   ]
  },
  {
   "cell_type": "code",
   "execution_count": 41,
   "id": "78a6cb7d-432a-457f-a784-30cf426f2f23",
   "metadata": {},
   "outputs": [
    {
     "name": "stdout",
     "output_type": "stream",
     "text": [
      "вася\n",
      "вася\n"
     ]
    }
   ],
   "source": [
    "# Как метод превратить в функцию: \n",
    "print('Вася'.lower())\n",
    "print(str.lower(\"Вася\"))"
   ]
  },
  {
   "cell_type": "code",
   "execution_count": 42,
   "id": "5c366270-5b62-443b-98e6-2c93b4a2c6c1",
   "metadata": {},
   "outputs": [
    {
     "name": "stdout",
     "output_type": "stream",
     "text": [
      "['сэм', 'фродо', 'Гимли', 'бильбо', 'Арагорн', 'Леголас', 'мэриадок', 'перегрин', 'ГЕНДАЛЬФ', 'Том Бомбадил']\n"
     ]
    }
   ],
   "source": [
    "# Как вывести имена, сортированные по длине?\n",
    "print(sorted(characters, key=len)) "
   ]
  },
  {
   "cell_type": "markdown",
   "id": "45d58498-aaad-45f2-abe8-457c5a1eabf4",
   "metadata": {},
   "source": [
    "Строки - не числа"
   ]
  },
  {
   "cell_type": "code",
   "execution_count": 44,
   "id": "59b6a930-33dd-4840-b565-66d2e7af34b6",
   "metadata": {},
   "outputs": [
    {
     "name": "stdout",
     "output_type": "stream",
     "text": [
      "Даты семинаров в марте у 4й группы: 3 10 14 17 24\n",
      "['10', '14', '17', '24', '3']\n"
     ]
    }
   ],
   "source": [
    "dates = input('Даты семинаров в марте у 4й группы: ').split()\n",
    "# 3 10 14 17 24\n",
    "print(sorted(dates)) # Отсортировали числа в формате str"
   ]
  },
  {
   "cell_type": "code",
   "execution_count": 45,
   "id": "2468509f-e158-40c8-881c-24e95d19452a",
   "metadata": {},
   "outputs": [
    {
     "data": {
      "text/plain": [
       "['3', '10', '14', '17', '24']"
      ]
     },
     "execution_count": 45,
     "metadata": {},
     "output_type": "execute_result"
    }
   ],
   "source": [
    "sorted(dates, key=int) "
   ]
  },
  {
   "cell_type": "markdown",
   "id": "ced3a4a1-7734-46e4-8926-e7c17878dfc4",
   "metadata": {},
   "source": [
    "Можно сортировать кортежи, множества, словари (осторожно).\n",
    "**Получаются при этом списки**."
   ]
  },
  {
   "cell_type": "code",
   "execution_count": 46,
   "id": "6aa3ed96-695e-4f26-bda8-60764faaf2a2",
   "metadata": {},
   "outputs": [
    {
     "name": "stdout",
     "output_type": "stream",
     "text": [
      "['Арагорн', 'бильбо', 'ГЕНДАЛЬФ', 'Гимли', 'Леголас', 'мэриадок', 'перегрин', 'сэм', 'Том Бомбадил', 'фродо']\n"
     ]
    }
   ],
   "source": [
    "characters = ('фродо', 'сэм', 'мэриадок', 'перегрин', 'бильбо',\n",
    "              'Арагорн', 'Том Бомбадил', 'Леголас', 'ГЕНДАЛЬФ', 'Гимли')\n",
    "print(sorted(characters, key=str.lower))"
   ]
  },
  {
   "cell_type": "code",
   "execution_count": 47,
   "id": "b8b6f116-7d58-47ab-8d7d-bfe8cd42b107",
   "metadata": {},
   "outputs": [
    {
     "name": "stdout",
     "output_type": "stream",
     "text": [
      "['Арагорн', 'бильбо', 'ГЕНДАЛЬФ', 'Гимли', 'Леголас', 'мэриадок', 'перегрин', 'сэм', 'Том Бомбадил', 'фродо']\n"
     ]
    }
   ],
   "source": [
    "characters = {'фродо', 'сэм', 'мэриадок', 'перегрин', 'бильбо',\n",
    "              'Арагорн', 'Том Бомбадил', 'Леголас', 'ГЕНДАЛЬФ', 'Гимли'}\n",
    "print(sorted(characters, key=str.lower))"
   ]
  },
  {
   "cell_type": "code",
   "execution_count": 48,
   "id": "8fd8b5c8-de73-46a1-8c21-5ad43aa0d4c8",
   "metadata": {},
   "outputs": [
    {
     "name": "stdout",
     "output_type": "stream",
     "text": [
      "['apple', 'banana', 'orange']\n"
     ]
    }
   ],
   "source": [
    "eng_rus = {\"apple\": \"яблоко\", \"orange\": 'апельсин', \"banana\": \"банан\"}\n",
    "print(sorted(eng_rus))  # Получается сортированный список ключей"
   ]
  },
  {
   "cell_type": "markdown",
   "id": "0185e4a3-6a00-42a7-8052-6913a7445b96",
   "metadata": {},
   "source": [
    "# Тренируемся работать со вложенными структурами"
   ]
  },
  {
   "cell_type": "markdown",
   "id": "aae5bd92-f564-4cc6-8133-7d5e5382ea5e",
   "metadata": {},
   "source": [
    "Бывает, что данные сложно структурируются\n",
    "\n",
    "Например:\n",
    "- список списков (e.g. слова в предложениях в тексте)"
   ]
  },
  {
   "cell_type": "code",
   "execution_count": 49,
   "id": "9e23a965-d1a9-4a8f-855a-565a18acd0c3",
   "metadata": {},
   "outputs": [],
   "source": [
    "text = [['привет', 'друзья'], ['как', 'у', 'вас', 'дела'], ['поздравляю', 'с', 'весной']]"
   ]
  },
  {
   "cell_type": "code",
   "execution_count": 50,
   "id": "1c80cb5b-e00c-4f39-a832-f514a1bf0a6d",
   "metadata": {},
   "outputs": [
    {
     "data": {
      "text/plain": [
       "'поздравляю'"
      ]
     },
     "execution_count": 50,
     "metadata": {},
     "output_type": "execute_result"
    }
   ],
   "source": [
    "# Как достать первое слово третьего предложения?\n",
    "text[2][0]"
   ]
  },
  {
   "cell_type": "code",
   "execution_count": 51,
   "id": "e9f192d2-3fdc-4bf5-9a35-1e83ea31e6b3",
   "metadata": {},
   "outputs": [
    {
     "data": {
      "text/plain": [
       "'у'"
      ]
     },
     "execution_count": 51,
     "metadata": {},
     "output_type": "execute_result"
    }
   ],
   "source": [
    "# Как достать третью букву второго слова первого предложения?\n",
    "text[0][1][2]"
   ]
  },
  {
   "cell_type": "code",
   "execution_count": 52,
   "id": "cd0a75dd-d753-434f-b385-3bb48e7c578b",
   "metadata": {},
   "outputs": [
    {
     "data": {
      "text/plain": [
       "['у', 'вас', 'дела']"
      ]
     },
     "execution_count": 52,
     "metadata": {},
     "output_type": "execute_result"
    }
   ],
   "source": [
    "# Как достать во втором предложении слова кроме первого?\n",
    "text[1][1:]"
   ]
  },
  {
   "cell_type": "markdown",
   "id": "474aefc7-2e75-4773-9817-e2768e80d0f8",
   "metadata": {},
   "source": [
    "- словарь списков"
   ]
  },
  {
   "cell_type": "code",
   "execution_count": 53,
   "id": "9d79d81e-4983-464c-91cc-c09d4407e608",
   "metadata": {},
   "outputs": [],
   "source": [
    "temperature = {'3 марта': [-1, -1, +1, -1],  # ночь, утро, день, вечер\n",
    "               '4 марта': [-3, -3, 0, 0],\n",
    "               '5 марта': [-2, -3, 0, -1]}"
   ]
  },
  {
   "cell_type": "code",
   "execution_count": 54,
   "id": "24843abb-fbf9-4b42-85c3-09211d17f600",
   "metadata": {},
   "outputs": [
    {
     "data": {
      "text/plain": [
       "[-1, -1, 1, -1]"
      ]
     },
     "execution_count": 54,
     "metadata": {},
     "output_type": "execute_result"
    }
   ],
   "source": [
    "# Какая температура (3его марта)?\n",
    "temperature['3 марта']"
   ]
  },
  {
   "cell_type": "code",
   "execution_count": 55,
   "id": "d5209dff-b82f-4693-bb45-72464ceb467c",
   "metadata": {},
   "outputs": [
    {
     "data": {
      "text/plain": [
       "-1"
      ]
     },
     "execution_count": 55,
     "metadata": {},
     "output_type": "execute_result"
    }
   ],
   "source": [
    "# Какая температура вечером?\n",
    "temperature['3 марта'][3]"
   ]
  },
  {
   "cell_type": "code",
   "execution_count": 56,
   "id": "ac4fa8f2-d98a-4686-9218-4813a15cf0a1",
   "metadata": {},
   "outputs": [
    {
     "data": {
      "text/plain": [
       "-1.5"
      ]
     },
     "execution_count": 56,
     "metadata": {},
     "output_type": "execute_result"
    }
   ],
   "source": [
    "# Средняя температура 5ого марта?\n",
    "sum(temperature['5 марта'])/len(temperature['5 марта'])"
   ]
  },
  {
   "cell_type": "code",
   "execution_count": 57,
   "id": "7d5fb310-6404-4239-a530-2aefe45aa088",
   "metadata": {},
   "outputs": [
    {
     "data": {
      "text/plain": [
       "-1.1666666666666667"
      ]
     },
     "execution_count": 57,
     "metadata": {},
     "output_type": "execute_result"
    }
   ],
   "source": [
    "# Какая средняя за 3 дня?\n"
   ]
  },
  {
   "cell_type": "code",
   "execution_count": 58,
   "id": "7b5ee0a7-d7db-4727-8754-ae63d88eb37d",
   "metadata": {},
   "outputs": [
    {
     "data": {
      "text/plain": [
       "-3"
      ]
     },
     "execution_count": 58,
     "metadata": {},
     "output_type": "execute_result"
    }
   ],
   "source": [
    "# Минимальная за 3 дня?\n"
   ]
  },
  {
   "cell_type": "markdown",
   "id": "c7c946e4-a4d6-4348-82cc-70e16a197e4a",
   "metadata": {},
   "source": [
    "- словарь словарей кортежей, множеств, списков и строк и т.д."
   ]
  },
  {
   "cell_type": "markdown",
   "id": "1c7467e1-86f7-4f56-af88-2e8741556f1f",
   "metadata": {},
   "source": [
    "## Большое задание"
   ]
  },
  {
   "cell_type": "markdown",
   "id": "6f81b3dc-8f0e-4a5e-b728-afbaa9212519",
   "metadata": {},
   "source": [
    "Вам дана информация про товары в магазине &mdash; словарь, где для каждого названия продукта приведена информация о нём (тоже хранящаяся в списке):\n",
    "- цена товара `price`, например `124` или `560`\n",
    "- категория `category`, к которой относится товар `category`, например `product` или `utility`\n",
    "- список тэгов `tags`, описывающих товар, например `['meat', 'fresh']`"
   ]
  },
  {
   "cell_type": "code",
   "execution_count": 59,
   "id": "39a7e69b-b417-47a3-96d1-938bdbef78fd",
   "metadata": {},
   "outputs": [],
   "source": [
    "items = {\n",
    "    'яблоки':  {'category': 'product', 'price': 124, 'tags': ['fruit', 'fresh']},\n",
    "    'курица':  {'category': 'product', 'price': 480, 'tags': ['meat', 'fresh']},\n",
    "    'спички':  {'category': 'utility', 'price': 45,  'tags': ['meat', 'fresh']},\n",
    "    'тетрадь': {'category': 'utility', 'price': 40,  'tags': ['writing']},\n",
    "    'соль':    {'category': 'product', 'price': 60,  'tags': ['spice']},\n",
    "    'перец':   {'category': 'product', 'price': 35,  'tags': ['spice']},\n",
    "}"
   ]
  },
  {
   "cell_type": "markdown",
   "id": "f4212c0f-a5ca-47b5-b756-2c7efd98f2f2",
   "metadata": {},
   "source": [
    "В магазине новые товары. Добавьте в items.\n",
    "\n",
    "Продавец вводит:\n",
    "- \"хлеб product 25 bakery fresh\""
   ]
  },
  {
   "cell_type": "code",
   "execution_count": 62,
   "id": "98910730-3ea0-46c1-b750-c13d3fbaf4eb",
   "metadata": {},
   "outputs": [
    {
     "name": "stdout",
     "output_type": "stream",
     "text": [
      "хлеб product 25 bakery fresh\n"
     ]
    }
   ],
   "source": [
    "# ваш код\n"
   ]
  },
  {
   "cell_type": "code",
   "execution_count": 64,
   "id": "5a7254df-9e30-43be-bf49-253bbd3be211",
   "metadata": {},
   "outputs": [
    {
     "data": {
      "text/plain": [
       "{'яблоки': {'category': 'product', 'price': 124, 'tags': ['fruit', 'fresh']},\n",
       " 'курица': {'category': 'product', 'price': 480, 'tags': ['meat', 'fresh']},\n",
       " 'спички': {'category': 'utility', 'price': 45, 'tags': ['meat', 'fresh']},\n",
       " 'тетрадь': {'category': 'utility', 'price': 40, 'tags': ['writing']},\n",
       " 'соль': {'category': 'product', 'price': 60, 'tags': ['spice']},\n",
       " 'перец': {'category': 'product', 'price': 35, 'tags': ['spice']},\n",
       " 'хлеб': {'category': 'product', 'price': '25', 'tags': ['bakery', 'fresh']}}"
      ]
     },
     "execution_count": 64,
     "metadata": {},
     "output_type": "execute_result"
    }
   ],
   "source": [
    "items"
   ]
  },
  {
   "cell_type": "markdown",
   "id": "c5b402b0-3c45-4a5c-bbe1-fe2524ac8429",
   "metadata": {},
   "source": [
    "Кроме того, дан список из нескольких чеков за день `checks`. В каждом чеке через пробел записано, какие товары купил посетитель.\n"
   ]
  },
  {
   "cell_type": "code",
   "execution_count": 65,
   "id": "a378770e-c949-49f7-9396-4602386ea7f0",
   "metadata": {},
   "outputs": [],
   "source": [
    "checks = [\n",
    "    'яблоки яблоки курица спички спички соль перец',\n",
    "    'яблоки яблоки яблоки курица курица',\n",
    "    'тетрадь тетрадь тетрадь тетрадь тетрадь тетрадь тетрадь тетрадь тетрадь тетрадь тетрадь тетрадь тетрадь тетрадь тетрадь тетрадь тетрадь тетрадь тетрадь тетрадь',\n",
    "    'соль перец яблоки',\n",
    "    'тетрадь тетрадь тетрадь тетрадь тетрадь',\n",
    "]"
   ]
  },
  {
   "cell_type": "markdown",
   "id": "0efd7501-3ef0-4a1d-b2e4-34e05bef65b8",
   "metadata": {},
   "source": [
    "Сделайте выводы о покупках в магазине за день:\n",
    "\n",
    "- для каждого чека найдите, на какую он сумму (это определяется суммой стоимостей отдельных товаров из чека)\n",
    "  например, для чека `'яблоки яблоки курица спички спички соль перец'` это `913`\n",
    "  $(124 * 2 + 480 + 45 *2 + 60 + 35$, но это пример, вы не обязаны умножать. Считать в коде вы можете так, как окажется удобнее$)$\n",
    "\n",
    "- рассчитайте средний чек за день.\n",
    "  Например для такого списка:\n",
    "\n",
    "```python\n",
    "[\n",
    "'яблоки яблоки курица спички спички соль перец',\n",
    "'яблоки яблоки яблоки курица курица',\n",
    "]\n",
    "```\n",
    "    ответ это (913 + 1332) / 2 = `1122.5`\n",
    "\n",
    "- для каждого чека получите словарь, где ключом будет категория, а значением &mdash; количество товаров этой категории в чеке,\n",
    "  например, `{\"product\": 5, \"utility\": 2}` для чека `'яблоки яблоки курица спички спички соль перец'`\n",
    "\n",
    "\n"
   ]
  },
  {
   "cell_type": "code",
   "execution_count": 66,
   "id": "d3e98e1f-b588-4f72-9eb7-e6bce2276a59",
   "metadata": {},
   "outputs": [
    {
     "name": "stdout",
     "output_type": "stream",
     "text": [
      "яблоки яблоки курица спички спички соль перец :  913\n",
      "яблоки яблоки яблоки курица курица :  1332\n",
      "тетрадь тетрадь тетрадь тетрадь тетрадь тетрадь тетрадь тетрадь тетрадь тетрадь тетрадь тетрадь тетрадь тетрадь тетрадь тетрадь тетрадь тетрадь тетрадь тетрадь :  800\n",
      "соль перец яблоки :  219\n",
      "тетрадь тетрадь тетрадь тетрадь тетрадь :  200\n"
     ]
    }
   ],
   "source": [
    "# Сумма чека?\n"
   ]
  },
  {
   "cell_type": "code",
   "execution_count": 67,
   "id": "ae560169-c7e9-4022-b955-584680bc117a",
   "metadata": {},
   "outputs": [
    {
     "data": {
      "text/plain": [
       "692.8"
      ]
     },
     "execution_count": 67,
     "metadata": {},
     "output_type": "execute_result"
    }
   ],
   "source": [
    "# Средний чек? (для чеков из checks)\n",
    "\n"
   ]
  },
  {
   "cell_type": "code",
   "execution_count": 68,
   "id": "eb6e768b-f5fa-4f8f-ac1e-aeb8e1609086",
   "metadata": {},
   "outputs": [
    {
     "name": "stdout",
     "output_type": "stream",
     "text": [
      "{'product': 5, 'utility': 2}\n",
      "{'product': 5}\n",
      "{'utility': 20}\n",
      "{'product': 3}\n",
      "{'utility': 5}\n"
     ]
    }
   ],
   "source": [
    "# Категория - количество товаров\n"
   ]
  }
 ],
 "metadata": {
  "kernelspec": {
   "display_name": "Python 3 (ipykernel)",
   "language": "python",
   "name": "python3"
  },
  "language_info": {
   "codemirror_mode": {
    "name": "ipython",
    "version": 3
   },
   "file_extension": ".py",
   "mimetype": "text/x-python",
   "name": "python",
   "nbconvert_exporter": "python",
   "pygments_lexer": "ipython3",
   "version": "3.11.3"
  }
 },
 "nbformat": 4,
 "nbformat_minor": 5
}
