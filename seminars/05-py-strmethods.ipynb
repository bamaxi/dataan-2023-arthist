{
 "cells": [
  {
   "cell_type": "markdown",
   "id": "bf9015a7-6217-410c-af6a-6a28d404c993",
   "metadata": {
    "id": "fe4aa52a"
   },
   "source": [
    "# Строковые методы и форматирование"
   ]
  },
  {
   "cell_type": "markdown",
   "id": "3425f0b0-5335-467f-bec1-ca90ef4515c9",
   "metadata": {
    "id": "aec3aa23"
   },
   "source": [
    "Мы уже знаем про:\n",
    "- типы данных `int`, `float`, `str`, `bool`, `list` [список], `tuple` (кортеж неизменяемый)\n",
    "- математические операторы: `+`, `-`, `/`, `*`, `**` (в степень), `%` (остаток от деления), `//` (целая часть при делении)\n",
    "- `print()` — напечатать\n",
    "- `type()` — узнать тип данных\n",
    "- `input()` — принять значение от пользователя\n",
    "- `int()` — преобразовать в целочисленный формат\n",
    "- `float()` — преобразовать в формат дробного числа\n",
    "- `str()` — преобразовать в строку\n",
    "- `bool()` — преобразовать в bool (True/False)\n",
    "- `list()` — преобразовать в список\n",
    "- `tuple()` — преобразовать в кортеж\n",
    "- условия:\n",
    "```\n",
    "if <условие>:\n",
    "    <инструкции, для случая если условие истинно (True)>\n",
    "#elif <условие №2>:\n",
    "#    <инструкции, для случая если условие №2 истинно (True)>\n",
    "#else:\n",
    "#    <инструкции, когда все условия не выполнились (False)>\n",
    "```\n",
    "- операторы сравнения: `>`, `<`, `>=`, `<=`, `==` (равно), `!=` (не равно)\n",
    "- логические операторы: `and`, `or`, `not`\n",
    "- цикл `while`:\n",
    "```\n",
    "while <условие>:\n",
    "    <инструкции, которые будут выполняться по кругу, пока условие выполняется True>\n",
    "```\n",
    "- цикл `for`\n",
    "```\n",
    "for <element> in <elements>:\n",
    "       <инструкции, которые будут выполняться для каждого элемента>\n",
    "```\n",
    "- `.split()` - поделить строку, указанную до точки, по сочетанию символов, указанных в скобках (строка -> список)\n",
    "- индексация с нуля: `итерируемый_объект[индекс]`\n",
    "- срезы: `итерируемый_объект[START:END:STEP]`\n",
    "- `*список` - то же самое, что `список[0] список[1] список[2] список[3]...`\n",
    "- `len()` - узнать длину\n",
    "- `range()` - \"обещание последовательности чисел\" (`list(range(0, 8, 2))` - `[0, 2, 4, 6]`)\n",
    "- `enumerate()` - делает последовательность кортежей: [(порядковый_номер, элемент), (порядковый_номер, элемент), (порядковый_номер, элемент)]\n",
    "\n",
    "**Методы списка (+ строк и кортежей, если метод ничего не изменяет)**\n",
    "- `.append()` - добавление элемента в конец списка\n",
    "- `.extend(another_list)` - расширяет список, добавляя в конец все элементы списка `another_list` (и не только списка)\n",
    "- `.insert(i, x)` — вставляет в `i`-ую позицию в списке значение `x`\n",
    "- `.remove(x)` — удаляет первый элемент в списке, имеющий значение `x`\n",
    "- `.pop(i)` - удаляет элемент с индексом `i` (по умолчанию последний) и возвращает удалённый элемент\n",
    "- `.clear()` — очищает список\n",
    "- `.count(x)` — узнать, сколько раз встречается элемент `x`\n",
    "- `.index(x)` — узнать индекс элемента `x` в списке\n",
    "\n",
    "**Функции для списков и кортежей**\n",
    "- `sum()` — сумма\n",
    "- `min()` — минимальное\n",
    "- `max()` — максимальное\n",
    "- `map()` — применить функцию или метод ко всем элементам сразу (`print(list(map(len, ['Привет', 'ТЕСТ', 'функции', 'map!'])))` - `[6, 4, 7, 4]`), (`print(list(map(str.split, ['Таня Казакова', 'Максим Бажуков', 'Олег Сериков'])))` - `[['Таня', 'Казакова'], ['Максим', 'Бажуков']]`)\n"
   ]
  },
  {
   "cell_type": "markdown",
   "id": "06d9bdb2-824b-403a-ab5f-367429351295",
   "metadata": {
    "id": "2P2kEzz3wTzz"
   },
   "source": [
    "## Строковые методы"
   ]
  },
  {
   "cell_type": "code",
   "execution_count": 1,
   "id": "90e962a6-7c59-44d6-baae-bfdd9ef7dc3e",
   "metadata": {
    "id": "e3LJ-mzQxkF-",
    "scrolled": true,
    "tags": []
   },
   "outputs": [
    {
     "name": "stdout",
     "output_type": "stream",
     "text": [
      "Help on class str in module builtins:\n",
      "\n",
      "class str(object)\n",
      " |  str(object='') -> str\n",
      " |  str(bytes_or_buffer[, encoding[, errors]]) -> str\n",
      " |  \n",
      " |  Create a new string object from the given object. If encoding or\n",
      " |  errors is specified, then the object must expose a data buffer\n",
      " |  that will be decoded using the given encoding and error handler.\n",
      " |  Otherwise, returns the result of object.__str__() (if defined)\n",
      " |  or repr(object).\n",
      " |  encoding defaults to sys.getdefaultencoding().\n",
      " |  errors defaults to 'strict'.\n",
      " |  \n",
      " |  Methods defined here:\n",
      " |  \n",
      " |  __add__(self, value, /)\n",
      " |      Return self+value.\n",
      " |  \n",
      " |  __contains__(self, key, /)\n",
      " |      Return key in self.\n",
      " |  \n",
      " |  __eq__(self, value, /)\n",
      " |      Return self==value.\n",
      " |  \n",
      " |  __format__(self, format_spec, /)\n",
      " |      Return a formatted version of the string as described by format_spec.\n",
      " |  \n",
      " |  __ge__(self, value, /)\n",
      " |      Return self>=value.\n",
      " |  \n",
      " |  __getattribute__(self, name, /)\n",
      " |      Return getattr(self, name).\n",
      " |  \n",
      " |  __getitem__(self, key, /)\n",
      " |      Return self[key].\n",
      " |  \n",
      " |  __getnewargs__(...)\n",
      " |  \n",
      " |  __gt__(self, value, /)\n",
      " |      Return self>value.\n",
      " |  \n",
      " |  __hash__(self, /)\n",
      " |      Return hash(self).\n",
      " |  \n",
      " |  __iter__(self, /)\n",
      " |      Implement iter(self).\n",
      " |  \n",
      " |  __le__(self, value, /)\n",
      " |      Return self<=value.\n",
      " |  \n",
      " |  __len__(self, /)\n",
      " |      Return len(self).\n",
      " |  \n",
      " |  __lt__(self, value, /)\n",
      " |      Return self<value.\n",
      " |  \n",
      " |  __mod__(self, value, /)\n",
      " |      Return self%value.\n",
      " |  \n",
      " |  __mul__(self, value, /)\n",
      " |      Return self*value.\n",
      " |  \n",
      " |  __ne__(self, value, /)\n",
      " |      Return self!=value.\n",
      " |  \n",
      " |  __repr__(self, /)\n",
      " |      Return repr(self).\n",
      " |  \n",
      " |  __rmod__(self, value, /)\n",
      " |      Return value%self.\n",
      " |  \n",
      " |  __rmul__(self, value, /)\n",
      " |      Return value*self.\n",
      " |  \n",
      " |  __sizeof__(self, /)\n",
      " |      Return the size of the string in memory, in bytes.\n",
      " |  \n",
      " |  __str__(self, /)\n",
      " |      Return str(self).\n",
      " |  \n",
      " |  capitalize(self, /)\n",
      " |      Return a capitalized version of the string.\n",
      " |      \n",
      " |      More specifically, make the first character have upper case and the rest lower\n",
      " |      case.\n",
      " |  \n",
      " |  casefold(self, /)\n",
      " |      Return a version of the string suitable for caseless comparisons.\n",
      " |  \n",
      " |  center(self, width, fillchar=' ', /)\n",
      " |      Return a centered string of length width.\n",
      " |      \n",
      " |      Padding is done using the specified fill character (default is a space).\n",
      " |  \n",
      " |  count(...)\n",
      " |      S.count(sub[, start[, end]]) -> int\n",
      " |      \n",
      " |      Return the number of non-overlapping occurrences of substring sub in\n",
      " |      string S[start:end].  Optional arguments start and end are\n",
      " |      interpreted as in slice notation.\n",
      " |  \n",
      " |  encode(self, /, encoding='utf-8', errors='strict')\n",
      " |      Encode the string using the codec registered for encoding.\n",
      " |      \n",
      " |      encoding\n",
      " |        The encoding in which to encode the string.\n",
      " |      errors\n",
      " |        The error handling scheme to use for encoding errors.\n",
      " |        The default is 'strict' meaning that encoding errors raise a\n",
      " |        UnicodeEncodeError.  Other possible values are 'ignore', 'replace' and\n",
      " |        'xmlcharrefreplace' as well as any other name registered with\n",
      " |        codecs.register_error that can handle UnicodeEncodeErrors.\n",
      " |  \n",
      " |  endswith(...)\n",
      " |      S.endswith(suffix[, start[, end]]) -> bool\n",
      " |      \n",
      " |      Return True if S ends with the specified suffix, False otherwise.\n",
      " |      With optional start, test S beginning at that position.\n",
      " |      With optional end, stop comparing S at that position.\n",
      " |      suffix can also be a tuple of strings to try.\n",
      " |  \n",
      " |  expandtabs(self, /, tabsize=8)\n",
      " |      Return a copy where all tab characters are expanded using spaces.\n",
      " |      \n",
      " |      If tabsize is not given, a tab size of 8 characters is assumed.\n",
      " |  \n",
      " |  find(...)\n",
      " |      S.find(sub[, start[, end]]) -> int\n",
      " |      \n",
      " |      Return the lowest index in S where substring sub is found,\n",
      " |      such that sub is contained within S[start:end].  Optional\n",
      " |      arguments start and end are interpreted as in slice notation.\n",
      " |      \n",
      " |      Return -1 on failure.\n",
      " |  \n",
      " |  format(...)\n",
      " |      S.format(*args, **kwargs) -> str\n",
      " |      \n",
      " |      Return a formatted version of S, using substitutions from args and kwargs.\n",
      " |      The substitutions are identified by braces ('{' and '}').\n",
      " |  \n",
      " |  format_map(...)\n",
      " |      S.format_map(mapping) -> str\n",
      " |      \n",
      " |      Return a formatted version of S, using substitutions from mapping.\n",
      " |      The substitutions are identified by braces ('{' and '}').\n",
      " |  \n",
      " |  index(...)\n",
      " |      S.index(sub[, start[, end]]) -> int\n",
      " |      \n",
      " |      Return the lowest index in S where substring sub is found,\n",
      " |      such that sub is contained within S[start:end].  Optional\n",
      " |      arguments start and end are interpreted as in slice notation.\n",
      " |      \n",
      " |      Raises ValueError when the substring is not found.\n",
      " |  \n",
      " |  isalnum(self, /)\n",
      " |      Return True if the string is an alpha-numeric string, False otherwise.\n",
      " |      \n",
      " |      A string is alpha-numeric if all characters in the string are alpha-numeric and\n",
      " |      there is at least one character in the string.\n",
      " |  \n",
      " |  isalpha(self, /)\n",
      " |      Return True if the string is an alphabetic string, False otherwise.\n",
      " |      \n",
      " |      A string is alphabetic if all characters in the string are alphabetic and there\n",
      " |      is at least one character in the string.\n",
      " |  \n",
      " |  isascii(self, /)\n",
      " |      Return True if all characters in the string are ASCII, False otherwise.\n",
      " |      \n",
      " |      ASCII characters have code points in the range U+0000-U+007F.\n",
      " |      Empty string is ASCII too.\n",
      " |  \n",
      " |  isdecimal(self, /)\n",
      " |      Return True if the string is a decimal string, False otherwise.\n",
      " |      \n",
      " |      A string is a decimal string if all characters in the string are decimal and\n",
      " |      there is at least one character in the string.\n",
      " |  \n",
      " |  isdigit(self, /)\n",
      " |      Return True if the string is a digit string, False otherwise.\n",
      " |      \n",
      " |      A string is a digit string if all characters in the string are digits and there\n",
      " |      is at least one character in the string.\n",
      " |  \n",
      " |  isidentifier(self, /)\n",
      " |      Return True if the string is a valid Python identifier, False otherwise.\n",
      " |      \n",
      " |      Call keyword.iskeyword(s) to test whether string s is a reserved identifier,\n",
      " |      such as \"def\" or \"class\".\n",
      " |  \n",
      " |  islower(self, /)\n",
      " |      Return True if the string is a lowercase string, False otherwise.\n",
      " |      \n",
      " |      A string is lowercase if all cased characters in the string are lowercase and\n",
      " |      there is at least one cased character in the string.\n",
      " |  \n",
      " |  isnumeric(self, /)\n",
      " |      Return True if the string is a numeric string, False otherwise.\n",
      " |      \n",
      " |      A string is numeric if all characters in the string are numeric and there is at\n",
      " |      least one character in the string.\n",
      " |  \n",
      " |  isprintable(self, /)\n",
      " |      Return True if the string is printable, False otherwise.\n",
      " |      \n",
      " |      A string is printable if all of its characters are considered printable in\n",
      " |      repr() or if it is empty.\n",
      " |  \n",
      " |  isspace(self, /)\n",
      " |      Return True if the string is a whitespace string, False otherwise.\n",
      " |      \n",
      " |      A string is whitespace if all characters in the string are whitespace and there\n",
      " |      is at least one character in the string.\n",
      " |  \n",
      " |  istitle(self, /)\n",
      " |      Return True if the string is a title-cased string, False otherwise.\n",
      " |      \n",
      " |      In a title-cased string, upper- and title-case characters may only\n",
      " |      follow uncased characters and lowercase characters only cased ones.\n",
      " |  \n",
      " |  isupper(self, /)\n",
      " |      Return True if the string is an uppercase string, False otherwise.\n",
      " |      \n",
      " |      A string is uppercase if all cased characters in the string are uppercase and\n",
      " |      there is at least one cased character in the string.\n",
      " |  \n",
      " |  join(self, iterable, /)\n",
      " |      Concatenate any number of strings.\n",
      " |      \n",
      " |      The string whose method is called is inserted in between each given string.\n",
      " |      The result is returned as a new string.\n",
      " |      \n",
      " |      Example: '.'.join(['ab', 'pq', 'rs']) -> 'ab.pq.rs'\n",
      " |  \n",
      " |  ljust(self, width, fillchar=' ', /)\n",
      " |      Return a left-justified string of length width.\n",
      " |      \n",
      " |      Padding is done using the specified fill character (default is a space).\n",
      " |  \n",
      " |  lower(self, /)\n",
      " |      Return a copy of the string converted to lowercase.\n",
      " |  \n",
      " |  lstrip(self, chars=None, /)\n",
      " |      Return a copy of the string with leading whitespace removed.\n",
      " |      \n",
      " |      If chars is given and not None, remove characters in chars instead.\n",
      " |  \n",
      " |  partition(self, sep, /)\n",
      " |      Partition the string into three parts using the given separator.\n",
      " |      \n",
      " |      This will search for the separator in the string.  If the separator is found,\n",
      " |      returns a 3-tuple containing the part before the separator, the separator\n",
      " |      itself, and the part after it.\n",
      " |      \n",
      " |      If the separator is not found, returns a 3-tuple containing the original string\n",
      " |      and two empty strings.\n",
      " |  \n",
      " |  removeprefix(self, prefix, /)\n",
      " |      Return a str with the given prefix string removed if present.\n",
      " |      \n",
      " |      If the string starts with the prefix string, return string[len(prefix):].\n",
      " |      Otherwise, return a copy of the original string.\n",
      " |  \n",
      " |  removesuffix(self, suffix, /)\n",
      " |      Return a str with the given suffix string removed if present.\n",
      " |      \n",
      " |      If the string ends with the suffix string and that suffix is not empty,\n",
      " |      return string[:-len(suffix)]. Otherwise, return a copy of the original\n",
      " |      string.\n",
      " |  \n",
      " |  replace(self, old, new, count=-1, /)\n",
      " |      Return a copy with all occurrences of substring old replaced by new.\n",
      " |      \n",
      " |        count\n",
      " |          Maximum number of occurrences to replace.\n",
      " |          -1 (the default value) means replace all occurrences.\n",
      " |      \n",
      " |      If the optional argument count is given, only the first count occurrences are\n",
      " |      replaced.\n",
      " |  \n",
      " |  rfind(...)\n",
      " |      S.rfind(sub[, start[, end]]) -> int\n",
      " |      \n",
      " |      Return the highest index in S where substring sub is found,\n",
      " |      such that sub is contained within S[start:end].  Optional\n",
      " |      arguments start and end are interpreted as in slice notation.\n",
      " |      \n",
      " |      Return -1 on failure.\n",
      " |  \n",
      " |  rindex(...)\n",
      " |      S.rindex(sub[, start[, end]]) -> int\n",
      " |      \n",
      " |      Return the highest index in S where substring sub is found,\n",
      " |      such that sub is contained within S[start:end].  Optional\n",
      " |      arguments start and end are interpreted as in slice notation.\n",
      " |      \n",
      " |      Raises ValueError when the substring is not found.\n",
      " |  \n",
      " |  rjust(self, width, fillchar=' ', /)\n",
      " |      Return a right-justified string of length width.\n",
      " |      \n",
      " |      Padding is done using the specified fill character (default is a space).\n",
      " |  \n",
      " |  rpartition(self, sep, /)\n",
      " |      Partition the string into three parts using the given separator.\n",
      " |      \n",
      " |      This will search for the separator in the string, starting at the end. If\n",
      " |      the separator is found, returns a 3-tuple containing the part before the\n",
      " |      separator, the separator itself, and the part after it.\n",
      " |      \n",
      " |      If the separator is not found, returns a 3-tuple containing two empty strings\n",
      " |      and the original string.\n",
      " |  \n",
      " |  rsplit(self, /, sep=None, maxsplit=-1)\n",
      " |      Return a list of the substrings in the string, using sep as the separator string.\n",
      " |      \n",
      " |        sep\n",
      " |          The separator used to split the string.\n",
      " |      \n",
      " |          When set to None (the default value), will split on any whitespace\n",
      " |          character (including \\\\n \\\\r \\\\t \\\\f and spaces) and will discard\n",
      " |          empty strings from the result.\n",
      " |        maxsplit\n",
      " |          Maximum number of splits (starting from the left).\n",
      " |          -1 (the default value) means no limit.\n",
      " |      \n",
      " |      Splitting starts at the end of the string and works to the front.\n",
      " |  \n",
      " |  rstrip(self, chars=None, /)\n",
      " |      Return a copy of the string with trailing whitespace removed.\n",
      " |      \n",
      " |      If chars is given and not None, remove characters in chars instead.\n",
      " |  \n",
      " |  split(self, /, sep=None, maxsplit=-1)\n",
      " |      Return a list of the substrings in the string, using sep as the separator string.\n",
      " |      \n",
      " |        sep\n",
      " |          The separator used to split the string.\n",
      " |      \n",
      " |          When set to None (the default value), will split on any whitespace\n",
      " |          character (including \\\\n \\\\r \\\\t \\\\f and spaces) and will discard\n",
      " |          empty strings from the result.\n",
      " |        maxsplit\n",
      " |          Maximum number of splits (starting from the left).\n",
      " |          -1 (the default value) means no limit.\n",
      " |      \n",
      " |      Note, str.split() is mainly useful for data that has been intentionally\n",
      " |      delimited.  With natural text that includes punctuation, consider using\n",
      " |      the regular expression module.\n",
      " |  \n",
      " |  splitlines(self, /, keepends=False)\n",
      " |      Return a list of the lines in the string, breaking at line boundaries.\n",
      " |      \n",
      " |      Line breaks are not included in the resulting list unless keepends is given and\n",
      " |      true.\n",
      " |  \n",
      " |  startswith(...)\n",
      " |      S.startswith(prefix[, start[, end]]) -> bool\n",
      " |      \n",
      " |      Return True if S starts with the specified prefix, False otherwise.\n",
      " |      With optional start, test S beginning at that position.\n",
      " |      With optional end, stop comparing S at that position.\n",
      " |      prefix can also be a tuple of strings to try.\n",
      " |  \n",
      " |  strip(self, chars=None, /)\n",
      " |      Return a copy of the string with leading and trailing whitespace removed.\n",
      " |      \n",
      " |      If chars is given and not None, remove characters in chars instead.\n",
      " |  \n",
      " |  swapcase(self, /)\n",
      " |      Convert uppercase characters to lowercase and lowercase characters to uppercase.\n",
      " |  \n",
      " |  title(self, /)\n",
      " |      Return a version of the string where each word is titlecased.\n",
      " |      \n",
      " |      More specifically, words start with uppercased characters and all remaining\n",
      " |      cased characters have lower case.\n",
      " |  \n",
      " |  translate(self, table, /)\n",
      " |      Replace each character in the string using the given translation table.\n",
      " |      \n",
      " |        table\n",
      " |          Translation table, which must be a mapping of Unicode ordinals to\n",
      " |          Unicode ordinals, strings, or None.\n",
      " |      \n",
      " |      The table must implement lookup/indexing via __getitem__, for instance a\n",
      " |      dictionary or list.  If this operation raises LookupError, the character is\n",
      " |      left untouched.  Characters mapped to None are deleted.\n",
      " |  \n",
      " |  upper(self, /)\n",
      " |      Return a copy of the string converted to uppercase.\n",
      " |  \n",
      " |  zfill(self, width, /)\n",
      " |      Pad a numeric string with zeros on the left, to fill a field of the given width.\n",
      " |      \n",
      " |      The string is never truncated.\n",
      " |  \n",
      " |  ----------------------------------------------------------------------\n",
      " |  Static methods defined here:\n",
      " |  \n",
      " |  __new__(*args, **kwargs) from builtins.type\n",
      " |      Create and return a new object.  See help(type) for accurate signature.\n",
      " |  \n",
      " |  maketrans(...)\n",
      " |      Return a translation table usable for str.translate().\n",
      " |      \n",
      " |      If there is only one argument, it must be a dictionary mapping Unicode\n",
      " |      ordinals (integers) or characters to Unicode ordinals, strings or None.\n",
      " |      Character keys will be then converted to ordinals.\n",
      " |      If there are two arguments, they must be strings of equal length, and\n",
      " |      in the resulting dictionary, each character in x will be mapped to the\n",
      " |      character at the same position in y. If there is a third argument, it\n",
      " |      must be a string, whose characters will be mapped to None in the result.\n",
      "\n"
     ]
    }
   ],
   "source": [
    "help(str)"
   ]
  },
  {
   "cell_type": "markdown",
   "id": "782a2cca-213d-4445-b26b-a076d167c52d",
   "metadata": {
    "id": "HD9bdLccyDLY"
   },
   "source": [
    "Строки неизменяемые, и методы, которые должны бы что-то менять, дают **новую** строку. Это значит, что их можно применять по цепочке!"
   ]
  },
  {
   "cell_type": "markdown",
   "id": "1982972b-a1c5-4fc4-b0e6-1e3d91afe163",
   "metadata": {},
   "source": [
    "**Напоминание про объекты**\n",
    "\n",
    "`<к чему применяется>.split(<дополнительные аргументы>)`\n",
    "Метод применяется к объектам определённого типа. Например, `.split()` к строкам.\n",
    "\n",
    "То есть перед `.split()` может стоять:"
   ]
  },
  {
   "cell_type": "code",
   "execution_count": 3,
   "id": "99873424-f37d-4de2-9abc-1f0da7b947ba",
   "metadata": {},
   "outputs": [
    {
     "name": "stdout",
     "output_type": "stream",
     "text": [
      "['просто', 'строка']\n",
      "['сохранённая', 'в', 'переменную', 'строка']\n",
      "['То,', 'что', 'даёт', 'строку.', 'Например:', 'True']\n"
     ]
    }
   ],
   "source": [
    "print('просто строка'.split())\n",
    "\n",
    "peremennaya = 'сохранённая-в-переменную-строка'\n",
    "print(peremennaya.split('-'))\n",
    "\n",
    "print(('То, ' + 'что ' + 'даёт ' + 'строку. ' + 'Например: ' + str(5>0)).split())"
   ]
  },
  {
   "cell_type": "markdown",
   "id": "ab9ca4a1-4904-4ce0-a310-128f0ec73fd7",
   "metadata": {},
   "source": [
    "А вот так нельзя:"
   ]
  },
  {
   "cell_type": "code",
   "execution_count": 10,
   "id": "073fcc4d-9409-4e6f-b1f6-3e09c940c7be",
   "metadata": {},
   "outputs": [
    {
     "ename": "AttributeError",
     "evalue": "'list' object has no attribute 'split'",
     "output_type": "error",
     "traceback": [
      "\u001b[1;31m---------------------------------------------------------------------------\u001b[0m",
      "\u001b[1;31mAttributeError\u001b[0m                            Traceback (most recent call last)",
      "Cell \u001b[1;32mIn [10], line 3\u001b[0m\n\u001b[0;32m      1\u001b[0m sentences \u001b[38;5;241m=\u001b[39m [\u001b[38;5;124m\"\u001b[39m\u001b[38;5;124mЭто первое предложение.\u001b[39m\u001b[38;5;124m\"\u001b[39m,\n\u001b[0;32m      2\u001b[0m              \u001b[38;5;124m\"\u001b[39m\u001b[38;5;124mЭто второе предложение\u001b[39m\u001b[38;5;124m\"\u001b[39m]\n\u001b[1;32m----> 3\u001b[0m \u001b[38;5;28mprint\u001b[39m(\u001b[43msentences\u001b[49m\u001b[38;5;241;43m.\u001b[39;49m\u001b[43msplit\u001b[49m())\n",
      "\u001b[1;31mAttributeError\u001b[0m: 'list' object has no attribute 'split'"
     ]
    }
   ],
   "source": [
    "sentences = [\"Это первое предложение.\",\n",
    "             \"Это второе предложение\"]\n",
    "print(sentences.split())"
   ]
  },
  {
   "cell_type": "markdown",
   "id": "06e934e5-635d-48f9-992a-c98e9107596b",
   "metadata": {},
   "source": [
    "*Если вы хотели таким образом получить список списков, т.е. список предложений, а каждое предложение это уже список слов, то это можно сделать немного иначе.\n",
    "    Нужно применить функцию разбиения на слова к каждому предложению из списка в отдельности.\n",
    "    Функцию разбиения на слова при этом надо назвать полностью, `str.split`.\n",
    "    Скобки не нужны! (потому что мы не применяем функцию разбения `str.split`, а упоминаем, называем её, говорим функции `map`, какую функцию применить &mdash; эту самую функцию деления)*\n",
    "\n",
    "*Смотрите [в тетрадке про списки про `map`](./230207_methods.ipynb)*"
   ]
  },
  {
   "cell_type": "code",
   "execution_count": 13,
   "id": "7dbe4302-9a7f-4d39-8c77-13d4d8c3eda4",
   "metadata": {},
   "outputs": [
    {
     "name": "stdout",
     "output_type": "stream",
     "text": [
      "[['Это', 'первое', 'предложение.'], ['Это', 'второе', 'предложение']]\n"
     ]
    }
   ],
   "source": [
    "sentences = [\"Это первое предложение.\",\n",
    "             \"Это второе предложение\"]\n",
    "\n",
    "splitted_sents = list(map(str.split, sentences))\n",
    "\n",
    "print(splitted_sents)"
   ]
  },
  {
   "cell_type": "markdown",
   "id": "cd382929-b138-4c79-b0ad-dc2548709207",
   "metadata": {
    "id": "msLLJOew-VE1"
   },
   "source": [
    "### Убираем символы на концах строки: `str.strip()`, `str.lstrip()`, `str.rstrip()`"
   ]
  },
  {
   "cell_type": "code",
   "execution_count": 3,
   "id": "a2b2f16a-a573-4d5c-85ff-be9459653ec7",
   "metadata": {
    "colab": {
     "base_uri": "https://localhost:8080/"
    },
    "id": "YY_BO-TQ_g30",
    "outputId": "21cbeb9d-a1a9-4d75-e569-6711c5a13b94"
   },
   "outputs": [
    {
     "name": "stdout",
     "output_type": "stream",
     "text": [
      "привет\n"
     ]
    }
   ],
   "source": [
    "word = \",,,привет,,,,\"\n",
    "\n",
    "print(word.strip(\",\"))"
   ]
  },
  {
   "cell_type": "markdown",
   "id": "3b01a918-c92c-4560-bbf1-66efc40df160",
   "metadata": {
    "id": "RX3DQq9w_yM5"
   },
   "source": [
    "Убирает каждый из символов с краёв строки, сколько бы раз они не встретились"
   ]
  },
  {
   "cell_type": "code",
   "execution_count": 4,
   "id": "54d99af3-e20d-4ced-9054-09d63ef0a914",
   "metadata": {
    "colab": {
     "base_uri": "https://localhost:8080/"
    },
    "id": "TPSwNNGl_vdO",
    "outputId": "076d4ed0-8e1e-46c3-888e-17673fe75c3f"
   },
   "outputs": [
    {
     "name": "stdout",
     "output_type": "stream",
     "text": [
      "привет\n"
     ]
    }
   ],
   "source": [
    "word = \",.,..привет,.,\"\n",
    "\n",
    "print(word.strip(\",.\"))"
   ]
  },
  {
   "cell_type": "markdown",
   "id": "0b323d1b-9a24-4a62-9a21-0a45d1f5f551",
   "metadata": {},
   "source": [
    "Это не удаление символов по всей строке, только по краям. Слева дошли до \"Р\" (а это не \",\" и не \"-\") и остановились, справа дошли до \"у\" и остановились. Внутри дефисы не удалились."
   ]
  },
  {
   "cell_type": "code",
   "execution_count": 5,
   "id": "35a9ec33-1c6d-403b-bc70-ed7d2b842180",
   "metadata": {},
   "outputs": [
    {
     "name": "stdout",
     "output_type": "stream",
     "text": [
      "Ростов-на-Дону\n"
     ]
    }
   ],
   "source": [
    "word = \"-----,-,Ростов-на-Дону,---\"\n",
    "\n",
    "print(word.strip(\",-\"))"
   ]
  },
  {
   "cell_type": "markdown",
   "id": "679f8957-74b1-4c22-9b82-e9bfef69546a",
   "metadata": {
    "id": "wN6qsR9zABYD"
   },
   "source": [
    "#### `l...` и `r...` в названиях функций\n",
    "`str.lstrip()` и `str.rstrip()` это, предсказуемо, версии работающие с одним краем строки, левым (l — left) или правым (r — right)"
   ]
  },
  {
   "cell_type": "code",
   "execution_count": 6,
   "id": "8d28f1bd-825a-4f0c-967b-4a25088969be",
   "metadata": {
    "colab": {
     "base_uri": "https://localhost:8080/"
    },
    "id": "nuys5s4rABrY",
    "outputId": "3c52f3c2-a975-487d-ff94-ce2aad1bdd67"
   },
   "outputs": [
    {
     "name": "stdout",
     "output_type": "stream",
     "text": [
      "orig: ,.,..привет,.,\n",
      "l: привет,.,\n",
      "r: ,.,..привет\n"
     ]
    }
   ],
   "source": [
    "word = \",.,..привет,.,\"\n",
    "\n",
    "print(\"orig:\", word)\n",
    "print(\"l:\", word.lstrip(\",.\"))\n",
    "\n",
    "print(\"r:\", word.rstrip(\",.\"))"
   ]
  },
  {
   "cell_type": "code",
   "execution_count": 5,
   "id": "0c1acb00-300f-4a75-bfcb-d402bb266f22",
   "metadata": {},
   "outputs": [
    {
     "data": {
      "text/plain": [
       "'Вася'"
      ]
     },
     "execution_count": 5,
     "metadata": {},
     "output_type": "execute_result"
    }
   ],
   "source": [
    "\"  Вася\\t \\n\".strip()"
   ]
  },
  {
   "cell_type": "markdown",
   "id": "64491994-e9c1-479f-b086-f682afeedc89",
   "metadata": {
    "id": "ypRO2mxXAj6A"
   },
   "source": [
    "### Тренировка\n",
    "\n",
    "Разбейте строчку на слова, и получите список слов, очищенных от знаков препинания "
   ]
  },
  {
   "cell_type": "code",
   "execution_count": 26,
   "id": "85271fcc-0d83-44de-8ad5-1c4bf4f3b172",
   "metadata": {},
   "outputs": [
    {
     "name": "stdout",
     "output_type": "stream",
     "text": [
      "['Тут', 'должен', 'быть', 'хороший,', 'остроумный,', 'чёткий', 'пример:', 'хм...', '...не', 'вышло!']\n",
      "['Тут', 'должен', 'быть', 'хороший', 'остроумный', 'чёткий', 'пример', 'хм', 'не', 'вышло']\n"
     ]
    }
   ],
   "source": [
    "text = \"Тут должен быть хороший, остроумный, чёткий пример:  хм... ...не вышло!\"\n",
    "\n",
    "punct = \",.;:!?\"\n",
    "\n",
    "punct_words = text.split()\n",
    "print(punct_words)\n",
    "\n",
    "clean_words = []\n",
    "for word_with_punct in punct_words:\n",
    "    clean_word = word_with_punct.strip(punct)\n",
    "    clean_words.append(clean_word)\n",
    "\n",
    "print(clean_words)"
   ]
  },
  {
   "cell_type": "code",
   "execution_count": 25,
   "id": "a3802a14-6d31-4028-bfff-14cabd6c88c2",
   "metadata": {},
   "outputs": [
    {
     "data": {
      "text/plain": [
       "'хороший'"
      ]
     },
     "execution_count": 25,
     "metadata": {},
     "output_type": "execute_result"
    }
   ],
   "source": [
    "\"хороший,\".strip(punct)"
   ]
  },
  {
   "cell_type": "code",
   "execution_count": 22,
   "id": "5e2fd276-d931-4aae-9006-756a90c94194",
   "metadata": {},
   "outputs": [
    {
     "name": "stdout",
     "output_type": "stream",
     "text": [
      "['Тут', 'должен', 'быть', 'хороший,', 'остроумный,', 'чёткий', 'пример:', 'хм...', '...не', 'вышло']\n"
     ]
    }
   ],
   "source": [
    "# не сработало\n",
    "\n",
    "text = \"Тут должен быть хороший, остроумный, чёткий пример:  хм... ...не вышло!\"\n",
    "\n",
    "punct = \",.;:!?\"\n",
    "\n",
    "punct_words = text.strip(punct).split()\n",
    "print(punct_words)"
   ]
  },
  {
   "cell_type": "code",
   "execution_count": null,
   "id": "cfe8dbd6-f4dc-4b5c-a36f-0279b3f3ef39",
   "metadata": {},
   "outputs": [],
   "source": []
  },
  {
   "cell_type": "code",
   "execution_count": 20,
   "id": "b822b741-1ca1-45ee-b6df-c358da2ced75",
   "metadata": {},
   "outputs": [
    {
     "name": "stdout",
     "output_type": "stream",
     "text": [
      "['Тут', 'должен', 'быть', 'хороший,', 'остроумный,', 'чёткий', 'пример:', 'хм...', '...не', 'вышло!']\n",
      "['Тут', 'должен', 'быть', 'хороший,', 'остроумный,', 'чёткий', 'пример:', 'хм...', '...не', 'вышло']\n"
     ]
    }
   ],
   "source": [
    "text = \"Тут должен быть хороший, остроумный, чёткий пример:  хм... ...не вышло!\"\n",
    "\n",
    "punct = \",.;:!?\"\n",
    "\n",
    "punct_words = text.split() # text.split(\" \")\n",
    "print(punct_words)\n",
    "\n",
    "print(text.strip(punct).split())"
   ]
  },
  {
   "cell_type": "code",
   "execution_count": 19,
   "id": "5671b56d-b0d2-4969-aeb0-56f79c9b5d87",
   "metadata": {
    "id": "jggubAZk-RfE"
   },
   "outputs": [
    {
     "name": "stdout",
     "output_type": "stream",
     "text": [
      "['Тут', 'должен', 'быть', 'хороший,', 'остроумный,', 'чёткий', 'пример:', 'хм...', '...не', 'вышло!']\n",
      "['Тут', 'должен', 'быть', 'хороший', 'остроумный', 'чёткий', 'пример', 'хм', 'не', 'вышло']\n"
     ]
    }
   ],
   "source": [
    "text = \"Тут должен быть хороший, остроумный, чёткий пример:  хм... ...не вышло!\"\n",
    "\n",
    "punct = \",.;:!?\"\n",
    "\n",
    "punct_words = text.split() # text.split(\" \")\n",
    "print(punct_words)\n",
    "\n",
    "clean_words = []\n",
    "for word_with_punct in punct_words:\n",
    "    clean_words.append(word_with_punct.strip(punct))\n",
    "\n",
    "print(clean_words)"
   ]
  },
  {
   "cell_type": "code",
   "execution_count": 12,
   "id": "fcbae45e-8eb7-4263-a76b-5bc6bd367f59",
   "metadata": {},
   "outputs": [
    {
     "data": {
      "text/plain": [
       "[4, 6]"
      ]
     },
     "execution_count": 12,
     "metadata": {},
     "output_type": "execute_result"
    }
   ],
   "source": [
    "list(map(len, [\"Вася\", \"Наташа\"]))"
   ]
  },
  {
   "cell_type": "code",
   "execution_count": 13,
   "id": "981d1935-bb17-4705-ba26-d2626131ad4b",
   "metadata": {},
   "outputs": [
    {
     "data": {
      "text/plain": [
       "4"
      ]
     },
     "execution_count": 13,
     "metadata": {},
     "output_type": "execute_result"
    }
   ],
   "source": [
    "len(\"Вася\")"
   ]
  },
  {
   "cell_type": "code",
   "execution_count": 14,
   "id": "172cd069-403e-444c-808d-2575347dd5f2",
   "metadata": {},
   "outputs": [
    {
     "data": {
      "text/plain": [
       "['вася', 'наташа']"
      ]
     },
     "execution_count": 14,
     "metadata": {},
     "output_type": "execute_result"
    }
   ],
   "source": [
    "list(map(str.lower, [\"Вася\", \"Наташа\"]))"
   ]
  },
  {
   "cell_type": "code",
   "execution_count": 15,
   "id": "a4e10792-6e58-4b5e-a0b8-6bf043c37f40",
   "metadata": {},
   "outputs": [
    {
     "data": {
      "text/plain": [
       "'вася'"
      ]
     },
     "execution_count": 15,
     "metadata": {},
     "output_type": "execute_result"
    }
   ],
   "source": [
    "str.lower(\"Вася\")"
   ]
  },
  {
   "cell_type": "code",
   "execution_count": 16,
   "id": "130059c8-73e3-4e6b-aafb-293d9953115b",
   "metadata": {},
   "outputs": [
    {
     "data": {
      "text/plain": [
       "'вася'"
      ]
     },
     "execution_count": 16,
     "metadata": {},
     "output_type": "execute_result"
    }
   ],
   "source": [
    "\"Вася\".lower()"
   ]
  },
  {
   "cell_type": "code",
   "execution_count": 17,
   "id": "bb88277a-1e2f-4452-917c-8044946134c3",
   "metadata": {},
   "outputs": [
    {
     "data": {
      "text/plain": [
       "'хм'"
      ]
     },
     "execution_count": 17,
     "metadata": {},
     "output_type": "execute_result"
    }
   ],
   "source": [
    "str.strip(\"хм...\", \",.;:!?\")"
   ]
  },
  {
   "cell_type": "code",
   "execution_count": 18,
   "id": "b0d5e957-ed68-442f-9653-8eb9709c9ae0",
   "metadata": {},
   "outputs": [
    {
     "data": {
      "text/plain": [
       "'хм'"
      ]
     },
     "execution_count": 18,
     "metadata": {},
     "output_type": "execute_result"
    }
   ],
   "source": [
    "\"хм...\".strip(\",.;:!?\")"
   ]
  },
  {
   "cell_type": "code",
   "execution_count": null,
   "id": "a9eef214-c6f8-434c-9386-8f2690245b05",
   "metadata": {},
   "outputs": [],
   "source": []
  },
  {
   "cell_type": "code",
   "execution_count": null,
   "id": "07933bf8-d07b-42b1-b36b-78f262b676aa",
   "metadata": {},
   "outputs": [],
   "source": []
  },
  {
   "cell_type": "markdown",
   "id": "a4ef6e01-aa2c-47dd-9802-eed4603fb2da",
   "metadata": {
    "id": "pHpljCmrxi1V"
   },
   "source": [
    "### Понижаем регистр и делаем замены:  `str.lower()`, `str.casefold()`"
   ]
  },
  {
   "cell_type": "markdown",
   "id": "494a60a7-eeaa-48bc-b006-f0623f3307d3",
   "metadata": {
    "id": "bUqTbqNYl-9B"
   },
   "source": [
    "В тестовой форме вы по-разному пишете фамилию (да чего там, мы сами так делаем). Имя и фамилия могут быть написаны с маленькой буквы, или неодинаково. В этом и многих других случаях, чтобы уменьшить разнообразие написаний, можно приводить строку к одному регистру, обычно нижнему: `str.lower()` . "
   ]
  },
  {
   "cell_type": "code",
   "execution_count": 8,
   "id": "73436423-80bb-4eb7-839a-7cb9c792a797",
   "metadata": {
    "colab": {
     "base_uri": "https://localhost:8080/"
    },
    "id": "93EkkMz7os3b",
    "outputId": "c4f6c503-b2d9-4ba5-aa03-975f2156bfe2"
   },
   "outputs": [
    {
     "name": "stdout",
     "output_type": "stream",
     "text": [
      "иван топорышкин\n"
     ]
    }
   ],
   "source": [
    "name1 = \"Иван Топорышкин\"\n",
    "name2 = \"иван топорышкин\"\n",
    "name3 = \"иван Топорышкин\"\n",
    "\n",
    "print(name1.lower())"
   ]
  },
  {
   "cell_type": "code",
   "execution_count": 9,
   "id": "eadf5a18-5019-4f43-b5be-965b24d174c7",
   "metadata": {},
   "outputs": [
    {
     "name": "stdout",
     "output_type": "stream",
     "text": [
      "True\n"
     ]
    }
   ],
   "source": [
    "print(name1.lower() == name2.lower() == name3.lower())"
   ]
  },
  {
   "cell_type": "code",
   "execution_count": 10,
   "id": "021191fd-9123-40e9-b72e-2102b76eefc2",
   "metadata": {
    "colab": {
     "base_uri": "https://localhost:8080/"
    },
    "id": "4tF_fSWqml4p",
    "outputId": "5fabb830-042a-4839-d0c2-fbd56893db0d"
   },
   "outputs": [
    {
     "name": "stdout",
     "output_type": "stream",
     "text": [
      "работа сдана\n",
      "True\n"
     ]
    }
   ],
   "source": [
    "s = \"работа сдана\"\n",
    "s_sarc = \"рАбОтА сДанА\"\n",
    "\n",
    "print(s_sarc.lower())\n",
    "print(s_sarc.lower() == s)"
   ]
  },
  {
   "cell_type": "markdown",
   "id": "e6002a27-7f94-4e8b-b149-15e9aabca845",
   "metadata": {
    "id": "c-zs1Ej5l9zQ"
   },
   "source": [
    "Есть похожий метод `str.casefold()`, но чуть более агрессивный, с дополнительными правилами.\n",
    "    Обычно это экзотика, типа греческого, некоторых написаний и лигатур из латыни и другого.\n",
    "    Он как-то по-особому обрабатывает *безрегистровые* символы."
   ]
  },
  {
   "cell_type": "code",
   "execution_count": 11,
   "id": "97e4e8ae-619a-480c-921e-8d0047b835c7",
   "metadata": {
    "colab": {
     "base_uri": "https://localhost:8080/"
    },
    "id": "wOOm_HWlqHLH",
    "outputId": "7270d3be-3e2a-4caa-b018-1d558f1269e1"
   },
   "outputs": [
    {
     "name": "stdout",
     "output_type": "stream",
     "text": [
      "orig: ϐ\n",
      "lower: ϐ\n",
      "casefold: β\n"
     ]
    }
   ],
   "source": [
    "greek_beta_symbol = \"ϐ\"\n",
    "\n",
    "print(\"orig:\", greek_beta_symbol)\n",
    "print(\"lower:\", greek_beta_symbol.lower())\n",
    "print(\"casefold:\", greek_beta_symbol.casefold())"
   ]
  },
  {
   "cell_type": "markdown",
   "id": "d3d3a42c-ce0b-45aa-a0d8-f157ae4b0e1f",
   "metadata": {
    "id": "ZCD3Foheqmh0"
   },
   "source": [
    "Но для немецкого эсцета `ß`, например, может быть полезно: "
   ]
  },
  {
   "cell_type": "code",
   "execution_count": 12,
   "id": "2a4f6996-812f-4c9e-97f8-eb497d4447bd",
   "metadata": {
    "colab": {
     "base_uri": "https://localhost:8080/"
    },
    "id": "puqr6VsUqHwG",
    "outputId": "d8a06cfc-65c1-45f4-a7fc-e44ba5ad7fcb"
   },
   "outputs": [
    {
     "name": "stdout",
     "output_type": "stream",
     "text": [
      "orig: ß\n",
      "lower: ß\n",
      "casefold: ss\n"
     ]
    }
   ],
   "source": [
    "german_eszet_symbol = \"ß\"\n",
    "\n",
    "print(\"orig:\", german_eszet_symbol)\n",
    "print(\"lower:\", german_eszet_symbol.lower())\n",
    "print(\"casefold:\", german_eszet_symbol.casefold())"
   ]
  },
  {
   "cell_type": "markdown",
   "id": "615837e6-6cd6-41ec-a38b-627f600bdecf",
   "metadata": {},
   "source": [
    "### Тренировка\n",
    "Дополните код и предыдущей тренировки. Получите список слов, очищенных от знаков препинания и приведённых к нижнему регистру"
   ]
  },
  {
   "cell_type": "code",
   "execution_count": 28,
   "id": "e12165d1-7eed-49c2-af81-908c2a165ff5",
   "metadata": {},
   "outputs": [
    {
     "name": "stdout",
     "output_type": "stream",
     "text": [
      "['Тут', 'должен', 'быть', 'хороший,', 'остроумный,', 'чёткий', 'пример', 'с', 'ВАСЕЙ:', 'хм...', '...не', 'вышло!']\n",
      "['тут', 'должен', 'быть', 'хороший', 'остроумный', 'чёткий', 'пример', 'с', 'васей', 'хм', 'не', 'вышло']\n"
     ]
    }
   ],
   "source": [
    "text = \"Тут должен быть хороший, остроумный, чёткий пример с ВАСЕЙ:  хм... ...не вышло!\"\n",
    "\n",
    "punct = \",.;:!?\"\n",
    "\n",
    "punct_words = text.split()\n",
    "print(punct_words)\n",
    "\n",
    "clean_words = []\n",
    "for word_with_punct in punct_words:\n",
    "    clean_word = word_with_punct.strip(punct)\n",
    "    clean_words.append(clean_word.lower())\n",
    "\n",
    "print(clean_words)"
   ]
  },
  {
   "cell_type": "code",
   "execution_count": 29,
   "id": "d96f8143-52e0-4d4a-af26-56ffdefba8a1",
   "metadata": {},
   "outputs": [
    {
     "name": "stdout",
     "output_type": "stream",
     "text": [
      "['Тут', 'должен', 'быть', 'хороший,', 'остроумный,', 'чёткий', 'пример', 'с', 'ВАСЕЙ:', 'хм...', '...не', 'вышло!']\n",
      "['тут', 'должен', 'быть', 'хороший', 'остроумный', 'чёткий', 'пример', 'с', 'васей', 'хм', 'не', 'вышло']\n"
     ]
    }
   ],
   "source": [
    "text = \"Тут должен быть хороший, остроумный, чёткий пример с ВАСЕЙ:  хм... ...не вышло!\"\n",
    "\n",
    "punct = \",.;:!?\"\n",
    "\n",
    "punct_words = text.split()\n",
    "print(punct_words)\n",
    "\n",
    "clean_words = []\n",
    "for word_with_punct in punct_words:\n",
    "    clean_word = word_with_punct.strip(punct).lower()\n",
    "    clean_words.append(clean_word)\n",
    "\n",
    "print(clean_words)"
   ]
  },
  {
   "cell_type": "markdown",
   "id": "84bb1d54-64a8-4501-8034-18405a452ccf",
   "metadata": {
    "id": "Ld6rfA7axdFV"
   },
   "source": [
    "### Повышаем регистр: `str.capitalize()`, `str.upper()`, `str.title()` "
   ]
  },
  {
   "cell_type": "markdown",
   "id": "5e31e6c6-04f4-4c65-bdbd-3dfc139a3bce",
   "metadata": {
    "id": "JDPPFDqI5l_2"
   },
   "source": [
    "* можно сделать большой первую букву, а все остальные маленькими: `str.capitalize()`\n",
    "* можно сделать большими все буквы строки: `str.upper()`,\n",
    "* можно сделать как в заголовках (англоязычных, то есть большой каждую первую букву слов, разделённых пробелами): `str.title()`,\n"
   ]
  },
  {
   "cell_type": "code",
   "execution_count": 30,
   "id": "cfa973c5-1320-4454-ae81-d7983b3f3344",
   "metadata": {
    "id": "fBUuMPLP7PmE"
   },
   "outputs": [],
   "source": [
    "sent = \"александр Сергеевич Пушкин родился в 1799 году.\""
   ]
  },
  {
   "cell_type": "code",
   "execution_count": 31,
   "id": "6db60c08-80d1-4fb2-9835-3d0757c24780",
   "metadata": {
    "colab": {
     "base_uri": "https://localhost:8080/"
    },
    "id": "q-Uadd1k7aLq",
    "outputId": "6311c638-df4e-461a-9781-b9b48c74bdd4"
   },
   "outputs": [
    {
     "name": "stdout",
     "output_type": "stream",
     "text": [
      "Александр сергеевич пушкин родился в 1799 году.\n",
      "АЛЕКСАНДР СЕРГЕЕВИЧ ПУШКИН РОДИЛСЯ В 1799 ГОДУ.\n",
      "Александр Сергеевич Пушкин Родился В 1799 Году.\n"
     ]
    }
   ],
   "source": [
    "print(sent.capitalize())\n",
    "print(sent.upper())\n",
    "print(sent.title())"
   ]
  },
  {
   "cell_type": "markdown",
   "id": "f7c96fd0-04ae-47de-ac57-9f170f4188c2",
   "metadata": {
    "id": "cj_le9Ax8dOZ"
   },
   "source": [
    "Обратите внимание, метод `str.upper` относится к экзотическим символам скорее как `str.casefold`, чем как `str.lower`. Аналогично `str.casefold` он заменяет `ß` на `SS`. И `str.title` (да и `str.capizatalize`) тоже знает экзотические символы."
   ]
  },
  {
   "cell_type": "code",
   "execution_count": 18,
   "id": "94248294-0961-4587-ae29-b6b3cc60e472",
   "metadata": {
    "colab": {
     "base_uri": "https://localhost:8080/"
    },
    "id": "5b9wkK8Gxd7A",
    "outputId": "b9e2baf7-421c-4007-9cd5-7621e4b82eb1"
   },
   "outputs": [
    {
     "name": "stdout",
     "output_type": "stream",
     "text": [
      "Александр сергеевич пушкин war nicht in ß. (bavaria) in 1799 geboren.\n",
      "АЛЕКСАНДР СЕРГЕЕВИЧ ПУШКИН WAR NICHT IN SS. (BAVARIA) IN 1799 GEBOREN.\n",
      "Александр Сергеевич Пушкин War Nicht In Ss. (Bavaria) In 1799 Geboren.\n"
     ]
    }
   ],
   "source": [
    "sent2 = \"александр Сергеевич Пушкин war nicht in ß. (Bavaria) in 1799 geboren.\"\n",
    "\n",
    "print(sent2.capitalize())\n",
    "print(sent2.upper())\n",
    "print(sent2.title())"
   ]
  },
  {
   "cell_type": "markdown",
   "id": "e049872d-572f-4c37-a737-81194c792241",
   "metadata": {
    "id": "uPIv4ItEkHSF"
   },
   "source": [
    "### `str.replace()` &mdash; делаем замены "
   ]
  },
  {
   "cell_type": "markdown",
   "id": "37e898dd-8da5-45f1-88b9-cb4b2b6a959b",
   "metadata": {
    "id": "MMyGsOkMx5Wy"
   },
   "source": [
    "`str.replace(\"<ЧТО>\", \"<НА ЧТО>\")`"
   ]
  },
  {
   "cell_type": "markdown",
   "id": "6049f219-890d-4545-aaf6-299ce525803c",
   "metadata": {
    "id": "5Z4DPHJLwzSv"
   },
   "source": [
    "Позволяет заменять одну точную последовательность на другую"
   ]
  },
  {
   "cell_type": "code",
   "execution_count": 19,
   "id": "763381d9-bb44-4dc5-809c-ad1acd0f0a25",
   "metadata": {
    "colab": {
     "base_uri": "https://localhost:8080/"
    },
    "id": "4o3QZ5vPwhPT",
    "outputId": "de26a9f6-3165-458d-8d44-58c2f621825c"
   },
   "outputs": [
    {
     "name": "stdout",
     "output_type": "stream",
     "text": [
      "жымолость, жывот, Житомир\n"
     ]
    }
   ],
   "source": [
    "zhi = \"жимолость, живот, Житомир\"\n",
    "\n",
    "# заменились только \"жи\" в нижнем регистре\n",
    "print(zhi.replace(\"жи\", \"жы\"))  "
   ]
  },
  {
   "cell_type": "code",
   "execution_count": 32,
   "id": "5cdea7fb-d30a-4a5c-9b38-f90493cc67c0",
   "metadata": {
    "colab": {
     "base_uri": "https://localhost:8080/"
    },
    "id": "4o3QZ5vPwhPT",
    "outputId": "de26a9f6-3165-458d-8d44-58c2f621825c"
   },
   "outputs": [
    {
     "name": "stdout",
     "output_type": "stream",
     "text": [
      "жымолость, жывот, жытомир\n"
     ]
    }
   ],
   "source": [
    "zhi = \"жимолость, живот, Житомир\"\n",
    "\n",
    "# заменились только \"жи\" в нижнем регистре\n",
    "print(zhi.lower().replace(\"жи\", \"жы\"))  "
   ]
  },
  {
   "cell_type": "code",
   "execution_count": 20,
   "id": "3cefb13b-ab12-4d0d-86f3-34c3b800bca9",
   "metadata": {
    "colab": {
     "base_uri": "https://localhost:8080/"
    },
    "id": "i1tMytAHxDko",
    "outputId": "e1f9c02e-ab77-46cc-bf41-f16997262010"
   },
   "outputs": [
    {
     "name": "stdout",
     "output_type": "stream",
     "text": [
      "ПРАВИЛЬНО ЖИмолость, ПРАВИЛЬНО ЖИвот\n"
     ]
    }
   ],
   "source": [
    "zhi2 = \"жымолость, жывот\"\n",
    "\n",
    "# заменились только \"жи\" в нижнем регистре\n",
    "print(zhi2.replace(\"жы\", \"ПРАВИЛЬНО ЖИ\"))"
   ]
  },
  {
   "cell_type": "markdown",
   "id": "5f8ece78-427b-4912-bebd-4e266e7cd0e5",
   "metadata": {
    "id": "TsqJtllexewg"
   },
   "source": [
    "### найти позицию символа в строке: `str.find()` (`str.rfind()`) (а также `str.index()`, `str.rindex()`)"
   ]
  },
  {
   "cell_type": "markdown",
   "id": "0cb0df66-c2fa-4fe3-89c1-bc9ab2cadd05",
   "metadata": {
    "id": "_Gu5gIgP2GYJ"
   },
   "source": [
    "`str.find()` ищет, начиная слева, а `.rfind()`, начиная справа, но оба возвращают положительный индекс (от начала строки, с 0)  "
   ]
  },
  {
   "cell_type": "code",
   "execution_count": 40,
   "id": "351d9ec2-95db-4cf3-8569-68cbf5593e73",
   "metadata": {
    "colab": {
     "base_uri": "https://localhost:8080/"
    },
    "id": "E5MaqYK0xfB5",
    "outputId": "5b0e1014-0502-40f4-ae29-302d8a5956b9"
   },
   "outputs": [
    {
     "name": "stdout",
     "output_type": "stream",
     "text": [
      "5\n",
      "22\n"
     ]
    }
   ],
   "source": [
    "s = \"Привет, Альберт-Альберт!\"\n",
    "\n",
    "print(s.find(\"т\"))\n",
    "print(s.rfind(\"т\"))"
   ]
  },
  {
   "cell_type": "markdown",
   "id": "f0105bec-b2ad-4a07-a6ba-050e1b65bde4",
   "metadata": {
    "id": "kD_jM9kc2s-R"
   },
   "source": [
    "Если символа нет, то выдаёт `-1`"
   ]
  },
  {
   "cell_type": "code",
   "execution_count": 37,
   "id": "b8a5b369-0881-4b73-911b-64dbc8fb307c",
   "metadata": {
    "colab": {
     "base_uri": "https://localhost:8080/"
    },
    "id": "zDI_Wk2W2q7Q",
    "outputId": "6d7e5dcd-2082-4f9e-d135-c9a5373113f6"
   },
   "outputs": [
    {
     "name": "stdout",
     "output_type": "stream",
     "text": [
      "-1\n"
     ]
    }
   ],
   "source": [
    "s = \"Привет, Альберт!\"\n",
    "\n",
    "print(s.rfind(\"W\"))"
   ]
  },
  {
   "cell_type": "code",
   "execution_count": 39,
   "id": "49dd7406-f483-44d6-973a-c239d780d3c2",
   "metadata": {},
   "outputs": [
    {
     "data": {
      "text/plain": [
       "3"
      ]
     },
     "execution_count": 39,
     "metadata": {},
     "output_type": "execute_result"
    }
   ],
   "source": [
    "s.find(\"вет\")"
   ]
  },
  {
   "cell_type": "code",
   "execution_count": 41,
   "id": "265a08ea-729b-41c3-878f-a34bc6cd9e55",
   "metadata": {},
   "outputs": [
    {
     "data": {
      "text/plain": [
       "19"
      ]
     },
     "execution_count": 41,
     "metadata": {},
     "output_type": "execute_result"
    }
   ],
   "source": [
    "s.rfind(\"берт\")"
   ]
  },
  {
   "cell_type": "code",
   "execution_count": 44,
   "id": "1e7d7c31-69c7-44fc-9075-2816cb9d9848",
   "metadata": {},
   "outputs": [
    {
     "data": {
      "text/plain": [
       "-1"
      ]
     },
     "execution_count": 44,
     "metadata": {},
     "output_type": "execute_result"
    }
   ],
   "source": [
    "# это не нашлось, потому что читает слева-направо (просто ближе к какому-то концу, левому - find, правому - rfind)\n",
    "\n",
    "s.rfind(\"треб\")"
   ]
  },
  {
   "cell_type": "code",
   "execution_count": 42,
   "id": "0e082af4-9098-431d-81eb-85f103f7c926",
   "metadata": {},
   "outputs": [
    {
     "data": {
      "text/plain": [
       "19"
      ]
     },
     "execution_count": 42,
     "metadata": {},
     "output_type": "execute_result"
    }
   ],
   "source": [
    "len(s)-5"
   ]
  },
  {
   "cell_type": "markdown",
   "id": "17c8f698-857c-483c-92de-c2cd3a70e8a5",
   "metadata": {
    "id": "wHcjxLjm25F9"
   },
   "source": [
    "`str.index()` и `str.rindex()` устроены схоже, но дают ошибку, когда ничего не найдено. Это иногда полезно, но не нам, мы не умеем работать с ошибками.\n",
    "\n",
    "*вспомните [из той же тетрадки про методы](230207_methods.ipynb), что так же был устроен `list.index()` &mdash; давал ошибку, если ничего не найдено.\n",
    "    К сожалению, для списков нет чего-то вроде `list.find()`*"
   ]
  },
  {
   "cell_type": "code",
   "execution_count": 23,
   "id": "6ec38e18-b61a-4f5c-b84e-60b814bf41ac",
   "metadata": {
    "colab": {
     "base_uri": "https://localhost:8080/"
    },
    "id": "Ypneqtys24jQ",
    "outputId": "daf3a9ce-bec0-4a3a-c640-44f861b930cc"
   },
   "outputs": [
    {
     "name": "stdout",
     "output_type": "stream",
     "text": [
      "5\n",
      "14\n"
     ]
    }
   ],
   "source": [
    "s = \"Привет, Альберт!\"\n",
    "\n",
    "print(s.index(\"т\"))\n",
    "print(s.rindex(\"т\"))"
   ]
  },
  {
   "cell_type": "code",
   "execution_count": 24,
   "id": "37fdfce9-8e71-4412-a366-1effd4226b6a",
   "metadata": {
    "colab": {
     "base_uri": "https://localhost:8080/",
     "height": 201
    },
    "id": "XcXdMBnu3GGL",
    "outputId": "8d77ed51-e846-4d37-9d59-c154dd3da98a"
   },
   "outputs": [
    {
     "ename": "ValueError",
     "evalue": "substring not found",
     "output_type": "error",
     "traceback": [
      "\u001b[0;31m---------------------------------------------------------------------------\u001b[0m",
      "\u001b[0;31mValueError\u001b[0m                                Traceback (most recent call last)",
      "Input \u001b[0;32mIn [24]\u001b[0m, in \u001b[0;36m<cell line: 3>\u001b[0;34m()\u001b[0m\n\u001b[1;32m      1\u001b[0m s \u001b[38;5;241m=\u001b[39m \u001b[38;5;124m\"\u001b[39m\u001b[38;5;124mПривет, Альберт!\u001b[39m\u001b[38;5;124m\"\u001b[39m\n\u001b[0;32m----> 3\u001b[0m \u001b[38;5;28mprint\u001b[39m(\u001b[43ms\u001b[49m\u001b[38;5;241;43m.\u001b[39;49m\u001b[43mrindex\u001b[49m\u001b[43m(\u001b[49m\u001b[38;5;124;43m\"\u001b[39;49m\u001b[38;5;124;43mW\u001b[39;49m\u001b[38;5;124;43m\"\u001b[39;49m\u001b[43m)\u001b[49m)\n",
      "\u001b[0;31mValueError\u001b[0m: substring not found"
     ]
    }
   ],
   "source": [
    "s = \"Привет, Альберт!\"\n",
    "\n",
    "print(s.rindex(\"W\"))"
   ]
  },
  {
   "cell_type": "markdown",
   "id": "21de8ab7-25f4-4861-bd99-f8ce19a57344",
   "metadata": {
    "id": "yZlDI9fR5IKQ"
   },
   "source": [
    "### Подсчёт нужных символов в строке (уже видели)"
   ]
  },
  {
   "cell_type": "code",
   "execution_count": 25,
   "id": "fda1c4d6-eae7-4ad1-b4e2-95444a1e37ac",
   "metadata": {
    "colab": {
     "base_uri": "https://localhost:8080/"
    },
    "id": "YIrRvl3p5Mah",
    "outputId": "7cce4243-65c3-46ae-9637-49006a4960df"
   },
   "outputs": [
    {
     "name": "stdout",
     "output_type": "stream",
     "text": [
      "3\n"
     ]
    }
   ],
   "source": [
    "stroka = \"длинношеее\"\n",
    "\n",
    "print(stroka.count(\"е\"))"
   ]
  },
  {
   "cell_type": "code",
   "execution_count": 45,
   "id": "6d0bd625-3c54-43f5-a832-077e988921fa",
   "metadata": {
    "colab": {
     "base_uri": "https://localhost:8080/"
    },
    "id": "YIrRvl3p5Mah",
    "outputId": "7cce4243-65c3-46ae-9637-49006a4960df"
   },
   "outputs": [
    {
     "name": "stdout",
     "output_type": "stream",
     "text": [
      "0\n"
     ]
    }
   ],
   "source": [
    "stroka = \"длинношеее\"\n",
    "\n",
    "print(stroka.count(\"я\"))"
   ]
  },
  {
   "cell_type": "markdown",
   "id": "69a8c24a-e937-48cf-8b14-2669c8b45cec",
   "metadata": {
    "id": "KzT1IUCwBonj"
   },
   "source": [
    "### Делим и соединяем\n",
    "#### `str.split()` с `maxsplit=<число>`"
   ]
  },
  {
   "cell_type": "code",
   "execution_count": 26,
   "id": "0e18af80-c0f5-4154-a8d1-f3ffef901801",
   "metadata": {
    "colab": {
     "base_uri": "https://localhost:8080/"
    },
    "id": "Jl2uKEYmBvx7",
    "outputId": "5616b9f7-3a32-4991-a20d-f7f791106ec2"
   },
   "outputs": [
    {
     "name": "stdout",
     "output_type": "stream",
     "text": [
      "['hey', 'hey', 'hey']\n",
      "['hey-hey-hey']\n"
     ]
    }
   ],
   "source": [
    "salute = \"hey-hey-hey\"\n",
    "\n",
    "print(salute.split(\"-\"))\n",
    "print(salute.split(\".\"))"
   ]
  },
  {
   "cell_type": "markdown",
   "id": "94ee4a55-25c6-4ad9-a0ef-e5562aa355fb",
   "metadata": {
    "id": "kQFHF69bVJMV"
   },
   "source": [
    "Количество делений можно ограничить!"
   ]
  },
  {
   "cell_type": "code",
   "execution_count": 27,
   "id": "022eaaa6-eb98-4d6d-977d-27b10b2d6838",
   "metadata": {
    "colab": {
     "base_uri": "https://localhost:8080/"
    },
    "id": "QDiQ624-VJa4",
    "outputId": "b86aefd0-ee6c-4bd5-8f28-d78ce84a6afb"
   },
   "outputs": [
    {
     "data": {
      "text/plain": [
       "['hey', 'hey-hey']"
      ]
     },
     "execution_count": 27,
     "metadata": {},
     "output_type": "execute_result"
    }
   ],
   "source": [
    "salute.split(\"-\", maxsplit=1)"
   ]
  },
  {
   "cell_type": "code",
   "execution_count": 28,
   "id": "db451787-60f9-4903-a0d9-d967b926c24c",
   "metadata": {
    "colab": {
     "base_uri": "https://localhost:8080/"
    },
    "id": "ix3K0sF6e6O_",
    "outputId": "f37d53b0-6a2d-429b-fddf-d4616c4a2c51"
   },
   "outputs": [
    {
     "name": "stdout",
     "output_type": "stream",
     "text": [
      "['Пётр', 'и', 'Павел', 'день убавил']\n"
     ]
    }
   ],
   "source": [
    "proverb = \"Пётр и Павел день убавил\"\n",
    "\n",
    "print(proverb.split(maxsplit=3))"
   ]
  },
  {
   "cell_type": "markdown",
   "id": "895802b5-2380-439b-a111-b06c646e25b9",
   "metadata": {},
   "source": [
    "### `< `чем соединяем`>.join(<`что соединяем`>)`"
   ]
  },
  {
   "cell_type": "markdown",
   "id": "de58623c-86e9-4215-bd1b-b097a09aaa1e",
   "metadata": {
    "id": "Wzly1-KmVj5E"
   },
   "source": [
    "Когда у нас есть список строк и мы хотим соединить их в одну, следует использовать `str.join`. Он вызывается от той строчки, которую мы хотим сделать разделителем:"
   ]
  },
  {
   "cell_type": "code",
   "execution_count": 29,
   "id": "6734080a-704e-47e8-873c-6c59a0ac7996",
   "metadata": {
    "colab": {
     "base_uri": "https://localhost:8080/"
    },
    "id": "38Dkcwt2VkDY",
    "outputId": "c66e88c5-9728-4d4e-8e7a-c3e0ca371ed1"
   },
   "outputs": [
    {
     "data": {
      "text/plain": [
       "'Алексей Николаевич --- Лев Николаевич --- Алексей Константинович'"
      ]
     },
     "execution_count": 29,
     "metadata": {},
     "output_type": "execute_result"
    }
   ],
   "source": [
    "names = [\"Алексей Николаевич\", \"Лев Николаевич\", \"Алексей Константинович\"]\n",
    "' --- '.join(names)"
   ]
  },
  {
   "cell_type": "code",
   "execution_count": 30,
   "id": "16756dda-fffe-4baa-80e1-a365ae4b6138",
   "metadata": {},
   "outputs": [
    {
     "name": "stdout",
     "output_type": "stream",
     "text": [
      "Алексей Николаевич, Лев Николаевич, Алексей Константинович\n"
     ]
    }
   ],
   "source": [
    "separator = \", \"\n",
    "print(separator.join(names))"
   ]
  },
  {
   "cell_type": "code",
   "execution_count": 48,
   "id": "1abaf57a-1ba4-441e-b8e9-b0f5a5424e65",
   "metadata": {},
   "outputs": [
    {
     "data": {
      "text/plain": [
       "'Алексей Николаевич Лев Николаевич Алексей Константинович'"
      ]
     },
     "execution_count": 48,
     "metadata": {},
     "output_type": "execute_result"
    }
   ],
   "source": [
    "\"Алексей Николаевич\" + \" \" + \"Лев Николаевич\" + \" \" + \"Алексей Константинович\""
   ]
  },
  {
   "cell_type": "code",
   "execution_count": 50,
   "id": "cee2598e-5674-482a-a47f-56dd61bcf5b8",
   "metadata": {},
   "outputs": [
    {
     "name": "stdin",
     "output_type": "stream",
     "text": [
      " Вася\n",
      " Таня\n",
      " Саша\n",
      " \n"
     ]
    },
    {
     "name": "stdout",
     "output_type": "stream",
     "text": [
      "['Вася', 'Таня', 'Саша']\n"
     ]
    }
   ],
   "source": [
    "names = []\n",
    "\n",
    "inp = input()\n",
    "while inp != \"\":\n",
    "    names.append(inp)\n",
    "    inp = input()\n",
    "\n",
    "print(names)"
   ]
  },
  {
   "cell_type": "code",
   "execution_count": 52,
   "id": "6cea1959-6129-46a2-9ccf-45ee11bb6d62",
   "metadata": {},
   "outputs": [
    {
     "name": "stdout",
     "output_type": "stream",
     "text": [
      "Вася, Таня, Саша\n"
     ]
    }
   ],
   "source": [
    "print(*names, sep=\", \")"
   ]
  },
  {
   "cell_type": "code",
   "execution_count": 55,
   "id": "2f8d3fe1-05b6-4db4-9eb9-de717100aeac",
   "metadata": {},
   "outputs": [
    {
     "data": {
      "text/plain": [
       "'Вася Таня Саша'"
      ]
     },
     "execution_count": 55,
     "metadata": {},
     "output_type": "execute_result"
    }
   ],
   "source": [
    "\" \".join(names)"
   ]
  },
  {
   "cell_type": "code",
   "execution_count": 54,
   "id": "babbab8e-441d-4c2a-b872-770b78a27e04",
   "metadata": {
    "scrolled": true
   },
   "outputs": [
    {
     "name": "stdout",
     "output_type": "stream",
     "text": [
      "Вася | Таня | Саша | \n"
     ]
    }
   ],
   "source": [
    "sep = \" | \"\n",
    "\n",
    "s = \"\"\n",
    "\n",
    "for name in names:\n",
    "    s += name + sep\n",
    "\n",
    "print(s)"
   ]
  },
  {
   "cell_type": "markdown",
   "id": "18a11306-1e90-463f-b28b-97b88dd7676e",
   "metadata": {},
   "source": [
    "Числа или что-либо кроме строке нельзя (в списке который передаётся в join)! "
   ]
  },
  {
   "cell_type": "code",
   "execution_count": 56,
   "id": "5fa6c59a-651f-4754-b9c3-fe48146495ed",
   "metadata": {},
   "outputs": [
    {
     "ename": "TypeError",
     "evalue": "sequence item 0: expected str instance, int found",
     "output_type": "error",
     "traceback": [
      "\u001b[1;31m---------------------------------------------------------------------------\u001b[0m",
      "\u001b[1;31mTypeError\u001b[0m                                 Traceback (most recent call last)",
      "Cell \u001b[1;32mIn[56], line 1\u001b[0m\n\u001b[1;32m----> 1\u001b[0m \u001b[38;5;124;43m\"\u001b[39;49m\u001b[38;5;124;43m | \u001b[39;49m\u001b[38;5;124;43m\"\u001b[39;49m\u001b[38;5;241;43m.\u001b[39;49m\u001b[43mjoin\u001b[49m\u001b[43m(\u001b[49m\u001b[43m[\u001b[49m\u001b[38;5;241;43m1\u001b[39;49m\u001b[43m,\u001b[49m\u001b[43m \u001b[49m\u001b[38;5;241;43m5\u001b[39;49m\u001b[43m,\u001b[49m\u001b[43m \u001b[49m\u001b[38;5;241;43m67\u001b[39;49m\u001b[43m,\u001b[49m\u001b[43m \u001b[49m\u001b[38;5;241;43m-\u001b[39;49m\u001b[38;5;241;43m151\u001b[39;49m\u001b[43m]\u001b[49m\u001b[43m)\u001b[49m\n",
      "\u001b[1;31mTypeError\u001b[0m: sequence item 0: expected str instance, int found"
     ]
    }
   ],
   "source": [
    "\" | \".join([1, 5, 67, -151])"
   ]
  },
  {
   "cell_type": "code",
   "execution_count": null,
   "id": "295d24c1-52a9-4186-8927-cdf5af778fe9",
   "metadata": {},
   "outputs": [],
   "source": []
  },
  {
   "cell_type": "markdown",
   "id": "23341003-613b-47c7-bcc8-142f8783372f",
   "metadata": {
    "id": "LLo-3OEq3OyC"
   },
   "source": [
    "### Проверка содержимого строк"
   ]
  },
  {
   "cell_type": "markdown",
   "id": "427795cd-3a8e-4b13-ae48-83c95baa5e23",
   "metadata": {
    "id": "WRwSONSn3Xza"
   },
   "source": [
    "#### `str.startswith()` верно, что строка начинается с определённой подстроки?"
   ]
  },
  {
   "cell_type": "code",
   "execution_count": 57,
   "id": "011a7597-089f-4457-afe0-4d631f95524f",
   "metadata": {},
   "outputs": [
    {
     "data": {
      "text/plain": [
       "False"
      ]
     },
     "execution_count": 57,
     "metadata": {},
     "output_type": "execute_result"
    }
   ],
   "source": [
    "\"https://cbr.ru\".startswith(\"http:\")"
   ]
  },
  {
   "cell_type": "code",
   "execution_count": 58,
   "id": "24a1d03b-0d66-45ba-ae54-4ba801a219d3",
   "metadata": {},
   "outputs": [
    {
     "name": "stdout",
     "output_type": "stream",
     "text": [
      "Начинается  ли строка \"https://cbr.ru\" с \"https\"? True\n"
     ]
    }
   ],
   "source": [
    "print(\n",
    "    'Начинается  ли строка \"https://cbr.ru\" с \"https\"?',\n",
    "    \"https://cbr.ru\".startswith(\"https\")\n",
    ")"
   ]
  },
  {
   "cell_type": "markdown",
   "id": "5bf7ae1b-5378-4915-8482-d17f6536b24e",
   "metadata": {
    "id": "pDPP9smL3iQL"
   },
   "source": [
    "#### `str.endswith()` верно, что строка кончается на определённую подстроку?"
   ]
  },
  {
   "cell_type": "code",
   "execution_count": 33,
   "id": "fbe3b7a5-6ed6-4a87-b549-105cd7cec960",
   "metadata": {},
   "outputs": [
    {
     "data": {
      "text/plain": [
       "False"
      ]
     },
     "execution_count": 33,
     "metadata": {},
     "output_type": "execute_result"
    }
   ],
   "source": [
    "\"hse.ru\".endswith('com')"
   ]
  },
  {
   "cell_type": "code",
   "execution_count": 34,
   "id": "c919a015-d698-48e7-a6b8-70de29113ef0",
   "metadata": {},
   "outputs": [
    {
     "data": {
      "text/plain": [
       "True"
      ]
     },
     "execution_count": 34,
     "metadata": {},
     "output_type": "execute_result"
    }
   ],
   "source": [
    "\"hse.ru\".endswith((\"ru\", \".рф\"))"
   ]
  },
  {
   "cell_type": "code",
   "execution_count": 35,
   "id": "07fdc450-f553-4af2-9e71-7af02e47ab72",
   "metadata": {
    "colab": {
     "base_uri": "https://localhost:8080/"
    },
    "id": "VJ79vY8o45ZQ",
    "outputId": "0a72975c-5329-4153-df0d-5cd59bd96142"
   },
   "outputs": [
    {
     "name": "stdout",
     "output_type": "stream",
     "text": [
      "Оканчивается ли \"hse.ru\" на \".ru\"? True\n",
      "Оканчивается ли \"hse.ru\" на \".ru\" или \".рф\"? True\n"
     ]
    }
   ],
   "source": [
    "print('Оканчивается ли \"hse.ru\" на \".ru\"?', \"hse.ru\".endswith(\"ru\"))\n",
    "print('Оканчивается ли \"hse.ru\" на \".ru\" или \".рф\"?', \"hse.ru\".endswith((\"ru\", \".рф\")))\n",
    "# Можно для нескольких проверять"
   ]
  },
  {
   "cell_type": "markdown",
   "id": "793e09ef-2db6-4d7e-b881-55937b66b313",
   "metadata": {
    "id": "jwFF1UDt4Aay"
   },
   "source": [
    "#### Какого рода в строке символы?"
   ]
  },
  {
   "cell_type": "code",
   "execution_count": 36,
   "id": "5d8ab0c4-eb70-40d2-ae5f-bd7828958f78",
   "metadata": {
    "colab": {
     "base_uri": "https://localhost:8080/"
    },
    "id": "r6g-t5HK4BD4",
    "outputId": "746b19c9-6a2c-404a-e2f5-c814d8fbb1c1"
   },
   "outputs": [
    {
     "name": "stdout",
     "output_type": "stream",
     "text": [
      "Проверим их работу на примере строки \" 4242elloello42! \"\n",
      "Состоит ли строка только из букв: False\n",
      "Состоит ли строка только из цифр: False\n",
      "Состоит ли строка только из букв или цифр: False\n",
      "Все ли буквы в строчке строчные: True\n",
      "Все ли буквы в строчке прописные: False\n"
     ]
    }
   ],
   "source": [
    "s = ' 4242elloello42! '\n",
    "print('Проверим их работу на примере строки', '\"' + s + '\"')\n",
    "\n",
    "print('Состоит ли строка только из букв:', s.isalpha())\n",
    "print('Состоит ли строка только из цифр:', s.isdigit())\n",
    "\n",
    "print('Состоит ли строка только из букв или цифр:', s.isalnum())\n",
    "\n",
    "print('Все ли буквы в строчке строчные:', s.islower())\n",
    "print('Все ли буквы в строчке прописные:', s.isupper())"
   ]
  },
  {
   "cell_type": "code",
   "execution_count": 37,
   "id": "daa8389a-0d2a-49be-b795-db0fd62044fe",
   "metadata": {
    "colab": {
     "base_uri": "https://localhost:8080/"
    },
    "id": "MXamvnKO4F6o",
    "outputId": "db015f08-8e29-4fdb-e2ca-e9fcce999009"
   },
   "outputs": [
    {
     "name": "stdout",
     "output_type": "stream",
     "text": [
      "True\n",
      "False\n"
     ]
    }
   ],
   "source": [
    "print(\"41414\".isdigit())\n",
    "print(\"41414.515415\".isdigit())"
   ]
  },
  {
   "cell_type": "code",
   "execution_count": 38,
   "id": "048ca3bd-de69-4f0a-a099-bce0976e9873",
   "metadata": {
    "colab": {
     "base_uri": "https://localhost:8080/"
    },
    "id": "sMvLodkc4etA",
    "outputId": "3c32dcd7-094b-4b7d-ba06-f77d06e9d648"
   },
   "outputs": [
    {
     "name": "stdout",
     "output_type": "stream",
     "text": [
      "True\n",
      "False\n"
     ]
    }
   ],
   "source": [
    "print(\"41414abc\".isalnum())\n",
    "print(\"4141451abc.5415\".isalnum())"
   ]
  },
  {
   "cell_type": "markdown",
   "id": "4942e871-7201-476f-85cf-d8764654075a",
   "metadata": {},
   "source": [
    "## Тренировка"
   ]
  },
  {
   "cell_type": "markdown",
   "id": "ff901b90-06cc-47d2-90af-d2ef7712cb82",
   "metadata": {},
   "source": [
    "**Корректный адрес e-mail.**\n",
    "\n",
    "Пользователи вводят построчно адреса e-mail.\n",
    "    Но могут быть ошибки! \n",
    "    Убедитесь, что введены правильные адреса.\n",
    "    Считайте, что правильный адрес содержит символ `@` и кончается на `.com` или `.ru`\n",
    "    Выводите \"да\", если адрес верный и \"нет\", если адрес неверный.\n",
    "\n",
    "Пример:\n",
    "Ввод:\n",
    "\n",
    "```\n",
    "a@b.com\n",
    "bb@tutanota.io\n",
    "fjanfjan.com\n",
    "```\n",
    "\n",
    "Вывод:\n",
    "```\n",
    "да\n",
    "нет\n",
    "нет\n",
    "```"
   ]
  },
  {
   "cell_type": "code",
   "execution_count": null,
   "id": "14612740-f08c-45bb-a9c2-b18ff705c78f",
   "metadata": {},
   "outputs": [],
   "source": []
  },
  {
   "cell_type": "markdown",
   "id": "78ba5ba9-e540-49f2-8b46-23d2c41eb8a8",
   "metadata": {},
   "source": [
    "**Корректный адрес e-mail 2.**\n",
    "\n",
    "Пользователи вводят построчно имя и адрес e-mail в формате `<имя>, <адрес>`.\n",
    "    Но могут быть ошибки! \n",
    "    Убедитесь, что введены правильные адреса.\n",
    "    Считайте, что правильный адрес содержит символ `@` и кончается на `.com` или `.ru`\n",
    "    Составьте списки и напечатайте в конце людей с правильными адресами и с неправильными\n",
    "\n",
    "Пример:\n",
    "Ввод:\n",
    "\n",
    "```\n",
    "Марина, a@b.com\n",
    "Максим, bb@tutanota.io\n",
    "Вася, fjanfjan.com\n",
    "```\n",
    "\n",
    "Вывод:\n",
    "```\n",
    "Корректные адреса:\n",
    "[\"Марина\"]\n",
    "Некорректные адреса:\n",
    "[\"Максим\", \"Вася\"]\n",
    "```"
   ]
  },
  {
   "cell_type": "markdown",
   "id": "52c1190e-7fd4-41ef-9ee6-5ccffbd8d7e0",
   "metadata": {
    "id": "f9uXUbeXBv2n"
   },
   "source": [
    "## Форматирование строк: `str.format`, `f-строки`, (`%`)"
   ]
  },
  {
   "cell_type": "markdown",
   "id": "46552707-2f59-401d-a4ee-c64387f3b639",
   "metadata": {
    "id": "Rsw8WuCtyxa8"
   },
   "source": [
    "Часто нужно подставить какие-то значения в строчку. Мы делали это сложением или в `print`:\n",
    "\n"
   ]
  },
  {
   "cell_type": "markdown",
   "id": "27cc97ee-5eb9-4ced-b772-4eeea1affe28",
   "metadata": {
    "id": "gnbnV99Fzh_1"
   },
   "source": [
    "- сложение\n",
    "(здесь ещё нужно результат самому в строчку переводить)"
   ]
  },
  {
   "cell_type": "code",
   "execution_count": 39,
   "id": "28126c5c-edae-44f6-9bac-3321f73be6fb",
   "metadata": {
    "colab": {
     "base_uri": "https://localhost:8080/",
     "height": 235
    },
    "id": "LqyG-kPLzAr_",
    "outputId": "c6b4550c-daaa-4487-9f88-ce3fc238eba6"
   },
   "outputs": [
    {
     "ename": "TypeError",
     "evalue": "can only concatenate str (not \"int\") to str",
     "output_type": "error",
     "traceback": [
      "\u001b[0;31m---------------------------------------------------------------------------\u001b[0m",
      "\u001b[0;31mTypeError\u001b[0m                                 Traceback (most recent call last)",
      "Input \u001b[0;32mIn [39]\u001b[0m, in \u001b[0;36m<cell line: 3>\u001b[0;34m()\u001b[0m\n\u001b[1;32m      1\u001b[0m res \u001b[38;5;241m=\u001b[39m \u001b[38;5;241m10\u001b[39m\n\u001b[0;32m----> 3\u001b[0m res_message \u001b[38;5;241m=\u001b[39m \u001b[38;5;124;43m\"\u001b[39;49m\u001b[38;5;124;43mРезультат:\u001b[39;49m\u001b[38;5;124;43m\"\u001b[39;49m\u001b[43m \u001b[49m\u001b[38;5;241;43m+\u001b[39;49m\u001b[43m \u001b[49m\u001b[38;5;124;43m\"\u001b[39;49m\u001b[38;5;124;43m \u001b[39;49m\u001b[38;5;124;43m\"\u001b[39;49m\u001b[43m \u001b[49m\u001b[38;5;241;43m+\u001b[39;49m\u001b[43m \u001b[49m\u001b[43mres\u001b[49m\n\u001b[1;32m      5\u001b[0m \u001b[38;5;28mprint\u001b[39m(res_message)\n",
      "\u001b[0;31mTypeError\u001b[0m: can only concatenate str (not \"int\") to str"
     ]
    }
   ],
   "source": [
    "res = 10\n",
    "\n",
    "res_message = \"Результат:\" + \" \" + res\n",
    "\n",
    "print(res_message)"
   ]
  },
  {
   "cell_type": "code",
   "execution_count": 40,
   "id": "6516e918-2498-4a25-985e-cc501b5041b1",
   "metadata": {
    "colab": {
     "base_uri": "https://localhost:8080/"
    },
    "id": "KX0YJozGzhLB",
    "outputId": "339d8294-4360-4a1d-bedf-96f749e92b4c"
   },
   "outputs": [
    {
     "name": "stdout",
     "output_type": "stream",
     "text": [
      "Результат: 10\n"
     ]
    }
   ],
   "source": [
    "res = 10\n",
    "\n",
    "res_message = \"Результат:\" + \" \" + str(res)\n",
    "\n",
    "print(res_message)"
   ]
  },
  {
   "cell_type": "markdown",
   "id": "97c89bb5-6b2e-40fa-a905-7915e7ec858d",
   "metadata": {
    "id": "Eis2qsJj0WtX"
   },
   "source": [
    "- внутри функции `print`"
   ]
  },
  {
   "cell_type": "code",
   "execution_count": 41,
   "id": "82c65737-0484-4fd2-a527-4253aff60dca",
   "metadata": {},
   "outputs": [
    {
     "name": "stdout",
     "output_type": "stream",
     "text": [
      "Результат: 10\n",
      "Результат - 10\n"
     ]
    }
   ],
   "source": [
    "res = 10\n",
    "\n",
    "print(\"Результат:\", res)\n",
    "print(\"Результат\", res, sep=' - ')"
   ]
  },
  {
   "cell_type": "markdown",
   "id": "3c331a92-b5fd-42ab-88d8-49d94fe8b7c9",
   "metadata": {
    "id": "KLEWVCuP0bt9"
   },
   "source": [
    "Но если значений, которые нужно подставить много, и подставлять нужно внутрь строки, а не в начало или конец, то становится жутко:"
   ]
  },
  {
   "cell_type": "code",
   "execution_count": 42,
   "id": "d97689e0-5ca7-4706-88b5-4bdc3f2f0558",
   "metadata": {
    "colab": {
     "base_uri": "https://localhost:8080/"
    },
    "id": "9Uij0rzk0oht",
    "outputId": "bd7a72a1-287c-4296-d6b6-0403cfde619d"
   },
   "outputs": [
    {
     "name": "stdout",
     "output_type": "stream",
     "text": [
      "При x=5 значения y=2 z=4, что в два раза больше, чем при x0=4\n"
     ]
    }
   ],
   "source": [
    "x0 = 4\n",
    "x = 5\n",
    "y = 2\n",
    "z = 4 \n",
    "\n",
    "\n",
    "print(\"При x=\" + str(x), \"значения y=\" + str(y),\n",
    "      \"z=\" + str(z) + \",\",  \"что в два раза больше, чем при x0=\" + str(x0))"
   ]
  },
  {
   "cell_type": "markdown",
   "id": "0796c04f-e5c4-49d3-ae9a-76822b7bf64b",
   "metadata": {
    "id": "KZ0N4bDLzpJA"
   },
   "source": [
    "Можно делать это аккуратнее и красивее, используя **форматирование строк**.\n",
    "\n",
    "Форматирование строк &mdash; это подстановка какого-то значения внутрь строки в нужном месте. Значению при этом необязательно быть строкой самому. "
   ]
  },
  {
   "cell_type": "markdown",
   "id": "34494fe6-78d2-4b45-a916-83ae4302f99b",
   "metadata": {
    "id": "mXRo4MJh0CWd"
   },
   "source": [
    "В питоне есть три способа форматирования строк:\n",
    "\n",
    "- `f\"Результат: {res}\"` \n",
    "- `\"Результат: {}\".format(res)`\n",
    "- `\"Результат: %d\" % res`\n",
    "\n",
    "Последний рассматривать не будем, способы выше новее и всем лучше."
   ]
  },
  {
   "cell_type": "markdown",
   "id": "dbc35673-e6fc-42c2-9ffe-73db0a3a227f",
   "metadata": {
    "id": "xOrKm0qJXTv0"
   },
   "source": [
    "Строчки с фигурными скобками могут быть использованы отложенно, сколько угодно раз, **как шаблоны**, а `f-строки` обязательно форматируются сразу."
   ]
  },
  {
   "cell_type": "code",
   "execution_count": 43,
   "id": "29336c22-206a-42e5-a0d7-0572f38bc1d4",
   "metadata": {},
   "outputs": [
    {
     "name": "stdout",
     "output_type": "stream",
     "text": [
      "Здравствуйте, Ваня!\n"
     ]
    }
   ],
   "source": [
    "mysalute1 = \"Здравствуйте, {}!\"\n",
    "print(mysalute1.format(\"Ваня\"))"
   ]
  },
  {
   "cell_type": "code",
   "execution_count": 2,
   "id": "0e50f873-3708-4a2b-91b2-63a80791a033",
   "metadata": {
    "colab": {
     "base_uri": "https://localhost:8080/"
    },
    "id": "nPRJIN3MBulU",
    "outputId": "8da8ee81-2582-4617-f38a-788a7ba463b1"
   },
   "outputs": [
    {
     "name": "stdout",
     "output_type": "stream",
     "text": [
      "Ну и ну! Приветствую вас, Лев Николаевич!\n"
     ]
    }
   ],
   "source": [
    "names = [\"Алексей Николаевич\", \"Лев Николаевич\", \"Алексей Константинович\"]\n",
    "\n",
    "mysalute2 = \"Ну и ну! Приветствую вас, {}!\"\n",
    "\n",
    "print(mysalute2.format(names[1]))"
   ]
  },
  {
   "cell_type": "markdown",
   "id": "6823a97a-674a-4394-9393-b22f1919680f",
   "metadata": {},
   "source": [
    "Получается, это шаблон, в котором `.format()` заменяет `\"{}\"` на то, что дали в скобках"
   ]
  },
  {
   "cell_type": "code",
   "execution_count": 3,
   "id": "18c9e5ef-d7b2-4ac9-990f-57a4761fa262",
   "metadata": {},
   "outputs": [
    {
     "data": {
      "text/plain": [
       "'Ну и ну! Приветствую вас, {}!'"
      ]
     },
     "execution_count": 3,
     "metadata": {},
     "output_type": "execute_result"
    }
   ],
   "source": [
    "mysalute2"
   ]
  },
  {
   "cell_type": "code",
   "execution_count": 4,
   "id": "d8b4b829-d2dc-482f-b904-0db935dcf385",
   "metadata": {
    "colab": {
     "base_uri": "https://localhost:8080/"
    },
    "id": "zC5QIugaXx9w",
    "outputId": "6c56230a-6246-4f1f-c5f2-f4a1c1785956"
   },
   "outputs": [
    {
     "name": "stdout",
     "output_type": "stream",
     "text": [
      "Приятно видеть вас, Алексей Константинович!\n"
     ]
    }
   ],
   "source": [
    "mysalute3 = \"Приятно видеть вас, {name}!\"\n",
    " \n",
    "print(mysalute3.format(name=names[2]))\n",
    "# print(mysalute3.format(names[2]))  # А так не работает, ведь нужно именно name"
   ]
  },
  {
   "cell_type": "code",
   "execution_count": 5,
   "id": "74f2e63f-45d0-4819-a403-30ef6ff434e2",
   "metadata": {},
   "outputs": [
    {
     "name": "stdout",
     "output_type": "stream",
     "text": [
      "Привет, Пачкуале Пестрини!\n"
     ]
    }
   ],
   "source": [
    "mysalute4 = \"Привет, {name}!\"\n",
    "name = \"Пачкуале Пестрини\"\n",
    "print(mysalute4.format(name = name))\n",
    "#print(mysalute3.format(name))  # А так не работает"
   ]
  },
  {
   "cell_type": "code",
   "execution_count": 48,
   "id": "913595d8-06f8-47c7-9543-d4f3a7b18c12",
   "metadata": {},
   "outputs": [
    {
     "name": "stdout",
     "output_type": "stream",
     "text": [
      "Вы готовы, Шехерезада Степановна?\n"
     ]
    }
   ],
   "source": [
    "phrase = \"Вы готовы, {name} {patronymic}?\"\n",
    " \n",
    "print(phrase.format(patronymic=\"Степановна\", name=\"Шехерезада\"))"
   ]
  },
  {
   "cell_type": "code",
   "execution_count": 49,
   "id": "29ad3882-14c9-41bb-9a5f-b4ebdb107757",
   "metadata": {
    "colab": {
     "base_uri": "https://localhost:8080/"
    },
    "id": "4jHPjoniWZST",
    "outputId": "f32264e9-1402-46c7-c547-de66870f3933"
   },
   "outputs": [
    {
     "name": "stdout",
     "output_type": "stream",
     "text": [
      "результат: [1, 2, 3, 4]\n"
     ]
    }
   ],
   "source": [
    "result = [1, 2, 3, 4]\n",
    "\n",
    "stroka = f\"результат: {result}\"\n",
    "\n",
    "print(stroka)"
   ]
  },
  {
   "cell_type": "markdown",
   "id": "66eecd2f-91e2-4675-ac74-7e22c621007f",
   "metadata": {
    "id": "IsshPMwhl36d"
   },
   "source": [
    "**f-строки** не шаблоны, нельзя отложить подстановку, значения нужно подставить сразу, иначе ошибка"
   ]
  },
  {
   "cell_type": "code",
   "execution_count": 50,
   "id": "fcb18ab5-0dd3-4660-b554-7ca5776e7dde",
   "metadata": {
    "colab": {
     "base_uri": "https://localhost:8080/",
     "height": 133
    },
    "id": "A1tzZpxtlpHI",
    "outputId": "56226706-6712-4840-c365-8196c3ea9fed"
   },
   "outputs": [
    {
     "ename": "SyntaxError",
     "evalue": "f-string: empty expression not allowed (4092511919.py, line 3)",
     "output_type": "error",
     "traceback": [
      "\u001b[0;36m  Input \u001b[0;32mIn [50]\u001b[0;36m\u001b[0m\n\u001b[0;31m    s = f\"результат: {}\"\u001b[0m\n\u001b[0m                        ^\u001b[0m\n\u001b[0;31mSyntaxError\u001b[0m\u001b[0;31m:\u001b[0m f-string: empty expression not allowed\n"
     ]
    }
   ],
   "source": [
    "result = [1, 2, 3, 4]\n",
    "\n",
    "s = f\"результат: {}\"\n",
    "\n",
    "print(s)"
   ]
  },
  {
   "cell_type": "markdown",
   "id": "85046144-f136-4627-a883-22b394764ddc",
   "metadata": {
    "id": "4C4G1eKnwBS_"
   },
   "source": [
    "Форматирование строк позволяет подставлять внутрь что угодно, не только строки"
   ]
  },
  {
   "cell_type": "code",
   "execution_count": 51,
   "id": "6a05e246-984e-40e7-ae08-547cad7d03a2",
   "metadata": {
    "colab": {
     "base_uri": "https://localhost:8080/"
    },
    "id": "hTCQgNZKWZbL",
    "outputId": "c1b04b59-c88b-44c6-b175-ed1487116bc1"
   },
   "outputs": [
    {
     "name": "stdout",
     "output_type": "stream",
     "text": [
      "Здравствуйте, 42!\n",
      "Здравствуйте, ['Never', 'gonna', 'give', 'you', 'up']!\n",
      "Здравствуйте, True!\n"
     ]
    }
   ],
   "source": [
    "print(mysalute1.format(42))\n",
    "print(mysalute1.format(\"Never gonna give you up\".split()))\n",
    "print(mysalute1.format(5<10))"
   ]
  },
  {
   "cell_type": "markdown",
   "id": "9c73225c-43e2-4d26-a927-2dddfb9f63f4",
   "metadata": {},
   "source": [
    "## Токенизация\n",
    "***(этого не будет в экзамене)***\n",
    "\n",
    "\"Не для экзамена, а для жизни мы <s>учимся</s> учим питон\""
   ]
  },
  {
   "cell_type": "markdown",
   "id": "e7d9e9e1-5b2e-4996-8ec9-050fcc8eb73f",
   "metadata": {},
   "source": [
    "Питон не включает в себя всё, что возможно придумать.\n",
    "\n",
    "Кому-то нужно считать статистику, кому-то — сделать веб-сайт для своего магазина, а кому-то —  (ух!) строить неройнные сети.\n",
    "    Для каждой из этих задач нужны совершенно разные программы.\n",
    "    Поскольку это **задачи** достаточно **частые**, то **их кто-то уже решал**.\n",
    "\n",
    "И действительно, немало сторонних разработчиков пишут малые (пакеты) или большие (библиотеки) программы для решения каких-то определённых задач, и делают их общедоступными (спасибо им!).\n",
    "    Что очень нужно нам, это аккуратно делить русский текст на предложения и слова.\n",
    "    Оказывается, для этого тоже есть программы!    "
   ]
  },
  {
   "cell_type": "markdown",
   "id": "928d8ccf-1c7e-457d-bfa0-99cddd1931cc",
   "metadata": {},
   "source": [
    "**Natasha** &mdash; библиотека для обработки текстов на естественном русском языке.\n",
    "\n",
    "Есть много пакетов, которые могут делить текст на предложения.\n",
    "    Но с русским особенно хорош пакет `razdel` (это часть проекта-библиотеки `natasha`)."
   ]
  },
  {
   "cell_type": "code",
   "execution_count": 52,
   "id": "a7d6786e-0523-4421-8591-992272fac96e",
   "metadata": {},
   "outputs": [
    {
     "name": "stdout",
     "output_type": "stream",
     "text": [
      "\u001b[33mDEPRECATION: Configuring installation scheme with distutils config files is deprecated and will no longer work in the near future. If you are using a Homebrew or Linuxbrew Python, please see discussion at https://github.com/Homebrew/homebrew-core/issues/76621\u001b[0m\u001b[33m\n",
      "\u001b[0mRequirement already satisfied: natasha in /usr/local/lib/python3.9/site-packages (1.5.0)\n",
      "Requirement already satisfied: ipymarkup>=0.8.0 in /usr/local/lib/python3.9/site-packages (from natasha) (0.9.0)\n",
      "Requirement already satisfied: razdel>=0.5.0 in /usr/local/lib/python3.9/site-packages (from natasha) (0.5.0)\n",
      "Requirement already satisfied: slovnet>=0.6.0 in /usr/local/lib/python3.9/site-packages (from natasha) (0.6.0)\n",
      "Requirement already satisfied: yargy>=0.14.0 in /usr/local/lib/python3.9/site-packages (from natasha) (0.15.1)\n",
      "Requirement already satisfied: pymorphy2 in /usr/local/lib/python3.9/site-packages (from natasha) (0.9.1)\n",
      "Requirement already satisfied: navec>=0.9.0 in /usr/local/lib/python3.9/site-packages (from natasha) (0.10.0)\n",
      "Requirement already satisfied: intervaltree>=3 in /usr/local/lib/python3.9/site-packages (from ipymarkup>=0.8.0->natasha) (3.1.0)\n",
      "Requirement already satisfied: numpy in /usr/local/lib/python3.9/site-packages (from navec>=0.9.0->natasha) (1.23.4)\n",
      "Requirement already satisfied: pymorphy2-dicts-ru<3.0,>=2.4 in /usr/local/lib/python3.9/site-packages (from pymorphy2->natasha) (2.4.417127.4579844)\n",
      "Requirement already satisfied: dawg-python>=0.7.1 in /usr/local/lib/python3.9/site-packages (from pymorphy2->natasha) (0.7.2)\n",
      "Requirement already satisfied: docopt>=0.6 in /usr/local/lib/python3.9/site-packages (from pymorphy2->natasha) (0.6.2)\n",
      "Requirement already satisfied: sortedcontainers<3.0,>=2.0 in /usr/local/lib/python3.9/site-packages (from intervaltree>=3->ipymarkup>=0.8.0->natasha) (2.4.0)\n",
      "\u001b[33mDEPRECATION: Configuring installation scheme with distutils config files is deprecated and will no longer work in the near future. If you are using a Homebrew or Linuxbrew Python, please see discussion at https://github.com/Homebrew/homebrew-core/issues/76621\u001b[0m\u001b[33m\n",
      "\u001b[0m\n",
      "\u001b[1m[\u001b[0m\u001b[34;49mnotice\u001b[0m\u001b[1;39;49m]\u001b[0m\u001b[39;49m A new release of pip available: \u001b[0m\u001b[31;49m22.3.1\u001b[0m\u001b[39;49m -> \u001b[0m\u001b[32;49m23.0\u001b[0m\n",
      "\u001b[1m[\u001b[0m\u001b[34;49mnotice\u001b[0m\u001b[1;39;49m]\u001b[0m\u001b[39;49m To update, run: \u001b[0m\u001b[32;49mpython3.9 -m pip install --upgrade pip\u001b[0m\n",
      "Note: you may need to restart the kernel to use updated packages.\n"
     ]
    }
   ],
   "source": [
    "# чтобы использовать, надо установить библиотеку\n",
    "!pip install natasha"
   ]
  },
  {
   "cell_type": "markdown",
   "id": "1435dbd2-dc9f-44a8-920f-1c1437fa564d",
   "metadata": {},
   "source": [
    "Теперь у нас установлен этот большой набор программ (библиотека `natasha`),\n",
    "    среди которых наш небольшой пакет для разбиения текстов &mdash; `razdel`.\n",
    "\n",
    "Но пакет этот нам может быть нужен не каждый раз!\n",
    "    Например, когда у нас уже есть какая-то статистика по авторам (их годам жизни, количеству произведений с годами публикаций и т.д.),\n",
    "    нам не нужно разбивать тексты на слова, а нужна простая программа, которая будет что-то считать.\n",
    "    Поэтому, когда мы прямо хотим воспользоваться в своей программе какой-то другой программой (пакетом / библиотекой), то нам это нужно явно указать.\n",
    "    Тогда Python поймёт, что внешняя программа понадобится и подключит её *(а если бы не написали этого, то не подключал бы. Экономия!)*."
   ]
  },
  {
   "cell_type": "code",
   "execution_count": 1,
   "id": "e6281278-9f73-47e6-98df-71098014562f",
   "metadata": {},
   "outputs": [],
   "source": [
    "from razdel import sentenize"
   ]
  },
  {
   "cell_type": "markdown",
   "id": "f491eea8-0f5b-4f87-bf6c-32ba9da66513",
   "metadata": {},
   "source": [
    "Что мы сейчас сделали? Мы сначала установили библиотеку, а потом импортировали из неё нужную нам функцию. Сначала взяли огромную коробку, а потом рассказали программе, что есть функция внутри коробки, которую хочется уметь использовать."
   ]
  },
  {
   "cell_type": "code",
   "execution_count": 5,
   "id": "1272e2a6-a5f9-449a-a381-5ffcdc960abe",
   "metadata": {},
   "outputs": [
    {
     "name": "stdout",
     "output_type": "stream",
     "text": [
      "<generator object find_substrings at 0x0000027941628890>\n"
     ]
    }
   ],
   "source": [
    "text = \"Вот хотим мы поделить текст на предложения. Можно просто поделить по точке. Но что делать, с предложениями, заканчивающимися не на точку? Восклицательные и вопросительные знаки забыли! Как же быть... Проверять все завершающие знаки препинания. А что скажет на это А.С.Пушкин, чьи инициалы содержат точки? Лучше воспользоваться библиотекой, которая умеет делить на предложения! Она и про 0.5 гр. и 100 руб. знает...\"\n",
    "\n",
    "print(sentenize(text))"
   ]
  },
  {
   "cell_type": "markdown",
   "id": "7b606424-6cfe-4dec-b9df-678aa1dd6533",
   "metadata": {},
   "source": [
    "*(снова печатается непонятно что, как и с `range` и `enumerate`. Помним, что можно поглотить и создать, например, список или пройтись в цикле `for`)*"
   ]
  },
  {
   "cell_type": "code",
   "execution_count": 6,
   "id": "1505dabf-c0f2-40a7-b3e9-52d9ea64becd",
   "metadata": {},
   "outputs": [
    {
     "data": {
      "text/plain": [
       "[Substring(0, 43, 'Вот хотим мы поделить текст на предложения.'),\n",
       " Substring(44, 75, 'Можно просто поделить по точке.'),\n",
       " Substring(76,\n",
       "           137,\n",
       "           'Но что делать, с предложениями, заканчивающимися не на точку?'),\n",
       " Substring(138, 184, 'Восклицательные и вопросительные знаки забыли!'),\n",
       " Substring(185, 199, 'Как же быть...'),\n",
       " Substring(200, 243, 'Проверять все завершающие знаки препинания.'),\n",
       " Substring(244,\n",
       "           304,\n",
       "           'А что скажет на это А.С.Пушкин, чьи инициалы содержат точки?'),\n",
       " Substring(305,\n",
       "           376,\n",
       "           'Лучше воспользоваться библиотекой, которая умеет делить на предложения!'),\n",
       " Substring(377, 414, 'Она и про 0.5 гр. и 100 руб. знает...')]"
      ]
     },
     "execution_count": 6,
     "metadata": {},
     "output_type": "execute_result"
    }
   ],
   "source": [
    "# А вот так можно посмотреть\n",
    "list(sentenize(text))"
   ]
  },
  {
   "cell_type": "code",
   "execution_count": 8,
   "id": "5274278b-3de7-4eb7-a608-c969de2ea071",
   "metadata": {},
   "outputs": [
    {
     "name": "stdout",
     "output_type": "stream",
     "text": [
      "Вот хотим мы поделить текст на предложения.\n",
      "Можно просто поделить по точке.\n",
      "Но что делать, с предложениями, заканчивающимися не на точку?\n",
      "Восклицательные и вопросительные знаки забыли!\n",
      "Как же быть...\n",
      "Проверять все завершающие знаки препинания.\n",
      "А что скажет на это А.С.Пушкин, чьи инициалы содержат точки?\n",
      "Лучше воспользоваться библиотекой, которая умеет делить на предложения!\n",
      "Она и про 0.5 гр. и 100 руб. знает...\n"
     ]
    }
   ],
   "source": [
    "# Вот так удобнее\n",
    "for sent in sentenize(text):\n",
    "    print(sent.text)  # тут нет скобочек, потому что это не совсем действие, просто свойство\n",
    "                      # но об этом можно не думать"
   ]
  },
  {
   "cell_type": "code",
   "execution_count": 9,
   "id": "d0817c93-2dde-45dd-aa5f-a531a75bdbeb",
   "metadata": {},
   "outputs": [
    {
     "data": {
      "text/plain": [
       "[Substring(0, 51, 'Почему я как композитор-оперник тяготею к классике?'),\n",
       " Substring(52, 73, 'Это у меня с детства.'),\n",
       " Substring(74, 116, 'В детстве я очень любил играть в классики.'),\n",
       " Substring(117,\n",
       "           191,\n",
       "           'Ребенком я любил пить чай, естественно, с пирожными, и лучше всего с безе.'),\n",
       " Substring(192,\n",
       "           289,\n",
       "           'Отсюда в сублимации ассоциаций детства тяготение к Чайковскому, к Бизе, и т. д., и т. п., и т. д.'),\n",
       " Substring(290,\n",
       "           363,\n",
       "           'Как сказал классик, надо брать музыку у народа, и только обрабатывать её.'),\n",
       " Substring(364, 378, 'Так я и делаю.'),\n",
       " Substring(379,\n",
       "           579,\n",
       "           'Поэтому, когда сегодня берёшь у композитора — это, собственно говоря, берёшь у народа, берёшь у народа — берёшь у себя, и главное, чтобы музыка была твоя, и кто говорит \"плагиат\", я говорю \"традиция\".')]"
      ]
     },
     "execution_count": 9,
     "metadata": {},
     "output_type": "execute_result"
    }
   ],
   "source": [
    "# Поделим на предложения текст с разными сокращениями\n",
    "text2 = \"\"\"Почему я как композитор-оперник тяготею к классике? Это у меня с детства. В детстве я очень любил играть в классики. Ребенком я любил пить чай, естественно, с пирожными, и лучше всего с безе. Отсюда в сублимации ассоциаций детства тяготение к Чайковскому, к Бизе, и т. д., и т. п., и т. д. Как сказал классик, надо брать музыку у народа, и только обрабатывать её. Так я и делаю. Поэтому, когда сегодня берёшь у композитора — это, собственно говоря, берёшь у народа, берёшь у народа — берёшь у себя, и главное, чтобы музыка была твоя, и кто говорит \"плагиат\", я говорю \"традиция\".\"\"\"\n",
    "\n",
    "list(sentenize(text2))"
   ]
  },
  {
   "cell_type": "code",
   "execution_count": 10,
   "id": "caa42125-edab-4fba-9bb3-f43cfcb18042",
   "metadata": {},
   "outputs": [
    {
     "data": {
      "text/plain": [
       "[Substring(0, 30, '\"Привет!\" - сказали мы питону.')]"
      ]
     },
     "execution_count": 10,
     "metadata": {},
     "output_type": "execute_result"
    }
   ],
   "source": [
    "# И даже с прямой речью справляется\n",
    "list(sentenize('''\"Привет!\" - сказали мы питону.'''))"
   ]
  },
  {
   "cell_type": "markdown",
   "id": "aee86c4f-d052-4819-a6b4-1ccce4e39efa",
   "metadata": {},
   "source": [
    "## Теперь делим на слова"
   ]
  },
  {
   "cell_type": "markdown",
   "id": "c7abac02-091a-491b-8d0c-1e8eb02beeaa",
   "metadata": {},
   "source": [
    "Что такое токен? Последовательность символов. (Какая последовательность? Авторы кода определяют для себя это сами.) Обычно это слова в тексте, смайлики, числ в тексте, иногда пунктуация.\n",
    "\n",
    "Почему бы не сказать, что токен=слово? Потому что \"что такое слово?\" + числа и пунктуацию сложно назвать словами.\n",
    "\n",
    "> *Сладострастная отрава - золотая Бричмула,*\n",
    "\n",
    "> *Где чинара притулилась под скалою, - под скалою...*\n",
    "\n",
    "> *Про тебя жужжит над ухом вечная пчела:*\n",
    "\n",
    "> *Бричмула, Бричмулы, Бричмуле, Бричмулу, <span style=\"color:blue\">Бричмулою</span>.*\n",
    "\n",
    "> *Про тебя жужжит над ухом вечная пчела:*\n",
    "\n",
    "> *Бричмула, Бричмулы, Бричмуле, Бричмулу, <span style=\"color:orange\">Бричмулою</span>.*\n",
    "\n",
    "Сколько тут слов - неизвестно. \"Бричмула\" и \"Бричмулы\" - разные слова? \"<span style=\"color:blue\">Бричмулою</span>\" и \"<span style=\"color:orange\">Бричмулою</span>\" - разные слова?\n",
    "\n",
    "Это точно разные токены."
   ]
  },
  {
   "cell_type": "code",
   "execution_count": 67,
   "id": "5f463ac3-b024-4017-903b-62bd21d444de",
   "metadata": {},
   "outputs": [],
   "source": [
    "from razdel import tokenize"
   ]
  },
  {
   "cell_type": "code",
   "execution_count": 60,
   "id": "59e3bac0-2510-47b4-9764-75344a3dd144",
   "metadata": {},
   "outputs": [
    {
     "data": {
      "text/plain": [
       "[Substring(0, 2, 'Мы'),\n",
       " Substring(3, 8, 'любим'),\n",
       " Substring(9, 14, 'питон'),\n",
       " Substring(14, 15, '.'),\n",
       " Substring(16, 17, 'И'),\n",
       " Substring(18, 20, 'он'),\n",
       " Substring(21, 24, 'нас'),\n",
       " Substring(24, 25, '.'),\n",
       " Substring(26, 32, 'Просто'),\n",
       " Substring(33, 38, 'нужно'),\n",
       " Substring(39, 52, 'познакомиться'),\n",
       " Substring(53, 60, 'поближе'),\n",
       " Substring(60, 61, '.')]"
      ]
     },
     "execution_count": 60,
     "metadata": {},
     "output_type": "execute_result"
    }
   ],
   "source": [
    "list(tokenize('Мы любим питон. И он нас. Просто нужно познакомиться поближе.'))\n",
    "# Да, конкретно этот способ сохраняет пунктуацию как отдельные токены\n",
    "# (можно потом убрать всё, что не буквы)"
   ]
  },
  {
   "cell_type": "code",
   "execution_count": 61,
   "id": "7d50139e-d03a-45a0-b328-357041079286",
   "metadata": {},
   "outputs": [
    {
     "name": "stdout",
     "output_type": "stream",
     "text": [
      "И\n",
      "побольше\n",
      "времени\n",
      "с\n",
      "ним\n",
      "проводить\n",
      "Привыкнуть\n"
     ]
    }
   ],
   "source": [
    "punctuation = '''!\"#$%&'()*+,-./:;<=>?@[\\]^_`{|}~...'''\n",
    "\n",
    "for token in tokenize('И побольше времени с ним проводить... Привыкнуть.'):\n",
    "    if token.text not in punctuation:\n",
    "        print(token.text)"
   ]
  },
  {
   "cell_type": "code",
   "execution_count": 62,
   "id": "367c6467-fd73-4563-92e4-657bbd03804f",
   "metadata": {},
   "outputs": [
    {
     "data": {
      "text/plain": [
       "[Substring(0, 2, '25'), Substring(2, 4, 'кг'), Substring(5, 12, 'надежды')]"
      ]
     },
     "execution_count": 62,
     "metadata": {},
     "output_type": "execute_result"
    }
   ],
   "source": [
    "# Он справится с:\n",
    "text5 = \"25кг надежды\"\n",
    "list(tokenize(text5)) # Если бы мы делили по пробелам, получили бы слово \"25кг \""
   ]
  },
  {
   "cell_type": "code",
   "execution_count": 63,
   "id": "34253072-b304-4a2c-a865-25d57000a4e7",
   "metadata": {},
   "outputs": [
    {
     "data": {
      "text/plain": [
       "[Substring(0, 2, '14'), Substring(2, 5, 'ого'), Substring(6, 11, 'числа')]"
      ]
     },
     "execution_count": 63,
     "metadata": {},
     "output_type": "execute_result"
    }
   ],
   "source": [
    "text9 = \"14ого числа\"  # ну вот...\n",
    "list(tokenize(text9))"
   ]
  },
  {
   "cell_type": "code",
   "execution_count": 64,
   "id": "b85c0316-3949-4182-8611-f313537f4538",
   "metadata": {},
   "outputs": [
    {
     "data": {
      "text/plain": [
       "[Substring(0, 5, 'Лежал'),\n",
       " Substring(6, 8, 'ли'),\n",
       " Substring(9, 10, 'А'),\n",
       " Substring(10, 11, '.'),\n",
       " Substring(11, 12, 'С'),\n",
       " Substring(12, 13, '.'),\n",
       " Substring(13, 19, 'Пушкин'),\n",
       " Substring(20, 21, 'в'),\n",
       " Substring(22, 38, 'Санкт-Петербурге'),\n",
       " Substring(39, 41, 'на'),\n",
       " Substring(42, 56, 'диване-кровати'),\n",
       " Substring(56, 57, '?')]"
      ]
     },
     "execution_count": 64,
     "metadata": {},
     "output_type": "execute_result"
    }
   ],
   "source": [
    "list(tokenize(\"Лежал ли А.С.Пушкин в Санкт-Петербурге на диване-кровати?\"))"
   ]
  },
  {
   "cell_type": "code",
   "execution_count": 65,
   "id": "974ae4a1-0c1a-4d8b-ab80-7fb6c33b9c2f",
   "metadata": {},
   "outputs": [
    {
     "data": {
      "text/plain": [
       "[Substring(0, 6, 'Привет'), Substring(6, 7, '!'), Substring(8, 10, ':)')]"
      ]
     },
     "execution_count": 65,
     "metadata": {},
     "output_type": "execute_result"
    }
   ],
   "source": [
    "list(tokenize(\"Привет! :)\"))"
   ]
  },
  {
   "cell_type": "code",
   "execution_count": 66,
   "id": "6ccd62fb-bd22-4fdb-a058-3ee2e7864944",
   "metadata": {},
   "outputs": [
    {
     "data": {
      "text/plain": [
       "[Substring(0, 8, 'Смайлики'),\n",
       " Substring(9, 15, 'разные'),\n",
       " Substring(15, 16, ':'),\n",
       " Substring(17, 18, '♥'),\n",
       " Substring(18, 19, ','),\n",
       " Substring(20, 21, '('),\n",
       " Substring(21, 24, 'о_о'),\n",
       " Substring(24, 25, ')'),\n",
       " Substring(25, 26, ','),\n",
       " Substring(27, 34, '👨\\u200d👩\\u200d👧\\u200d👦')]"
      ]
     },
     "execution_count": 66,
     "metadata": {},
     "output_type": "execute_result"
    }
   ],
   "source": [
    "list(tokenize(\"Смайлики разные: ♥, (о_о), 👨‍👩‍👧‍👦\"))"
   ]
  }
 ],
 "metadata": {
  "kernelspec": {
   "display_name": "Python 3 (ipykernel)",
   "language": "python",
   "name": "python3"
  },
  "language_info": {
   "codemirror_mode": {
    "name": "ipython",
    "version": 3
   },
   "file_extension": ".py",
   "mimetype": "text/x-python",
   "name": "python",
   "nbconvert_exporter": "python",
   "pygments_lexer": "ipython3",
   "version": "3.11.3"
  }
 },
 "nbformat": 4,
 "nbformat_minor": 5
}
