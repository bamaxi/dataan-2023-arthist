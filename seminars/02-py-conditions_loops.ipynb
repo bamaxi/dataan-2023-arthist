{
 "cells": [
  {
   "cell_type": "markdown",
   "id": "c364d08d-4ef5-4f60-b8be-5c1ab3f6827d",
   "metadata": {},
   "source": [
    "# Условия. bool. Циклы."
   ]
  },
  {
   "cell_type": "markdown",
   "id": "f0da361e-2f66-4b3d-9999-a9a84139150e",
   "metadata": {
    "id": "H3wAMW8MMLcJ"
   },
   "source": [
    "В прошлый раз узнали про питон:\n",
    "- математические операторы `+` `-` `/` `*` `**` (в степень) `%` (остаток от деления) `//` (целая часть при делении)\n",
    "    - порядок действий (СКОБКИ > степень > умножение и деление > сложение и вычитание)\n",
    "- типы данных `int`, `float`, `str`\n",
    "- многострочные строки с тремя кавычками (`'''` или `\"\"\"`) — multiline str(ings)\n",
    "- `print()` - напечатать\n",
    "- `type()` - узнать тип данных\n",
    "- `input()` - принять значение от пользователя\n",
    "- соответствующие функции для каждого типа данных, приводящие аргумент к этому типу:\n",
    "    - `int()` - преобразовать в целочисленный формат\n",
    "    - `float()` - преобразовать в формат дробного числа\n",
    "    - `str()` - преобразовать в строку"
   ]
  },
  {
   "cell_type": "markdown",
   "id": "dec166ff-e549-42dc-940b-594bebaa2688",
   "metadata": {
    "id": "mpXF5mTQ9sbn"
   },
   "source": [
    "## Но перед этим вспомним терминологию\n",
    "- **Имя переменной** или просто **переменная** — название, по которому мы обращаемся к определённому месту в памяти компьютера. Пишется без кавычек.\n",
    "- **Значение переменной** — всё что угодно, что лежит в памяти компьютера, к чему мы обращаемся по имени переменной\n",
    "(А ещё, имя переменной слева от равно, значение справа.)\n",
    "\n",
    "```some_number = 5```: ```some_number``` — переменная, ```5``` — значение.\n",
    "\n",
    " ```greeting = \"Hello, world!\"```: ```greeting``` — переменная, ```\"Hello, world!\"``` — значение.\n",
    " \n",
    "- **Функция** — некоторое действие. На математике вы встречали $y = f(x)$. Так вот $f()$ — это функция, нечто, что нужно сделать с x чтобы получить y. Пишется со скобочками, в которых мы указываем аргументы. (А ещё, в Jupyter названия функций зелёными буквами пишутся.)\n",
    "\n",
    "- **Аргументы** — то, что принимает функция для преобразования\n",
    "\n",
    "```int(user_answer)```: ```int()``` — функция, возвращающая целое число из того, что в скобках, ```user_answer``` — аргумент функции (ну и это само по себе переменная, которая ссылается на что-то в памяти (судя по названию, ответ пользователя))\n",
    "\n",
    "```number_from_user = int(user_answer)```: здесь мы сохранили  в переменную ```number_from_user``` значение функции, то есть ответ пользователя, преобразованный в целое число.\n",
    "\n",
    "Обратите внимание, когда мы применяем функцию, мы получаем новое значение, которое можно сохранить куда-нибудь (записать в переменную). От применения функции аргументы не меняются. (после применения ```int()``` в ```user_answer``` всё ещё лежит строка, а не число)\n",
    "\n",
    "- **Значение функции**  — то, что функция выдаёт.\n",
    "\n",
    "```number_from_user = int(\"5\")```: значение функции — число 5.\n"
   ]
  },
  {
   "cell_type": "markdown",
   "id": "9ffe68be-5b8d-4d4a-aa48-ca579c4ab1c5",
   "metadata": {},
   "source": [
    "## Условия"
   ]
  },
  {
   "cell_type": "markdown",
   "id": "8605740b-a0b8-4740-a113-0cc6ce19ba45",
   "metadata": {
    "id": "MyZ2T-iOQl7w"
   },
   "source": [
    "```\n",
    "if условие:\n",
    "    блок инструкций, в случае если условие истинно(/верно/True)\n",
    "else:\n",
    "    блок инструкций, в случае если условие не выполняется(/не верно/False)\n",
    "```"
   ]
  },
  {
   "cell_type": "code",
   "execution_count": 1,
   "id": "1b8cb1a0-a642-4b88-bab3-b16b758b0814",
   "metadata": {
    "id": "m5JAOCt9TLyK"
   },
   "outputs": [
    {
     "name": "stdout",
     "output_type": "stream",
     "text": [
      "Введите число: 5\n",
      "неотрицательное число\n"
     ]
    }
   ],
   "source": [
    "user_number = int(input('Введите число: '))\n",
    "if user_number < 0:\n",
    "    print(\"отрицательное число\")  \n",
    "else:\n",
    "    print(\"неотрицательное число\")"
   ]
  },
  {
   "cell_type": "markdown",
   "id": "091ee474-e807-46db-98e7-51a7016d0644",
   "metadata": {
    "id": "mc2j4FP_9scf"
   },
   "source": [
    "Посмотрим внимательнее на шаблон. После **`if`** пишется **условие**. После условия ставится двоеточие `:`.\n",
    "Блок инструкций пишется с отступом в 4 пробела. (*Если после двоеточия нажать Enter, юпитер сам сделает отступа в 4 пробела*).\n",
    "Этот блок выполнится **если условие верно**.\n",
    "\n",
    "Условие здесь `user_number < 0`, т.е. мы проверяем, меньше ли значение переменной `user_number`, чем 0.\n",
    "\n",
    "После **`else`** ставится двоеточие. А затем с отступом пишется блок инструкций на случай, **если условие не выполняется**."
   ]
  },
  {
   "cell_type": "markdown",
   "id": "25c8da96-9c70-4be2-bf46-74d4ed86561a",
   "metadata": {
    "id": "4BUP71so0-bR"
   },
   "source": [
    "_Отступы это и есть пример простоты синтаксиса питона. Вместо того, чтобы использовать для группировки выражений скобки, в питоне используются отступы. Инструкции / **команды**, расположенные **на одном уровне отступов** выполняются **последовательно**_"
   ]
  },
  {
   "cell_type": "markdown",
   "id": "2f895162-e5f9-40a3-96c1-fd115b469749",
   "metadata": {
    "id": "2hLuqOr49scg"
   },
   "source": [
    "### Вложенное условие\n",
    "Но ноль - ни положительное, ни отрицательное число, поэтому нужно второе условие"
   ]
  },
  {
   "cell_type": "code",
   "execution_count": 2,
   "id": "d692fda8-6f14-423e-950f-7f8fb3a4583f",
   "metadata": {
    "colab": {
     "base_uri": "https://localhost:8080/"
    },
    "id": "Y31lDRkUT01P",
    "outputId": "5fd5c3a6-b1ed-49f1-fbd3-94d6e91ad0a4"
   },
   "outputs": [
    {
     "name": "stdout",
     "output_type": "stream",
     "text": [
      "ноль\n"
     ]
    }
   ],
   "source": [
    "number = 0\n",
    "if number < 0:\n",
    "    print(\"отрицательное число\")\n",
    "else:\n",
    "    if number == 0:\n",
    "        print(\"ноль\")\n",
    "    else:\n",
    "        print(\"положительное число\")"
   ]
  },
  {
   "cell_type": "markdown",
   "id": "f408bbaa-8927-4446-a2e2-33d5325c8d13",
   "metadata": {},
   "source": [
    "#### Что мы сделали?\n",
    "Мы в блок инструкций добавили ещё одну \"условную конструкцию\""
   ]
  },
  {
   "cell_type": "markdown",
   "id": "9fc35d45-95f0-4b59-93eb-4b6b5151a7bb",
   "metadata": {},
   "source": [
    "```\n",
    "если число < 0:\n",
    "    печатаем \"отрицательное число\"\n",
    "иначе:\n",
    "    # этот блок кода выполняется, если число неотрицательное    \n",
    "    # то есть либо ноль, либо положительное. Проверим, равно ли нулю.    \n",
    "    если число == 0:    \n",
    "        печатаем \"ноль\"        \n",
    "    иначе:    \n",
    "        # этот блок кода выполняется, если наше уже точно неотрицательное не ноль, т.е. положительное        \n",
    "        печатаем \"положительное число\"\n",
    "```"
   ]
  },
  {
   "cell_type": "markdown",
   "id": "e8ae7413-cf30-42a9-8e18-3ee10efe5e7e",
   "metadata": {
    "id": "HKHHFAyrAJLM"
   },
   "source": [
    "Обратите внимание, что мы вложили одно условие в другое.\n",
    "\n",
    "Можно добавлять условные конструкции в любой блок инструкций. (неограниченное количество раз)"
   ]
  },
  {
   "cell_type": "code",
   "execution_count": null,
   "id": "a7791f8f-2cc7-4e79-b53d-dce7dc84dcef",
   "metadata": {
    "colab": {
     "base_uri": "https://localhost:8080/"
    },
    "id": "Y31lDRkUT01P",
    "outputId": "5fd5c3a6-b1ed-49f1-fbd3-94d6e91ad0a4"
   },
   "outputs": [
    {
     "name": "stdout",
     "output_type": "stream",
     "text": [
      "ноль\n"
     ]
    }
   ],
   "source": [
    "number = 0\n",
    "if number < 0:\n",
    "    print(\"отрицательное число\")\n",
    "else:\n",
    "    if number == 0:\n",
    "        print(\"ноль\")\n",
    "    else:\n",
    "        print(\"положительное число\")"
   ]
  },
  {
   "cell_type": "markdown",
   "id": "156d2978-d70b-4d19-be95-5d4f49e309ce",
   "metadata": {
    "id": "1k-LfPcBVWK7"
   },
   "source": [
    "Но условия в условии можно красиво избежать:"
   ]
  },
  {
   "cell_type": "code",
   "execution_count": null,
   "id": "bcacdc81-0bae-4bd6-b917-649ef220cb80",
   "metadata": {
    "colab": {
     "base_uri": "https://localhost:8080/"
    },
    "id": "3h7DxVmEVLz7",
    "outputId": "8d699475-10a5-4c0c-9cba-df2a6826138a"
   },
   "outputs": [
    {
     "name": "stdout",
     "output_type": "stream",
     "text": [
      "ноль\n"
     ]
    }
   ],
   "source": [
    "if number > 0:\n",
    "    print(\"положительное число\")\n",
    "elif number == 0:  # таких elif может быть много, после них пишут альтернативные условия\n",
    "    print(\"ноль\")\n",
    "else:\n",
    "    print(\"отрицательное число\")"
   ]
  },
  {
   "cell_type": "markdown",
   "id": "e24d1fca-2de5-4d6b-abd8-df61f2e9eddc",
   "metadata": {
    "id": "bmNx8is_WV79"
   },
   "source": [
    "### Основные операторы сравнения\n",
    "\n",
    "- \\> - больше. Условие истинно, если то, что слева от знака больше того, что справа\n",
    "- < - меньше. Условие истинно, если то, что слева от знака меньше того, что справа\n",
    "- \\>= - больше либо равно\n",
    "- <= - меньше либо равно\n",
    "- == - в точности равно\n",
    "- != - не равно"
   ]
  },
  {
   "cell_type": "markdown",
   "id": "61914e5f-8dd1-418d-89b8-326af17e7e49",
   "metadata": {
    "id": "Baup6azjXMis"
   },
   "source": [
    "### Тренировка\n",
    "\n",
    "> **Задание**.\n",
    "> Пользователь вводит целое число, и получает это число в кубе (возвести в степень: `5**3` = $5 * 5 * 5$ = 125.  \n",
    "> Пользователь может отказаться словом \"стоп\" (программа выводит сообщение: `\"вы отказались от услуги\"`).  \n",
    "> Пример:\n",
    "> \n",
    "> ввод: `5`  \n",
    "> вывод: `125`\n",
    ">\n",
    "> ввод: `стоп`  \n",
    "> вывод: `вы отказались от услуги`"
   ]
  },
  {
   "cell_type": "code",
   "execution_count": null,
   "id": "406d6fb7-8089-4246-b0fa-7b6ff899e959",
   "metadata": {
    "colab": {
     "base_uri": "https://localhost:8080/"
    },
    "id": "NrKkXt8_Lbjg",
    "outputId": "afd7fe6c-db9f-4b15-b4fd-5b6c205eb512"
   },
   "outputs": [
    {
     "name": "stdout",
     "output_type": "stream",
     "text": [
      "Введите число: 5\n",
      "125\n"
     ]
    }
   ],
   "source": [
    "# ваш код"
   ]
  },
  {
   "cell_type": "markdown",
   "id": "bc5cf394-d3f8-4e01-a04d-a553ec804ba1",
   "metadata": {
    "id": "WyqBdkwKYk4-"
   },
   "source": [
    "### Тип данных bool\n",
    "\n",
    "Всего два значения: True и False.\n",
    "\n",
    "С большой буквы.\n",
    "\n",
    "(Не называйте переменные true или false - мы за красивый понятный код)"
   ]
  },
  {
   "cell_type": "code",
   "execution_count": null,
   "id": "3fe93847-3d4b-4901-861d-81fce8b8db5d",
   "metadata": {
    "colab": {
     "base_uri": "https://localhost:8080/"
    },
    "id": "VYv9srw8WPBL",
    "outputId": "dd57d8fc-45da-4484-a71f-9fe169c74b9c"
   },
   "outputs": [
    {
     "name": "stdout",
     "output_type": "stream",
     "text": [
      "True <class 'bool'>\n",
      "<class 'bool'>\n",
      "False\n"
     ]
    }
   ],
   "source": [
    "print(5>0)\n",
    "print(type(5>0))\n",
    "print(5==0)"
   ]
  },
  {
   "cell_type": "code",
   "execution_count": null,
   "id": "0f29dd19-d084-4209-91e7-9f35ea468480",
   "metadata": {
    "colab": {
     "base_uri": "https://localhost:8080/"
    },
    "id": "OtNupo_4Y1YZ",
    "outputId": "c9281cf6-d9f8-46d5-8e10-c543e2930f01"
   },
   "outputs": [
    {
     "name": "stdout",
     "output_type": "stream",
     "text": [
      "1.0\n",
      "0.0\n"
     ]
    }
   ],
   "source": [
    "# bool переводится в число int\n",
    "print(int(True))\n",
    "print(int(False))"
   ]
  },
  {
   "cell_type": "code",
   "execution_count": null,
   "id": "ff4a054b-7184-4dc9-a651-0713b433aa14",
   "metadata": {
    "id": "_ELRrTTI9sdJ"
   },
   "outputs": [],
   "source": [
    "# bool переводится в число float\n",
    "# (проверьте)"
   ]
  },
  {
   "cell_type": "code",
   "execution_count": null,
   "id": "94d954a0-8b78-4afe-b210-0f57a4a36af9",
   "metadata": {
    "colab": {
     "base_uri": "https://localhost:8080/"
    },
    "id": "T5wS9soFc7kW",
    "outputId": "23bf847e-6cc6-47c3-e5c6-fb4917a5a176"
   },
   "outputs": [
    {
     "name": "stdout",
     "output_type": "stream",
     "text": [
      "True\n",
      "True\n",
      "False\n"
     ]
    }
   ],
   "source": [
    "# Числа переводятся в bool: все кроме нуля - True\n",
    "print(bool(4))\n",
    "print(bool(-6.578))\n",
    "print(bool(0))"
   ]
  },
  {
   "cell_type": "code",
   "execution_count": null,
   "id": "aa432bad-718d-4453-b021-a2e43d81e6bd",
   "metadata": {
    "colab": {
     "base_uri": "https://localhost:8080/"
    },
    "id": "rZ7tniSgdtT5",
    "outputId": "944f3c0c-d1ca-4d6f-8e59-c68217a4e644"
   },
   "outputs": [
    {
     "name": "stdout",
     "output_type": "stream",
     "text": [
      "True\n",
      "False\n"
     ]
    }
   ],
   "source": [
    "# Строки переводятся в bool: все кроме '' - True\n",
    "print(bool('непустая строка'))\n",
    "print(bool(''))"
   ]
  },
  {
   "cell_type": "code",
   "execution_count": null,
   "id": "bbaaf25b-38a7-41fc-adb4-bebfa1a6bd2a",
   "metadata": {
    "colab": {
     "base_uri": "https://localhost:8080/"
    },
    "id": "FXX-JH7Ldd2o",
    "outputId": "b77d3b43-6a79-4853-eb5a-6ba067924d0b"
   },
   "outputs": [
    {
     "name": "stdout",
     "output_type": "stream",
     "text": [
      "Введите имя: \n",
      "Вы не ввели имя...\n"
     ]
    }
   ],
   "source": [
    "# Поэтому можно так:\n",
    "name = input(\"Введите имя: \")\n",
    "if name:\n",
    "    print(\"Привет, \", name)\n",
    "else:\n",
    "    print(\"Вы не ввели имя...\")"
   ]
  },
  {
   "cell_type": "markdown",
   "id": "d50e68ec-482c-4aae-98b5-df761d3ef1eb",
   "metadata": {},
   "source": [
    "А можно условия сохранять в переменные. Какой это тип данных будет?"
   ]
  },
  {
   "cell_type": "code",
   "execution_count": 2,
   "id": "a2ad1058-49fa-4496-ab78-ccac3fb2ea0f",
   "metadata": {
    "id": "KX9liTF1Io17"
   },
   "outputs": [
    {
     "name": "stdin",
     "output_type": "stream",
     "text": [
      "Введите число:  200\n"
     ]
    },
    {
     "name": "stdout",
     "output_type": "stream",
     "text": [
      "Число делится на 5 и больше 100\n"
     ]
    }
   ],
   "source": [
    "num = int(input('Введите число: '))\n",
    "\n",
    "is_num_div5_more100 = num % 5 == 0 and num > 100\n",
    "\n",
    "if is_num_div5_more100:\n",
    "    print(\"Число делится на 5 и больше 100\")  # заметьте, можно без else\n",
    "\n",
    "# Я хочу напечатать print('конец программы'). Куда это вставить?"
   ]
  },
  {
   "cell_type": "markdown",
   "id": "143f6f66-974e-4347-a930-1c0372001786",
   "metadata": {},
   "source": [
    "### Вообще-то с bool возможна арифметика!"
   ]
  },
  {
   "cell_type": "code",
   "execution_count": 10,
   "id": "5a0a03aa-6b3d-40f2-ae9f-98d956b28106",
   "metadata": {},
   "outputs": [
    {
     "name": "stdout",
     "output_type": "stream",
     "text": [
      "2\n",
      "<class 'int'>\n",
      "0\n",
      "4\n",
      "<class 'int'>\n"
     ]
    }
   ],
   "source": [
    "print(True + True)\n",
    "print(type(True + True))\n",
    "\n",
    "print(False * 4)\n",
    "print(True * 4)\n",
    "print(type(True * 4))"
   ]
  },
  {
   "cell_type": "code",
   "execution_count": 11,
   "id": "38eaee48-415d-4733-a636-d5cb46ddba5c",
   "metadata": {},
   "outputs": [
    {
     "data": {
      "text/plain": [
       "5"
      ]
     },
     "execution_count": 11,
     "metadata": {},
     "output_type": "execute_result"
    }
   ],
   "source": [
    "True + 4"
   ]
  },
  {
   "cell_type": "code",
   "execution_count": 12,
   "id": "1a3b68fc-6c11-4d9d-b976-f803de0f49c8",
   "metadata": {},
   "outputs": [
    {
     "data": {
      "text/plain": [
       "True"
      ]
     },
     "execution_count": 12,
     "metadata": {},
     "output_type": "execute_result"
    }
   ],
   "source": [
    "True == 1"
   ]
  },
  {
   "cell_type": "code",
   "execution_count": 13,
   "id": "24cc72ce-384d-4bf0-8def-2bde4e92e28c",
   "metadata": {},
   "outputs": [
    {
     "data": {
      "text/plain": [
       "False"
      ]
     },
     "execution_count": 13,
     "metadata": {},
     "output_type": "execute_result"
    }
   ],
   "source": [
    "type(True) == type(1)"
   ]
  },
  {
   "cell_type": "markdown",
   "id": "fc3eb40f-dc56-4101-8658-ffaa362b6509",
   "metadata": {},
   "source": [
    "То есть это устроенно как `int` и `float`. Типы разные, но арифметические действия производить можно.\n",
    "\n",
    "`True` - это 1, `False` - это 0"
   ]
  },
  {
   "cell_type": "markdown",
   "id": "fe7be848-7512-4bc8-88f0-b7eaaa45028c",
   "metadata": {
    "id": "uIUzqf4QfHxc"
   },
   "source": [
    "### Логические операторы\n",
    "- **and** (логическое И) возвращает истину (True), если оба условия по отдельности верны (тоже возвращают True)\n",
    "- **or** (логическое ИЛИ) вернет истину, если хотя бы одно из условий верно\n",
    "- **not** (логическое НЕТ) возьмет результат условия и “обратит” его."
   ]
  },
  {
   "cell_type": "code",
   "execution_count": null,
   "id": "a1824d06-9013-4fd1-9323-aa950f29afd2",
   "metadata": {
    "colab": {
     "base_uri": "https://localhost:8080/"
    },
    "id": "ebvckhWjfg4u",
    "outputId": "7f3b8c24-61e5-4f3f-a0fc-6746dcafe1d9",
    "scrolled": true
   },
   "outputs": [
    {
     "name": "stdout",
     "output_type": "stream",
     "text": [
      "10\n",
      "20\n",
      "Хотя бы одно число кратно 10.\n"
     ]
    }
   ],
   "source": [
    "a = int(input())\n",
    "b = int(input())\n",
    "\n",
    "if a % 10 == 0 or b % 10 == 0:\n",
    "    print('Хотя бы одно число кратно 10.')\n",
    "else:\n",
    "    print('Оба числа не кратны 10.')"
   ]
  },
  {
   "cell_type": "markdown",
   "id": "a638af0c-5dde-402a-8e53-0658ad1ebb66",
   "metadata": {},
   "source": [
    "### Тренировка\n",
    "\n",
    "**важно:** всегда, когда мы будем писать условия, мы будем делать это полностью, никаких сокращений нет.\n",
    "\n",
    "Заметьте это на примере:\n",
    "\n",
    "> **Задание**.\n",
    "> Пользователь вводит целое число. Молодая программа, делающая первые шаги в арифметике отвечает `\"это я умею считать!\"`, если это число от 1 до 20 (включительно).\n",
    "> Если это какое-то другое число, то программа выводит `\"такое я считать не умею!\"`  \n",
    "> Пример:\n",
    "> \n",
    "> ввод: `5`  \n",
    "> вывод: `это я умею считать!`\n",
    ">\n",
    "> ввод: `555`  \n",
    "> вывод: `такое я считать не умею!`\n",
    ">\n",
    "> ввод: `-15`  \n",
    "> вывод: `такое я считать не умею!`\n",
    "\n",
    "*(обратите внимание, если сказано \"целое число\", то отрицательные подойдут! Целые числа это натуральные 0, 1, ... и отрицательные -1, -2, ...)*"
   ]
  },
  {
   "cell_type": "code",
   "execution_count": 1,
   "id": "89c48647-c606-435b-8ac2-e465634a6418",
   "metadata": {},
   "outputs": [],
   "source": [
    "# ваш код"
   ]
  },
  {
   "cell_type": "markdown",
   "id": "f209a5ba-907a-4295-87b1-378eaf5a2c80",
   "metadata": {},
   "source": [
    "### Про короткое замыкание или ленность логических операторов"
   ]
  },
  {
   "cell_type": "code",
   "execution_count": 20,
   "id": "ba800b24-e854-487f-8640-86377c7ac0dd",
   "metadata": {},
   "outputs": [
    {
     "name": "stdout",
     "output_type": "stream",
     "text": [
      "Хотя бы одно условие выполнилось.\n"
     ]
    }
   ],
   "source": [
    "number = 6\n",
    "if number > 5 or number / 0 == 4:\n",
    "    print('Хотя бы одно условие выполнилось.')"
   ]
  },
  {
   "cell_type": "markdown",
   "id": "d7bc7db6-9388-47fd-b86d-e1e334ddac6f",
   "metadata": {},
   "source": [
    "На ноль делить нельзя, от этого программа ломается. Но эта программа не сломалась. Почему?\n",
    "\n",
    "Потому что она проверила первое условие, которое оказалось верным, и не стала идти дальше. (Зачем, если хотя бы одно и так уже верное.) То есть программа не проходила эту часть кода, не делила 6 на 0.\n",
    "\n",
    "А если бы дошла, сломалась бы:"
   ]
  },
  {
   "cell_type": "code",
   "execution_count": 21,
   "id": "42e740d6-9e8a-4541-b50b-fafef60636a9",
   "metadata": {},
   "outputs": [
    {
     "ename": "ZeroDivisionError",
     "evalue": "division by zero",
     "output_type": "error",
     "traceback": [
      "\u001b[0;31m---------------------------------------------------------------------------\u001b[0m",
      "\u001b[0;31mZeroDivisionError\u001b[0m                         Traceback (most recent call last)",
      "Input \u001b[0;32mIn [21]\u001b[0m, in \u001b[0;36m<cell line: 2>\u001b[0;34m()\u001b[0m\n\u001b[1;32m      1\u001b[0m number \u001b[38;5;241m=\u001b[39m \u001b[38;5;241m6\u001b[39m\n\u001b[0;32m----> 2\u001b[0m \u001b[38;5;28;01mif\u001b[39;00m number \u001b[38;5;241m<\u001b[39m \u001b[38;5;241m5\u001b[39m \u001b[38;5;129;01mor\u001b[39;00m \u001b[43mnumber\u001b[49m\u001b[43m \u001b[49m\u001b[38;5;241;43m/\u001b[39;49m\u001b[43m \u001b[49m\u001b[38;5;241;43m0\u001b[39;49m \u001b[38;5;241m==\u001b[39m \u001b[38;5;241m4\u001b[39m:\n\u001b[1;32m      3\u001b[0m     \u001b[38;5;28mprint\u001b[39m(\u001b[38;5;124m'\u001b[39m\u001b[38;5;124mХотя бы одно условие выполнилось.\u001b[39m\u001b[38;5;124m'\u001b[39m)\n",
      "\u001b[0;31mZeroDivisionError\u001b[0m: division by zero"
     ]
    }
   ],
   "source": [
    "number = 6\n",
    "if number < 5 or number / 0 == 4:\n",
    "    print('Хотя бы одно условие выполнилось.')"
   ]
  },
  {
   "cell_type": "markdown",
   "id": "6fa23009-0d82-468e-a8f5-46bbcd28cc3c",
   "metadata": {},
   "source": [
    "* `and` — истинно, когда всё-всё истинно, поэтому если встретит ЛОЖЬ, то дальше не смотрит: и так ясно, что итог ЛОЖЬ\n",
    "* `or` — истинно, когда хоть что-то истинно, поэтому если встретит ИСТИНУ, то дальше не смотрит: и так ясно, что итог ИСТИНА"
   ]
  },
  {
   "cell_type": "code",
   "execution_count": null,
   "id": "e664630d-44c1-473a-8b13-e3191bd87ede",
   "metadata": {},
   "outputs": [],
   "source": []
  }
 ],
 "metadata": {
  "kernelspec": {
   "display_name": "dataan",
   "language": "python",
   "name": "dataan"
  },
  "language_info": {
   "codemirror_mode": {
    "name": "ipython",
    "version": 3
   },
   "file_extension": ".py",
   "mimetype": "text/x-python",
   "name": "python",
   "nbconvert_exporter": "python",
   "pygments_lexer": "ipython3",
   "version": "3.11.3"
  }
 },
 "nbformat": 4,
 "nbformat_minor": 5
}
