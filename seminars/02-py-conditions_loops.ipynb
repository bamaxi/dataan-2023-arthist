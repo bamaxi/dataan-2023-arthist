{
 "cells": [
  {
   "cell_type": "markdown",
   "id": "c364d08d-4ef5-4f60-b8be-5c1ab3f6827d",
   "metadata": {},
   "source": [
    "# Условия. bool. Циклы."
   ]
  },
  {
   "cell_type": "markdown",
   "id": "f0da361e-2f66-4b3d-9999-a9a84139150e",
   "metadata": {
    "id": "H3wAMW8MMLcJ"
   },
   "source": [
    "В прошлый раз узнали про питон:\n",
    "- математические операторы `+` `-` `/` `*` `**` (в степень) `%` (остаток от деления) `//` (целая часть при делении)\n",
    "    - порядок действий (СКОБКИ > степень > умножение и деление > сложение и вычитание)\n",
    "- типы данных `int`, `float`, `str`\n",
    "- многострочные строки с тремя кавычками (`'''` или `\"\"\"`) — multiline str(ings)\n",
    "- `print()` - напечатать\n",
    "- `type()` - узнать тип данных\n",
    "- `input()` - принять значение от пользователя\n",
    "- соответствующие функции для каждого типа данных, приводящие аргумент к этому типу:\n",
    "    - `int()` - преобразовать в целочисленный формат\n",
    "    - `float()` - преобразовать в формат дробного числа\n",
    "    - `str()` - преобразовать в строку"
   ]
  },
  {
   "cell_type": "markdown",
   "id": "dec166ff-e549-42dc-940b-594bebaa2688",
   "metadata": {
    "id": "mpXF5mTQ9sbn"
   },
   "source": [
    "## Но перед этим вспомним терминологию\n",
    "- **Имя переменной** или просто **переменная** — название, по которому мы обращаемся к определённому месту в памяти компьютера. Пишется без кавычек.\n",
    "- **Значение переменной** — всё что угодно, что лежит в памяти компьютера, к чему мы обращаемся по имени переменной\n",
    "(А ещё, имя переменной слева от равно, значение справа.)\n",
    "\n",
    "```some_number = 5```: ```some_number``` — переменная, ```5``` — значение.\n",
    "\n",
    " ```greeting = \"Hello, world!\"```: ```greeting``` — переменная, ```\"Hello, world!\"``` — значение.\n",
    " \n",
    "- **Функция** — некоторое действие. На математике вы встречали $y = f(x)$. Так вот $f()$ — это функция, нечто, что нужно сделать с x чтобы получить y. Пишется со скобочками, в которых мы указываем аргументы. (А ещё, в Jupyter названия функций зелёными буквами пишутся.)\n",
    "\n",
    "- **Аргументы** — то, что принимает функция для преобразования\n",
    "\n",
    "```int(user_answer)```: ```int()``` — функция, возвращающая целое число из того, что в скобках, ```user_answer``` — аргумент функции (ну и это само по себе переменная, которая ссылается на что-то в памяти (судя по названию, ответ пользователя))\n",
    "\n",
    "```number_from_user = int(user_answer)```: здесь мы сохранили  в переменную ```number_from_user``` значение функции, то есть ответ пользователя, преобразованный в целое число.\n",
    "\n",
    "Обратите внимание, когда мы применяем функцию, мы получаем новое значение, которое можно сохранить куда-нибудь (записать в переменную). От применения функции аргументы не меняются. (после применения ```int()``` в ```user_answer``` всё ещё лежит строка, а не число)\n",
    "\n",
    "- **Значение функции**  — то, что функция выдаёт.\n",
    "\n",
    "```number_from_user = int(\"5\")```: значение функции — число 5.\n"
   ]
  },
  {
   "cell_type": "markdown",
   "id": "9ffe68be-5b8d-4d4a-aa48-ca579c4ab1c5",
   "metadata": {},
   "source": [
    "## Условия"
   ]
  },
  {
   "cell_type": "markdown",
   "id": "8605740b-a0b8-4740-a113-0cc6ce19ba45",
   "metadata": {
    "id": "MyZ2T-iOQl7w"
   },
   "source": [
    "```\n",
    "if условие:\n",
    "    блок инструкций, в случае если условие истинно(/верно/True)\n",
    "else:\n",
    "    блок инструкций, в случае если условие не выполняется(/не верно/False)\n",
    "```"
   ]
  },
  {
   "cell_type": "code",
   "execution_count": 4,
   "id": "1b8cb1a0-a642-4b88-bab3-b16b758b0814",
   "metadata": {
    "id": "m5JAOCt9TLyK"
   },
   "outputs": [
    {
     "name": "stdin",
     "output_type": "stream",
     "text": [
      "Введите число:  0\n"
     ]
    },
    {
     "name": "stdout",
     "output_type": "stream",
     "text": [
      "неотрицательное число\n",
      "тоже ура!\n"
     ]
    }
   ],
   "source": [
    "user_number = int(input('Введите число: '))\n",
    "\n",
    "if user_number < 0:\n",
    "    print(\"отрицательное число\")  \n",
    "    print(\"ура!\")\n",
    "else:\n",
    "    print(\"неотрицательное число\")\n",
    "    print(\"тоже ура!\")"
   ]
  },
  {
   "cell_type": "markdown",
   "id": "091ee474-e807-46db-98e7-51a7016d0644",
   "metadata": {
    "id": "mc2j4FP_9scf"
   },
   "source": [
    "Посмотрим внимательнее на шаблон. После **`if`** пишется **условие**. После условия ставится двоеточие `:`.\n",
    "Блок инструкций пишется с отступом в 4 пробела. (*Если после двоеточия нажать Enter, юпитер сам сделает отступа в 4 пробела*).\n",
    "Этот блок выполнится **если условие верно**.\n",
    "\n",
    "Условие здесь `user_number < 0`, т.е. мы проверяем, меньше ли значение переменной `user_number`, чем 0.\n",
    "\n",
    "После **`else`** ставится двоеточие. А затем с отступом пишется блок инструкций на случай, **если условие не выполняется**."
   ]
  },
  {
   "cell_type": "markdown",
   "id": "25c8da96-9c70-4be2-bf46-74d4ed86561a",
   "metadata": {
    "id": "4BUP71so0-bR"
   },
   "source": [
    "_Отступы это и есть пример простоты синтаксиса питона. Вместо того, чтобы использовать для группировки выражений скобки, в питоне используются отступы. Инструкции / **команды**, расположенные **на одном уровне отступов** выполняются **последовательно**_"
   ]
  },
  {
   "cell_type": "markdown",
   "id": "2f895162-e5f9-40a3-96c1-fd115b469749",
   "metadata": {
    "id": "2hLuqOr49scg"
   },
   "source": [
    "### Вложенное условие\n",
    "Но ноль - ни положительное, ни отрицательное число, поэтому нужно второе условие"
   ]
  },
  {
   "cell_type": "code",
   "execution_count": 2,
   "id": "d692fda8-6f14-423e-950f-7f8fb3a4583f",
   "metadata": {
    "colab": {
     "base_uri": "https://localhost:8080/"
    },
    "id": "Y31lDRkUT01P",
    "outputId": "5fd5c3a6-b1ed-49f1-fbd3-94d6e91ad0a4"
   },
   "outputs": [
    {
     "name": "stdout",
     "output_type": "stream",
     "text": [
      "ноль\n"
     ]
    }
   ],
   "source": [
    "number = 0\n",
    "if number < 0:\n",
    "    print(\"отрицательное число\")\n",
    "else:\n",
    "    if number == 0:\n",
    "        print(\"ноль\")\n",
    "    else:\n",
    "        print(\"положительное число\")"
   ]
  },
  {
   "cell_type": "markdown",
   "id": "f408bbaa-8927-4446-a2e2-33d5325c8d13",
   "metadata": {},
   "source": [
    "#### Что мы сделали?\n",
    "Мы в блок инструкций добавили ещё одну \"условную конструкцию\""
   ]
  },
  {
   "cell_type": "markdown",
   "id": "9fc35d45-95f0-4b59-93eb-4b6b5151a7bb",
   "metadata": {},
   "source": [
    "```\n",
    "если число < 0:\n",
    "    печатаем \"отрицательное число\"\n",
    "иначе:\n",
    "    # этот блок кода выполняется, если число неотрицательное    \n",
    "    # то есть либо ноль, либо положительное. Проверим, равно ли нулю.    \n",
    "    если число == 0:    \n",
    "        печатаем \"ноль\"        \n",
    "    иначе:    \n",
    "        # этот блок кода выполняется, если наше уже точно неотрицательное не ноль, т.е. положительное        \n",
    "        печатаем \"положительное число\"\n",
    "```"
   ]
  },
  {
   "cell_type": "markdown",
   "id": "e8ae7413-cf30-42a9-8e18-3ee10efe5e7e",
   "metadata": {
    "id": "HKHHFAyrAJLM"
   },
   "source": [
    "Обратите внимание, что мы вложили одно условие в другое.\n",
    "\n",
    "Можно добавлять условные конструкции в любой блок инструкций. (неограниченное количество раз)"
   ]
  },
  {
   "cell_type": "code",
   "execution_count": null,
   "id": "a7791f8f-2cc7-4e79-b53d-dce7dc84dcef",
   "metadata": {
    "colab": {
     "base_uri": "https://localhost:8080/"
    },
    "id": "Y31lDRkUT01P",
    "outputId": "5fd5c3a6-b1ed-49f1-fbd3-94d6e91ad0a4"
   },
   "outputs": [
    {
     "name": "stdout",
     "output_type": "stream",
     "text": [
      "ноль\n"
     ]
    }
   ],
   "source": [
    "number = 0\n",
    "if number < 0:\n",
    "    print(\"отрицательное число\")\n",
    "else:\n",
    "    if number == 0:\n",
    "        print(\"ноль\")\n",
    "    else:\n",
    "        print(\"положительное число\")"
   ]
  },
  {
   "cell_type": "markdown",
   "id": "156d2978-d70b-4d19-be95-5d4f49e309ce",
   "metadata": {
    "id": "1k-LfPcBVWK7"
   },
   "source": [
    "Но условия в условии можно красиво избежать:"
   ]
  },
  {
   "cell_type": "code",
   "execution_count": 8,
   "id": "bcacdc81-0bae-4bd6-b917-649ef220cb80",
   "metadata": {
    "colab": {
     "base_uri": "https://localhost:8080/"
    },
    "id": "3h7DxVmEVLz7",
    "outputId": "8d699475-10a5-4c0c-9cba-df2a6826138a"
   },
   "outputs": [
    {
     "name": "stdin",
     "output_type": "stream",
     "text": [
      " -5151\n"
     ]
    },
    {
     "name": "stdout",
     "output_type": "stream",
     "text": [
      "отрицательное число\n"
     ]
    }
   ],
   "source": [
    "number = int(input())\n",
    "if number > 0:\n",
    "    print(\"положительное число\")\n",
    "elif number == 0:  # таких elif может быть много, после них пишут альтернативные условия\n",
    "    print(\"ноль\")\n",
    "else:\n",
    "    print(\"отрицательное число\")"
   ]
  },
  {
   "cell_type": "markdown",
   "id": "051004e7-95f2-4c9e-add9-5f47615cf6b8",
   "metadata": {},
   "source": [
    "❓ на число 42 выдавать `\"Смысл жизни\"`"
   ]
  },
  {
   "cell_type": "code",
   "execution_count": 18,
   "id": "fb2cf9cf-c08d-4949-ab2a-a5b748aae78e",
   "metadata": {
    "colab": {
     "base_uri": "https://localhost:8080/"
    },
    "id": "3h7DxVmEVLz7",
    "outputId": "8d699475-10a5-4c0c-9cba-df2a6826138a"
   },
   "outputs": [
    {
     "name": "stdin",
     "output_type": "stream",
     "text": [
      " 42\n"
     ]
    },
    {
     "name": "stdout",
     "output_type": "stream",
     "text": [
      "положительное число\n"
     ]
    }
   ],
   "source": [
    "number = int(input())\n",
    "\n",
    "if number > 0:\n",
    "    print(\"положительное число\")\n",
    "elif number == 42:\n",
    "    print(\"Смысл жизни\")\n",
    "elif number == 0:  # таких elif может быть много, после них пишут альтернативные условия\n",
    "    print(\"ноль\")\n",
    "else:\n",
    "    print(\"отрицательное число\")"
   ]
  },
  {
   "cell_type": "code",
   "execution_count": 23,
   "id": "086b6ccc-2078-4916-a710-40d34e50341d",
   "metadata": {
    "colab": {
     "base_uri": "https://localhost:8080/"
    },
    "id": "3h7DxVmEVLz7",
    "outputId": "8d699475-10a5-4c0c-9cba-df2a6826138a"
   },
   "outputs": [
    {
     "name": "stdin",
     "output_type": "stream",
     "text": [
      " -4141\n"
     ]
    },
    {
     "name": "stdout",
     "output_type": "stream",
     "text": [
      "отрицательное число\n"
     ]
    }
   ],
   "source": [
    "number = int(input())\n",
    "\n",
    "if number == 42:\n",
    "    print(\"Смысл жизни\")\n",
    "elif number > 0:\n",
    "    print(\"положительное число\")\n",
    "elif number == 0:  # таких elif может быть много, после них пишут альтернативные условия\n",
    "    print(\"ноль\")\n",
    "else:\n",
    "    print(\"отрицательное число\")"
   ]
  },
  {
   "cell_type": "code",
   "execution_count": 26,
   "id": "d9404be4-38c6-4482-ab7e-d72fdce5638e",
   "metadata": {
    "colab": {
     "base_uri": "https://localhost:8080/"
    },
    "id": "3h7DxVmEVLz7",
    "outputId": "8d699475-10a5-4c0c-9cba-df2a6826138a"
   },
   "outputs": [
    {
     "name": "stdin",
     "output_type": "stream",
     "text": [
      " -1\n"
     ]
    },
    {
     "name": "stdout",
     "output_type": "stream",
     "text": [
      "отрицательное число\n"
     ]
    }
   ],
   "source": [
    "number = int(input())\n",
    "\n",
    "if number == 42:\n",
    "    print(\"Смысл жизни\")\n",
    "elif number == 0:  # таких elif может быть много, после них пишут альтернативные условия\n",
    "    print(\"ноль\")\n",
    "elif number > 0:\n",
    "    print(\"положительное число\")\n",
    "else:\n",
    "    print(\"отрицательное число\")"
   ]
  },
  {
   "cell_type": "markdown",
   "id": "e24d1fca-2de5-4d6b-abd8-df61f2e9eddc",
   "metadata": {
    "id": "bmNx8is_WV79"
   },
   "source": [
    "### Основные операторы сравнения\n",
    "\n",
    "- \\> - больше. Условие истинно, если то, что слева от знака больше того, что справа\n",
    "- < - меньше. Условие истинно, если то, что слева от знака меньше того, что справа\n",
    "- \\>= - больше либо равно\n",
    "- <= - меньше либо равно\n",
    "- == - в точности равно\n",
    "- != - не равно"
   ]
  },
  {
   "cell_type": "code",
   "execution_count": 28,
   "id": "4404f363-1ce4-402d-8d1e-7d77b27f8a22",
   "metadata": {},
   "outputs": [
    {
     "name": "stdin",
     "output_type": "stream",
     "text": [
      " 0\n"
     ]
    },
    {
     "name": "stdout",
     "output_type": "stream",
     "text": [
      "отрицательное число ИЛИ НОЛЬ\n"
     ]
    }
   ],
   "source": [
    "number = int(input())\n",
    "if number <= 0:\n",
    "    print(\"отрицательное число ИЛИ НОЛЬ\")"
   ]
  },
  {
   "cell_type": "code",
   "execution_count": 31,
   "id": "0b729ea4-3e8a-4ccf-acdd-a450e836a2f0",
   "metadata": {},
   "outputs": [
    {
     "name": "stdin",
     "output_type": "stream",
     "text": [
      " 99\n"
     ]
    },
    {
     "name": "stdout",
     "output_type": "stream",
     "text": [
      "мало\n"
     ]
    }
   ],
   "source": [
    "number = int(input())\n",
    "if number >= 100:\n",
    "    print(\"много\")\n",
    "else:\n",
    "    print(\"мало\")"
   ]
  },
  {
   "cell_type": "markdown",
   "id": "61914e5f-8dd1-418d-89b8-326af17e7e49",
   "metadata": {
    "id": "Baup6azjXMis"
   },
   "source": [
    "### Тренировка\n",
    "\n",
    "> **Задание**.\n",
    "> Пользователь вводит целое число, и получает это число в кубе (возвести в степень: `5**3` = $5 * 5 * 5$ = 125.  \n",
    "> Пользователь может отказаться словом \"стоп\" (программа выводит сообщение: `\"вы отказались от услуги\"`).  \n",
    "> Пример:\n",
    "> \n",
    "> ввод: `5`  \n",
    "> вывод: `125`\n",
    ">\n",
    "> ввод: `стоп`  \n",
    "> вывод: `вы отказались от услуги`"
   ]
  },
  {
   "cell_type": "code",
   "execution_count": 41,
   "id": "3862cbf6-9bbb-45ea-aae8-f9bfb71528c7",
   "metadata": {},
   "outputs": [
    {
     "name": "stdin",
     "output_type": "stream",
     "text": [
      " стоп\n"
     ]
    },
    {
     "name": "stdout",
     "output_type": "stream",
     "text": [
      "вы отказались от услуги\n"
     ]
    }
   ],
   "source": [
    "STOP_WORD = \"стоп\"\n",
    "\n",
    "maybe_number = input()\n",
    "\n",
    "if maybe_number == STOP_WORD:\n",
    "    print(\"вы отказались от услуги\")\n",
    "else:\n",
    "    number = int(maybe_number)\n",
    "    print(number ** 3)"
   ]
  },
  {
   "cell_type": "code",
   "execution_count": 44,
   "id": "e1aa7f4c-2cae-4dd2-91ee-bf15d3229b1a",
   "metadata": {},
   "outputs": [
    {
     "name": "stdin",
     "output_type": "stream",
     "text": [
      " стоп\n"
     ]
    },
    {
     "ename": "ValueError",
     "evalue": "invalid literal for int() with base 10: 'стоп'",
     "output_type": "error",
     "traceback": [
      "\u001b[1;31m---------------------------------------------------------------------------\u001b[0m",
      "\u001b[1;31mValueError\u001b[0m                                Traceback (most recent call last)",
      "Cell \u001b[1;32mIn[44], line 3\u001b[0m\n\u001b[0;32m      1\u001b[0m STOP_WORD \u001b[38;5;241m=\u001b[39m \u001b[38;5;124m\"\u001b[39m\u001b[38;5;124mстоп\u001b[39m\u001b[38;5;124m\"\u001b[39m\n\u001b[1;32m----> 3\u001b[0m maybe_number \u001b[38;5;241m=\u001b[39m \u001b[38;5;28;43mint\u001b[39;49m\u001b[43m(\u001b[49m\u001b[38;5;28;43minput\u001b[39;49m\u001b[43m(\u001b[49m\u001b[43m)\u001b[49m\u001b[43m)\u001b[49m\n\u001b[0;32m      5\u001b[0m \u001b[38;5;28;01mif\u001b[39;00m maybe_number \u001b[38;5;241m==\u001b[39m STOP_WORD:\n\u001b[0;32m      6\u001b[0m     \u001b[38;5;28mprint\u001b[39m(\u001b[38;5;124m\"\u001b[39m\u001b[38;5;124mвы отказались от услуги\u001b[39m\u001b[38;5;124m\"\u001b[39m)\n",
      "\u001b[1;31mValueError\u001b[0m: invalid literal for int() with base 10: 'стоп'"
     ]
    }
   ],
   "source": [
    "STOP_WORD = \"стоп\"\n",
    "\n",
    "maybe_number = int(input())\n",
    "\n",
    "if maybe_number == STOP_WORD:\n",
    "    print(\"вы отказались от услуги\")\n",
    "else:\n",
    "    print(maybe_number ** 3)"
   ]
  },
  {
   "cell_type": "code",
   "execution_count": null,
   "id": "406d6fb7-8089-4246-b0fa-7b6ff899e959",
   "metadata": {
    "colab": {
     "base_uri": "https://localhost:8080/"
    },
    "id": "NrKkXt8_Lbjg",
    "outputId": "afd7fe6c-db9f-4b15-b4fd-5b6c205eb512"
   },
   "outputs": [
    {
     "name": "stdout",
     "output_type": "stream",
     "text": [
      "Введите число: 5\n",
      "125\n"
     ]
    }
   ],
   "source": [
    "# ваш код"
   ]
  },
  {
   "cell_type": "markdown",
   "id": "bc5cf394-d3f8-4e01-a04d-a553ec804ba1",
   "metadata": {
    "id": "WyqBdkwKYk4-"
   },
   "source": [
    "### Тип данных bool\n",
    "\n",
    "Всего два значения: True и False.\n",
    "\n",
    "С большой буквы.\n",
    "\n",
    "(Не называйте переменные true или false - мы за красивый понятный код)"
   ]
  },
  {
   "cell_type": "code",
   "execution_count": null,
   "id": "3fe93847-3d4b-4901-861d-81fce8b8db5d",
   "metadata": {
    "colab": {
     "base_uri": "https://localhost:8080/"
    },
    "id": "VYv9srw8WPBL",
    "outputId": "dd57d8fc-45da-4484-a71f-9fe169c74b9c"
   },
   "outputs": [
    {
     "name": "stdout",
     "output_type": "stream",
     "text": [
      "True <class 'bool'>\n",
      "<class 'bool'>\n",
      "False\n"
     ]
    }
   ],
   "source": [
    "print(5>0)\n",
    "print(type(5>0))\n",
    "print(5==0)"
   ]
  },
  {
   "cell_type": "code",
   "execution_count": null,
   "id": "0f29dd19-d084-4209-91e7-9f35ea468480",
   "metadata": {
    "colab": {
     "base_uri": "https://localhost:8080/"
    },
    "id": "OtNupo_4Y1YZ",
    "outputId": "c9281cf6-d9f8-46d5-8e10-c543e2930f01"
   },
   "outputs": [
    {
     "name": "stdout",
     "output_type": "stream",
     "text": [
      "1.0\n",
      "0.0\n"
     ]
    }
   ],
   "source": [
    "# bool переводится в число int\n",
    "print(int(True))\n",
    "print(int(False))"
   ]
  },
  {
   "cell_type": "code",
   "execution_count": null,
   "id": "ff4a054b-7184-4dc9-a651-0713b433aa14",
   "metadata": {
    "id": "_ELRrTTI9sdJ"
   },
   "outputs": [],
   "source": [
    "# bool переводится в число float\n",
    "# (проверьте)"
   ]
  },
  {
   "cell_type": "code",
   "execution_count": null,
   "id": "94d954a0-8b78-4afe-b210-0f57a4a36af9",
   "metadata": {
    "colab": {
     "base_uri": "https://localhost:8080/"
    },
    "id": "T5wS9soFc7kW",
    "outputId": "23bf847e-6cc6-47c3-e5c6-fb4917a5a176"
   },
   "outputs": [
    {
     "name": "stdout",
     "output_type": "stream",
     "text": [
      "True\n",
      "True\n",
      "False\n"
     ]
    }
   ],
   "source": [
    "# Числа переводятся в bool: все кроме нуля - True\n",
    "print(bool(4))\n",
    "print(bool(-6.578))\n",
    "print(bool(0))"
   ]
  },
  {
   "cell_type": "code",
   "execution_count": null,
   "id": "aa432bad-718d-4453-b021-a2e43d81e6bd",
   "metadata": {
    "colab": {
     "base_uri": "https://localhost:8080/"
    },
    "id": "rZ7tniSgdtT5",
    "outputId": "944f3c0c-d1ca-4d6f-8e59-c68217a4e644"
   },
   "outputs": [
    {
     "name": "stdout",
     "output_type": "stream",
     "text": [
      "True\n",
      "False\n"
     ]
    }
   ],
   "source": [
    "# Строки переводятся в bool: все кроме '' - True\n",
    "print(bool('непустая строка'))\n",
    "print(bool(''))"
   ]
  },
  {
   "cell_type": "code",
   "execution_count": null,
   "id": "bbaaf25b-38a7-41fc-adb4-bebfa1a6bd2a",
   "metadata": {
    "colab": {
     "base_uri": "https://localhost:8080/"
    },
    "id": "FXX-JH7Ldd2o",
    "outputId": "b77d3b43-6a79-4853-eb5a-6ba067924d0b"
   },
   "outputs": [
    {
     "name": "stdout",
     "output_type": "stream",
     "text": [
      "Введите имя: \n",
      "Вы не ввели имя...\n"
     ]
    }
   ],
   "source": [
    "# Поэтому можно так:\n",
    "name = input(\"Введите имя: \")\n",
    "if name:\n",
    "    print(\"Привет, \", name)\n",
    "else:\n",
    "    print(\"Вы не ввели имя...\")"
   ]
  },
  {
   "cell_type": "markdown",
   "id": "d50e68ec-482c-4aae-98b5-df761d3ef1eb",
   "metadata": {},
   "source": [
    "А можно условия сохранять в переменные. Какой это тип данных будет?"
   ]
  },
  {
   "cell_type": "code",
   "execution_count": 2,
   "id": "a2ad1058-49fa-4496-ab78-ccac3fb2ea0f",
   "metadata": {
    "id": "KX9liTF1Io17"
   },
   "outputs": [
    {
     "name": "stdin",
     "output_type": "stream",
     "text": [
      "Введите число:  200\n"
     ]
    },
    {
     "name": "stdout",
     "output_type": "stream",
     "text": [
      "Число делится на 5 и больше 100\n"
     ]
    }
   ],
   "source": [
    "num = int(input('Введите число: '))\n",
    "\n",
    "is_num_div5_more100 = num % 5 == 0 and num > 100\n",
    "\n",
    "if is_num_div5_more100:\n",
    "    print(\"Число делится на 5 и больше 100\")  # заметьте, можно без else\n",
    "\n",
    "# Я хочу напечатать print('конец программы'). Куда это вставить?"
   ]
  },
  {
   "cell_type": "markdown",
   "id": "143f6f66-974e-4347-a930-1c0372001786",
   "metadata": {},
   "source": [
    "### Вообще-то с bool возможна арифметика!"
   ]
  },
  {
   "cell_type": "code",
   "execution_count": 10,
   "id": "5a0a03aa-6b3d-40f2-ae9f-98d956b28106",
   "metadata": {},
   "outputs": [
    {
     "name": "stdout",
     "output_type": "stream",
     "text": [
      "2\n",
      "<class 'int'>\n",
      "0\n",
      "4\n",
      "<class 'int'>\n"
     ]
    }
   ],
   "source": [
    "print(True + True)\n",
    "print(type(True + True))\n",
    "\n",
    "print(False * 4)\n",
    "print(True * 4)\n",
    "print(type(True * 4))"
   ]
  },
  {
   "cell_type": "code",
   "execution_count": 11,
   "id": "38eaee48-415d-4733-a636-d5cb46ddba5c",
   "metadata": {},
   "outputs": [
    {
     "data": {
      "text/plain": [
       "5"
      ]
     },
     "execution_count": 11,
     "metadata": {},
     "output_type": "execute_result"
    }
   ],
   "source": [
    "True + 4"
   ]
  },
  {
   "cell_type": "code",
   "execution_count": 12,
   "id": "1a3b68fc-6c11-4d9d-b976-f803de0f49c8",
   "metadata": {},
   "outputs": [
    {
     "data": {
      "text/plain": [
       "True"
      ]
     },
     "execution_count": 12,
     "metadata": {},
     "output_type": "execute_result"
    }
   ],
   "source": [
    "True == 1"
   ]
  },
  {
   "cell_type": "code",
   "execution_count": 13,
   "id": "24cc72ce-384d-4bf0-8def-2bde4e92e28c",
   "metadata": {},
   "outputs": [
    {
     "data": {
      "text/plain": [
       "False"
      ]
     },
     "execution_count": 13,
     "metadata": {},
     "output_type": "execute_result"
    }
   ],
   "source": [
    "type(True) == type(1)"
   ]
  },
  {
   "cell_type": "markdown",
   "id": "fc3eb40f-dc56-4101-8658-ffaa362b6509",
   "metadata": {},
   "source": [
    "То есть это устроенно как `int` и `float`. Типы разные, но арифметические действия производить можно.\n",
    "\n",
    "`True` - это 1, `False` - это 0"
   ]
  },
  {
   "cell_type": "markdown",
   "id": "fe7be848-7512-4bc8-88f0-b7eaaa45028c",
   "metadata": {
    "id": "uIUzqf4QfHxc"
   },
   "source": [
    "### Логические операторы\n",
    "- **and** (логическое И) возвращает истину (True), если оба условия по отдельности верны (тоже возвращают True)\n",
    "- **or** (логическое ИЛИ) вернет истину, если хотя бы одно из условий верно\n",
    "- **not** (логическое НЕТ) возьмет результат условия и “обратит” его."
   ]
  },
  {
   "cell_type": "code",
   "execution_count": null,
   "id": "a1824d06-9013-4fd1-9323-aa950f29afd2",
   "metadata": {
    "colab": {
     "base_uri": "https://localhost:8080/"
    },
    "id": "ebvckhWjfg4u",
    "outputId": "7f3b8c24-61e5-4f3f-a0fc-6746dcafe1d9",
    "scrolled": true
   },
   "outputs": [
    {
     "name": "stdout",
     "output_type": "stream",
     "text": [
      "10\n",
      "20\n",
      "Хотя бы одно число кратно 10.\n"
     ]
    }
   ],
   "source": [
    "a = int(input())\n",
    "b = int(input())\n",
    "\n",
    "if a % 10 == 0 or b % 10 == 0:\n",
    "    print('Хотя бы одно число кратно 10.')\n",
    "else:\n",
    "    print('Оба числа не кратны 10.')"
   ]
  },
  {
   "cell_type": "markdown",
   "id": "a638af0c-5dde-402a-8e53-0658ad1ebb66",
   "metadata": {},
   "source": [
    "### Тренировка\n",
    "\n",
    "**важно:** всегда, когда мы будем писать условия, мы будем делать это полностью, никаких сокращений нет.\n",
    "\n",
    "Заметьте это на примере:\n",
    "\n",
    "> **Задание**.\n",
    "> Пользователь вводит целое число. Молодая программа, делающая первые шаги в арифметике отвечает `\"это я умею считать!\"`, если это число от 1 до 20 (включительно).\n",
    "> Если это какое-то другое число, то программа выводит `\"такое я считать не умею!\"`  \n",
    "> Пример:\n",
    "> \n",
    "> ввод: `5`  \n",
    "> вывод: `это я умею считать!`\n",
    ">\n",
    "> ввод: `555`  \n",
    "> вывод: `такое я считать не умею!`\n",
    ">\n",
    "> ввод: `-15`  \n",
    "> вывод: `такое я считать не умею!`\n",
    "\n",
    "*(обратите внимание, если сказано \"целое число\", то отрицательные подойдут! Целые числа это натуральные 0, 1, ... и отрицательные -1, -2, ...)*"
   ]
  },
  {
   "cell_type": "code",
   "execution_count": 1,
   "id": "89c48647-c606-435b-8ac2-e465634a6418",
   "metadata": {},
   "outputs": [],
   "source": [
    "# ваш код"
   ]
  },
  {
   "cell_type": "markdown",
   "id": "f209a5ba-907a-4295-87b1-378eaf5a2c80",
   "metadata": {},
   "source": [
    "### Про короткое замыкание или ленность логических операторов"
   ]
  },
  {
   "cell_type": "code",
   "execution_count": 20,
   "id": "ba800b24-e854-487f-8640-86377c7ac0dd",
   "metadata": {},
   "outputs": [
    {
     "name": "stdout",
     "output_type": "stream",
     "text": [
      "Хотя бы одно условие выполнилось.\n"
     ]
    }
   ],
   "source": [
    "number = 6\n",
    "if number > 5 or number / 0 == 4:\n",
    "    print('Хотя бы одно условие выполнилось.')"
   ]
  },
  {
   "cell_type": "markdown",
   "id": "d7bc7db6-9388-47fd-b86d-e1e334ddac6f",
   "metadata": {},
   "source": [
    "На ноль делить нельзя, от этого программа ломается. Но эта программа не сломалась. Почему?\n",
    "\n",
    "Потому что она проверила первое условие, которое оказалось верным, и не стала идти дальше. (Зачем, если хотя бы одно и так уже верное.) То есть программа не проходила эту часть кода, не делила 6 на 0.\n",
    "\n",
    "А если бы дошла, сломалась бы:"
   ]
  },
  {
   "cell_type": "code",
   "execution_count": 21,
   "id": "42e740d6-9e8a-4541-b50b-fafef60636a9",
   "metadata": {},
   "outputs": [
    {
     "ename": "ZeroDivisionError",
     "evalue": "division by zero",
     "output_type": "error",
     "traceback": [
      "\u001b[0;31m---------------------------------------------------------------------------\u001b[0m",
      "\u001b[0;31mZeroDivisionError\u001b[0m                         Traceback (most recent call last)",
      "Input \u001b[0;32mIn [21]\u001b[0m, in \u001b[0;36m<cell line: 2>\u001b[0;34m()\u001b[0m\n\u001b[1;32m      1\u001b[0m number \u001b[38;5;241m=\u001b[39m \u001b[38;5;241m6\u001b[39m\n\u001b[0;32m----> 2\u001b[0m \u001b[38;5;28;01mif\u001b[39;00m number \u001b[38;5;241m<\u001b[39m \u001b[38;5;241m5\u001b[39m \u001b[38;5;129;01mor\u001b[39;00m \u001b[43mnumber\u001b[49m\u001b[43m \u001b[49m\u001b[38;5;241;43m/\u001b[39;49m\u001b[43m \u001b[49m\u001b[38;5;241;43m0\u001b[39;49m \u001b[38;5;241m==\u001b[39m \u001b[38;5;241m4\u001b[39m:\n\u001b[1;32m      3\u001b[0m     \u001b[38;5;28mprint\u001b[39m(\u001b[38;5;124m'\u001b[39m\u001b[38;5;124mХотя бы одно условие выполнилось.\u001b[39m\u001b[38;5;124m'\u001b[39m)\n",
      "\u001b[0;31mZeroDivisionError\u001b[0m: division by zero"
     ]
    }
   ],
   "source": [
    "number = 6\n",
    "if number < 5 or number / 0 == 4:\n",
    "    print('Хотя бы одно условие выполнилось.')"
   ]
  },
  {
   "cell_type": "markdown",
   "id": "6fa23009-0d82-468e-a8f5-46bbcd28cc3c",
   "metadata": {},
   "source": [
    "* `and` — истинно, когда всё-всё истинно, поэтому если встретит ЛОЖЬ, то дальше не смотрит: и так ясно, что итог ЛОЖЬ\n",
    "* `or` — истинно, когда хоть что-то истинно, поэтому если встретит ИСТИНУ, то дальше не смотрит: и так ясно, что итог ИСТИНА"
   ]
  },
  {
   "cell_type": "markdown",
   "id": "44328769-641c-4268-8a0c-e3b0c452b19e",
   "metadata": {
    "id": "2fa30d56"
   },
   "source": [
    "## While\n",
    "### повторяет инструкции до тех пор, пока условие не станет ложным\n",
    "\n",
    "Общий вид:\n",
    "```\n",
    "while <условие>:\n",
    "    <инструкции, которые повторяются, пока условие истинно (True)>\n",
    "```"
   ]
  },
  {
   "cell_type": "markdown",
   "id": "4c494860-2f8c-4ae7-9ba1-c1c3816579d1",
   "metadata": {
    "id": "212e7b5f"
   },
   "source": [
    "Пример:\n",
    "\n",
    "> Преподаватель объясняет, пока не станет понятно\n",
    "\n",
    "```\n",
    "# какой алгоритм действий?\n",
    "```"
   ]
  },
  {
   "cell_type": "code",
   "execution_count": 22,
   "id": "67f4ae90-dd2e-4274-bac6-b79005450343",
   "metadata": {
    "id": "c530671a"
   },
   "outputs": [
    {
     "name": "stdout",
     "output_type": "stream",
     "text": [
      "Понятно? ну так\n",
      "*объясняет*\n",
      "А так? хм\n",
      "*объясняет*\n",
      "А так? ммм\n",
      "*объясняет*\n",
      "А так? понятно\n",
      "ура\n"
     ]
    }
   ],
   "source": [
    "student_answer = input('Понятно? ')\n",
    "while student_answer != 'понятно':\n",
    "    print('*объясняет*')\n",
    "    student_answer = input('А так? ')  # что будет, если убрать эту строку?\n",
    "print('ура')"
   ]
  },
  {
   "cell_type": "markdown",
   "id": "6bd6184c-0060-4950-89de-63acff8709f3",
   "metadata": {
    "id": "6561368c"
   },
   "source": [
    " \\* нарисуем на доске схему \\*\n",
    " \n",
    " Понятнее ли с блок схемами?"
   ]
  },
  {
   "cell_type": "markdown",
   "id": "e02a524b-efa4-487f-9684-a84eb761dcd1",
   "metadata": {
    "id": "18a908fa"
   },
   "source": [
    "### Тренировка\n",
    "Пока есть несделанное дз, послушный ученик делает дз"
   ]
  },
  {
   "cell_type": "code",
   "execution_count": null,
   "id": "4e6abc14-cb14-4da0-8519-43e73bffcb20",
   "metadata": {},
   "outputs": [],
   "source": []
  },
  {
   "cell_type": "code",
   "execution_count": 23,
   "id": "fde7dde3-679e-4d89-bb4f-ba4040351159",
   "metadata": {},
   "outputs": [
    {
     "name": "stdout",
     "output_type": "stream",
     "text": [
      "Есть несделанное дз? да\n",
      "Делаю дз\n",
      "Есть несделанное дз? да\n",
      "Делаю дз\n",
      "Есть несделанное дз? нет\n",
      "Сделал\n"
     ]
    }
   ],
   "source": [
    "# наш код here"
   ]
  },
  {
   "cell_type": "markdown",
   "id": "75564785-dc39-4f25-b91b-1b734380f210",
   "metadata": {
    "id": "7ZH_zr26WLJr"
   },
   "source": [
    "**Обратите внимание,** цикл не выполнится **ни разу**, если условие изначально `False`. Всё логично!"
   ]
  },
  {
   "cell_type": "markdown",
   "id": "242cf503-a6d3-431c-9f2f-899ab48db621",
   "metadata": {
    "id": "62e91926"
   },
   "source": [
    "### Добавим логические выражения в условия\n",
    "(`and`, `or`, `not`)"
   ]
  },
  {
   "cell_type": "markdown",
   "id": "f16b5fb1-f01b-45be-88d5-f1651f7efa96",
   "metadata": {
    "id": "b532dd33"
   },
   "source": [
    "Непослушный ученик решил, что больше 4х домашних заданий в день делать не будет."
   ]
  },
  {
   "cell_type": "code",
   "execution_count": 24,
   "id": "76466449-c747-4fe3-a181-00dc1da9f711",
   "metadata": {
    "id": "ab0bdc09"
   },
   "outputs": [
    {
     "name": "stdout",
     "output_type": "stream",
     "text": [
      "Есть дз? да/нет да\n",
      "Делаю дз.\n",
      "Сделано дз:  1\n",
      "Есть дз? да/нет да\n",
      "Делаю дз.\n",
      "Сделано дз:  2\n",
      "Есть дз? да/нет да\n",
      "Делаю дз.\n",
      "Сделано дз:  3\n",
      "Есть дз? да/нет да\n",
      "Делаю дз.\n",
      "Сделано дз:  4\n",
      "Есть дз? да/нет да\n",
      "Закончили!\n"
     ]
    }
   ],
   "source": [
    "hw_made = 0\n",
    "have_hw = input('Есть дз? да/нет ')\n",
    "\n",
    "while have_hw == 'да' and hw_made < 4:\n",
    "    print('Делаю дз.')\n",
    "    hw_made = hw_made + 1\n",
    "    #hw_made += 1  # Это то же самое, что hw_made = hw_made + 1\n",
    "    print('Сделано дз: ', hw_made)\n",
    "    have_hw = input('Есть дз? да/нет ')\n",
    "\n",
    "print('Закончили!')"
   ]
  },
  {
   "cell_type": "markdown",
   "id": "7c698f5b-5509-4f06-b82b-141f59e14dbf",
   "metadata": {
    "id": "5fcad58a"
   },
   "source": [
    "#### Про +=\n",
    "Работает и с другими знаками:"
   ]
  },
  {
   "cell_type": "code",
   "execution_count": 25,
   "id": "bdd254ea-d82b-43a8-b3d4-de1b29c42c61",
   "metadata": {
    "id": "e7261599",
    "outputId": "864084a8-d0e3-4ed3-96fd-2958c8a71d19"
   },
   "outputs": [
    {
     "name": "stdout",
     "output_type": "stream",
     "text": [
      "до изменения 2\n",
      "после изменения 0\n",
      "до изменения 0\n",
      "после изменения -2\n",
      "до изменения -2\n",
      "после изменения -4\n",
      "до изменения -4\n",
      "после изменения -6\n",
      "до изменения -6\n",
      "после изменения -8\n",
      "до изменения -8\n",
      "после изменения -10\n"
     ]
    }
   ],
   "source": [
    "# с -=\n",
    "number = 2\n",
    "while number > -10:\n",
    "    print('до изменения', number)\n",
    "    number -=2\n",
    "    print('после изменения', number)"
   ]
  },
  {
   "cell_type": "code",
   "execution_count": 26,
   "id": "b97155dd-621a-42ba-841d-2545ff48bdc4",
   "metadata": {
    "id": "07e548c7",
    "outputId": "d89e7041-0940-4fc4-cd01-381a6e46976d"
   },
   "outputs": [
    {
     "name": "stdout",
     "output_type": "stream",
     "text": [
      "до изменения 2\n",
      "после изменения 4\n",
      "до изменения 4\n",
      "после изменения 8\n",
      "до изменения 8\n",
      "после изменения 16\n",
      "до изменения 16\n",
      "после изменения 32\n",
      "до изменения 32\n",
      "после изменения 64\n",
      "до изменения 64\n",
      "после изменения 128\n"
     ]
    }
   ],
   "source": [
    "# с *=\n",
    "number = 2\n",
    "while number < 100:\n",
    "    print('до изменения', number)\n",
    "    number *= 2\n",
    "    print('после изменения', number)"
   ]
  },
  {
   "cell_type": "code",
   "execution_count": 27,
   "id": "15c21ff8-45a1-4b18-a1a4-d17e3a231028",
   "metadata": {
    "id": "a6ecf139"
   },
   "outputs": [
    {
     "name": "stdout",
     "output_type": "stream",
     "text": [
      "до изменения 100\n",
      "после изменения 50.0\n",
      "до изменения 50.0\n",
      "после изменения 25.0\n",
      "до изменения 25.0\n",
      "после изменения 12.5\n",
      "до изменения 12.5\n",
      "после изменения 6.25\n",
      "до изменения 6.25\n",
      "после изменения 3.125\n",
      "до изменения 3.125\n",
      "после изменения 1.5625\n",
      "до изменения 1.5625\n",
      "после изменения 0.78125\n"
     ]
    }
   ],
   "source": [
    "# проверьте про /=\n",
    "number = 100\n",
    "while number > 1:\n",
    "    print('до изменения', number)\n",
    "    number /= 2\n",
    "    print('после изменения', number)"
   ]
  },
  {
   "cell_type": "markdown",
   "id": "f0998e5f-82d8-4d5b-b81d-3e95c3a6f9c8",
   "metadata": {
    "id": "89309264"
   },
   "source": [
    "### Бесконечный цикл"
   ]
  },
  {
   "cell_type": "code",
   "execution_count": 28,
   "id": "7fb76ed6-b723-4d8e-8511-4270e8e05a0b",
   "metadata": {
    "id": "d1720856"
   },
   "outputs": [
    {
     "name": "stdout",
     "output_type": "stream",
     "text": [
      "Что?\n",
      "Все говорят: \" Что? \". А ты купи слона.\n",
      "Зачем?\n",
      "Все говорят: \" Зачем? \". А ты купи слона.\n",
      "Не хочу\n",
      "Все говорят: \" Не хочу \". А ты купи слона.\n",
      "Грр\n",
      "Все говорят: \" Грр \". А ты купи слона.\n",
      "ааааа\n",
      "Все говорят: \" ааааа \". А ты купи слона.\n"
     ]
    },
    {
     "ename": "KeyboardInterrupt",
     "evalue": "Interrupted by user",
     "output_type": "error",
     "traceback": [
      "\u001b[0;31m---------------------------------------------------------------------------\u001b[0m",
      "\u001b[0;31mKeyboardInterrupt\u001b[0m                         Traceback (most recent call last)",
      "Input \u001b[0;32mIn [28]\u001b[0m, in \u001b[0;36m<cell line: 2>\u001b[0;34m()\u001b[0m\n\u001b[1;32m      1\u001b[0m \u001b[38;5;28;01mwhile\u001b[39;00m \u001b[38;5;28;01mTrue\u001b[39;00m:\n\u001b[0;32m----> 2\u001b[0m     answer \u001b[38;5;241m=\u001b[39m \u001b[38;5;28;43minput\u001b[39;49m\u001b[43m(\u001b[49m\u001b[43m)\u001b[49m\n\u001b[1;32m      3\u001b[0m     \u001b[38;5;28mprint\u001b[39m(\u001b[38;5;124m'\u001b[39m\u001b[38;5;124mВсе говорят: \u001b[39m\u001b[38;5;124m\"\u001b[39m\u001b[38;5;124m'\u001b[39m, answer, \u001b[38;5;124m'\u001b[39m\u001b[38;5;124m\"\u001b[39m\u001b[38;5;124m. А ты купи слона.\u001b[39m\u001b[38;5;124m'\u001b[39m)\n",
      "File \u001b[0;32m/usr/local/lib/python3.9/site-packages/ipykernel/kernelbase.py:1177\u001b[0m, in \u001b[0;36mKernel.raw_input\u001b[0;34m(self, prompt)\u001b[0m\n\u001b[1;32m   1173\u001b[0m \u001b[38;5;28;01mif\u001b[39;00m \u001b[38;5;129;01mnot\u001b[39;00m \u001b[38;5;28mself\u001b[39m\u001b[38;5;241m.\u001b[39m_allow_stdin:\n\u001b[1;32m   1174\u001b[0m     \u001b[38;5;28;01mraise\u001b[39;00m StdinNotImplementedError(\n\u001b[1;32m   1175\u001b[0m         \u001b[38;5;124m\"\u001b[39m\u001b[38;5;124mraw_input was called, but this frontend does not support input requests.\u001b[39m\u001b[38;5;124m\"\u001b[39m\n\u001b[1;32m   1176\u001b[0m     )\n\u001b[0;32m-> 1177\u001b[0m \u001b[38;5;28;01mreturn\u001b[39;00m \u001b[38;5;28;43mself\u001b[39;49m\u001b[38;5;241;43m.\u001b[39;49m\u001b[43m_input_request\u001b[49m\u001b[43m(\u001b[49m\n\u001b[1;32m   1178\u001b[0m \u001b[43m    \u001b[49m\u001b[38;5;28;43mstr\u001b[39;49m\u001b[43m(\u001b[49m\u001b[43mprompt\u001b[49m\u001b[43m)\u001b[49m\u001b[43m,\u001b[49m\n\u001b[1;32m   1179\u001b[0m \u001b[43m    \u001b[49m\u001b[38;5;28;43mself\u001b[39;49m\u001b[38;5;241;43m.\u001b[39;49m\u001b[43m_parent_ident\u001b[49m\u001b[43m[\u001b[49m\u001b[38;5;124;43m\"\u001b[39;49m\u001b[38;5;124;43mshell\u001b[39;49m\u001b[38;5;124;43m\"\u001b[39;49m\u001b[43m]\u001b[49m\u001b[43m,\u001b[49m\n\u001b[1;32m   1180\u001b[0m \u001b[43m    \u001b[49m\u001b[38;5;28;43mself\u001b[39;49m\u001b[38;5;241;43m.\u001b[39;49m\u001b[43mget_parent\u001b[49m\u001b[43m(\u001b[49m\u001b[38;5;124;43m\"\u001b[39;49m\u001b[38;5;124;43mshell\u001b[39;49m\u001b[38;5;124;43m\"\u001b[39;49m\u001b[43m)\u001b[49m\u001b[43m,\u001b[49m\n\u001b[1;32m   1181\u001b[0m \u001b[43m    \u001b[49m\u001b[43mpassword\u001b[49m\u001b[38;5;241;43m=\u001b[39;49m\u001b[38;5;28;43;01mFalse\u001b[39;49;00m\u001b[43m,\u001b[49m\n\u001b[1;32m   1182\u001b[0m \u001b[43m\u001b[49m\u001b[43m)\u001b[49m\n",
      "File \u001b[0;32m/usr/local/lib/python3.9/site-packages/ipykernel/kernelbase.py:1219\u001b[0m, in \u001b[0;36mKernel._input_request\u001b[0;34m(self, prompt, ident, parent, password)\u001b[0m\n\u001b[1;32m   1216\u001b[0m             \u001b[38;5;28;01mbreak\u001b[39;00m\n\u001b[1;32m   1217\u001b[0m \u001b[38;5;28;01mexcept\u001b[39;00m \u001b[38;5;167;01mKeyboardInterrupt\u001b[39;00m:\n\u001b[1;32m   1218\u001b[0m     \u001b[38;5;66;03m# re-raise KeyboardInterrupt, to truncate traceback\u001b[39;00m\n\u001b[0;32m-> 1219\u001b[0m     \u001b[38;5;28;01mraise\u001b[39;00m \u001b[38;5;167;01mKeyboardInterrupt\u001b[39;00m(\u001b[38;5;124m\"\u001b[39m\u001b[38;5;124mInterrupted by user\u001b[39m\u001b[38;5;124m\"\u001b[39m) \u001b[38;5;28;01mfrom\u001b[39;00m \u001b[38;5;28mNone\u001b[39m\n\u001b[1;32m   1220\u001b[0m \u001b[38;5;28;01mexcept\u001b[39;00m \u001b[38;5;167;01mException\u001b[39;00m:\n\u001b[1;32m   1221\u001b[0m     \u001b[38;5;28mself\u001b[39m\u001b[38;5;241m.\u001b[39mlog\u001b[38;5;241m.\u001b[39mwarning(\u001b[38;5;124m\"\u001b[39m\u001b[38;5;124mInvalid Message:\u001b[39m\u001b[38;5;124m\"\u001b[39m, exc_info\u001b[38;5;241m=\u001b[39m\u001b[38;5;28;01mTrue\u001b[39;00m)\n",
      "\u001b[0;31mKeyboardInterrupt\u001b[0m: Interrupted by user"
     ]
    }
   ],
   "source": [
    "while True:\n",
    "    answer = input()\n",
    "    print('Все говорят: \"', answer, '\". А ты купи слона.')"
   ]
  },
  {
   "cell_type": "markdown",
   "id": "757d4dc2-8f39-41d5-8a42-73c1cd93a7fc",
   "metadata": {
    "id": "5ec6aa76"
   },
   "source": [
    "### break - выйти из цикла"
   ]
  },
  {
   "cell_type": "code",
   "execution_count": 30,
   "id": "5ff80f17-4f5d-4088-a1dd-57ded3ffdc0a",
   "metadata": {
    "colab": {
     "base_uri": "https://localhost:8080/"
    },
    "id": "b57b67c8",
    "outputId": "47964244-10b1-4573-fea4-a9f609b9fb10"
   },
   "outputs": [
    {
     "name": "stdout",
     "output_type": "stream",
     "text": [
      "Что?\n",
      "Все говорят: \"Что?\". А ты купи слона.\n",
      "Опять?\n",
      "Все говорят: \"Опять?\". А ты купи слона.\n",
      "А ты купи бегемота.\n"
     ]
    }
   ],
   "source": [
    "while True:\n",
    "    answer = input()\n",
    "    if answer == \"А ты купи бегемота.\":\n",
    "        break\n",
    "    print('Все говорят: \"', answer, '\". А ты купи слона.', sep=\"\")\n",
    "    # Обратите внимание, между сущностями теперь нет пробела, потому что разделитель (separator) = ''\n",
    "    \n",
    "# попробуем написать что-то до break и после break"
   ]
  },
  {
   "cell_type": "markdown",
   "id": "92b04f6d-521a-44e0-b24a-d832439790a2",
   "metadata": {
    "id": "DXS7xH2Ya4qw"
   },
   "source": [
    "**Обратите внимание** на новую запись: `print(..., sep=\"\")`.\n",
    "\n",
    "Встроенная функция `print`, может принимать также аргумент `sep`, а его значение мы запишем через знак равно `=` (один знак! Мы никаких условий не проверяем, а как бы присваиваем).\n",
    "\n",
    "Здесь мы передаём его с пустой строкой, и выходит, что вокруг `answer` нет пробелов. Этот аргумент отвечает за **разделитель между обычными аргументами функции `print`**. Эти обычные аргументы называют **позиционными**. Почему мы не пишем всегда `sep=<что-то>`? Потому что этот аргумент имеет значение по умолчанию и оно и есть пробел `\" \"`. Такие аргументы называются **аргументами по умолчанию** или **именованными аргументами**.\n",
    "\n"
   ]
  },
  {
   "cell_type": "markdown",
   "id": "c8a24562-1f07-4500-b16a-4c551faf444a",
   "metadata": {
    "id": "Gn-hgBMAd6gl"
   },
   "source": [
    "`sep=` это как бы часть (определения) функции, часть её записи, синтаксиса, поэтому ничего не мешает назвать переменную sep и передать её как значение именованного аргумента `sep=`\n",
    "\n",
    "```\n",
    "sep = \"|\"\n",
    "print(\"wow1\", \"wow2\", sep=sep)\n",
    "```\n",
    "\n"
   ]
  },
  {
   "cell_type": "code",
   "execution_count": 31,
   "id": "cebf94a5-4753-4c24-aee8-0a0b8484b027",
   "metadata": {
    "colab": {
     "base_uri": "https://localhost:8080/"
    },
    "id": "wu-8qbNueA0O",
    "outputId": "16c039fa-fc2d-4777-97c9-c5ad2e161285"
   },
   "outputs": [
    {
     "name": "stdout",
     "output_type": "stream",
     "text": [
      "Введите разделитель для печати строчки:  хихи \n",
      "Привет! хихи Ой! хихи Меня... хихи разделили\n"
     ]
    }
   ],
   "source": [
    "sep = input(\"Введите разделитель для печати строчки: \")\n",
    "\n",
    "w1 = \"Привет!\"\n",
    "w2 = \"Ой!\"\n",
    "w3 = \"Меня...\"\n",
    "w4 = \"разделили\"\n",
    "\n",
    "print(w1, w2, w3, w4, sep=sep)"
   ]
  },
  {
   "cell_type": "markdown",
   "id": "e3acd8dd-1fd9-4598-a7ba-a095d9b8f835",
   "metadata": {
    "id": "15e10144"
   },
   "source": [
    "### Тренировка\n",
    "В программе для послушного ученика дважды встречается `have_hw = input('Есть дз? да/нет ')`\n",
    "\n",
    "Повторов кода следует избегать.\n",
    "\n",
    "Исправьте программу, используя `while True`"
   ]
  },
  {
   "cell_type": "code",
   "execution_count": 32,
   "id": "d487df0b-5dc0-4ded-9322-9d08b86c6d4e",
   "metadata": {
    "id": "d7b62716"
   },
   "outputs": [
    {
     "name": "stdout",
     "output_type": "stream",
     "text": [
      "Есть несделанное дз? да\n",
      "Делаю дз\n",
      "Есть несделанное дз? да\n",
      "Делаю дз\n",
      "Есть несделанное дз? нет\n",
      "Сделал\n"
     ]
    }
   ],
   "source": [
    "while True:\n",
    "    have_hw = input('Есть несделанное дз? ')\n",
    "    if have_hw == 'да':\n",
    "        print('Делаю дз')\n",
    "    else:\n",
    "        print('Сделал')\n",
    "        break    "
   ]
  },
  {
   "cell_type": "markdown",
   "id": "e8decbbf-033d-4cb9-b43f-0d19e78989aa",
   "metadata": {
    "id": "87669944"
   },
   "source": [
    "### Добавим другое вложенное условие\n",
    "Напечатаем все числа от 0 до 100, которые кратны семи (делятся на 7 без остатка)"
   ]
  },
  {
   "cell_type": "code",
   "execution_count": 33,
   "id": "6b361add-e1fa-4b04-9ef3-a2ff05c5a38e",
   "metadata": {
    "id": "fcbcf6f4"
   },
   "outputs": [
    {
     "name": "stdout",
     "output_type": "stream",
     "text": [
      "0\n",
      "7\n",
      "14\n",
      "21\n",
      "28\n",
      "35\n",
      "42\n",
      "49\n",
      "56\n",
      "63\n",
      "70\n",
      "77\n",
      "84\n",
      "91\n",
      "98\n"
     ]
    }
   ],
   "source": [
    "number = 0\n",
    "while True:\n",
    "    if number % 7 == 0:\n",
    "        print(number)\n",
    "    number += 1\n",
    "    if number == 100:\n",
    "        break"
   ]
  },
  {
   "cell_type": "markdown",
   "id": "b98f991e-8f2a-4d29-8894-870a940992ab",
   "metadata": {},
   "source": [
    "### Тренировка\n",
    "\n",
    "> **Задание**.\n",
    "> Программа предлагает пользователь ввести два целых числа `\"введите два числа \"`. Программа выводит `\"это я умею складывать!\"`, если это число от 1 до 20 (включительно).\n",
    "> Если это какое-то другое число, то программа выводит `\"такое я складывать не умею!\"` и предлагает ввести числа заново.\n",
    "> Если результат вычисления не находится в промежутке от 1 до 20, то программа ругается: `\"меня не обманешь, этого я не умею!\"` и предлагает ввести числа заново. Иначе программа выдаёт ответ.\n",
    "> Программа завершается, когда сами числа и результат сложения входят в диапазон от 1 до 20 и программа выдала ответ.\n",
    "> \n",
    "> Пример (ввод пользователя приведён после \">>>\"):\n",
    "> \n",
    "> `введите два числа`  \n",
    "> \\>>> `5`   \n",
    "> \\>>> `6`  \n",
    "> `это я умею складывать!`  \n",
    "> `11`\n",
    ">\n",
    "> `введите два числа`    \n",
    "> \\>>> `555`  \n",
    "> \\>>> `1000`    \n",
    "> `такое я считать не умею!`  \n",
    "> `введите два числа`   \n",
    "> \\>>> `19`  \n",
    "> \\>>> `18`  \n",
    "> `меня не обманешь, этого я не умею!`  \n",
    "> \\>>> `10`  \n",
    "> \\>>> `9`  \n",
    "> `это я умею складывать!`  \n",
    "> `19`\n"
   ]
  },
  {
   "cell_type": "markdown",
   "id": "b255400a-8df3-417c-b030-04a5dc3f9aa8",
   "metadata": {
    "id": "70fe2780"
   },
   "source": [
    "### Напечатаем таблицу умножения\n",
    "\n",
    "Подсказка: можно делать цикл в цикле"
   ]
  },
  {
   "cell_type": "markdown",
   "id": "b3dbb15b-c3d0-47de-a6c1-52e5e41aa417",
   "metadata": {
    "id": "ec3e3e02"
   },
   "source": [
    "***Размышления о программировании:***\n",
    "\n",
    "Можно писать код не построчно от начала до конца. Сделайте кусочек, а потом его дорабатывайте."
   ]
  },
  {
   "cell_type": "code",
   "execution_count": 34,
   "id": "6fe884bf-016b-4e52-9ea5-706dcb7c3c7e",
   "metadata": {},
   "outputs": [
    {
     "name": "stdout",
     "output_type": "stream",
     "text": [
      "1\n",
      "2\n",
      "3\n",
      "4\n",
      "5\n",
      "6\n",
      "7\n",
      "8\n",
      "9\n"
     ]
    }
   ],
   "source": [
    "# Давайте просто выведем числа, на которые мы будем умножать на два. (первый столбик таблицы)\n",
    "multipl = 1\n",
    "while multipl < 10:\n",
    "    print(multipl)\n",
    "    multipl += 1"
   ]
  },
  {
   "cell_type": "code",
   "execution_count": 35,
   "id": "0c01306c-bde8-4c0b-b607-c3bf318d312b",
   "metadata": {
    "id": "885bccbb"
   },
   "outputs": [
    {
     "name": "stdout",
     "output_type": "stream",
     "text": [
      "2 * 1 = 2\n",
      "2 * 2 = 4\n",
      "2 * 3 = 6\n",
      "2 * 4 = 8\n",
      "2 * 5 = 10\n",
      "2 * 6 = 12\n",
      "2 * 7 = 14\n",
      "2 * 8 = 16\n",
      "2 * 9 = 18\n"
     ]
    }
   ],
   "source": [
    "# Теперь мы можем печать не числа 1-9, а результат их умножения на 2\n",
    "number = 2\n",
    "multipl = 1\n",
    "while multipl < 10:\n",
    "    print(number, '*', multipl, '=', number*multipl)\n",
    "    multipl += 1"
   ]
  },
  {
   "cell_type": "code",
   "execution_count": 36,
   "id": "c69b51d6-13d4-4239-ba2f-44f15015576e",
   "metadata": {},
   "outputs": [
    {
     "name": "stdout",
     "output_type": "stream",
     "text": [
      "2 * 1 = 2\n",
      "2 * 2 = 4\n",
      "2 * 3 = 6\n",
      "2 * 4 = 8\n",
      "2 * 5 = 10\n",
      "2 * 6 = 12\n",
      "2 * 7 = 14\n",
      "2 * 8 = 16\n",
      "2 * 9 = 18\n",
      "\n",
      "3 * 1 = 3\n",
      "3 * 2 = 6\n",
      "3 * 3 = 9\n",
      "3 * 4 = 12\n",
      "3 * 5 = 15\n",
      "3 * 6 = 18\n",
      "3 * 7 = 21\n",
      "3 * 8 = 24\n",
      "3 * 9 = 27\n",
      "\n",
      "4 * 1 = 4\n",
      "4 * 2 = 8\n",
      "4 * 3 = 12\n",
      "4 * 4 = 16\n",
      "4 * 5 = 20\n",
      "4 * 6 = 24\n",
      "4 * 7 = 28\n",
      "4 * 8 = 32\n",
      "4 * 9 = 36\n",
      "\n",
      "5 * 1 = 5\n",
      "5 * 2 = 10\n",
      "5 * 3 = 15\n",
      "5 * 4 = 20\n",
      "5 * 5 = 25\n",
      "5 * 6 = 30\n",
      "5 * 7 = 35\n",
      "5 * 8 = 40\n",
      "5 * 9 = 45\n",
      "\n",
      "6 * 1 = 6\n",
      "6 * 2 = 12\n",
      "6 * 3 = 18\n",
      "6 * 4 = 24\n",
      "6 * 5 = 30\n",
      "6 * 6 = 36\n",
      "6 * 7 = 42\n",
      "6 * 8 = 48\n",
      "6 * 9 = 54\n",
      "\n",
      "7 * 1 = 7\n",
      "7 * 2 = 14\n",
      "7 * 3 = 21\n",
      "7 * 4 = 28\n",
      "7 * 5 = 35\n",
      "7 * 6 = 42\n",
      "7 * 7 = 49\n",
      "7 * 8 = 56\n",
      "7 * 9 = 63\n",
      "\n",
      "8 * 1 = 8\n",
      "8 * 2 = 16\n",
      "8 * 3 = 24\n",
      "8 * 4 = 32\n",
      "8 * 5 = 40\n",
      "8 * 6 = 48\n",
      "8 * 7 = 56\n",
      "8 * 8 = 64\n",
      "8 * 9 = 72\n",
      "\n",
      "9 * 1 = 9\n",
      "9 * 2 = 18\n",
      "9 * 3 = 27\n",
      "9 * 4 = 36\n",
      "9 * 5 = 45\n",
      "9 * 6 = 54\n",
      "9 * 7 = 63\n",
      "9 * 8 = 72\n",
      "9 * 9 = 81\n",
      "\n"
     ]
    }
   ],
   "source": [
    "# Но мы хотим умножение не только на 2, а на 2, 3, 4, 5 ... 9\n",
    "# Мы умеем получать 2-9 по порядку (делали это две ячейки назад)\n",
    "# Теперь с каждым полученным так числом мы будем делать столбик умножения\n",
    "# (как мы это делали для двойки ячейку назад)\n",
    "# Нам нужен цикл внутри цикла\n",
    "\n",
    "number = 2\n",
    "multipl = 1\n",
    "while number < 10:\n",
    "    multipl = 1\n",
    "    while multipl < 10:\n",
    "        print(number, '*', multipl, '=', number*multipl)\n",
    "        multipl += 1\n",
    "    number += 1\n",
    "    print()"
   ]
  }
 ],
 "metadata": {
  "kernelspec": {
   "display_name": "dataan",
   "language": "python",
   "name": "dataan"
  },
  "language_info": {
   "codemirror_mode": {
    "name": "ipython",
    "version": 3
   },
   "file_extension": ".py",
   "mimetype": "text/x-python",
   "name": "python",
   "nbconvert_exporter": "python",
   "pygments_lexer": "ipython3",
   "version": "3.11.3"
  }
 },
 "nbformat": 4,
 "nbformat_minor": 5
}
