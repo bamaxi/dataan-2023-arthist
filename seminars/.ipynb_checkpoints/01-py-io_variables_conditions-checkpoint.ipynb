{
 "cells": [
  {
   "cell_type": "markdown",
   "id": "3b37af43-8c87-455c-80bb-c1ae5eaf3459",
   "metadata": {},
   "source": [
    "# Изучение или повторение python"
   ]
  },
  {
   "cell_type": "markdown",
   "id": "488c9c96-f36d-421d-829a-12d3e86dc94d",
   "metadata": {},
   "source": [
    "## На что вы смотрите и что видите"
   ]
  },
  {
   "cell_type": "markdown",
   "id": "3963d70a-c272-4f3c-b386-b6c5a2124530",
   "metadata": {},
   "source": [
    "Вы видите тетрадку, где бок о бок с кодом на `python` есть и просто текст-текст. Это удобно, всё рядом, код можно обширно пояснять.\n",
    "\n",
    "\n",
    "Сами по себе тетрадки это просто вот этот сохранённый текст и код на языке `python` (который вообще-то тоже текст, как мы помним!). Но сейчас они у нас в чём-то открыты, будь то `GitHub`, `Google Colab`, `Jupyter` или что-то ещё. Тогда они ещё довольно красиво оформлены (с разными шрифтами для текста и кода, серым фоном для кода и т.д.). Т.е. красивое представление тетрадок и возможность запускать код даются не ими самими, а программами, где мы их открываем. (так же как и просто с кодом, [см. выше!!](#run)) \n",
    "\n",
    "Они имеют расширение `.ipynb`. "
   ]
  },
  {
   "cell_type": "markdown",
   "id": "ca174a1a-6fc6-4152-b7c4-8c1697fe2bdf",
   "metadata": {},
   "source": [
    "## Первый код \n",
    "<a name=\"first-code\"></a>"
   ]
  },
  {
   "cell_type": "markdown",
   "id": "e4dffd45-f908-4b07-8709-e7d209e2d30c",
   "metadata": {},
   "source": [
    "Первое, что обычно делают при знакомстве с языком программирования это печатают `\"Привет, мир!\"`.\n",
    "Не будем отступать от традиции. Вот так это выглядит на языке python: "
   ]
  },
  {
   "cell_type": "code",
   "execution_count": 58,
   "id": "97838589-cfcf-4bd3-beea-410a7b9e5cf9",
   "metadata": {
    "colab": {
     "base_uri": "https://localhost:8080/"
    },
    "executionInfo": {
     "elapsed": 269,
     "status": "ok",
     "timestamp": 1671703867759,
     "user": {
      "displayName": "Татьяна Казакова",
      "userId": "07828874048466328312"
     },
     "user_tz": -180
    },
    "id": "V3YUiQHcADaC",
    "outputId": "2c810481-3da4-46a6-c28e-e67de127aab5"
   },
   "outputs": [
    {
     "name": "stdout",
     "output_type": "stream",
     "text": [
      "Hello, world!\n"
     ]
    }
   ],
   "source": [
    "print('Hello, world!')"
   ]
  },
  {
   "cell_type": "markdown",
   "id": "39d71dd9-804b-4df1-b1dd-6dbe0bfd10b2",
   "metadata": {},
   "source": [
    "Заметьте, как `Hello, world!` распечаталось под ячейкой с кодом! Это **вывод ячейки**."
   ]
  },
  {
   "cell_type": "markdown",
   "id": "bf4c6cbb-f958-4e42-94e7-8ac32f292d13",
   "metadata": {},
   "source": [
    "Ну, выглядит как будто несложно: мы даём команду `печатать` — `print`\n",
    "    (в языках программирования обычно используются английские слова и сокращения от них),\n",
    "    и пишем что печатать — строчку `'Hello, world!'`.\n",
    "    \n",
    "Но вообще происходит тут немало! Команда `print` это функция. Функции выполняют какое-то предопределённое действие с тем, с чем их попросят, — **со своими аргументами**.\n",
    "Функция `print` печатает, а выполнить это действие мы попросили со строкой `Hello, world!`. То, что мы просим функцию выполнить действие, вызываем её показано круглыми скобками `(...)`. Именно внутри скобок пишут **аргументы**.\n",
    "\n",
    "Строка это набор символов и записываются строки просто между кавычками, одинарными `'`, как выше, или двойными `\"`. Можно использовать одинарные, или двойные, как больше нравится. Главное чтобы набор символов с двух сторон охватывался одинаковыми кавычками: `'Hello, world!'` или `\"Hello, world!\"`."
   ]
  },
  {
   "cell_type": "markdown",
   "id": "0b54b7b8-4417-46f9-9f5f-2b51d7fe0b2d",
   "metadata": {},
   "source": [
    "Распечатайте в ячейке ниже `And bonsoir, art!`. "
   ]
  },
  {
   "cell_type": "code",
   "execution_count": 65,
   "id": "8473ac3a-c73d-46a1-a709-3b9ad481df96",
   "metadata": {},
   "outputs": [],
   "source": [
    "# Ваш код здесь, результат должен быть как в ячейке ниже.\n"
   ]
  },
  {
   "cell_type": "code",
   "execution_count": 1,
   "id": "63da7a4f-6b31-43d4-8a45-04cd649452dd",
   "metadata": {},
   "outputs": [
    {
     "name": "stdout",
     "output_type": "stream",
     "text": [
      "And bonsoir, art!\n"
     ]
    }
   ],
   "source": [
    "# Ваш код здесь\n"
   ]
  },
  {
   "cell_type": "markdown",
   "id": "26cc0f43-04e6-401e-97ba-7c5092b7894f",
   "metadata": {},
   "source": [
    "## Переменные\n",
    "\n",
    "*What's in a name?*"
   ]
  },
  {
   "cell_type": "markdown",
   "id": "9a3b8206-da78-4cfc-9205-4ddfe6a2f470",
   "metadata": {},
   "source": [
    "Если мы хотим взять что-то и использовать это не сразу, а потом, может даже несколько раз, то нам нужно это что-то **назвать**. \n",
    "\n",
    "\n",
    "Ниже мы создаём переменную, название для числа 5. Это название `a`. Переменная `a` теперь равна пяти."
   ]
  },
  {
   "cell_type": "code",
   "execution_count": 4,
   "id": "f7f10e50-e144-404e-abc2-1eefd35cda01",
   "metadata": {
    "colab": {
     "base_uri": "https://localhost:8080/"
    },
    "executionInfo": {
     "elapsed": 6,
     "status": "ok",
     "timestamp": 1673585909480,
     "user": {
      "displayName": "Татьяна Казакова",
      "userId": "07828874048466328312"
     },
     "user_tz": -180
    },
    "id": "6bj8FZH4_gVO",
    "outputId": "7fbf5ab1-a77f-4070-880e-47eec59e8943"
   },
   "outputs": [
    {
     "name": "stdout",
     "output_type": "stream",
     "text": [
      "5\n"
     ]
    }
   ],
   "source": [
    "a = 5\n",
    "print(a)"
   ]
  },
  {
   "cell_type": "markdown",
   "id": "69d9b8dc-d997-4e84-ae89-a0d110204475",
   "metadata": {},
   "source": [
    "**Обратите внимание!** Чуть раньше мы печатали строку `\"Hello, world!\"` и прямо передавали эту строку как аргумент в функцию `print`. Здесь же мы передаём штуку другого характера: переменную `a`. Функция выяснит значение переменной и сработает с этим значением."
   ]
  },
  {
   "cell_type": "code",
   "execution_count": 5,
   "id": "b9ede14d-0ab0-4266-ad97-ecd420035551",
   "metadata": {
    "colab": {
     "base_uri": "https://localhost:8080/"
    },
    "executionInfo": {
     "elapsed": 294,
     "status": "ok",
     "timestamp": 1673585911577,
     "user": {
      "displayName": "Татьяна Казакова",
      "userId": "07828874048466328312"
     },
     "user_tz": -180
    },
    "id": "aZHh1sIoDz0N",
    "outputId": "4d68c2b6-7bd1-44f7-86e8-efaa8c04a21d"
   },
   "outputs": [
    {
     "name": "stdout",
     "output_type": "stream",
     "text": [
      "12\n",
      "12\n"
     ]
    }
   ],
   "source": [
    "b = 7\n",
    "c =  a + b\n",
    "print(c)\n",
    "print(a + b)"
   ]
  },
  {
   "cell_type": "markdown",
   "id": "42db4162-3c78-46ee-9c60-b5932fe15ae9",
   "metadata": {},
   "source": [
    "**Обратите внимание! [2]** Теперь мы вообще передали в функцию арифметическое выражение. Так можно! Точно как с переменными: выражение посчитается и функция сработает с результатом этого выражения."
   ]
  },
  {
   "cell_type": "code",
   "execution_count": 6,
   "id": "a4683149-ccd1-4d42-b9c2-d81607297c28",
   "metadata": {
    "colab": {
     "base_uri": "https://localhost:8080/"
    },
    "executionInfo": {
     "elapsed": 257,
     "status": "ok",
     "timestamp": 1673585990217,
     "user": {
      "displayName": "Татьяна Казакова",
      "userId": "07828874048466328312"
     },
     "user_tz": -180
    },
    "id": "B26POrIfELei",
    "outputId": "41b201c2-ef77-4752-8a41-3872d22c7cba"
   },
   "outputs": [
    {
     "name": "stdout",
     "output_type": "stream",
     "text": [
      "a + b = 12\n",
      "3.3333333333333335\n"
     ]
    }
   ],
   "source": [
    "print(\"a + b =\", c)  # Можно указать через запятую несколько сущностей для печати\n",
    "print(10 / 3)  # Комментарии можно писать после решётки\n",
    "# В дробях точка"
   ]
  },
  {
   "cell_type": "code",
   "execution_count": 7,
   "id": "ae653c23-345b-4c7d-82da-e631b83aa873",
   "metadata": {
    "colab": {
     "base_uri": "https://localhost:8080/",
     "height": 130
    },
    "executionInfo": {
     "elapsed": 238,
     "status": "error",
     "timestamp": 1671704030039,
     "user": {
      "displayName": "Татьяна Казакова",
      "userId": "07828874048466328312"
     },
     "user_tz": -180
    },
    "id": "2YMoCqv4G1yt",
    "outputId": "d1fd8011-d5a9-4bc7-8c69-838e4b253f94"
   },
   "outputs": [
    {
     "ename": "SyntaxError",
     "evalue": "invalid syntax (1379360594.py, line 1)",
     "output_type": "error",
     "traceback": [
      "\u001b[1;36m  Cell \u001b[1;32mIn[7], line 1\u001b[1;36m\u001b[0m\n\u001b[1;33m    А без решётки не код ломает программу.\u001b[0m\n\u001b[1;37m      ^\u001b[0m\n\u001b[1;31mSyntaxError\u001b[0m\u001b[1;31m:\u001b[0m invalid syntax\n"
     ]
    }
   ],
   "source": [
    "А без решётки не код ломает программу.\n",
    "print('работает')"
   ]
  },
  {
   "cell_type": "markdown",
   "id": "b13e8576-bdcf-4053-a3c9-4695185f9da2",
   "metadata": {},
   "source": [
    "Мы получили ошибку `SyntaxError`. Ошибки бывают разных видов, обычно в них написано что-то полезное, что поможет исправить нашу программу."
   ]
  },
  {
   "cell_type": "markdown",
   "id": "71386fa2-ee34-48dc-9ffc-bcfdffdfd61c",
   "metadata": {
    "id": "q1rOUkp5aaAI"
   },
   "source": [
    "## Математические операторы\n",
    "`+ - * / =` , а ещё есть остаток от деления (`%`), целая часть при делении (`//`), возведение в степень (`**`)\n",
    "\n",
    "Каждое выражение с новой строки.\n",
    "\n",
    "Порядок действий привычный."
   ]
  },
  {
   "cell_type": "code",
   "execution_count": 1,
   "id": "32f551f0-2ec2-425a-83ab-5f6bcc8da382",
   "metadata": {
    "colab": {
     "base_uri": "https://localhost:8080/"
    },
    "executionInfo": {
     "elapsed": 7,
     "status": "ok",
     "timestamp": 1673702235344,
     "user": {
      "displayName": "Татьяна Казакова",
      "userId": "07828874048466328312"
     },
     "user_tz": -180
    },
    "id": "Sz4rMo5AauBb",
    "outputId": "137c7602-7c65-423b-b294-5d57d6d9bc60"
   },
   "outputs": [
    {
     "name": "stdout",
     "output_type": "stream",
     "text": [
      "6\n",
      "8\n"
     ]
    }
   ],
   "source": [
    "print(2 + 2 * 2)  # = 6\n",
    "print((2 + 2) * 2)  # = 8"
   ]
  },
  {
   "cell_type": "markdown",
   "id": "97d3d5c5-5cb9-4c2f-add3-1f93d94e6805",
   "metadata": {
    "id": "WU65rD42dP8Q"
   },
   "source": [
    "В десятичных дробях точка `.` (не запятая `,`). Так принято в англоязычном мире."
   ]
  },
  {
   "cell_type": "code",
   "execution_count": 70,
   "id": "782ad2e1-3866-4463-995f-b33b87561c07",
   "metadata": {
    "id": "ORuiWD0MagmT"
   },
   "outputs": [
    {
     "name": "stdout",
     "output_type": "stream",
     "text": [
      "3.3333333333333335\n"
     ]
    }
   ],
   "source": [
    "print(10 / 3)"
   ]
  },
  {
   "cell_type": "markdown",
   "id": "f12ec09c-7366-44a7-89dd-3471b3261d4b",
   "metadata": {},
   "source": [
    "Обратите внимание, что `10 / 3` должно бы быть 3.(3) - три целых три в периоде. Но тут в конце почему-то `5`. Возможно дело в несовершенном хранении в компьютере дробных чисел"
   ]
  },
  {
   "cell_type": "code",
   "execution_count": 74,
   "id": "35d3d444-e6a0-46f8-b27e-477bab5098d0",
   "metadata": {},
   "outputs": [
    {
     "name": "stdout",
     "output_type": "stream",
     "text": [
      "1.1111111111111112\n"
     ]
    }
   ],
   "source": [
    "print(10/9)"
   ]
  },
  {
   "cell_type": "code",
   "execution_count": 2,
   "id": "d34d4650-bdee-4bc7-9d77-cecfea50978e",
   "metadata": {},
   "outputs": [
    {
     "ename": "ZeroDivisionError",
     "evalue": "division by zero",
     "output_type": "error",
     "traceback": [
      "\u001b[1;31m---------------------------------------------------------------------------\u001b[0m",
      "\u001b[1;31mZeroDivisionError\u001b[0m                         Traceback (most recent call last)",
      "Cell \u001b[1;32mIn[2], line 1\u001b[0m\n\u001b[1;32m----> 1\u001b[0m \u001b[38;5;241;43m10\u001b[39;49m\u001b[38;5;241;43m/\u001b[39;49m\u001b[38;5;241;43m0\u001b[39;49m\n",
      "\u001b[1;31mZeroDivisionError\u001b[0m: division by zero"
     ]
    }
   ],
   "source": [
    "10/0"
   ]
  },
  {
   "cell_type": "markdown",
   "id": "b011038d-e1a9-42c3-9a50-daf5d5acecd3",
   "metadata": {},
   "source": [
    "Оказывается, делить на ноль нельзя!\n"
   ]
  },
  {
   "cell_type": "markdown",
   "id": "109fa095-18e0-47bd-b7ae-54a22801beed",
   "metadata": {
    "id": "P7J3Ls9rdcTm"
   },
   "source": [
    "Посмотрим на менее известные операции"
   ]
  },
  {
   "cell_type": "code",
   "execution_count": 80,
   "id": "f6a52ffb-e1da-4497-aa44-8e9626f4c774",
   "metadata": {
    "colab": {
     "base_uri": "https://localhost:8080/"
    },
    "executionInfo": {
     "elapsed": 271,
     "status": "ok",
     "timestamp": 1671704071512,
     "user": {
      "displayName": "Татьяна Казакова",
      "userId": "07828874048466328312"
     },
     "user_tz": -180
    },
    "id": "FAH3q1XEgrWY",
    "outputId": "f46b3f97-97a3-4b49-ad56-aab73dacd41e"
   },
   "outputs": [
    {
     "data": {
      "text/plain": [
       "125"
      ]
     },
     "execution_count": 80,
     "metadata": {},
     "output_type": "execute_result"
    }
   ],
   "source": [
    "5 % 2  # 1 - остаток от деления (5 = 2 * 2 + 1)\n",
    "5 // 2  # 2 - целая часть       (5 = 2 * 2 + 1)\n",
    "5 ** 3  # 125 - возведение в степень\n",
    "# В таких тетрадках с кодом выводится последнее действие"
   ]
  },
  {
   "cell_type": "markdown",
   "id": "e83428f7-1050-42b3-ab2a-b7e8c69dbf02",
   "metadata": {
    "id": "3v4mThqMdkzV"
   },
   "source": [
    "Произвели три действия, а вывелось одно число.\n",
    "\n",
    "Потому что в .ipynb тетрадках выводится последнее действие в ячейке, даже если не просить его напечатать.\n",
    "\n",
    "Если нужно напечать конкретное действие или переменную, используем print()"
   ]
  },
  {
   "cell_type": "code",
   "execution_count": 81,
   "id": "7cb08019-c266-46fe-801f-586e6d294caf",
   "metadata": {
    "colab": {
     "base_uri": "https://localhost:8080/"
    },
    "executionInfo": {
     "elapsed": 253,
     "status": "ok",
     "timestamp": 1673586271653,
     "user": {
      "displayName": "Татьяна Казакова",
      "userId": "07828874048466328312"
     },
     "user_tz": -180
    },
    "id": "9QG4lbMpg1bz",
    "outputId": "d7da0549-2113-497a-ae8f-25d63344b653"
   },
   "outputs": [
    {
     "name": "stdout",
     "output_type": "stream",
     "text": [
      "1\n",
      "2\n",
      "125\n"
     ]
    }
   ],
   "source": [
    "print(5 % 2)\n",
    "print(5 // 2)\n",
    "print(5 ** 3)"
   ]
  },
  {
   "cell_type": "markdown",
   "id": "8c7157a8-3abd-4ab9-8b70-c734091d0cea",
   "metadata": {},
   "source": [
    "> Посчитайте значения выражений. Ожидаемы ли результаты?\n",
    "\n",
    "1. `2 + 2 * 2`\n",
    "2. `2 + (2 * 2)`\n",
    "3. `(2 + 2) * 2`\n",
    "4. `3 * 2 ** 2`\n",
    "5. `(3 * 2) ** 2`\n",
    "6. `3 * (2 ** 2)`\n",
    "7. `8 * -4`\n",
    "8. `8 * (-4)`"
   ]
  },
  {
   "cell_type": "markdown",
   "id": "af75a2b2-ecd9-4cd5-bfbc-a28b665e6902",
   "metadata": {
    "id": "SoK-wluUQGcv"
   },
   "source": [
    "## Типы данных\n",
    "\n",
    "Есть разные объекты: числа, строки с текстом, разные виды коллекций (списки, словари и т.д.)\n",
    "\n",
    "Посмотрим на 3 типа данных:\n",
    "- целые числа\n",
    "- десятичные дроби (числа с точкой)\n",
    "- строки"
   ]
  },
  {
   "cell_type": "code",
   "execution_count": 19,
   "id": "96b25fa9-cd00-43e8-9e23-c7eb187ac213",
   "metadata": {
    "executionInfo": {
     "elapsed": 229,
     "status": "ok",
     "timestamp": 1673654596307,
     "user": {
      "displayName": "Татьяна Казакова",
      "userId": "07828874048466328312"
     },
     "user_tz": -180
    },
    "id": "HNUeavR9QFbR"
   },
   "outputs": [],
   "source": [
    "number = 324  # целое число\n",
    "number_float = 324.52 # число \"с плавающей точкой\"\n",
    "text = 'что-то в кавычках' # строка. Кавычки могут быть одинарные, двойные, тройные\n",
    "\n",
    "# Мы храним их в переменных\n",
    "# number, number_float, text - переменные\n",
    "\n",
    "# Название переменных может быть любое. Лучше латиницей, лучше говорящие.\n",
    "плим = \"а я придумал слово\"  # не делайте так"
   ]
  },
  {
   "cell_type": "markdown",
   "id": "c17e0081-267b-471a-b919-a23c83dc1dfd",
   "metadata": {
    "id": "HZ5cwY2jkn14"
   },
   "source": [
    "`type()` - узнать тип данных"
   ]
  },
  {
   "cell_type": "code",
   "execution_count": 13,
   "id": "9d6d5464-0350-4921-89c8-4f566c366822",
   "metadata": {
    "colab": {
     "base_uri": "https://localhost:8080/"
    },
    "executionInfo": {
     "elapsed": 537,
     "status": "ok",
     "timestamp": 1673654598162,
     "user": {
      "displayName": "Татьяна Казакова",
      "userId": "07828874048466328312"
     },
     "user_tz": -180
    },
    "id": "JoSK7D89km0S",
    "outputId": "dcd8f094-822a-44d6-8213-40e0d7e5a109"
   },
   "outputs": [
    {
     "name": "stdout",
     "output_type": "stream",
     "text": [
      "<class 'int'>\n",
      "<class 'float'>\n",
      "<class 'str'>\n"
     ]
    }
   ],
   "source": [
    "print(type(324)) # целое число - int (от integer number)\n",
    "print(type(324.3407))  # число с плавающей точкой - float (от floating-point number)\n",
    "print(type(text))  # строка - str (от string)"
   ]
  },
  {
   "cell_type": "markdown",
   "id": "5ae3fde2-94c6-4898-a154-ebfae8c96ade",
   "metadata": {
    "id": "NtSCJw8BgxNu"
   },
   "source": [
    "- целое число - `int` (от integer number)\n",
    "- число с плавающей точкой - `float` (от floating-point number)\n",
    "- строка - `str` (от string)"
   ]
  },
  {
   "cell_type": "markdown",
   "id": "e27ece76-bcc4-4cdd-917b-66597c546ccf",
   "metadata": {
    "id": "Hi9MsaCknCU4"
   },
   "source": [
    "Знать тип данных важно, потому что не с любым типом данных можно совершать определённые действия"
   ]
  },
  {
   "cell_type": "code",
   "execution_count": 3,
   "id": "9be5a6d5-34f1-4de9-a885-363fc2b08b6b",
   "metadata": {
    "colab": {
     "base_uri": "https://localhost:8080/"
    },
    "executionInfo": {
     "elapsed": 241,
     "status": "ok",
     "timestamp": 1673703845573,
     "user": {
      "displayName": "Татьяна Казакова",
      "userId": "07828874048466328312"
     },
     "user_tz": -180
    },
    "id": "EXNhibUtnXDx",
    "outputId": "f578c790-aa99-4fb9-82f0-5a767303d4b7"
   },
   "outputs": [
    {
     "name": "stdout",
     "output_type": "stream",
     "text": [
      "строчка1строчка2\n",
      "12\n",
      "3\n"
     ]
    }
   ],
   "source": [
    "# Что будет, если сложить две строчки?\n",
    "print(\"строчка1\" + \"строчка2\")  # 'строчка1строчка2'\n",
    "print(\"1\" + \"2\")  # '12' будет\n",
    "\n",
    "# А если сложить два числа:\n",
    "print(1 + 2)  # тут 3 будет"
   ]
  },
  {
   "cell_type": "code",
   "execution_count": 17,
   "id": "be76d07a-8290-42b9-ad07-613136f0cf7d",
   "metadata": {
    "colab": {
     "base_uri": "https://localhost:8080/",
     "height": 191
    },
    "executionInfo": {
     "elapsed": 238,
     "status": "error",
     "timestamp": 1673655363387,
     "user": {
      "displayName": "Татьяна Казакова",
      "userId": "07828874048466328312"
     },
     "user_tz": -180
    },
    "id": "JUoluSePn5K1",
    "outputId": "a19c8a37-d443-4f15-ca32-a1d241957f64"
   },
   "outputs": [
    {
     "ename": "TypeError",
     "evalue": "ignored",
     "output_type": "error",
     "traceback": [
      "\u001b[0;31m---------------------------------------------------------------------------\u001b[0m",
      "\u001b[0;31mTypeError\u001b[0m                                 Traceback (most recent call last)",
      "\u001b[0;32m<ipython-input-17-860b984538a4>\u001b[0m in \u001b[0;36m<module>\u001b[0;34m\u001b[0m\n\u001b[1;32m      1\u001b[0m \u001b[0;31m# складывать строки и числа вообще нельзя\u001b[0m\u001b[0;34m\u001b[0m\u001b[0;34m\u001b[0m\u001b[0;34m\u001b[0m\u001b[0m\n\u001b[0;32m----> 2\u001b[0;31m \u001b[0mprint\u001b[0m\u001b[0;34m(\u001b[0m\u001b[0;36m1\u001b[0m \u001b[0;34m+\u001b[0m \u001b[0;34m\" \"\u001b[0m \u001b[0;34m+\u001b[0m \u001b[0;36m2\u001b[0m\u001b[0;34m)\u001b[0m\u001b[0;34m\u001b[0m\u001b[0;34m\u001b[0m\u001b[0m\n\u001b[0m",
      "\u001b[0;31mTypeError\u001b[0m: unsupported operand type(s) for +: 'int' and 'str'"
     ]
    }
   ],
   "source": [
    "# складывать строки и числа вообще нельзя\n",
    "print(1 + \" \" + 2)"
   ]
  },
  {
   "cell_type": "markdown",
   "id": "35fd63b3-6b04-441d-8855-aa796a5ad8ff",
   "metadata": {
    "id": "-a7HVkwsok1U"
   },
   "source": [
    "##### *Про ошибки*\n",
    "\n",
    "Если у вас возникла ошибка, прочитайте объяснение. Здесь нам говорят, что + не умеет складывать int с str.\n",
    "\n",
    "Можно гуглить ошибки. Обычно на сайте stackoverflow уже решили вашу проблему."
   ]
  },
  {
   "cell_type": "code",
   "execution_count": 19,
   "id": "81b7e205-6f5d-448f-9b25-538de9d02a43",
   "metadata": {
    "colab": {
     "base_uri": "https://localhost:8080/"
    },
    "executionInfo": {
     "elapsed": 240,
     "status": "ok",
     "timestamp": 1673655778281,
     "user": {
      "displayName": "Татьяна Казакова",
      "userId": "07828874048466328312"
     },
     "user_tz": -180
    },
    "id": "7WauhfJBpo54",
    "outputId": "9a50a53b-0609-4a49-e430-f3d40492e992"
   },
   "outputs": [
    {
     "name": "stdout",
     "output_type": "stream",
     "text": [
      "5.5\n",
      "<class 'float'>\n"
     ]
    }
   ],
   "source": [
    "# К счастью, числа int и float складываются\n",
    "\n",
    "number_int = 3\n",
    "number_float = 2.5\n",
    "print(number_int + number_float)\n",
    "print(type(number_int + number_float))  # получается тип float"
   ]
  },
  {
   "cell_type": "markdown",
   "id": "224add59-cf90-4196-afb3-907ed06fe377",
   "metadata": {},
   "source": [
    "## Математика+: округление (один из методов)\n",
    "\n",
    "Для округления нам могут понадобиться функции:\n",
    "* `int` (наша знакомая!) &mdash; просто отбросит дробную часть\n",
    "* `round` &mdash; сделает **банковское** округление  \n",
    "(как математическое, если дробная часть меньшие половины, округлять вниз, а если дробная часть больше половины, округлять вверх),  \n",
    "но $1,5 \\rightarrow 2$, а $4,5 \\rightarrow 4$ (при $,5$ округляется к ближайшему чётному)"
   ]
  },
  {
   "cell_type": "code",
   "execution_count": 10,
   "id": "9e063d55-c24c-4219-b328-2d0d92b664ff",
   "metadata": {},
   "outputs": [
    {
     "name": "stdout",
     "output_type": "stream",
     "text": [
      "4 4 4\n"
     ]
    }
   ],
   "source": [
    "# округление вниз\n",
    "print(int(4.4), int(4.5), int(4.6))"
   ]
  },
  {
   "cell_type": "code",
   "execution_count": 11,
   "id": "e8dd4bca-34cc-4805-a030-8662d7ef197d",
   "metadata": {},
   "outputs": [
    {
     "name": "stdout",
     "output_type": "stream",
     "text": [
      "4 4 5\n",
      "3 4 4\n"
     ]
    }
   ],
   "source": [
    "# банковское округление\n",
    "print(round(4.4), round(4.5), round(4.6))\n",
    "print(round(3.4), round(3.5), round(3.6))"
   ]
  },
  {
   "cell_type": "markdown",
   "id": "f9e7f322-974f-4647-b308-5f227f070d2a",
   "metadata": {
    "id": "fckWozLXFrUJ"
   },
   "source": [
    "## Есть функции:\n",
    "\n",
    "Их можно вызывать:\n",
    "\n",
    "Общий вид: `<function>(то_к_чему_надо_применить)`\n",
    "\n",
    "`print()` - мы видели выше. Печатает то, к чему применяется. Дополнительные аргументы это  \n",
    "\n",
    "- `sep=<строка>` &mdash; разделитель, когда печатаем несколько вещей (по умолчанию пробел)  \n",
    "- и `end=<строка>` &mdash; что распечатать в конце (по умолчанию новая строка `\\n`)"
   ]
  },
  {
   "cell_type": "code",
   "execution_count": 13,
   "id": "91e6a5bc-2769-4848-8e07-b8f28c305e95",
   "metadata": {},
   "outputs": [
    {
     "name": "stdout",
     "output_type": "stream",
     "text": [
      "1\n",
      "2\n",
      "3\n"
     ]
    }
   ],
   "source": [
    "print(1, 2, 3, sep='\\n')"
   ]
  },
  {
   "cell_type": "code",
   "execution_count": 16,
   "id": "103f72a9-21c6-4926-bf12-07d2beeb66e6",
   "metadata": {},
   "outputs": [
    {
     "name": "stdout",
     "output_type": "stream",
     "text": [
      "1<РАЗДЕЛИТЕЛЬ>2<РАЗДЕЛИТЕЛЬ>3<КОНЕЦ>"
     ]
    }
   ],
   "source": [
    "print(1, 2, 3, sep='<РАЗДЕЛИТЕЛЬ>', end='<КОНЕЦ>')"
   ]
  },
  {
   "cell_type": "markdown",
   "id": "81548cd0-5de5-4aa3-9de5-40f224938970",
   "metadata": {
    "id": "ThrOF-SIbb1r"
   },
   "source": [
    "#### отступление про красоту кода\n",
    "\n",
    "- переменные латиницей, названия говорящие: `newspaper_text` ~~`bkjkbg`~~, ~~`плим`~~\n",
    "- вокруг математических операторов пробелы: `c = a + b` ~~`c=a+b`~~\n",
    "- между функцией и скобкой нет пробела: `type('string')`  ~~`type ('string')`~~"
   ]
  },
  {
   "cell_type": "code",
   "execution_count": 2,
   "id": "32116673-a20b-4e6d-a862-5ec42c364975",
   "metadata": {
    "colab": {
     "base_uri": "https://localhost:8080/"
    },
    "executionInfo": {
     "elapsed": 617,
     "status": "ok",
     "timestamp": 1673703525051,
     "user": {
      "displayName": "Татьяна Казакова",
      "userId": "07828874048466328312"
     },
     "user_tz": -180
    },
    "id": "yMQp4yS1f-Jw",
    "outputId": "625b129f-f468-47d6-83d7-14d32300a421"
   },
   "outputs": [
    {
     "name": "stdout",
     "output_type": "stream",
     "text": [
      "Лёша Алёша\n"
     ]
    }
   ],
   "source": [
    "# регистр в названии важен\n",
    "some_name = 'Лёша'\n",
    "Some_name = 'Алёша'\n",
    "print(some_name, Some_name)"
   ]
  },
  {
   "cell_type": "markdown",
   "id": "26a3255b-0cd7-432e-adbe-2f94673e8517",
   "metadata": {
    "id": "fckWozLXFrUJ"
   },
   "source": [
    "`type()` — узнать тип данных"
   ]
  },
  {
   "cell_type": "markdown",
   "id": "efb0f3e5-9080-4d6e-9490-edd77a016d8f",
   "metadata": {
    "id": "p1pG1ljIkHqf",
    "tags": []
   },
   "source": [
    "вот эта новая!\n",
    "\n",
    "### `input()` - функция принимает текст от пользователя\n",
    "\n",
    "Функции input() можно передать в качестве **аргумента** строку, которую увидит пользователь перед вводом.\n",
    "\n",
    "Аргументы — значения, которые принимает функция. (То, что в скобках пишем)."
   ]
  },
  {
   "cell_type": "code",
   "execution_count": 8,
   "id": "44c2cf41-158c-450a-9c9c-54a2d2098b51",
   "metadata": {
    "colab": {
     "base_uri": "https://localhost:8080/"
    },
    "executionInfo": {
     "elapsed": 35347,
     "status": "ok",
     "timestamp": 1673705054096,
     "user": {
      "displayName": "Татьяна Казакова",
      "userId": "07828874048466328312"
     },
     "user_tz": -180
    },
    "id": "RGoeQfp3lEP9",
    "outputId": "5168077f-0782-4f01-c5e5-a65c5af2cccb"
   },
   "outputs": [
    {
     "name": "stdout",
     "output_type": "stream",
     "text": [
      "А что вы хотите? Я просто пользователь.\n"
     ]
    }
   ],
   "source": [
    "# по умолчанию пользователь получает нулевую строку перед вводом (то есть ничего не видит)\n",
    "unknown_input = input()"
   ]
  },
  {
   "cell_type": "code",
   "execution_count": 14,
   "id": "7475e15c-db42-4810-8c5a-3712ffd13c9d",
   "metadata": {
    "colab": {
     "base_uri": "https://localhost:8080/"
    },
    "executionInfo": {
     "elapsed": 4227,
     "status": "ok",
     "timestamp": 1673705216776,
     "user": {
      "displayName": "Татьяна Казакова",
      "userId": "07828874048466328312"
     },
     "user_tz": -180
    },
    "id": "Xma0ipouMfV6",
    "outputId": "af5bd621-f7ef-443d-9a0d-96e0aba4901f"
   },
   "outputs": [
    {
     "name": "stdout",
     "output_type": "stream",
     "text": [
      "Введите число и нажмите enter 42\n"
     ]
    }
   ],
   "source": [
    "# А вот тут мы объяснили, что от него хотим\n",
    "user_input = input('Введите число и нажмите enter ')"
   ]
  },
  {
   "cell_type": "code",
   "execution_count": 15,
   "id": "3d8944c8-ec19-471a-ada3-792afae3a3c3",
   "metadata": {
    "colab": {
     "base_uri": "https://localhost:8080/"
    },
    "executionInfo": {
     "elapsed": 247,
     "status": "ok",
     "timestamp": 1673705218498,
     "user": {
      "displayName": "Татьяна Казакова",
      "userId": "07828874048466328312"
     },
     "user_tz": -180
    },
    "id": "hvbPSnnHMslM",
    "outputId": "ecdb3b3c-75a6-4668-d8d0-5228b6a3acf6"
   },
   "outputs": [
    {
     "name": "stdout",
     "output_type": "stream",
     "text": [
      "42\n",
      "<class 'str'>\n"
     ]
    }
   ],
   "source": [
    "print(user_input)\n",
    "print(type(user_input))  # Всегда принимаем от пользователя строку"
   ]
  },
  {
   "cell_type": "markdown",
   "id": "1f8fd483-6cda-4d8a-bccc-214b123bab1b",
   "metadata": {
    "id": "yHO9C3UlkUbo"
   },
   "source": [
    "### Тип данных можно иногда поменять\n",
    "\n",
    "`int()` - в целое число\n",
    "\n",
    "`float()` - в число с точкой\n",
    "\n",
    "`str()` - в строку"
   ]
  },
  {
   "cell_type": "code",
   "execution_count": 16,
   "id": "9f00a802-e20a-4eaa-b390-490125a38209",
   "metadata": {
    "colab": {
     "base_uri": "https://localhost:8080/"
    },
    "executionInfo": {
     "elapsed": 373,
     "status": "ok",
     "timestamp": 1673705220011,
     "user": {
      "displayName": "Татьяна Казакова",
      "userId": "07828874048466328312"
     },
     "user_tz": -180
    },
    "id": "jrnA4hO-NGaq",
    "outputId": "b5600886-9978-4643-bd51-f442b8f11a77"
   },
   "outputs": [
    {
     "name": "stdout",
     "output_type": "stream",
     "text": [
      "<class 'str'>\n",
      "42\n",
      "<class 'int'>\n"
     ]
    }
   ],
   "source": [
    "print(type(user_input))\n",
    "user_input_int = int(user_input)\n",
    "print(user_input_int)  # превратили строку в число\n",
    "print(type(user_input_int))"
   ]
  },
  {
   "cell_type": "code",
   "execution_count": 17,
   "id": "83ac6cc6-b549-4a4e-b439-2a15f5b55f3a",
   "metadata": {
    "colab": {
     "base_uri": "https://localhost:8080/",
     "height": 173
    },
    "executionInfo": {
     "elapsed": 302,
     "status": "error",
     "timestamp": 1673705222775,
     "user": {
      "displayName": "Татьяна Казакова",
      "userId": "07828874048466328312"
     },
     "user_tz": -180
    },
    "id": "lagt0nF_WnGb",
    "outputId": "1257bda1-d34f-4940-e266-47ab6bc424e6"
   },
   "outputs": [
    {
     "ename": "ValueError",
     "evalue": "ignored",
     "output_type": "error",
     "traceback": [
      "\u001b[0;31m---------------------------------------------------------------------------\u001b[0m",
      "\u001b[0;31mValueError\u001b[0m                                Traceback (most recent call last)",
      "\u001b[0;32m<ipython-input-17-8f12ae523cc1>\u001b[0m in \u001b[0;36m<module>\u001b[0;34m\u001b[0m\n\u001b[0;32m----> 1\u001b[0;31m \u001b[0mprint\u001b[0m\u001b[0;34m(\u001b[0m\u001b[0mtype\u001b[0m\u001b[0;34m(\u001b[0m\u001b[0mint\u001b[0m\u001b[0;34m(\u001b[0m\u001b[0;34m\"sjkkd\"\u001b[0m\u001b[0;34m)\u001b[0m\u001b[0;34m)\u001b[0m\u001b[0;34m)\u001b[0m  \u001b[0;31m# не всё можно превратить в число\u001b[0m\u001b[0;34m\u001b[0m\u001b[0;34m\u001b[0m\u001b[0m\n\u001b[0m",
      "\u001b[0;31mValueError\u001b[0m: invalid literal for int() with base 10: 'sjkkd'"
     ]
    }
   ],
   "source": [
    "print(type(int(\"sjkkd\")))  # не всё можно превратить в число"
   ]
  },
  {
   "cell_type": "code",
   "execution_count": 22,
   "id": "2295ceb5-eddf-4699-8dd9-549bef3144c1",
   "metadata": {
    "colab": {
     "base_uri": "https://localhost:8080/",
     "height": 191
    },
    "executionInfo": {
     "elapsed": 241,
     "status": "error",
     "timestamp": 1673655988218,
     "user": {
      "displayName": "Татьяна Казакова",
      "userId": "07828874048466328312"
     },
     "user_tz": -180
    },
    "id": "dxeODT3Jq3U2",
    "outputId": "b5aacbb8-56bb-4039-dd69-bcddc8268eba"
   },
   "outputs": [
    {
     "ename": "ValueError",
     "evalue": "ignored",
     "output_type": "error",
     "traceback": [
      "\u001b[0;31m---------------------------------------------------------------------------\u001b[0m",
      "\u001b[0;31mValueError\u001b[0m                                Traceback (most recent call last)",
      "\u001b[0;32m<ipython-input-22-815e63d0a73b>\u001b[0m in \u001b[0;36m<module>\u001b[0;34m\u001b[0m\n\u001b[1;32m      1\u001b[0m \u001b[0mpi_string\u001b[0m \u001b[0;34m=\u001b[0m \u001b[0;34m'3.1415'\u001b[0m\u001b[0;34m\u001b[0m\u001b[0;34m\u001b[0m\u001b[0m\n\u001b[0;32m----> 2\u001b[0;31m \u001b[0mpi\u001b[0m \u001b[0;34m=\u001b[0m \u001b[0mint\u001b[0m\u001b[0;34m(\u001b[0m\u001b[0mpi_string\u001b[0m\u001b[0;34m)\u001b[0m\u001b[0;34m\u001b[0m\u001b[0;34m\u001b[0m\u001b[0m\n\u001b[0m",
      "\u001b[0;31mValueError\u001b[0m: invalid literal for int() with base 10: '3.1415'"
     ]
    }
   ],
   "source": [
    "pi_string = '3.1415'\n",
    "pi = int(pi_string)  # так тоже нельзя, int - целые числа"
   ]
  },
  {
   "cell_type": "code",
   "execution_count": 23,
   "id": "f1bde7f5-9005-49a9-932b-7518379ee0ed",
   "metadata": {
    "colab": {
     "base_uri": "https://localhost:8080/"
    },
    "executionInfo": {
     "elapsed": 4,
     "status": "ok",
     "timestamp": 1673656018071,
     "user": {
      "displayName": "Татьяна Казакова",
      "userId": "07828874048466328312"
     },
     "user_tz": -180
    },
    "id": "qQTIxKfSqsMe",
    "outputId": "87ca2114-78ba-4ba6-f41d-1764093ba25b"
   },
   "outputs": [
    {
     "name": "stdout",
     "output_type": "stream",
     "text": [
      "3.1415\n"
     ]
    }
   ],
   "source": [
    "pi_string = '3.1415'\n",
    "pi = float(pi_string)  # переводим строку в float\n",
    "print(pi)"
   ]
  },
  {
   "cell_type": "code",
   "execution_count": 25,
   "id": "51763a23-24f4-42d8-928e-293899863615",
   "metadata": {
    "colab": {
     "base_uri": "https://localhost:8080/"
    },
    "executionInfo": {
     "elapsed": 1035,
     "status": "ok",
     "timestamp": 1673656219953,
     "user": {
      "displayName": "Татьяна Казакова",
      "userId": "07828874048466328312"
     },
     "user_tz": -180
    },
    "id": "Fr1CHLc5rNBT",
    "outputId": "f40f5f1d-d2ff-4f4c-eb7a-2999eb490e95"
   },
   "outputs": [
    {
     "data": {
      "text/plain": [
       "2"
      ]
     },
     "execution_count": 25,
     "metadata": {},
     "output_type": "execute_result"
    }
   ],
   "source": [
    "d = 2.3\n",
    "int(d)  # дробное число можно перевести в целое"
   ]
  },
  {
   "cell_type": "code",
   "execution_count": 27,
   "id": "35d71bec-1700-4784-9135-76d0206e2ced",
   "metadata": {
    "colab": {
     "base_uri": "https://localhost:8080/"
    },
    "executionInfo": {
     "elapsed": 227,
     "status": "ok",
     "timestamp": 1673656377430,
     "user": {
      "displayName": "Татьяна Казакова",
      "userId": "07828874048466328312"
     },
     "user_tz": -180
    },
    "id": "RjG8XoNbsLsd",
    "outputId": "6de53df9-4fa3-4b6a-8762-a3c838500fdc"
   },
   "outputs": [
    {
     "data": {
      "text/plain": [
       "2"
      ]
     },
     "execution_count": 27,
     "metadata": {},
     "output_type": "execute_result"
    }
   ],
   "source": [
    "e = 2.72\n",
    "int(e)  # это не округление, просто отбрасывается дробная часть"
   ]
  },
  {
   "cell_type": "code",
   "execution_count": 28,
   "id": "62d39442-a758-489f-9beb-af2b097816f7",
   "metadata": {
    "colab": {
     "base_uri": "https://localhost:8080/"
    },
    "executionInfo": {
     "elapsed": 510,
     "status": "ok",
     "timestamp": 1673656440139,
     "user": {
      "displayName": "Татьяна Казакова",
      "userId": "07828874048466328312"
     },
     "user_tz": -180
    },
    "id": "NalJ-dYMsfZY",
    "outputId": "d9dac823-6019-48e6-ad22-03dba4697720"
   },
   "outputs": [
    {
     "data": {
      "text/plain": [
       "10.0"
      ]
     },
     "execution_count": 28,
     "metadata": {},
     "output_type": "execute_result"
    }
   ],
   "source": [
    "# целое в дробное тоже можно\n",
    "f = 10\n",
    "float(f)"
   ]
  },
  {
   "cell_type": "markdown",
   "id": "3b2a2053-11ce-4a94-81d4-8ddc94653a21",
   "metadata": {},
   "source": [
    "Хитрости, которые бывали на экзамене: число с визуальными разделителями"
   ]
  },
  {
   "cell_type": "code",
   "execution_count": 21,
   "id": "1339d1ab-b126-4200-811e-f60ba0a44e11",
   "metadata": {},
   "outputs": [
    {
     "name": "stdout",
     "output_type": "stream",
     "text": [
      "10000000\n"
     ]
    }
   ],
   "source": [
    "big_num = int(\"10_000_000\")\n",
    "print(big_num)"
   ]
  },
  {
   "cell_type": "markdown",
   "id": "96dd540c-5fa2-458c-8adf-800c71037279",
   "metadata": {},
   "source": [
    "Кроме того, в конце строки могут быть пробельные символы"
   ]
  },
  {
   "cell_type": "code",
   "execution_count": 23,
   "id": "f7bb7d0d-1127-40d9-8646-d6adf28cc81c",
   "metadata": {},
   "outputs": [
    {
     "name": "stdout",
     "output_type": "stream",
     "text": [
      "10000000\n"
     ]
    }
   ],
   "source": [
    "big_num = int(\"10_000_000\\n \")\n",
    "print(big_num)"
   ]
  },
  {
   "cell_type": "markdown",
   "id": "6512b418-6988-48e6-9be9-59641c8621a1",
   "metadata": {
    "id": "BCo4F1W3CL_8"
   },
   "source": [
    "### Потренируемся!\n",
    "Напишите код, берущий два числа у пользователя и выдающий их сумму"
   ]
  },
  {
   "cell_type": "code",
   "execution_count": 2,
   "id": "a18825c7-3d0a-4226-9a1c-8b8fab1bcb82",
   "metadata": {
    "colab": {
     "base_uri": "https://localhost:8080/"
    },
    "executionInfo": {
     "elapsed": 5453,
     "status": "ok",
     "timestamp": 1673644851121,
     "user": {
      "displayName": "Татьяна Казакова",
      "userId": "07828874048466328312"
     },
     "user_tz": -180
    },
    "id": "oIraTrNuCIUq",
    "outputId": "16618520-a759-4519-b1ae-0ba5b616d98d"
   },
   "outputs": [
    {
     "name": "stdout",
     "output_type": "stream",
     "text": [
      "Введите первое число: 2\n",
      "Введите второе число: 3\n",
      "Сумма:  5\n"
     ]
    }
   ],
   "source": []
  },
  {
   "cell_type": "code",
   "execution_count": 2,
   "id": "8ba9419b-f1f2-4612-b878-8886c089f939",
   "metadata": {
    "colab": {
     "base_uri": "https://localhost:8080/"
    },
    "executionInfo": {
     "elapsed": 9591,
     "status": "ok",
     "timestamp": 1673654002400,
     "user": {
      "displayName": "Татьяна Казакова",
      "userId": "07828874048466328312"
     },
     "user_tz": -180
    },
    "id": "dQkiUWMLi-eN",
    "outputId": "03b402f3-328f-42ce-e40f-d2a280a6b99f"
   },
   "outputs": [
    {
     "name": "stdout",
     "output_type": "stream",
     "text": [
      "Введите первое число: 6\n",
      "Введите второе число: 8\n",
      "Сумма:  14\n"
     ]
    }
   ],
   "source": [
    "# То же самое, но короче. Оба варианта правильные.\n"
   ]
  },
  {
   "cell_type": "markdown",
   "id": "545f6248-c11a-4939-b29a-485ad1288794",
   "metadata": {},
   "source": [
    "> **Задание**.\n",
    "> Пользователь вводит целое число. Считайте это число, умножьте его на 2, а затем выведите число, которое составлено повторением результата умножения 4 раза.\n",
    "\n",
    "> Пример:\n",
    "> \n",
    "> ввод: `8`\n",
    "> \n",
    "> вывод: `16161616`\n",
    "\n",
    "\n",
    "> **Задание+**.\n",
    "> Пользователь вводит целое число `a`. Затем ещё одно `n`. Первое число умножьте на 2, а затем выведите новое число, которое составлено повторением результата умножения `n` раз.\n",
    "\n",
    "> Пример:\n",
    "> \n",
    "> ввод:  \n",
    "> `8`  \n",
    "> `3`\n",
    "> \n",
    "> вывод:\n",
    "> `161616`\n",
    ">\n",
    "> ввод:  \n",
    "> `9`  \n",
    "> `2`\n",
    "> \n",
    "> вывод:\n",
    "> `1818`"
   ]
  },
  {
   "cell_type": "markdown",
   "id": "92db0d3e-c9f3-4a3a-af33-d28a4605c71f",
   "metadata": {
    "id": "BWAxXFCPDDoq"
   },
   "source": [
    "### Продолжим знакомство с функциями\n",
    "`len()` - считает длину"
   ]
  },
  {
   "cell_type": "code",
   "execution_count": null,
   "id": "e00ed0b1-d278-4490-81e0-9bb149555167",
   "metadata": {
    "colab": {
     "base_uri": "https://localhost:8080/"
    },
    "executionInfo": {
     "elapsed": 247,
     "status": "ok",
     "timestamp": 1671704780155,
     "user": {
      "displayName": "Татьяна Казакова",
      "userId": "07828874048466328312"
     },
     "user_tz": -180
    },
    "id": "XOCL1QU-SwuC",
    "outputId": "513a9fc6-a8c3-4907-c4ba-56ee4b4ac0d9"
   },
   "outputs": [
    {
     "data": {
      "text/plain": [
       "6"
      ]
     },
     "execution_count": 35,
     "metadata": {},
     "output_type": "execute_result"
    }
   ],
   "source": [
    "# Можно измерить длину списка, словаря, строки...\n",
    "len('привет')"
   ]
  },
  {
   "cell_type": "code",
   "execution_count": 20,
   "id": "fce33e0d-0a98-4171-a484-f5316c071f78",
   "metadata": {
    "colab": {
     "base_uri": "https://localhost:8080/"
    },
    "executionInfo": {
     "elapsed": 289,
     "status": "ok",
     "timestamp": 1673589605438,
     "user": {
      "displayName": "Татьяна Казакова",
      "userId": "07828874048466328312"
     },
     "user_tz": -180
    },
    "id": "NquXNOjNFqkF",
    "outputId": "d4af95d3-fb82-41be-95f4-db3f02527eb1"
   },
   "outputs": [
    {
     "name": "stdout",
     "output_type": "stream",
     "text": [
      "5\n",
      "12\n",
      "4\n",
      "34\n",
      "19\n"
     ]
    }
   ],
   "source": [
    "print(len(spisok))\n",
    "print(len(months))\n",
    "print(len(chemistry_dict))\n",
    "print(len(\"Тут в этом предложении 34 символа.\"))\n",
    "print(len('А тут девятнадцать.'))"
   ]
  },
  {
   "cell_type": "code",
   "execution_count": null,
   "id": "7a92e13f-3eb8-4947-b9bc-12c836b0ac5b",
   "metadata": {
    "id": "Qvd-_Sc2HwHs"
   },
   "outputs": [],
   "source": [
    "# Посчитайте, сколько символов в отрывке.\n",
    "text1 = \"\"\"Почему я как композитор-оперник тяготею к классике? Это у меня с детства. В детстве я очень любил играть в классики. Ребенком я любил пить чай, естественно, с пирожными, и лучше всего с безе. Отсюда в сублимации ассоциаций детства тяготение к Чайковскому, к Бизе, и т. д., и т. п., и т. д. Как сказал классик, надо брать музыку у народа, и только обрабатывать её. Так я и делаю. Поэтому, когда сегодня берёшь у композитора — это, собственно говоря, берёшь у народа, берёшь у народа — берёшь у себя, и главное, чтобы музыка была твоя, и кто говорит \"плагиат\", я говорю \"традиция\".\"\"\""
   ]
  },
  {
   "cell_type": "markdown",
   "id": "a7fd8aad-1e7e-469b-83ea-86ad61f2b093",
   "metadata": {
    "id": "slLJuzmoPmHU"
   },
   "source": [
    "## Есть методы:\n",
    "\n",
    "общий вид - `<то_к_чему_надо_применить>.<method>()`"
   ]
  },
  {
   "cell_type": "markdown",
   "id": "8328735b-0545-4bf3-bca7-267fdcfd7a55",
   "metadata": {
    "id": "HCglkfbEmva1"
   },
   "source": [
    "`.split()` делит на строку по тому, что указано в скобках (по умолчанию по пробелоподобным символам). Выдаёт список."
   ]
  },
  {
   "cell_type": "code",
   "execution_count": 18,
   "id": "3154a858-9169-4e4c-b5ba-fbace3c9074a",
   "metadata": {
    "colab": {
     "base_uri": "https://localhost:8080/"
    },
    "executionInfo": {
     "elapsed": 1047,
     "status": "ok",
     "timestamp": 1673587845369,
     "user": {
      "displayName": "Татьяна Казакова",
      "userId": "07828874048466328312"
     },
     "user_tz": -180
    },
    "id": "adq49tVnPkFV",
    "outputId": "59c0c58d-3ce6-4bbb-e5ee-04fac8c84fde"
   },
   "outputs": [
    {
     "data": {
      "text/plain": [
       "['Иван Топорышкин пошел на охоту, с ним пудель пошел, перепрыгнув забор, Иван, как бревно провалился в болото, а пудель в реке утонул, как топор',\n",
       " ' Иван Топорышкин пошел на охоту, с ним пудель вприпрыжку пошел, как топор',\n",
       " ' Иван повалился бревном на болото, а пудель в реке перепрыгнул забор',\n",
       " '']"
      ]
     },
     "execution_count": 18,
     "metadata": {},
     "output_type": "execute_result"
    }
   ],
   "source": [
    "# Давайте поделим текст на предложения!\n",
    "text2 = \"Иван Топорышкин пошел на охоту, с ним пудель пошел, перепрыгнув забор, Иван, как бревно провалился в болото, а пудель в реке утонул, как топор. Иван Топорышкин пошел на охоту, с ним пудель вприпрыжку пошел, как топор. Иван повалился бревном на болото, а пудель в реке перепрыгнул забор.\"\n",
    "\n",
    "text2.split('.')"
   ]
  },
  {
   "cell_type": "code",
   "execution_count": 23,
   "id": "3c2c5e05-ed6c-44be-80d1-84e1edebffa1",
   "metadata": {
    "colab": {
     "base_uri": "https://localhost:8080/"
    },
    "executionInfo": {
     "elapsed": 261,
     "status": "ok",
     "timestamp": 1673590430789,
     "user": {
      "displayName": "Татьяна Казакова",
      "userId": "07828874048466328312"
     },
     "user_tz": -180
    },
    "id": "O5DPY5qZb2QS",
    "outputId": "45ed4660-938e-46c6-96b6-cc3f675c0e0d"
   },
   "outputs": [
    {
     "data": {
      "text/plain": [
       "['Смотри,', 'какое', 'хорошее', 'слово:', '«Трям»!']"
      ]
     },
     "execution_count": 23,
     "metadata": {},
     "output_type": "execute_result"
    }
   ],
   "source": [
    "# По дефолту (по умолчанию) .split() делит по пробелоподобным символам\n",
    "text3 = \"Смотри, какое хорошее слово: «Трям»!\"\n",
    "text3.split()"
   ]
  },
  {
   "cell_type": "code",
   "execution_count": 25,
   "id": "b5d2c365-2a53-428c-86ae-058116969458",
   "metadata": {
    "colab": {
     "base_uri": "https://localhost:8080/",
     "height": 36
    },
    "executionInfo": {
     "elapsed": 365,
     "status": "ok",
     "timestamp": 1673590477852,
     "user": {
      "displayName": "Татьяна Казакова",
      "userId": "07828874048466328312"
     },
     "user_tz": -180
    },
    "id": "TqlRu-ZXu8Z4",
    "outputId": "84da8a83-70be-4ba8-98d9-940d2e24ca34"
   },
   "outputs": [
    {
     "data": {
      "application/vnd.google.colaboratory.intrinsic+json": {
       "type": "string"
      },
      "text/plain": [
       "'слово'"
      ]
     },
     "execution_count": 25,
     "metadata": {},
     "output_type": "execute_result"
    }
   ],
   "source": [
    "# Есть метод .strip()\n",
    "# Он отделяет ненужные символы по краям строк\n",
    "\n",
    "\":::::слово::\".strip(\":\")"
   ]
  },
  {
   "cell_type": "code",
   "execution_count": 24,
   "id": "016f55cb-4a60-4e3b-8f17-d97db3faf6dd",
   "metadata": {
    "colab": {
     "base_uri": "https://localhost:8080/",
     "height": 36
    },
    "executionInfo": {
     "elapsed": 257,
     "status": "ok",
     "timestamp": 1673590673570,
     "user": {
      "displayName": "Татьяна Казакова",
      "userId": "07828874048466328312"
     },
     "user_tz": -180
    },
    "id": "7i2Sl5SgxCAA",
    "outputId": "61e762c8-9985-4ea8-9606-4ab75664cd5a"
   },
   "outputs": [
    {
     "data": {
      "text/plain": [
       "'Трям'"
      ]
     },
     "execution_count": 24,
     "metadata": {},
     "output_type": "execute_result"
    }
   ],
   "source": [
    "\"«Трям»!...,,\".strip(\"!\\\"#$%&'()*+, -./:;<=>?@[\\]^_`{|}~«»\")\n",
    "# указываем подряд все символы, которые не могут быть по краям строки"
   ]
  },
  {
   "cell_type": "markdown",
   "id": "2c96ff71-ce2e-4922-aa43-28dca35fbd8a",
   "metadata": {
    "id": "nG5ZGi57x1Vr"
   },
   "source": [
    "## Условия и операторы сравнения\n",
    "\n",
    "```\n",
    "if <условие>:\n",
    "    блок инструкций, в случае если условие истинно\n",
    "else:\n",
    "    блок инструкций, в случае если условие не выполняется\n",
    "```"
   ]
  },
  {
   "cell_type": "code",
   "execution_count": null,
   "id": "61689344-b71b-47bc-8a6b-30fc216ae130",
   "metadata": {
    "id": "aF57kKhXyHrj"
   },
   "outputs": [],
   "source": [
    "number = -6\n",
    "if number < 0:\n",
    "    print(\"отрицательное число\")  \n",
    "else:\n",
    "    print(\"положительное число\")  # лучше \"неотрицательное\""
   ]
  },
  {
   "cell_type": "code",
   "execution_count": null,
   "id": "ed266333-9e19-4206-9182-855fd8822690",
   "metadata": {
    "id": "XdboA_zqyO53"
   },
   "outputs": [],
   "source": [
    "# но ноль - ни положительное, ни отрицательное\n",
    "\n",
    "number = 0\n",
    "if number < 0:\n",
    "    print(\"отрицательное число\")\n",
    "else:\n",
    "    if number == 0:\n",
    "        print(\"ноль\")\n",
    "    else:\n",
    "        print(\"положительное число\")"
   ]
  },
  {
   "cell_type": "markdown",
   "id": "19261963-d029-4e2c-b48e-0486af48fe3b",
   "metadata": {},
   "source": [
    "#### Что мы сделали?\n",
    "Мы в блок инструкций добавили ещё одну \"условную конструкцию\""
   ]
  },
  {
   "cell_type": "markdown",
   "id": "f83912cd-d10f-4d26-acb9-9adf1da1b08c",
   "metadata": {},
   "source": [
    "```\n",
    "если число < 0:\n",
    "    печатаем \"отрицательное число\"\n",
    "иначе:\n",
    "    # этот блок кода выполняется, если число неотрицательное    \n",
    "    # то есть либо ноль, либо положительное. Проверим, равно ли нулю.    \n",
    "    если число == 0:    \n",
    "        печатаем \"ноль\"        \n",
    "    иначе:    \n",
    "        # этот блок кода выполняется, если наше уже точно неотрицательное не ноль, т.е. положительное        \n",
    "        печатаем \"положительное число\"\n",
    "```"
   ]
  },
  {
   "cell_type": "markdown",
   "id": "b65f3913-70b1-440b-8330-26d7b936a3bd",
   "metadata": {
    "id": "HKHHFAyrAJLM"
   },
   "source": [
    "Обратите внимание, что мы вложили одно условие в другое.\n",
    "\n",
    "Можно добавлять условные конструкции в любой блок инструкций. (неограниченное количество раз)"
   ]
  },
  {
   "cell_type": "markdown",
   "id": "d94c0f70-43b5-438c-921d-d6a5c7487e06",
   "metadata": {
    "id": "LcGvFNdnyYIt"
   },
   "source": [
    "Но условия в условии можно красиво избежать:"
   ]
  },
  {
   "cell_type": "code",
   "execution_count": null,
   "id": "e5e72b3d-b654-435c-a886-e88051250901",
   "metadata": {
    "id": "RFDWrIBPyPoO"
   },
   "outputs": [],
   "source": [
    "if number > 0:\n",
    "    print(\"положительное число\")\n",
    "elif number == 0:  # таких elif может быть много, после них пишут альтернативные условия\n",
    "    print(\"ноль\")\n",
    "else:\n",
    "    print(\"отрицательное число\")"
   ]
  },
  {
   "cell_type": "markdown",
   "id": "51bfc048-4f95-495f-a4e6-0499423d15f8",
   "metadata": {
    "id": "VySnRznvykIf"
   },
   "source": [
    "### Основные операторы сравнения\n",
    "\n",
    "- `>` - больше. Условие истинно, если то, что слева от знака больше того, что справа\n",
    "- `<` - меньше. Условие истинно, если то, что слева от знака меньше того, что справа\n",
    "- `>=` - больше либо равно\n",
    "- `<=` - меньше либо равно\n",
    "- `==` - в точности равно\n",
    "- `!=` - не равно"
   ]
  },
  {
   "cell_type": "markdown",
   "id": "6ddd3aed-3079-45b7-9514-d2445db5652f",
   "metadata": {
    "id": "ckxf-kuByzRB"
   },
   "source": [
    "### Потренируемся!\n",
    "Пользователь вводит число и получает это число в кубе (возвести в степень: $5 {**} 3 = 5*5*5 = 125$)\n",
    "\n",
    "Пользователь может отказаться словом \"стоп\" (программа выводит сообщение: `\"вы отказались от услуги\"`)"
   ]
  },
  {
   "cell_type": "code",
   "execution_count": null,
   "id": "0dd59bc8-bab7-4832-b2bf-c2463ac7165e",
   "metadata": {
    "id": "xsbj8vZcymN2"
   },
   "outputs": [],
   "source": [
    "# ваш код"
   ]
  },
  {
   "cell_type": "markdown",
   "id": "bb955b44-5858-426e-be6e-bbbaf59dba50",
   "metadata": {
    "id": "dOzHFA93zElq"
   },
   "source": [
    "### Тип данных bool\n",
    "\n",
    "Всего два значения: `True` и `False`. С большой буквы.\n",
    "\n",
    "(Не называйте переменные `true` или `false` - мы за красивый понятный код)"
   ]
  },
  {
   "cell_type": "code",
   "execution_count": null,
   "id": "0bc7ceb4-db01-4a2b-8f3c-ae63d26eb13e",
   "metadata": {
    "id": "kwGdgm7OzBDI"
   },
   "outputs": [],
   "source": [
    "print(5>0)\n",
    "print(type(5>0))\n",
    "print(5==0)"
   ]
  },
  {
   "cell_type": "code",
   "execution_count": null,
   "id": "3505257a-96e8-43bb-89b5-358f6641bfa4",
   "metadata": {
    "id": "A5FOp1i1zW3b"
   },
   "outputs": [],
   "source": [
    "# bool переводится в число\n",
    "print(int(True))\n",
    "print(int(False))"
   ]
  },
  {
   "cell_type": "code",
   "execution_count": null,
   "id": "348b9327-4542-4da6-b96b-0667fb6ebeb9",
   "metadata": {
    "id": "1500cWjdzXic"
   },
   "outputs": [],
   "source": [
    "# Числа переводятся в bool: все кроме нуля - True\n",
    "print(bool(4))\n",
    "print(bool(-6.578))\n",
    "print(bool(0))"
   ]
  },
  {
   "cell_type": "code",
   "execution_count": null,
   "id": "7a462cfd-031b-4430-aa83-4c02b12ca317",
   "metadata": {
    "id": "4c46Vbc3zbTm"
   },
   "outputs": [],
   "source": [
    "# Строки переводятся в bool: все кроме '' - True\n",
    "print(bool('непустая строка'))\n",
    "print(bool(''))"
   ]
  },
  {
   "cell_type": "code",
   "execution_count": null,
   "id": "0d5eeeb2-c3f3-494c-b8d1-3ea77c64feac",
   "metadata": {
    "id": "cSbpfIlyzek5"
   },
   "outputs": [],
   "source": [
    "# Поэтому можно так:\n",
    "name = input(\"Введите имя: \")\n",
    "if name:\n",
    "    print(\"Привет, \", name)\n",
    "else:\n",
    "    print(\"Вы не ввели имя...\")"
   ]
  },
  {
   "cell_type": "markdown",
   "id": "920e51ef-d298-4b6a-b313-2f1fa9803657",
   "metadata": {
    "id": "gQZdhJ1Yzhwa"
   },
   "source": [
    "### Логические операторы\n",
    "- **and** (логическое И) возвращает истину (`True`), если оба условия по отдельности верны (тоже возвращают `True`)\n",
    "- **or** (логическое ИЛИ) вернет истину, если хотя бы одно из условий верно\n",
    "- **not** (логическое НЕТ) возьмет результат условия и “обратит” его."
   ]
  },
  {
   "cell_type": "code",
   "execution_count": null,
   "id": "7cc02e4e-f5da-4b7f-af81-2620316e697f",
   "metadata": {
    "id": "43atvPc9zrJT"
   },
   "outputs": [],
   "source": [
    "a = int(input())\n",
    "b = int(input())\n",
    "\n",
    "if a % 10 == 0 or b % 10 == 0:\n",
    "    print('Хотя бы одно число кратно 10.')\n",
    "else:\n",
    "    print('Оба числа не кратны 10.')"
   ]
  },
  {
   "cell_type": "markdown",
   "id": "af716ba3-422d-4412-9140-34acd03dfe1b",
   "metadata": {
    "id": "QzlAV0tbzx9A"
   },
   "source": [
    "## Циклы"
   ]
  },
  {
   "cell_type": "markdown",
   "id": "510b9945-01c3-4815-915f-c41c51959d83",
   "metadata": {
    "id": "h-cY7_4Z1SnF"
   },
   "source": [
    "### for"
   ]
  },
  {
   "cell_type": "code",
   "execution_count": null,
   "id": "1cca1331-2863-4aea-87c3-5d33d69cd8cd",
   "metadata": {
    "id": "vtIGzoyCz50s"
   },
   "outputs": [],
   "source": [
    "for element in 'hello':\n",
    "    print(element)"
   ]
  },
  {
   "cell_type": "code",
   "execution_count": null,
   "id": "5809aecb-6197-47e1-8439-aa0bc2232296",
   "metadata": {
    "id": "GJ-a8BHDz9br"
   },
   "outputs": [],
   "source": [
    "words = ['сочиняю', 'я', 'неплохо', \"иногда\", \"да\"]\n",
    "for element in words:\n",
    "  print(element)"
   ]
  },
  {
   "cell_type": "markdown",
   "id": "1d47e773-413a-43d6-a1e0-696f18b19a16",
   "metadata": {
    "id": "TIUMOVno0KSb"
   },
   "source": [
    "Так работает с итерируемыми объектами (которые можно перебирать по элементам). Это строки, списки, кортежи, словари и др."
   ]
  },
  {
   "cell_type": "markdown",
   "id": "08e6bc43-6170-4d3f-9d2e-0099cfdd061c",
   "metadata": {
    "id": "xD5Lt-JX1DhD"
   },
   "source": [
    "### Потренируемся!\n",
    "- делим текст на слова по пробелоподобным символам (получаем список)\n",
    "- проходим по словам\n",
    "    - отсекаем пунктуацию\n",
    "    - печатаем слово"
   ]
  },
  {
   "cell_type": "code",
   "execution_count": null,
   "id": "86924462-369f-426c-8aad-afbdbff3e656",
   "metadata": {
    "id": "Tp3uRFfZ1I5C"
   },
   "outputs": [],
   "source": [
    "# ваш код"
   ]
  },
  {
   "cell_type": "markdown",
   "id": "8c070e02-71ca-401a-9afc-ed1322b7c448",
   "metadata": {},
   "source": [
    "## Распаковка / множественное присвоение"
   ]
  },
  {
   "cell_type": "markdown",
   "id": "d3ffb26e-da53-4085-b476-3716ed67a897",
   "metadata": {},
   "source": [
    "можно записать слева и справа от `=` одинаковое количество объектов, и присвоить так: "
   ]
  },
  {
   "cell_type": "code",
   "execution_count": 4,
   "id": "8ea6b8cb-2681-4110-9ee4-cdea0b1435b2",
   "metadata": {},
   "outputs": [
    {
     "name": "stdout",
     "output_type": "stream",
     "text": [
      "это а\n",
      "это б\n",
      "это ц\n"
     ]
    }
   ],
   "source": [
    "a, b, c = 'это а', 'это б', 'это ц' \n",
    "\n",
    "print(a)\n",
    "print(b)\n",
    "print(c)"
   ]
  },
  {
   "cell_type": "markdown",
   "id": "54722b04-d179-4d08-8f22-ef9bba2c41e3",
   "metadata": {},
   "source": [
    "**одинаковое!**"
   ]
  },
  {
   "cell_type": "code",
   "execution_count": 28,
   "id": "d565e260-9f47-46f7-8f78-7431e2e0fa86",
   "metadata": {},
   "outputs": [
    {
     "ename": "ValueError",
     "evalue": "not enough values to unpack (expected 3, got 2)",
     "output_type": "error",
     "traceback": [
      "\u001b[1;31m---------------------------------------------------------------------------\u001b[0m",
      "\u001b[1;31mValueError\u001b[0m                                Traceback (most recent call last)",
      "Cell \u001b[1;32mIn [28], line 1\u001b[0m\n\u001b[1;32m----> 1\u001b[0m a, b, c \u001b[38;5;241m=\u001b[39m \u001b[38;5;124m'\u001b[39m\u001b[38;5;124mэто а\u001b[39m\u001b[38;5;124m'\u001b[39m, \u001b[38;5;124m'\u001b[39m\u001b[38;5;124mэто б\u001b[39m\u001b[38;5;124m'\u001b[39m\n\u001b[0;32m      3\u001b[0m \u001b[38;5;28mprint\u001b[39m(a)\n\u001b[0;32m      4\u001b[0m \u001b[38;5;28mprint\u001b[39m(b)\n",
      "\u001b[1;31mValueError\u001b[0m: not enough values to unpack (expected 3, got 2)"
     ]
    }
   ],
   "source": [
    "a, b, c = 'это а', 'это б'\n",
    "\n",
    "print(a)\n",
    "print(b)\n",
    "print(c)"
   ]
  },
  {
   "cell_type": "code",
   "execution_count": 60,
   "id": "69923919-0024-424e-bbf4-f836f3633d52",
   "metadata": {
    "scrolled": true
   },
   "outputs": [
    {
     "ename": "ValueError",
     "evalue": "too many values to unpack (expected 2)",
     "output_type": "error",
     "traceback": [
      "\u001b[1;31m---------------------------------------------------------------------------\u001b[0m",
      "\u001b[1;31mValueError\u001b[0m                                Traceback (most recent call last)",
      "Cell \u001b[1;32mIn [60], line 1\u001b[0m\n\u001b[1;32m----> 1\u001b[0m a, b, \u001b[38;5;241m=\u001b[39m \u001b[38;5;124m'\u001b[39m\u001b[38;5;124mэто а\u001b[39m\u001b[38;5;124m'\u001b[39m, \u001b[38;5;124m'\u001b[39m\u001b[38;5;124mэто б\u001b[39m\u001b[38;5;124m'\u001b[39m, \u001b[38;5;124m'\u001b[39m\u001b[38;5;124mэто ц\u001b[39m\u001b[38;5;124m'\u001b[39m \n\u001b[0;32m      3\u001b[0m \u001b[38;5;28mprint\u001b[39m(a)\n\u001b[0;32m      4\u001b[0m \u001b[38;5;28mprint\u001b[39m(b)\n",
      "\u001b[1;31mValueError\u001b[0m: too many values to unpack (expected 2)"
     ]
    }
   ],
   "source": [
    "a, b, = 'это а', 'это б', 'это ц' \n",
    "\n",
    "print(a)\n",
    "print(b)\n",
    "print(c)"
   ]
  }
 ],
 "metadata": {
  "kernelspec": {
   "display_name": "dataan",
   "language": "python",
   "name": "dataan"
  },
  "language_info": {
   "codemirror_mode": {
    "name": "ipython",
    "version": 3
   },
   "file_extension": ".py",
   "mimetype": "text/x-python",
   "name": "python",
   "nbconvert_exporter": "python",
   "pygments_lexer": "ipython3",
   "version": "3.11.3"
  }
 },
 "nbformat": 4,
 "nbformat_minor": 5
}
