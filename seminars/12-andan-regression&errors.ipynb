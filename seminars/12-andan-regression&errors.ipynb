{
 "cells": [
  {
   "cell_type": "markdown",
   "id": "6bfb4c9f",
   "metadata": {},
   "source": [
    "# Линейная регрессия (и немного о корреляции)"
   ]
  },
  {
   "cell_type": "markdown",
   "id": "47e93a29-2694-4253-a96e-7d239fc9097a",
   "metadata": {},
   "source": [
    "Вспомним термины:\n",
    "\n",
    "- **наблюдение / объект** &mdash; отдельный объект, про который нам известны одно или несколько значений переменных (какие-то характеристики объекта).  \n",
    "  Сответствует *строчке* таблицы.\n",
    "- **переменная** &mdash; параметр, который мы измеряли или узнавали про наши объекты.  \n",
    "  Переменные это то, что бывает количественным и категориальным/бинарным.  \n",
    "  Соответствует *столбцу* таблицы.\n",
    "  \n",
    "У наблюдений как правило будут разные значения переменных\n",
    "\n"
   ]
  },
  {
   "cell_type": "markdown",
   "id": "41c4e33c-0363-458e-a5cb-fc7cd07a20b8",
   "metadata": {},
   "source": [
    "В датасете про велосипеды наблюдением был определённый час дня, а про него известно например:\n",
    "- температура за этот час\n",
    "- скорость ветра\n",
    "- день, дата, которой принадлежит этот час\n",
    "- праздничный ли день\n",
    "- количество отданных в прокат велосипедов, отдельное для двух прокатных центров\n",
    "- ... (и другое)\n",
    "- (и то, какой это, собственно, час дня! &mdash; `Hour`) \n",
    "\n",
    "Это всё переменные!"
   ]
  },
  {
   "cell_type": "code",
   "execution_count": 140,
   "id": "0aaa6d9f-2104-46a0-a7b5-7706ca4b8809",
   "metadata": {},
   "outputs": [
    {
     "data": {
      "text/html": [
       "<div>\n",
       "<style scoped>\n",
       "    .dataframe tbody tr th:only-of-type {\n",
       "        vertical-align: middle;\n",
       "    }\n",
       "\n",
       "    .dataframe tbody tr th {\n",
       "        vertical-align: top;\n",
       "    }\n",
       "\n",
       "    .dataframe thead th {\n",
       "        text-align: right;\n",
       "    }\n",
       "</style>\n",
       "<table border=\"1\" class=\"dataframe\">\n",
       "  <thead>\n",
       "    <tr style=\"text-align: right;\">\n",
       "      <th></th>\n",
       "      <th>Date</th>\n",
       "      <th>Hour</th>\n",
       "      <th>Temperature</th>\n",
       "      <th>Humidity</th>\n",
       "      <th>Wind speed</th>\n",
       "      <th>Rainfall</th>\n",
       "      <th>Snowfall</th>\n",
       "      <th>Seasons</th>\n",
       "      <th>Holiday</th>\n",
       "      <th>Functioning Day</th>\n",
       "      <th>Partner 1</th>\n",
       "      <th>Partner 2</th>\n",
       "    </tr>\n",
       "  </thead>\n",
       "  <tbody>\n",
       "    <tr>\n",
       "      <th>0</th>\n",
       "      <td>01/12/2017</td>\n",
       "      <td>0</td>\n",
       "      <td>-5.2</td>\n",
       "      <td>37</td>\n",
       "      <td>2.2</td>\n",
       "      <td>0.0</td>\n",
       "      <td>0.0</td>\n",
       "      <td>Winter</td>\n",
       "      <td>No Holiday</td>\n",
       "      <td>Yes</td>\n",
       "      <td>207</td>\n",
       "      <td>50</td>\n",
       "    </tr>\n",
       "    <tr>\n",
       "      <th>1</th>\n",
       "      <td>01/12/2017</td>\n",
       "      <td>1</td>\n",
       "      <td>-5.5</td>\n",
       "      <td>38</td>\n",
       "      <td>0.8</td>\n",
       "      <td>0.0</td>\n",
       "      <td>0.0</td>\n",
       "      <td>Winter</td>\n",
       "      <td>No Holiday</td>\n",
       "      <td>Yes</td>\n",
       "      <td>139</td>\n",
       "      <td>80</td>\n",
       "    </tr>\n",
       "    <tr>\n",
       "      <th>2</th>\n",
       "      <td>01/12/2017</td>\n",
       "      <td>2</td>\n",
       "      <td>-6.0</td>\n",
       "      <td>39</td>\n",
       "      <td>1.0</td>\n",
       "      <td>0.0</td>\n",
       "      <td>0.0</td>\n",
       "      <td>Winter</td>\n",
       "      <td>No Holiday</td>\n",
       "      <td>Yes</td>\n",
       "      <td>22</td>\n",
       "      <td>140</td>\n",
       "    </tr>\n",
       "    <tr>\n",
       "      <th>3</th>\n",
       "      <td>01/12/2017</td>\n",
       "      <td>3</td>\n",
       "      <td>-6.2</td>\n",
       "      <td>40</td>\n",
       "      <td>0.9</td>\n",
       "      <td>0.0</td>\n",
       "      <td>0.0</td>\n",
       "      <td>Winter</td>\n",
       "      <td>No Holiday</td>\n",
       "      <td>Yes</td>\n",
       "      <td>43</td>\n",
       "      <td>105</td>\n",
       "    </tr>\n",
       "    <tr>\n",
       "      <th>4</th>\n",
       "      <td>01/12/2017</td>\n",
       "      <td>4</td>\n",
       "      <td>-6.0</td>\n",
       "      <td>36</td>\n",
       "      <td>2.3</td>\n",
       "      <td>0.0</td>\n",
       "      <td>0.0</td>\n",
       "      <td>Winter</td>\n",
       "      <td>No Holiday</td>\n",
       "      <td>Yes</td>\n",
       "      <td>59</td>\n",
       "      <td>38</td>\n",
       "    </tr>\n",
       "  </tbody>\n",
       "</table>\n",
       "</div>"
      ],
      "text/plain": [
       "         Date  Hour  Temperature  Humidity  Wind speed  Rainfall  Snowfall  \\\n",
       "0  01/12/2017     0         -5.2        37         2.2       0.0       0.0   \n",
       "1  01/12/2017     1         -5.5        38         0.8       0.0       0.0   \n",
       "2  01/12/2017     2         -6.0        39         1.0       0.0       0.0   \n",
       "3  01/12/2017     3         -6.2        40         0.9       0.0       0.0   \n",
       "4  01/12/2017     4         -6.0        36         2.3       0.0       0.0   \n",
       "\n",
       "  Seasons     Holiday Functioning Day  Partner 1  Partner 2  \n",
       "0  Winter  No Holiday             Yes        207         50  \n",
       "1  Winter  No Holiday             Yes        139         80  \n",
       "2  Winter  No Holiday             Yes         22        140  \n",
       "3  Winter  No Holiday             Yes         43        105  \n",
       "4  Winter  No Holiday             Yes         59         38  "
      ]
     },
     "execution_count": 140,
     "metadata": {},
     "output_type": "execute_result"
    }
   ],
   "source": [
    "import numpy as np\n",
    "import pandas as pd\n",
    "\n",
    "bikes = pd.read_csv(\"data/BikeData.csv\")\n",
    "\n",
    "bikes.head()"
   ]
  },
  {
   "cell_type": "markdown",
   "id": "71cb1386-98f6-4a9c-bbc0-446c2a35086b",
   "metadata": {},
   "source": [
    "- ❓ Если мы рассуждаем об изменении во времени популяции куниц, то что будет наблюдением, а что переменными?  \n",
    "  - Есть ли переменные *постоянные*, не меняющиеся год к году?"
   ]
  },
  {
   "cell_type": "markdown",
   "id": "54125d58-083d-4343-9505-db50d70ce2ad",
   "metadata": {},
   "source": [
    "- ❓ Если мы рассуждаем о титанике, то что будет наблюдением, а что переменными?  "
   ]
  },
  {
   "cell_type": "markdown",
   "id": "fd05a5a3-c4a7-4013-9b45-5f3dd5805d7c",
   "metadata": {},
   "source": [
    "## Понимание базовое: формула, связывающая несколько переменных"
   ]
  },
  {
   "cell_type": "markdown",
   "id": "1f20453d-d453-4c4f-979c-f196e3f017e8",
   "metadata": {},
   "source": [
    "Можно придумать формулу, которая свяжет количество сданных в прокат велосипедов в первом центре `Partner 1` с часом дня и температурой:\n",
    "\n",
    "$\\text{Partner 1} = 80 + 10 \\times \\text{Hour} + 2 \\times \\text{Temperature} $\n",
    " \n",
    "кратко:\n",
    "\n",
    "$\\hat{Y} = 80 + 10 \\times X + 2 \\times Z $, где $X$ &mdash; час, $Z$ &mdash; температура, $Y$ &mdash; количество сданных в прокат велосипедов \n",
    "\n",
    "Здесь вышло, что мы **взяли одну переменную** (`Partner 1`) **как целевую / таргетную**, и **связали её с нескольми другими &mdash; признаками**.\n",
    "\n",
    "Кроме того, мы использовали константу 80, это как бы начальный уровень, базовое число продаж. "
   ]
  },
  {
   "cell_type": "markdown",
   "id": "f6b4846c-aefe-4b0c-b4a7-3d8577b32745",
   "metadata": {},
   "source": [
    "Термины:\n",
    "\n",
    "- таргетная / целевая / зависимая переменная\n",
    "- признак или регрессор или признаковая / объясняющая / независимая переменная\n",
    "- **коэффициенты** &mdash; числа, всё кроме переменных (букв) из формулы"
   ]
  },
  {
   "cell_type": "markdown",
   "id": "34698343-4673-4a83-91c6-a9712013b7c7",
   "metadata": {},
   "source": [
    "Можно в эту формулу что-то подставить и посчитать предполагаемое число велосипедов:\n",
    "\n",
    "$80 + 10 \\times 14 + 2 \\times 15 = 250$ (столько велосипедов, по предположению формулы, будет сдано в прокат, в 14 дня при 15 градусах температуры."
   ]
  },
  {
   "cell_type": "markdown",
   "id": "a268a835-27d6-4e0b-8580-148655ff3ebc",
   "metadata": {},
   "source": [
    "❓ Как могут входить в формулу логические / бинарные переменные?\n",
    "\n",
    "$\\text{Partner 1} = 80 + 10 \\times \\text{Hour} - 40 \\times \\text{Holiday} $\n",
    "\n",
    "`Holiday` &mdash; бинарная переменная и понимать надо так (когда выбрано, что у неё True, а что False): если `True` то это 1, если `False`, то 0 \n"
   ]
  },
  {
   "cell_type": "markdown",
   "id": "1ee94977-9106-4533-9fd6-1da73cfda14d",
   "metadata": {},
   "source": [
    "$ 80 + 10 \\times 16 - 40 \\times 1  = 200 $  "
   ]
  },
  {
   "cell_type": "markdown",
   "id": "fd9e3e4f-2fff-4827-b376-fa9d7f3334b8",
   "metadata": {},
   "source": [
    "❓ Как могут входить в формулу категориальные переменные?"
   ]
  },
  {
   "cell_type": "code",
   "execution_count": null,
   "id": "6f42ff30-e44d-4cd3-bbe8-4f17826fffb2",
   "metadata": {},
   "outputs": [],
   "source": []
  },
  {
   "cell_type": "markdown",
   "id": "c2d53c5f-e2ad-4ec6-9c99-efb9a5e009c9",
   "metadata": {},
   "source": [
    "(задания 12, 13, по 0,2 балла)\n",
    "\n",
    "❓ Что в датасете про предметы искусства может быть целевой переменной и с какими признаками?"
   ]
  },
  {
   "cell_type": "code",
   "execution_count": null,
   "id": "7ca6e0b4-ca58-499e-971d-a5dacc747ae6",
   "metadata": {},
   "outputs": [],
   "source": []
  },
  {
   "cell_type": "markdown",
   "id": "9c094e60-7f5d-4ca0-9b64-d4e286ce3711",
   "metadata": {},
   "source": [
    "Есть хитрость, связанная с константными признаками:\n",
    "\n",
    "по сути, такой признак всегда один.\n",
    "\n",
    "Если мы бы задумали формулу, где количество сданных в прокат велосипедов зависит от\n",
    "- времени суток (переменная), \n",
    "- близости стадиона (константный признак! Поскольку мы смотрим только один прокатный центр)\n",
    "- и также есть базовый уровень сданных в прокат велосипедов (также константный признак)  \n",
    "\n",
    "\n",
    "... то формула вышла бы например такая:\n",
    "\n",
    "$\\hat{Y} = 10 \\times \\text{Hour} + 80 + 10 $, где 80 &mdash; оценка базового числа сданных в прокат велосипедов, а 10 &mdash; оценка близости стадиона \n",
    "\n",
    "По сути здесь лишь один константный признак, равный $80 + 10 = 90$ \n"
   ]
  },
  {
   "cell_type": "markdown",
   "id": "a0e2427b-a2ff-4901-9e71-27433e00b9e2",
   "metadata": {},
   "source": [
    "## Понимание продвинутое: формула, связывающая несколько переменных, которую можно построить по имеющимся данным"
   ]
  },
  {
   "cell_type": "markdown",
   "id": "51c118a2-d748-4c02-908e-50fa5ed27dff",
   "metadata": {},
   "source": [
    "коэффициенты / веса в формуле можно вычислить!"
   ]
  },
  {
   "cell_type": "markdown",
   "id": "424d7f4a",
   "metadata": {},
   "source": [
    "$$\\hat{Y}_{𝑖} = \\hat{𝑤}_{0} + \\hat{𝑤}_{1} \\times X_{𝑖} $$\n",
    "\n",
    "Формулы для подсчёта весов:\n",
    "    \n",
    "$$\\hat{𝑤}_{0} = \\bar{𝑌} − \\hat{𝑤}_{1}\\bar{𝑋} $$\n",
    "\n",
    "$$\\hat{𝑤}_{1} = \\frac{\\sum((𝑋_{𝑖} − \\bar{𝑋}) \\times (𝑌_{𝑖} − \\bar{𝑌} ))}{\\sum(𝑋_{𝑖} − \\bar{𝑋})^2}$$\n",
    "\n",
    "Что это за обозначения?\n",
    "- черточка сверху $\\bar{◌}$ - среднее арифметическое\n",
    "- крышечка сверху $\\hat{◌}$ - предсказание\n",
    "- ∑︀ - сумма того, что идёт после символа\n"
   ]
  },
  {
   "cell_type": "markdown",
   "id": "5d5986b3-c835-43b1-b473-04c091c57c3f",
   "metadata": {},
   "source": [
    "термины:\n",
    "\n",
    "к слову \"регрессия\" прибавляют прилагательное, указывающее, сколько коэффициентов в ней (считая константный $\\hat{w}_0$):\n",
    "- это ($\\hat{Y}_{𝑖} = \\hat{𝑤}_{0} + \\hat{𝑤}_{1} \\times X_{𝑖} $) **парная** регрессия\n",
    "- чуть выше была **множественная** (больше двух коэффициентов, а именно 3): $\\hat{Y} = 80 + 10 \\times X + 2 \\times Z $"
   ]
  },
  {
   "cell_type": "markdown",
   "id": "ee9d4466-b6e9-4ab9-bf47-e651eb4cf833",
   "metadata": {},
   "source": [
    "продолжаем с парной:"
   ]
  },
  {
   "cell_type": "code",
   "execution_count": 141,
   "id": "944bf00b",
   "metadata": {},
   "outputs": [],
   "source": [
    "import pandas as pd\n",
    "import numpy as np"
   ]
  },
  {
   "cell_type": "markdown",
   "id": "f1307ac9",
   "metadata": {},
   "source": [
    "У нас есть данные. Допустим, сколько человек готовился к работе (X) и оценка (Y). "
   ]
  },
  {
   "cell_type": "code",
   "execution_count": 142,
   "id": "39e14fe9",
   "metadata": {},
   "outputs": [
    {
     "data": {
      "text/plain": [
       "<Axes: xlabel='X', ylabel='Y'>"
      ]
     },
     "execution_count": 142,
     "metadata": {},
     "output_type": "execute_result"
    },
    {
     "data": {
      "image/png": "[encoded data removed]",
      "text/plain": [
       "<Figure size 640x480 with 1 Axes>"
      ]
     },
     "metadata": {},
     "output_type": "display_data"
    }
   ],
   "source": [
    "X = [3, 1, 4, 2, 5]\n",
    "Y = [8, 5, 6, 7, 9]\n",
    "data = pd.DataFrame()\n",
    "data['X'] = X\n",
    "data['Y'] = Y\n",
    "data.plot('X', 'Y', kind='scatter')"
   ]
  },
  {
   "cell_type": "markdown",
   "id": "a77d26d0",
   "metadata": {},
   "source": [
    "О чём \"линейная регрессия\"? О том, что мы хотим найти примерную формулу для вычисления целевой (таргетной) переменной `Y` по имеющимся данным.\n",
    "\n",
    "То есть здесь, зная время подготовки, хотим *предполагать* оценку."
   ]
  },
  {
   "cell_type": "markdown",
   "metadata": {},
   "source": [
    "(формула из методических материалов может казаться страшной, но смысл простой...)"
   ]
  },
  {
   "attachments": {
    "image.png": {
     "image/png": "[encoded data removed]"
    }
   },
   "cell_type": "markdown",
   "metadata": {},
   "source": [
    "![image.png](attachment:image.png)"
   ]
  },
  {
   "cell_type": "markdown",
   "id": "d7d07f4d-b1df-4dcf-8a08-05c6d3a22aee",
   "metadata": {},
   "source": [
    "*Задание 18 &mdash; найти уравнение регрессии по таблице с данными (1 балл)*\n"
   ]
  },
  {
   "cell_type": "code",
   "execution_count": 143,
   "id": "42c3c406",
   "metadata": {},
   "outputs": [
    {
     "name": "stdout",
     "output_type": "stream",
     "text": [
      "y = 4.9 + 0.7*x\n"
     ]
    }
   ],
   "source": [
    "X = np.array([3, 1, 4, 2, 5])\n",
    "Y = np.array([8, 5, 6, 7, 9])\n",
    "X_mean = X.mean()\n",
    "Y_mean = Y.mean()\n",
    "# открываем доп. материал к экзамену и переписываем формулы весов\n",
    "w1 = ((X-X_mean)*(Y-Y_mean)).sum() / ((X-X_mean)**2).sum()\n",
    "w0 = Y_mean - w1*X_mean\n",
    "print(f'y = {w0} + {w1}*x')"
   ]
  },
  {
   "cell_type": "markdown",
   "id": "2f1ae874",
   "metadata": {},
   "source": [
    "Вот мы получили формулу. По ней, если готовиться 7 часов, можно получить оценку 9.8.\n",
    "\n",
    "(но вы готовьтесь больше)"
   ]
  },
  {
   "cell_type": "code",
   "execution_count": 144,
   "id": "24f9639f",
   "metadata": {},
   "outputs": [
    {
     "data": {
      "text/plain": [
       "9.8"
      ]
     },
     "execution_count": 144,
     "metadata": {},
     "output_type": "execute_result"
    }
   ],
   "source": [
    "new_x = 7\n",
    "y = 4.9 + 0.7*new_x  # подставляем в формулу\n",
    "y"
   ]
  },
  {
   "cell_type": "markdown",
   "id": "ef531074",
   "metadata": {},
   "source": [
    "Вот так выглядят наши точки вместе с предсказанной прямой"
   ]
  },
  {
   "cell_type": "code",
   "execution_count": 145,
   "id": "649e61fb",
   "metadata": {},
   "outputs": [
    {
     "data": {
      "image/png": "[encoded data removed]",
      "text/plain": [
       "<Figure size 1200x700 with 1 Axes>"
      ]
     },
     "metadata": {},
     "output_type": "display_data"
    }
   ],
   "source": [
    "# это просто визуализация, вам можно этот код не смотреть\n",
    "from matplotlib import pyplot as plt\n",
    "plt.figure(figsize=(12, 7))\n",
    "plt.scatter(X, Y)  # данные\n",
    "plt.plot(X, 4.9 + 0.7*X, color='orange')  # предсказание\n",
    "plt.grid(True)"
   ]
  },
  {
   "cell_type": "markdown",
   "id": "4a5759c4-e5d9-4545-bcf6-32cb4b5e14aa",
   "metadata": {},
   "source": [
    "У нас получилось нарисовать линию регрессии, поскольку это парная регрессия, в уравнении лишь константа и $x$: $y = 4.9 + 0.7 x$\n",
    "\n",
    "Формулу из начала, для велосипедов, на графике отобразить сложно, ведь там две объясняющих переменных (это уже нужны две оси на графике), и целевая (это ещё третья ось!).\n",
    "    *(Но можно, график будет 3d, а регрессия будет не линией, а плоскостью)*"
   ]
  },
  {
   "cell_type": "markdown",
   "id": "17d98075-5602-4910-9f70-55a83d14318b",
   "metadata": {},
   "source": [
    "## Когда может вообще не выйти построить регрессию?"
   ]
  },
  {
   "cell_type": "markdown",
   "id": "8723b09d",
   "metadata": {},
   "source": [
    "Уравнение прямой $y = w_0 + w_1 x$ предполагает, что если меняется $y$, то за счёт изменения $x$. \n",
    "    Если $x$ не меняется, то уравнения не построить"
   ]
  },
  {
   "cell_type": "code",
   "execution_count": 146,
   "id": "0ad823e9-0232-4cc8-8b6b-741af1dd9ff0",
   "metadata": {},
   "outputs": [
    {
     "name": "stdout",
     "output_type": "stream",
     "text": [
      "y = nan + nan*x\n"
     ]
    },
    {
     "name": "stderr",
     "output_type": "stream",
     "text": [
      "C:\\Users\\фвьшт\\AppData\\Local\\Temp\\ipykernel_31956\\1780543462.py:6: RuntimeWarning: invalid value encountered in scalar divide\n",
      "  w1 = ((X-X_mean)*(Y-Y_mean)).sum() / ((X-X_mean)**2).sum()  # SSp / SSx\n"
     ]
    }
   ],
   "source": [
    "X = np.array([5, 5, 5, 5, 5])\n",
    "Y = np.array([8, 5, 6, 7, 9])\n",
    "X_mean = X.mean()\n",
    "Y_mean = Y.mean()\n",
    "# открываем доп. материал к экзамену и переписываем формулы весов\n",
    "w1 = ((X-X_mean)*(Y-Y_mean)).sum() / ((X-X_mean)**2).sum()  # SSp / SSx\n",
    "w0 = Y_mean - w1*X_mean\n",
    "print(f'y = {w0} + {w1}*x')"
   ]
  },
  {
   "cell_type": "code",
   "execution_count": 147,
   "id": "3114b144-25be-49bc-8951-1d487871e86a",
   "metadata": {},
   "outputs": [
    {
     "data": {
      "image/png": "[encoded data removed]",
      "text/plain": [
       "<Figure size 1200x700 with 1 Axes>"
      ]
     },
     "metadata": {},
     "output_type": "display_data"
    }
   ],
   "source": [
    "# это просто визуализация, вам можно этот код не смотреть\n",
    "from matplotlib import pyplot as plt\n",
    "plt.figure(figsize=(12, 7))\n",
    "plt.scatter(X, Y)  # данные\n",
    "# предсказания нет..\n",
    "plt.grid(True)"
   ]
  },
  {
   "cell_type": "markdown",
   "id": "80f20b63-7cee-4adb-85dc-4cd2d3e53e37",
   "metadata": {},
   "source": [
    "## Простой способ построения: "
   ]
  },
  {
   "cell_type": "code",
   "execution_count": 148,
   "id": "c3ffbb1f-aa11-4ee6-a8b3-b109eae4dc83",
   "metadata": {},
   "outputs": [],
   "source": [
    "import numpy as np\n",
    "import scipy.stats"
   ]
  },
  {
   "cell_type": "code",
   "execution_count": 149,
   "id": "f5428bf7-a926-4d26-9046-904ca2c59722",
   "metadata": {},
   "outputs": [
    {
     "name": "stdout",
     "output_type": "stream",
     "text": [
      "y = 4.9 + 0.7000000000000001x\n"
     ]
    }
   ],
   "source": [
    "import scipy.stats\n",
    "X = np.array([3, 1, 4, 2, 5])\n",
    "Y = np.array([8, 5, 6, 7, 9])\n",
    "\n",
    "res = scipy.stats.linregress(X, Y)\n",
    "\n",
    "print(f\"y = {res.intercept} + {res.slope}x\")"
   ]
  },
  {
   "cell_type": "markdown",
   "id": "3e57a18c",
   "metadata": {},
   "source": [
    "## Метрики для подсчёта качества линейной регрессии"
   ]
  },
  {
   "cell_type": "markdown",
   "id": "776544ed",
   "metadata": {},
   "source": [
    "`MSE` (mean squared error, среднеквадратичная ошибка) - сумма квадратов ошибок, поделённая на количество наблюдений\n",
    "\n",
    "$ 𝑀𝑆𝐸 = \\frac{\\sum(𝑌_{𝑖} − \\hat{𝑌}_{𝑖})^2}{𝑛} $"
   ]
  },
  {
   "cell_type": "code",
   "execution_count": 150,
   "id": "db0686a2",
   "metadata": {},
   "outputs": [
    {
     "data": {
      "text/plain": [
       "nan"
      ]
     },
     "execution_count": 150,
     "metadata": {},
     "output_type": "execute_result"
    }
   ],
   "source": [
    "# Y, который дали  - Y реальный\n",
    "# Y предсказанный? Предсказанный моделью, то есть нашей формулой\n",
    "Y_pred = w0 + w1*X\n",
    "Y_pred\n",
    "MSE = ((Y-Y_pred)**2).mean()\n",
    "MSE"
   ]
  },
  {
   "cell_type": "markdown",
   "id": "e3efed3b",
   "metadata": {},
   "source": [
    "`MAE` (mean absolute error, средняя абсолютная ошибка) - сумма модулей ошибок, поделённая на количество наблюдений\n",
    "\n",
    "$ 𝑀𝐴𝐸 =\\frac{\\sum|𝑌_{𝑖} − \\hat{𝑌}_{𝑖}|}{𝑛} $"
   ]
  },
  {
   "cell_type": "code",
   "execution_count": 151,
   "id": "3320c16f",
   "metadata": {},
   "outputs": [
    {
     "data": {
      "text/plain": [
       "nan"
      ]
     },
     "execution_count": 151,
     "metadata": {},
     "output_type": "execute_result"
    }
   ],
   "source": [
    "MAE = (np.abs(Y-Y_pred)).mean()\n",
    "MAE"
   ]
  },
  {
   "cell_type": "markdown",
   "id": "46e72b0f",
   "metadata": {},
   "source": [
    "**По этим ошибкам нельзя сказать, хорошая модель или нет**. Но если у нас есть несколько моделей, которые мы проверяем на одних данных, можно сравнить ошибки (MSE с MSE, например) и сделать выводы. Чем меньше ошибка, тем лучше."
   ]
  },
  {
   "cell_type": "markdown",
   "metadata": {},
   "source": [
    "### Корреляция"
   ]
  },
  {
   "cell_type": "markdown",
   "metadata": {},
   "source": [
    "Корреляция тоже может считаться по формуле из методических материалов, а может проще.\n",
    "\n",
    "Вот по формуле:"
   ]
  },
  {
   "attachments": {
    "image.png": {
     "image/png": "[encoded data removed]"
    }
   },
   "cell_type": "markdown",
   "metadata": {},
   "source": [
    "![image.png](attachment:image.png)"
   ]
  },
  {
   "attachments": {
    "image.png": {
     "image/png": "[encoded data removed]"
    }
   },
   "cell_type": "markdown",
   "metadata": {},
   "source": [
    "![image.png](attachment:image.png)"
   ]
  },
  {
   "cell_type": "code",
   "execution_count": 152,
   "metadata": {},
   "outputs": [
    {
     "name": "stdout",
     "output_type": "stream",
     "text": [
      "0.7\n"
     ]
    }
   ],
   "source": [
    "# те же данные\n",
    "\n",
    "X = np.array([3, 1, 4, 2, 5])\n",
    "Y = np.array([8, 5, 6, 7, 9])\n",
    "\n",
    "X_mean = X.mean()\n",
    "Y_mean = Y.mean()\n",
    "\n",
    "r = ((X - X_mean) * (Y - Y_mean)).sum() / np.sqrt(((X - X_mean) ** 2).sum() * ((Y - Y_mean) ** 2).sum())\n",
    "\n",
    "print(r)"
   ]
  },
  {
   "cell_type": "markdown",
   "metadata": {},
   "source": [
    "Простой способ с `numpy`:"
   ]
  },
  {
   "cell_type": "code",
   "execution_count": 153,
   "metadata": {},
   "outputs": [
    {
     "data": {
      "text/plain": [
       "array([[1. , 0.7],\n",
       "       [0.7, 1. ]])"
      ]
     },
     "execution_count": 153,
     "metadata": {},
     "output_type": "execute_result"
    }
   ],
   "source": [
    "np.corrcoef(X, Y)"
   ]
  },
  {
   "cell_type": "markdown",
   "metadata": {},
   "source": [
    "Простой способ с `pandas.DataFrame`"
   ]
  },
  {
   "cell_type": "code",
   "execution_count": 154,
   "metadata": {},
   "outputs": [
    {
     "data": {
      "text/html": [
       "<div>\n",
       "<style scoped>\n",
       "    .dataframe tbody tr th:only-of-type {\n",
       "        vertical-align: middle;\n",
       "    }\n",
       "\n",
       "    .dataframe tbody tr th {\n",
       "        vertical-align: top;\n",
       "    }\n",
       "\n",
       "    .dataframe thead th {\n",
       "        text-align: right;\n",
       "    }\n",
       "</style>\n",
       "<table border=\"1\" class=\"dataframe\">\n",
       "  <thead>\n",
       "    <tr style=\"text-align: right;\">\n",
       "      <th></th>\n",
       "      <th>Temperature</th>\n",
       "      <th>Hour</th>\n",
       "      <th>Humidity</th>\n",
       "      <th>Partner 1</th>\n",
       "    </tr>\n",
       "  </thead>\n",
       "  <tbody>\n",
       "    <tr>\n",
       "      <th>0</th>\n",
       "      <td>-5.2</td>\n",
       "      <td>0</td>\n",
       "      <td>37</td>\n",
       "      <td>207</td>\n",
       "    </tr>\n",
       "    <tr>\n",
       "      <th>1</th>\n",
       "      <td>-5.5</td>\n",
       "      <td>1</td>\n",
       "      <td>38</td>\n",
       "      <td>139</td>\n",
       "    </tr>\n",
       "    <tr>\n",
       "      <th>2</th>\n",
       "      <td>-6.0</td>\n",
       "      <td>2</td>\n",
       "      <td>39</td>\n",
       "      <td>22</td>\n",
       "    </tr>\n",
       "    <tr>\n",
       "      <th>3</th>\n",
       "      <td>-6.2</td>\n",
       "      <td>3</td>\n",
       "      <td>40</td>\n",
       "      <td>43</td>\n",
       "    </tr>\n",
       "    <tr>\n",
       "      <th>4</th>\n",
       "      <td>-6.0</td>\n",
       "      <td>4</td>\n",
       "      <td>36</td>\n",
       "      <td>59</td>\n",
       "    </tr>\n",
       "    <tr>\n",
       "      <th>...</th>\n",
       "      <td>...</td>\n",
       "      <td>...</td>\n",
       "      <td>...</td>\n",
       "      <td>...</td>\n",
       "    </tr>\n",
       "    <tr>\n",
       "      <th>8755</th>\n",
       "      <td>4.2</td>\n",
       "      <td>19</td>\n",
       "      <td>34</td>\n",
       "      <td>467</td>\n",
       "    </tr>\n",
       "    <tr>\n",
       "      <th>8756</th>\n",
       "      <td>3.4</td>\n",
       "      <td>20</td>\n",
       "      <td>37</td>\n",
       "      <td>296</td>\n",
       "    </tr>\n",
       "    <tr>\n",
       "      <th>8757</th>\n",
       "      <td>2.6</td>\n",
       "      <td>21</td>\n",
       "      <td>39</td>\n",
       "      <td>571</td>\n",
       "    </tr>\n",
       "    <tr>\n",
       "      <th>8758</th>\n",
       "      <td>2.1</td>\n",
       "      <td>22</td>\n",
       "      <td>41</td>\n",
       "      <td>171</td>\n",
       "    </tr>\n",
       "    <tr>\n",
       "      <th>8759</th>\n",
       "      <td>1.9</td>\n",
       "      <td>23</td>\n",
       "      <td>43</td>\n",
       "      <td>442</td>\n",
       "    </tr>\n",
       "  </tbody>\n",
       "</table>\n",
       "<p>8760 rows × 4 columns</p>\n",
       "</div>"
      ],
      "text/plain": [
       "      Temperature  Hour  Humidity  Partner 1\n",
       "0            -5.2     0        37        207\n",
       "1            -5.5     1        38        139\n",
       "2            -6.0     2        39         22\n",
       "3            -6.2     3        40         43\n",
       "4            -6.0     4        36         59\n",
       "...           ...   ...       ...        ...\n",
       "8755          4.2    19        34        467\n",
       "8756          3.4    20        37        296\n",
       "8757          2.6    21        39        571\n",
       "8758          2.1    22        41        171\n",
       "8759          1.9    23        43        442\n",
       "\n",
       "[8760 rows x 4 columns]"
      ]
     },
     "execution_count": 154,
     "metadata": {},
     "output_type": "execute_result"
    }
   ],
   "source": [
    "bikes[[\"Temperature\", \"Hour\", \"Humidity\", \"Partner 1\"]]"
   ]
  },
  {
   "cell_type": "code",
   "execution_count": 155,
   "metadata": {},
   "outputs": [
    {
     "data": {
      "text/html": [
       "<div>\n",
       "<style scoped>\n",
       "    .dataframe tbody tr th:only-of-type {\n",
       "        vertical-align: middle;\n",
       "    }\n",
       "\n",
       "    .dataframe tbody tr th {\n",
       "        vertical-align: top;\n",
       "    }\n",
       "\n",
       "    .dataframe thead th {\n",
       "        text-align: right;\n",
       "    }\n",
       "</style>\n",
       "<table border=\"1\" class=\"dataframe\">\n",
       "  <thead>\n",
       "    <tr style=\"text-align: right;\">\n",
       "      <th></th>\n",
       "      <th>Temperature</th>\n",
       "      <th>Hour</th>\n",
       "      <th>Humidity</th>\n",
       "      <th>Partner 1</th>\n",
       "    </tr>\n",
       "  </thead>\n",
       "  <tbody>\n",
       "    <tr>\n",
       "      <th>Temperature</th>\n",
       "      <td>1.000000</td>\n",
       "      <td>0.123090</td>\n",
       "      <td>0.161933</td>\n",
       "      <td>0.409111</td>\n",
       "    </tr>\n",
       "    <tr>\n",
       "      <th>Hour</th>\n",
       "      <td>0.123090</td>\n",
       "      <td>1.000000</td>\n",
       "      <td>-0.241644</td>\n",
       "      <td>0.314558</td>\n",
       "    </tr>\n",
       "    <tr>\n",
       "      <th>Humidity</th>\n",
       "      <td>0.161933</td>\n",
       "      <td>-0.241644</td>\n",
       "      <td>1.000000</td>\n",
       "      <td>-0.149301</td>\n",
       "    </tr>\n",
       "    <tr>\n",
       "      <th>Partner 1</th>\n",
       "      <td>0.409111</td>\n",
       "      <td>0.314558</td>\n",
       "      <td>-0.149301</td>\n",
       "      <td>1.000000</td>\n",
       "    </tr>\n",
       "  </tbody>\n",
       "</table>\n",
       "</div>"
      ],
      "text/plain": [
       "             Temperature      Hour  Humidity  Partner 1\n",
       "Temperature     1.000000  0.123090  0.161933   0.409111\n",
       "Hour            0.123090  1.000000 -0.241644   0.314558\n",
       "Humidity        0.161933 -0.241644  1.000000  -0.149301\n",
       "Partner 1       0.409111  0.314558 -0.149301   1.000000"
      ]
     },
     "execution_count": 155,
     "metadata": {},
     "output_type": "execute_result"
    }
   ],
   "source": [
    "bikes[[\"Temperature\", \"Hour\", \"Humidity\", \"Partner 1\"]].corr()"
   ]
  },
  {
   "cell_type": "markdown",
   "metadata": {},
   "source": [
    "но если попробовать посчитать корреляции всего со всем, то будет ошибка"
   ]
  },
  {
   "cell_type": "code",
   "execution_count": 156,
   "metadata": {},
   "outputs": [
    {
     "ename": "ValueError",
     "evalue": "could not convert string to float: '01/12/2017'",
     "output_type": "error",
     "traceback": [
      "\u001b[1;31m---------------------------------------------------------------------------\u001b[0m",
      "\u001b[1;31mValueError\u001b[0m                                Traceback (most recent call last)",
      "\u001b[1;32md:\\Documents\\Teach\\hse-dataan-2023-arthist\\repo\\seminars\\12-andan-regression&errors.ipynb Cell 60\u001b[0m line \u001b[0;36m1\n\u001b[1;32m----> <a href='vscode-notebook-cell:/d%3A/Documents/Teach/hse-dataan-2023-arthist/repo/seminars/12-andan-regression%26errors.ipynb#Y335sZmlsZQ%3D%3D?line=0'>1</a>\u001b[0m bikes\u001b[39m.\u001b[39;49mcorr()\n",
      "File \u001b[1;32mc:\\prog\\python311\\Lib\\site-packages\\pandas\\core\\frame.py:10054\u001b[0m, in \u001b[0;36mDataFrame.corr\u001b[1;34m(self, method, min_periods, numeric_only)\u001b[0m\n\u001b[0;32m  10052\u001b[0m cols \u001b[39m=\u001b[39m data\u001b[39m.\u001b[39mcolumns\n\u001b[0;32m  10053\u001b[0m idx \u001b[39m=\u001b[39m cols\u001b[39m.\u001b[39mcopy()\n\u001b[1;32m> 10054\u001b[0m mat \u001b[39m=\u001b[39m data\u001b[39m.\u001b[39;49mto_numpy(dtype\u001b[39m=\u001b[39;49m\u001b[39mfloat\u001b[39;49m, na_value\u001b[39m=\u001b[39;49mnp\u001b[39m.\u001b[39;49mnan, copy\u001b[39m=\u001b[39;49m\u001b[39mFalse\u001b[39;49;00m)\n\u001b[0;32m  10056\u001b[0m \u001b[39mif\u001b[39;00m method \u001b[39m==\u001b[39m \u001b[39m\"\u001b[39m\u001b[39mpearson\u001b[39m\u001b[39m\"\u001b[39m:\n\u001b[0;32m  10057\u001b[0m     correl \u001b[39m=\u001b[39m libalgos\u001b[39m.\u001b[39mnancorr(mat, minp\u001b[39m=\u001b[39mmin_periods)\n",
      "File \u001b[1;32mc:\\prog\\python311\\Lib\\site-packages\\pandas\\core\\frame.py:1838\u001b[0m, in \u001b[0;36mDataFrame.to_numpy\u001b[1;34m(self, dtype, copy, na_value)\u001b[0m\n\u001b[0;32m   1836\u001b[0m \u001b[39mif\u001b[39;00m dtype \u001b[39mis\u001b[39;00m \u001b[39mnot\u001b[39;00m \u001b[39mNone\u001b[39;00m:\n\u001b[0;32m   1837\u001b[0m     dtype \u001b[39m=\u001b[39m np\u001b[39m.\u001b[39mdtype(dtype)\n\u001b[1;32m-> 1838\u001b[0m result \u001b[39m=\u001b[39m \u001b[39mself\u001b[39;49m\u001b[39m.\u001b[39;49m_mgr\u001b[39m.\u001b[39;49mas_array(dtype\u001b[39m=\u001b[39;49mdtype, copy\u001b[39m=\u001b[39;49mcopy, na_value\u001b[39m=\u001b[39;49mna_value)\n\u001b[0;32m   1839\u001b[0m \u001b[39mif\u001b[39;00m result\u001b[39m.\u001b[39mdtype \u001b[39mis\u001b[39;00m \u001b[39mnot\u001b[39;00m dtype:\n\u001b[0;32m   1840\u001b[0m     result \u001b[39m=\u001b[39m np\u001b[39m.\u001b[39marray(result, dtype\u001b[39m=\u001b[39mdtype, copy\u001b[39m=\u001b[39m\u001b[39mFalse\u001b[39;00m)\n",
      "File \u001b[1;32mc:\\prog\\python311\\Lib\\site-packages\\pandas\\core\\internals\\managers.py:1732\u001b[0m, in \u001b[0;36mBlockManager.as_array\u001b[1;34m(self, dtype, copy, na_value)\u001b[0m\n\u001b[0;32m   1730\u001b[0m         arr\u001b[39m.\u001b[39mflags\u001b[39m.\u001b[39mwriteable \u001b[39m=\u001b[39m \u001b[39mFalse\u001b[39;00m\n\u001b[0;32m   1731\u001b[0m \u001b[39melse\u001b[39;00m:\n\u001b[1;32m-> 1732\u001b[0m     arr \u001b[39m=\u001b[39m \u001b[39mself\u001b[39;49m\u001b[39m.\u001b[39;49m_interleave(dtype\u001b[39m=\u001b[39;49mdtype, na_value\u001b[39m=\u001b[39;49mna_value)\n\u001b[0;32m   1733\u001b[0m     \u001b[39m# The underlying data was copied within _interleave, so no need\u001b[39;00m\n\u001b[0;32m   1734\u001b[0m     \u001b[39m# to further copy if copy=True or setting na_value\u001b[39;00m\n\u001b[0;32m   1736\u001b[0m \u001b[39mif\u001b[39;00m na_value \u001b[39mis\u001b[39;00m \u001b[39mnot\u001b[39;00m lib\u001b[39m.\u001b[39mno_default:\n",
      "File \u001b[1;32mc:\\prog\\python311\\Lib\\site-packages\\pandas\\core\\internals\\managers.py:1794\u001b[0m, in \u001b[0;36mBlockManager._interleave\u001b[1;34m(self, dtype, na_value)\u001b[0m\n\u001b[0;32m   1792\u001b[0m     \u001b[39melse\u001b[39;00m:\n\u001b[0;32m   1793\u001b[0m         arr \u001b[39m=\u001b[39m blk\u001b[39m.\u001b[39mget_values(dtype)\n\u001b[1;32m-> 1794\u001b[0m     result[rl\u001b[39m.\u001b[39;49mindexer] \u001b[39m=\u001b[39m arr\n\u001b[0;32m   1795\u001b[0m     itemmask[rl\u001b[39m.\u001b[39mindexer] \u001b[39m=\u001b[39m \u001b[39m1\u001b[39m\n\u001b[0;32m   1797\u001b[0m \u001b[39mif\u001b[39;00m \u001b[39mnot\u001b[39;00m itemmask\u001b[39m.\u001b[39mall():\n",
      "\u001b[1;31mValueError\u001b[0m: could not convert string to float: '01/12/2017'"
     ]
    }
   ],
   "source": [
    "bikes.corr()"
   ]
  },
  {
   "cell_type": "markdown",
   "metadata": {},
   "source": [
    "Хитрость: можно найти корреляции между всеми числовыми столбцами.\n",
    "Для этого нужно выбрать столбцы по типу данных"
   ]
  },
  {
   "cell_type": "code",
   "execution_count": 159,
   "metadata": {},
   "outputs": [
    {
     "name": "stdout",
     "output_type": "stream",
     "text": [
      "<class 'pandas.core.frame.DataFrame'>\n",
      "RangeIndex: 8760 entries, 0 to 8759\n",
      "Data columns (total 12 columns):\n",
      " #   Column           Non-Null Count  Dtype  \n",
      "---  ------           --------------  -----  \n",
      " 0   Date             8760 non-null   object \n",
      " 1   Hour             8760 non-null   int64  \n",
      " 2   Temperature      8581 non-null   float64\n",
      " 3   Humidity         8760 non-null   int64  \n",
      " 4   Wind speed       8760 non-null   float64\n",
      " 5   Rainfall         8760 non-null   float64\n",
      " 6   Snowfall         8760 non-null   float64\n",
      " 7   Seasons          8760 non-null   object \n",
      " 8   Holiday          8760 non-null   object \n",
      " 9   Functioning Day  8760 non-null   object \n",
      " 10  Partner 1        8760 non-null   int64  \n",
      " 11  Partner 2        8760 non-null   int64  \n",
      "dtypes: float64(4), int64(4), object(4)\n",
      "memory usage: 821.4+ KB\n"
     ]
    }
   ],
   "source": [
    "bikes.info()"
   ]
  },
  {
   "cell_type": "code",
   "execution_count": null,
   "metadata": {},
   "outputs": [
    {
     "name": "stdout",
     "output_type": "stream",
     "text": [
      "Help on method select_dtypes in module pandas.core.frame:\n",
      "\n",
      "select_dtypes(include=None, exclude=None) -> 'DataFrame' method of pandas.core.frame.DataFrame instance\n",
      "    Return a subset of the DataFrame's columns based on the column dtypes.\n",
      "    \n",
      "    Parameters\n",
      "    ----------\n",
      "    include, exclude : scalar or list-like\n",
      "        A selection of dtypes or strings to be included/excluded. At least\n",
      "        one of these parameters must be supplied.\n",
      "    \n",
      "    Returns\n",
      "    -------\n",
      "    DataFrame\n",
      "        The subset of the frame including the dtypes in ``include`` and\n",
      "        excluding the dtypes in ``exclude``.\n",
      "    \n",
      "    Raises\n",
      "    ------\n",
      "    ValueError\n",
      "        * If both of ``include`` and ``exclude`` are empty\n",
      "        * If ``include`` and ``exclude`` have overlapping elements\n",
      "        * If any kind of string dtype is passed in.\n",
      "    \n",
      "    See Also\n",
      "    --------\n",
      "    DataFrame.dtypes: Return Series with the data type of each column.\n",
      "    \n",
      "    Notes\n",
      "    -----\n",
      "    * To select all *numeric* types, use ``np.number`` or ``'number'``\n",
      "    * To select strings you must use the ``object`` dtype, but note that\n",
      "      this will return *all* object dtype columns\n",
      "    * See the `numpy dtype hierarchy\n",
      "      <https://numpy.org/doc/stable/reference/arrays.scalars.html>`__\n",
      "    * To select datetimes, use ``np.datetime64``, ``'datetime'`` or\n",
      "      ``'datetime64'``\n",
      "    * To select timedeltas, use ``np.timedelta64``, ``'timedelta'`` or\n",
      "      ``'timedelta64'``\n",
      "    * To select Pandas categorical dtypes, use ``'category'``\n",
      "    * To select Pandas datetimetz dtypes, use ``'datetimetz'`` (new in\n",
      "      0.20.0) or ``'datetime64[ns, tz]'``\n",
      "    \n",
      "    Examples\n",
      "    --------\n",
      "    >>> df = pd.DataFrame({'a': [1, 2] * 3,\n",
      "    ...                    'b': [True, False] * 3,\n",
      "    ...                    'c': [1.0, 2.0] * 3})\n",
      "    >>> df\n",
      "            a      b  c\n",
      "    0       1   True  1.0\n",
      "    1       2  False  2.0\n",
      "    2       1   True  1.0\n",
      "    3       2  False  2.0\n",
      "    4       1   True  1.0\n",
      "    5       2  False  2.0\n",
      "    \n",
      "    >>> df.select_dtypes(include='bool')\n",
      "       b\n",
      "    0  True\n",
      "    1  False\n",
      "    2  True\n",
      "    3  False\n",
      "    4  True\n",
      "    5  False\n",
      "    \n",
      "    >>> df.select_dtypes(include=['float64'])\n",
      "       c\n",
      "    0  1.0\n",
      "    1  2.0\n",
      "    2  1.0\n",
      "    3  2.0\n",
      "    4  1.0\n",
      "    5  2.0\n",
      "    \n",
      "    >>> df.select_dtypes(exclude=['int64'])\n",
      "           b    c\n",
      "    0   True  1.0\n",
      "    1  False  2.0\n",
      "    2   True  1.0\n",
      "    3  False  2.0\n",
      "    4   True  1.0\n",
      "    5  False  2.0\n",
      "\n"
     ]
    }
   ],
   "source": [
    "help(bikes.select_dtypes)"
   ]
  },
  {
   "cell_type": "code",
   "execution_count": 164,
   "metadata": {},
   "outputs": [
    {
     "data": {
      "text/html": [
       "<div>\n",
       "<style scoped>\n",
       "    .dataframe tbody tr th:only-of-type {\n",
       "        vertical-align: middle;\n",
       "    }\n",
       "\n",
       "    .dataframe tbody tr th {\n",
       "        vertical-align: top;\n",
       "    }\n",
       "\n",
       "    .dataframe thead th {\n",
       "        text-align: right;\n",
       "    }\n",
       "</style>\n",
       "<table border=\"1\" class=\"dataframe\">\n",
       "  <thead>\n",
       "    <tr style=\"text-align: right;\">\n",
       "      <th></th>\n",
       "      <th>Hour</th>\n",
       "      <th>Temperature</th>\n",
       "      <th>Humidity</th>\n",
       "      <th>Wind speed</th>\n",
       "      <th>Rainfall</th>\n",
       "      <th>Snowfall</th>\n",
       "      <th>Partner 1</th>\n",
       "      <th>Partner 2</th>\n",
       "    </tr>\n",
       "  </thead>\n",
       "  <tbody>\n",
       "    <tr>\n",
       "      <th>0</th>\n",
       "      <td>0</td>\n",
       "      <td>-5.2</td>\n",
       "      <td>37</td>\n",
       "      <td>2.2</td>\n",
       "      <td>0.0</td>\n",
       "      <td>0.0</td>\n",
       "      <td>207</td>\n",
       "      <td>50</td>\n",
       "    </tr>\n",
       "    <tr>\n",
       "      <th>1</th>\n",
       "      <td>1</td>\n",
       "      <td>-5.5</td>\n",
       "      <td>38</td>\n",
       "      <td>0.8</td>\n",
       "      <td>0.0</td>\n",
       "      <td>0.0</td>\n",
       "      <td>139</td>\n",
       "      <td>80</td>\n",
       "    </tr>\n",
       "    <tr>\n",
       "      <th>2</th>\n",
       "      <td>2</td>\n",
       "      <td>-6.0</td>\n",
       "      <td>39</td>\n",
       "      <td>1.0</td>\n",
       "      <td>0.0</td>\n",
       "      <td>0.0</td>\n",
       "      <td>22</td>\n",
       "      <td>140</td>\n",
       "    </tr>\n",
       "    <tr>\n",
       "      <th>3</th>\n",
       "      <td>3</td>\n",
       "      <td>-6.2</td>\n",
       "      <td>40</td>\n",
       "      <td>0.9</td>\n",
       "      <td>0.0</td>\n",
       "      <td>0.0</td>\n",
       "      <td>43</td>\n",
       "      <td>105</td>\n",
       "    </tr>\n",
       "    <tr>\n",
       "      <th>4</th>\n",
       "      <td>4</td>\n",
       "      <td>-6.0</td>\n",
       "      <td>36</td>\n",
       "      <td>2.3</td>\n",
       "      <td>0.0</td>\n",
       "      <td>0.0</td>\n",
       "      <td>59</td>\n",
       "      <td>38</td>\n",
       "    </tr>\n",
       "    <tr>\n",
       "      <th>...</th>\n",
       "      <td>...</td>\n",
       "      <td>...</td>\n",
       "      <td>...</td>\n",
       "      <td>...</td>\n",
       "      <td>...</td>\n",
       "      <td>...</td>\n",
       "      <td>...</td>\n",
       "      <td>...</td>\n",
       "    </tr>\n",
       "    <tr>\n",
       "      <th>8755</th>\n",
       "      <td>19</td>\n",
       "      <td>4.2</td>\n",
       "      <td>34</td>\n",
       "      <td>2.6</td>\n",
       "      <td>0.0</td>\n",
       "      <td>0.0</td>\n",
       "      <td>467</td>\n",
       "      <td>177</td>\n",
       "    </tr>\n",
       "    <tr>\n",
       "      <th>8756</th>\n",
       "      <td>20</td>\n",
       "      <td>3.4</td>\n",
       "      <td>37</td>\n",
       "      <td>2.3</td>\n",
       "      <td>0.0</td>\n",
       "      <td>0.0</td>\n",
       "      <td>296</td>\n",
       "      <td>63</td>\n",
       "    </tr>\n",
       "    <tr>\n",
       "      <th>8757</th>\n",
       "      <td>21</td>\n",
       "      <td>2.6</td>\n",
       "      <td>39</td>\n",
       "      <td>0.3</td>\n",
       "      <td>0.0</td>\n",
       "      <td>0.0</td>\n",
       "      <td>571</td>\n",
       "      <td>665</td>\n",
       "    </tr>\n",
       "    <tr>\n",
       "      <th>8758</th>\n",
       "      <td>22</td>\n",
       "      <td>2.1</td>\n",
       "      <td>41</td>\n",
       "      <td>1.0</td>\n",
       "      <td>0.0</td>\n",
       "      <td>0.0</td>\n",
       "      <td>171</td>\n",
       "      <td>457</td>\n",
       "    </tr>\n",
       "    <tr>\n",
       "      <th>8759</th>\n",
       "      <td>23</td>\n",
       "      <td>1.9</td>\n",
       "      <td>43</td>\n",
       "      <td>1.3</td>\n",
       "      <td>0.0</td>\n",
       "      <td>0.0</td>\n",
       "      <td>442</td>\n",
       "      <td>401</td>\n",
       "    </tr>\n",
       "  </tbody>\n",
       "</table>\n",
       "<p>8760 rows × 8 columns</p>\n",
       "</div>"
      ],
      "text/plain": [
       "      Hour  Temperature  Humidity  Wind speed  Rainfall  Snowfall  Partner 1  \\\n",
       "0        0         -5.2        37         2.2       0.0       0.0        207   \n",
       "1        1         -5.5        38         0.8       0.0       0.0        139   \n",
       "2        2         -6.0        39         1.0       0.0       0.0         22   \n",
       "3        3         -6.2        40         0.9       0.0       0.0         43   \n",
       "4        4         -6.0        36         2.3       0.0       0.0         59   \n",
       "...    ...          ...       ...         ...       ...       ...        ...   \n",
       "8755    19          4.2        34         2.6       0.0       0.0        467   \n",
       "8756    20          3.4        37         2.3       0.0       0.0        296   \n",
       "8757    21          2.6        39         0.3       0.0       0.0        571   \n",
       "8758    22          2.1        41         1.0       0.0       0.0        171   \n",
       "8759    23          1.9        43         1.3       0.0       0.0        442   \n",
       "\n",
       "      Partner 2  \n",
       "0            50  \n",
       "1            80  \n",
       "2           140  \n",
       "3           105  \n",
       "4            38  \n",
       "...         ...  \n",
       "8755        177  \n",
       "8756         63  \n",
       "8757        665  \n",
       "8758        457  \n",
       "8759        401  \n",
       "\n",
       "[8760 rows x 8 columns]"
      ]
     },
     "execution_count": 164,
     "metadata": {},
     "output_type": "execute_result"
    }
   ],
   "source": [
    "numeric_cols_bikes = bikes.select_dtypes(exclude=\"object\")\n",
    "numeric_cols_bikes"
   ]
  },
  {
   "cell_type": "code",
   "execution_count": 165,
   "metadata": {},
   "outputs": [
    {
     "data": {
      "text/html": [
       "<div>\n",
       "<style scoped>\n",
       "    .dataframe tbody tr th:only-of-type {\n",
       "        vertical-align: middle;\n",
       "    }\n",
       "\n",
       "    .dataframe tbody tr th {\n",
       "        vertical-align: top;\n",
       "    }\n",
       "\n",
       "    .dataframe thead th {\n",
       "        text-align: right;\n",
       "    }\n",
       "</style>\n",
       "<table border=\"1\" class=\"dataframe\">\n",
       "  <thead>\n",
       "    <tr style=\"text-align: right;\">\n",
       "      <th></th>\n",
       "      <th>Hour</th>\n",
       "      <th>Temperature</th>\n",
       "      <th>Humidity</th>\n",
       "      <th>Wind speed</th>\n",
       "      <th>Rainfall</th>\n",
       "      <th>Snowfall</th>\n",
       "      <th>Partner 1</th>\n",
       "      <th>Partner 2</th>\n",
       "    </tr>\n",
       "  </thead>\n",
       "  <tbody>\n",
       "    <tr>\n",
       "      <th>Hour</th>\n",
       "      <td>1.000000</td>\n",
       "      <td>0.123090</td>\n",
       "      <td>-0.241644</td>\n",
       "      <td>0.285197</td>\n",
       "      <td>0.008715</td>\n",
       "      <td>-0.021516</td>\n",
       "      <td>0.314558</td>\n",
       "      <td>0.301520</td>\n",
       "    </tr>\n",
       "    <tr>\n",
       "      <th>Temperature</th>\n",
       "      <td>0.123090</td>\n",
       "      <td>1.000000</td>\n",
       "      <td>0.161933</td>\n",
       "      <td>-0.037797</td>\n",
       "      <td>0.050167</td>\n",
       "      <td>-0.220160</td>\n",
       "      <td>0.409111</td>\n",
       "      <td>0.402664</td>\n",
       "    </tr>\n",
       "    <tr>\n",
       "      <th>Humidity</th>\n",
       "      <td>-0.241644</td>\n",
       "      <td>0.161933</td>\n",
       "      <td>1.000000</td>\n",
       "      <td>-0.336683</td>\n",
       "      <td>0.236397</td>\n",
       "      <td>0.108183</td>\n",
       "      <td>-0.149301</td>\n",
       "      <td>-0.151990</td>\n",
       "    </tr>\n",
       "    <tr>\n",
       "      <th>Wind speed</th>\n",
       "      <td>0.285197</td>\n",
       "      <td>-0.037797</td>\n",
       "      <td>-0.336683</td>\n",
       "      <td>1.000000</td>\n",
       "      <td>-0.019674</td>\n",
       "      <td>-0.003554</td>\n",
       "      <td>0.087161</td>\n",
       "      <td>0.086745</td>\n",
       "    </tr>\n",
       "    <tr>\n",
       "      <th>Rainfall</th>\n",
       "      <td>0.008715</td>\n",
       "      <td>0.050167</td>\n",
       "      <td>0.236397</td>\n",
       "      <td>-0.019674</td>\n",
       "      <td>1.000000</td>\n",
       "      <td>0.008500</td>\n",
       "      <td>-0.092278</td>\n",
       "      <td>-0.092201</td>\n",
       "    </tr>\n",
       "    <tr>\n",
       "      <th>Snowfall</th>\n",
       "      <td>-0.021516</td>\n",
       "      <td>-0.220160</td>\n",
       "      <td>0.108183</td>\n",
       "      <td>-0.003554</td>\n",
       "      <td>0.008500</td>\n",
       "      <td>1.000000</td>\n",
       "      <td>-0.106401</td>\n",
       "      <td>-0.108967</td>\n",
       "    </tr>\n",
       "    <tr>\n",
       "      <th>Partner 1</th>\n",
       "      <td>0.314558</td>\n",
       "      <td>0.409111</td>\n",
       "      <td>-0.149301</td>\n",
       "      <td>0.087161</td>\n",
       "      <td>-0.092278</td>\n",
       "      <td>-0.106401</td>\n",
       "      <td>1.000000</td>\n",
       "      <td>0.587846</td>\n",
       "    </tr>\n",
       "    <tr>\n",
       "      <th>Partner 2</th>\n",
       "      <td>0.301520</td>\n",
       "      <td>0.402664</td>\n",
       "      <td>-0.151990</td>\n",
       "      <td>0.086745</td>\n",
       "      <td>-0.092201</td>\n",
       "      <td>-0.108967</td>\n",
       "      <td>0.587846</td>\n",
       "      <td>1.000000</td>\n",
       "    </tr>\n",
       "  </tbody>\n",
       "</table>\n",
       "</div>"
      ],
      "text/plain": [
       "                 Hour  Temperature  Humidity  Wind speed  Rainfall  Snowfall  \\\n",
       "Hour         1.000000     0.123090 -0.241644    0.285197  0.008715 -0.021516   \n",
       "Temperature  0.123090     1.000000  0.161933   -0.037797  0.050167 -0.220160   \n",
       "Humidity    -0.241644     0.161933  1.000000   -0.336683  0.236397  0.108183   \n",
       "Wind speed   0.285197    -0.037797 -0.336683    1.000000 -0.019674 -0.003554   \n",
       "Rainfall     0.008715     0.050167  0.236397   -0.019674  1.000000  0.008500   \n",
       "Snowfall    -0.021516    -0.220160  0.108183   -0.003554  0.008500  1.000000   \n",
       "Partner 1    0.314558     0.409111 -0.149301    0.087161 -0.092278 -0.106401   \n",
       "Partner 2    0.301520     0.402664 -0.151990    0.086745 -0.092201 -0.108967   \n",
       "\n",
       "             Partner 1  Partner 2  \n",
       "Hour          0.314558   0.301520  \n",
       "Temperature   0.409111   0.402664  \n",
       "Humidity     -0.149301  -0.151990  \n",
       "Wind speed    0.087161   0.086745  \n",
       "Rainfall     -0.092278  -0.092201  \n",
       "Snowfall     -0.106401  -0.108967  \n",
       "Partner 1     1.000000   0.587846  \n",
       "Partner 2     0.587846   1.000000  "
      ]
     },
     "execution_count": 165,
     "metadata": {},
     "output_type": "execute_result"
    }
   ],
   "source": [
    "numeric_cols_bikes.corr()"
   ]
  },
  {
   "cell_type": "markdown",
   "metadata": {},
   "source": [
    "или так..."
   ]
  },
  {
   "cell_type": "code",
   "execution_count": 170,
   "metadata": {},
   "outputs": [
    {
     "data": {
      "text/html": [
       "<div>\n",
       "<style scoped>\n",
       "    .dataframe tbody tr th:only-of-type {\n",
       "        vertical-align: middle;\n",
       "    }\n",
       "\n",
       "    .dataframe tbody tr th {\n",
       "        vertical-align: top;\n",
       "    }\n",
       "\n",
       "    .dataframe thead th {\n",
       "        text-align: right;\n",
       "    }\n",
       "</style>\n",
       "<table border=\"1\" class=\"dataframe\">\n",
       "  <thead>\n",
       "    <tr style=\"text-align: right;\">\n",
       "      <th></th>\n",
       "      <th>Hour</th>\n",
       "      <th>Temperature</th>\n",
       "      <th>Humidity</th>\n",
       "      <th>Wind speed</th>\n",
       "      <th>Rainfall</th>\n",
       "      <th>Snowfall</th>\n",
       "      <th>Partner 1</th>\n",
       "      <th>Partner 2</th>\n",
       "    </tr>\n",
       "  </thead>\n",
       "  <tbody>\n",
       "    <tr>\n",
       "      <th>Hour</th>\n",
       "      <td>1.000000</td>\n",
       "      <td>0.123090</td>\n",
       "      <td>-0.241644</td>\n",
       "      <td>0.285197</td>\n",
       "      <td>0.008715</td>\n",
       "      <td>-0.021516</td>\n",
       "      <td>0.314558</td>\n",
       "      <td>0.301520</td>\n",
       "    </tr>\n",
       "    <tr>\n",
       "      <th>Temperature</th>\n",
       "      <td>0.123090</td>\n",
       "      <td>1.000000</td>\n",
       "      <td>0.161933</td>\n",
       "      <td>-0.037797</td>\n",
       "      <td>0.050167</td>\n",
       "      <td>-0.220160</td>\n",
       "      <td>0.409111</td>\n",
       "      <td>0.402664</td>\n",
       "    </tr>\n",
       "    <tr>\n",
       "      <th>Humidity</th>\n",
       "      <td>-0.241644</td>\n",
       "      <td>0.161933</td>\n",
       "      <td>1.000000</td>\n",
       "      <td>-0.336683</td>\n",
       "      <td>0.236397</td>\n",
       "      <td>0.108183</td>\n",
       "      <td>-0.149301</td>\n",
       "      <td>-0.151990</td>\n",
       "    </tr>\n",
       "    <tr>\n",
       "      <th>Wind speed</th>\n",
       "      <td>0.285197</td>\n",
       "      <td>-0.037797</td>\n",
       "      <td>-0.336683</td>\n",
       "      <td>1.000000</td>\n",
       "      <td>-0.019674</td>\n",
       "      <td>-0.003554</td>\n",
       "      <td>0.087161</td>\n",
       "      <td>0.086745</td>\n",
       "    </tr>\n",
       "    <tr>\n",
       "      <th>Rainfall</th>\n",
       "      <td>0.008715</td>\n",
       "      <td>0.050167</td>\n",
       "      <td>0.236397</td>\n",
       "      <td>-0.019674</td>\n",
       "      <td>1.000000</td>\n",
       "      <td>0.008500</td>\n",
       "      <td>-0.092278</td>\n",
       "      <td>-0.092201</td>\n",
       "    </tr>\n",
       "    <tr>\n",
       "      <th>Snowfall</th>\n",
       "      <td>-0.021516</td>\n",
       "      <td>-0.220160</td>\n",
       "      <td>0.108183</td>\n",
       "      <td>-0.003554</td>\n",
       "      <td>0.008500</td>\n",
       "      <td>1.000000</td>\n",
       "      <td>-0.106401</td>\n",
       "      <td>-0.108967</td>\n",
       "    </tr>\n",
       "    <tr>\n",
       "      <th>Partner 1</th>\n",
       "      <td>0.314558</td>\n",
       "      <td>0.409111</td>\n",
       "      <td>-0.149301</td>\n",
       "      <td>0.087161</td>\n",
       "      <td>-0.092278</td>\n",
       "      <td>-0.106401</td>\n",
       "      <td>1.000000</td>\n",
       "      <td>0.587846</td>\n",
       "    </tr>\n",
       "    <tr>\n",
       "      <th>Partner 2</th>\n",
       "      <td>0.301520</td>\n",
       "      <td>0.402664</td>\n",
       "      <td>-0.151990</td>\n",
       "      <td>0.086745</td>\n",
       "      <td>-0.092201</td>\n",
       "      <td>-0.108967</td>\n",
       "      <td>0.587846</td>\n",
       "      <td>1.000000</td>\n",
       "    </tr>\n",
       "  </tbody>\n",
       "</table>\n",
       "</div>"
      ],
      "text/plain": [
       "                 Hour  Temperature  Humidity  Wind speed  Rainfall  Snowfall  \\\n",
       "Hour         1.000000     0.123090 -0.241644    0.285197  0.008715 -0.021516   \n",
       "Temperature  0.123090     1.000000  0.161933   -0.037797  0.050167 -0.220160   \n",
       "Humidity    -0.241644     0.161933  1.000000   -0.336683  0.236397  0.108183   \n",
       "Wind speed   0.285197    -0.037797 -0.336683    1.000000 -0.019674 -0.003554   \n",
       "Rainfall     0.008715     0.050167  0.236397   -0.019674  1.000000  0.008500   \n",
       "Snowfall    -0.021516    -0.220160  0.108183   -0.003554  0.008500  1.000000   \n",
       "Partner 1    0.314558     0.409111 -0.149301    0.087161 -0.092278 -0.106401   \n",
       "Partner 2    0.301520     0.402664 -0.151990    0.086745 -0.092201 -0.108967   \n",
       "\n",
       "             Partner 1  Partner 2  \n",
       "Hour          0.314558   0.301520  \n",
       "Temperature   0.409111   0.402664  \n",
       "Humidity     -0.149301  -0.151990  \n",
       "Wind speed    0.087161   0.086745  \n",
       "Rainfall     -0.092278  -0.092201  \n",
       "Snowfall     -0.106401  -0.108967  \n",
       "Partner 1     1.000000   0.587846  \n",
       "Partner 2     0.587846   1.000000  "
      ]
     },
     "execution_count": 170,
     "metadata": {},
     "output_type": "execute_result"
    }
   ],
   "source": [
    "bikes.corr(numeric_only=True)"
   ]
  },
  {
   "cell_type": "code",
   "execution_count": 172,
   "metadata": {},
   "outputs": [
    {
     "name": "stdout",
     "output_type": "stream",
     "text": [
      "Hour\n",
      "Hour         1.000000\n",
      "Partner 1    0.314558\n",
      "Partner 2    0.301520\n",
      "Name: Hour, dtype: float64\n",
      "Temperature\n",
      "Temperature    1.000000\n",
      "Partner 1      0.409111\n",
      "Partner 2      0.402664\n",
      "Name: Temperature, dtype: float64\n",
      "Humidity\n",
      "Humidity       1.000000\n",
      "Rainfall       0.236397\n",
      "Temperature    0.161933\n",
      "Name: Humidity, dtype: float64\n",
      "Wind speed\n",
      "Wind speed    1.000000\n",
      "Hour          0.285197\n",
      "Partner 1     0.087161\n",
      "Name: Wind speed, dtype: float64\n",
      "Rainfall\n",
      "Rainfall       1.000000\n",
      "Humidity       0.236397\n",
      "Temperature    0.050167\n",
      "Name: Rainfall, dtype: float64\n",
      "Snowfall\n",
      "Snowfall    1.000000\n",
      "Humidity    0.108183\n",
      "Rainfall    0.008500\n",
      "Name: Snowfall, dtype: float64\n",
      "Partner 1\n",
      "Partner 1      1.000000\n",
      "Partner 2      0.587846\n",
      "Temperature    0.409111\n",
      "Name: Partner 1, dtype: float64\n",
      "Partner 2\n",
      "Partner 2      1.000000\n",
      "Partner 1      0.587846\n",
      "Temperature    0.402664\n",
      "Name: Partner 2, dtype: float64\n"
     ]
    }
   ],
   "source": [
    "for col in numeric_cols_bikes.columns:\n",
    "    print(col, numeric_cols_bikes.corr()[col].nlargest(3), sep=\"\\n\")"
   ]
  },
  {
   "cell_type": "markdown",
   "metadata": {},
   "source": [
    "Самое большое значение корреляции у количеств аренды велосипедов в прокатных центрах — `Partner 1` - `Partner 2`"
   ]
  },
  {
   "cell_type": "markdown",
   "metadata": {},
   "source": [
    "## \\* Продвинутые модели, сложная регрессия"
   ]
  },
  {
   "cell_type": "markdown",
   "metadata": {},
   "source": [
    "Более сложные модели можно построить разными способами, например с помощью языка R :D\n",
    "\n",
    "В питоне хорош пакет `statsmodels`"
   ]
  },
  {
   "cell_type": "code",
   "execution_count": null,
   "metadata": {},
   "outputs": [],
   "source": [
    "!conda install statsmodels"
   ]
  },
  {
   "cell_type": "code",
   "execution_count": 1,
   "metadata": {},
   "outputs": [
    {
     "name": "stdout",
     "output_type": "stream",
     "text": [
      "Collecting statsmodels\n",
      "  Using cached statsmodels-0.14.0-cp311-cp311-win_amd64.whl (9.2 MB)\n",
      "Requirement already satisfied: numpy>=1.18 in c:\\prog\\python311\\lib\\site-packages (from statsmodels) (1.25.0)\n",
      "Requirement already satisfied: scipy!=1.9.2,>=1.4 in c:\\prog\\python311\\lib\\site-packages (from statsmodels) (1.11.3)\n",
      "Requirement already satisfied: pandas>=1.0 in c:\\prog\\python311\\lib\\site-packages (from statsmodels) (2.0.3)\n",
      "Collecting patsy>=0.5.2 (from statsmodels)\n",
      "  Downloading patsy-0.5.4-py2.py3-none-any.whl (233 kB)\n",
      "                                              0.0/233.9 kB ? eta -:--:--\n",
      "     ----------                              61.4/233.9 kB 1.1 MB/s eta 0:00:01\n",
      "     ------------------------------------   225.3/233.9 kB 2.3 MB/s eta 0:00:01\n",
      "     -------------------------------------- 233.9/233.9 kB 1.8 MB/s eta 0:00:00\n",
      "Requirement already satisfied: packaging>=21.3 in c:\\prog\\python311\\lib\\site-packages (from statsmodels) (23.1)\n",
      "Requirement already satisfied: python-dateutil>=2.8.2 in c:\\prog\\python311\\lib\\site-packages (from pandas>=1.0->statsmodels) (2.8.2)\n",
      "Requirement already satisfied: pytz>=2020.1 in c:\\prog\\python311\\lib\\site-packages (from pandas>=1.0->statsmodels) (2023.3)\n",
      "Requirement already satisfied: tzdata>=2022.1 in c:\\prog\\python311\\lib\\site-packages (from pandas>=1.0->statsmodels) (2023.3)\n",
      "Requirement already satisfied: six in c:\\prog\\python311\\lib\\site-packages (from patsy>=0.5.2->statsmodels) (1.16.0)\n",
      "Installing collected packages: patsy, statsmodels\n",
      "Successfully installed patsy-0.5.4 statsmodels-0.14.0\n"
     ]
    },
    {
     "name": "stderr",
     "output_type": "stream",
     "text": [
      "\n",
      "[notice] A new release of pip is available: 23.1.2 -> 23.3.1\n",
      "[notice] To update, run: python.exe -m pip install --upgrade pip\n"
     ]
    }
   ],
   "source": [
    "!python -m pip install statsmodels"
   ]
  },
  {
   "cell_type": "code",
   "execution_count": 7,
   "metadata": {},
   "outputs": [],
   "source": [
    "import statsmodels.api as sm\n",
    "import statsmodels.formula.api as smf"
   ]
  },
  {
   "cell_type": "code",
   "execution_count": 10,
   "metadata": {},
   "outputs": [],
   "source": [
    "X = [3, 1, 4, 2, 5]\n",
    "Y = [8, 5, 6, 7, 9]\n",
    "test_data = pd.DataFrame(\n",
    "    {\"X\": X, \"Y\": Y}\n",
    ")"
   ]
  },
  {
   "cell_type": "code",
   "execution_count": 13,
   "metadata": {},
   "outputs": [
    {
     "name": "stdout",
     "output_type": "stream",
     "text": [
      "                            OLS Regression Results                            \n",
      "==============================================================================\n",
      "Dep. Variable:                      Y   R-squared:                       0.490\n",
      "Model:                            OLS   Adj. R-squared:                  0.320\n",
      "Method:                 Least Squares   F-statistic:                     2.882\n",
      "Date:                Sat, 09 Dec 2023   Prob (F-statistic):              0.188\n",
      "Time:                        02:26:40   Log-Likelihood:                -7.1442\n",
      "No. Observations:                   5   AIC:                             18.29\n",
      "Df Residuals:                       3   BIC:                             17.51\n",
      "Df Model:                           1                                         \n",
      "Covariance Type:            nonrobust                                         \n",
      "==============================================================================\n",
      "                 coef    std err          t      P>|t|      [0.025      0.975]\n",
      "------------------------------------------------------------------------------\n",
      "Intercept      4.9000      1.367      3.583      0.037       0.548       9.252\n",
      "X              0.7000      0.412      1.698      0.188      -0.612       2.012\n",
      "==============================================================================\n",
      "Omnibus:                          nan   Durbin-Watson:                   1.871\n",
      "Prob(Omnibus):                    nan   Jarque-Bera (JB):                0.655\n",
      "Skew:                          -0.693   Prob(JB):                        0.721\n",
      "Kurtosis:                       1.894   Cond. No.                         8.37\n",
      "==============================================================================\n",
      "\n",
      "Notes:\n",
      "[1] Standard Errors assume that the covariance matrix of the errors is correctly specified.\n"
     ]
    },
    {
     "name": "stderr",
     "output_type": "stream",
     "text": [
      "c:\\prog\\python311\\Lib\\site-packages\\statsmodels\\stats\\stattools.py:74: ValueWarning: omni_normtest is not valid with less than 8 observations; 5 samples were given.\n",
      "  warn(\"omni_normtest is not valid with less than 8 observations; %i \"\n"
     ]
    }
   ],
   "source": [
    "results = smf.ols(\n",
    "    'Y ~ X', data=test_data\n",
    ").fit()\n",
    "\n",
    "print(results.summary())"
   ]
  },
  {
   "cell_type": "markdown",
   "metadata": {},
   "source": [
    "Сами рассчитанные коэффициенты тут:"
   ]
  },
  {
   "cell_type": "code",
   "execution_count": 18,
   "metadata": {},
   "outputs": [
    {
     "name": "stdout",
     "output_type": "stream",
     "text": [
      "Intercept    4.9\n",
      "X            0.7\n",
      "dtype: float64\n"
     ]
    }
   ],
   "source": [
    "print(results.params)"
   ]
  },
  {
   "cell_type": "code",
   "execution_count": 20,
   "metadata": {},
   "outputs": [
    {
     "name": "stdout",
     "output_type": "stream",
     "text": [
      "y = 4.899999999999998 + 0.7x\n"
     ]
    }
   ],
   "source": [
    "print(f\"y = {results.params.Intercept} + {results.params.X}x\")"
   ]
  },
  {
   "cell_type": "markdown",
   "metadata": {},
   "source": [
    "(видим некоторую численную неточность, не ровно 4.9 а 4.899... — это нормально, компьютер по умолчанию не очень хорошо считает вещественные числа)"
   ]
  },
  {
   "cell_type": "markdown",
   "metadata": {},
   "source": [
    "Как видите, `results.summary()` выдаёт очень много всего, мы просто взяли коэффициенты.\n",
    "Но здорово то, что мы можем задать любое уравнение по сложным данным!"
   ]
  },
  {
   "cell_type": "markdown",
   "metadata": {},
   "source": [
    "### Регрессия по набору данных с велосипедами"
   ]
  },
  {
   "cell_type": "code",
   "execution_count": 23,
   "metadata": {},
   "outputs": [
    {
     "data": {
      "text/html": [
       "<div>\n",
       "<style scoped>\n",
       "    .dataframe tbody tr th:only-of-type {\n",
       "        vertical-align: middle;\n",
       "    }\n",
       "\n",
       "    .dataframe tbody tr th {\n",
       "        vertical-align: top;\n",
       "    }\n",
       "\n",
       "    .dataframe thead th {\n",
       "        text-align: right;\n",
       "    }\n",
       "</style>\n",
       "<table border=\"1\" class=\"dataframe\">\n",
       "  <thead>\n",
       "    <tr style=\"text-align: right;\">\n",
       "      <th></th>\n",
       "      <th>Date</th>\n",
       "      <th>Hour</th>\n",
       "      <th>Temperature</th>\n",
       "      <th>Humidity</th>\n",
       "      <th>Wind speed</th>\n",
       "      <th>Rainfall</th>\n",
       "      <th>Snowfall</th>\n",
       "      <th>Seasons</th>\n",
       "      <th>Holiday</th>\n",
       "      <th>Functioning Day</th>\n",
       "      <th>Partner 1</th>\n",
       "      <th>Partner 2</th>\n",
       "      <th>Total</th>\n",
       "    </tr>\n",
       "  </thead>\n",
       "  <tbody>\n",
       "    <tr>\n",
       "      <th>0</th>\n",
       "      <td>01/12/2017</td>\n",
       "      <td>0</td>\n",
       "      <td>-5.2</td>\n",
       "      <td>37</td>\n",
       "      <td>2.2</td>\n",
       "      <td>0.0</td>\n",
       "      <td>0.0</td>\n",
       "      <td>Winter</td>\n",
       "      <td>No Holiday</td>\n",
       "      <td>Yes</td>\n",
       "      <td>207</td>\n",
       "      <td>50</td>\n",
       "      <td>257</td>\n",
       "    </tr>\n",
       "    <tr>\n",
       "      <th>1</th>\n",
       "      <td>01/12/2017</td>\n",
       "      <td>1</td>\n",
       "      <td>-5.5</td>\n",
       "      <td>38</td>\n",
       "      <td>0.8</td>\n",
       "      <td>0.0</td>\n",
       "      <td>0.0</td>\n",
       "      <td>Winter</td>\n",
       "      <td>No Holiday</td>\n",
       "      <td>Yes</td>\n",
       "      <td>139</td>\n",
       "      <td>80</td>\n",
       "      <td>219</td>\n",
       "    </tr>\n",
       "    <tr>\n",
       "      <th>2</th>\n",
       "      <td>01/12/2017</td>\n",
       "      <td>2</td>\n",
       "      <td>-6.0</td>\n",
       "      <td>39</td>\n",
       "      <td>1.0</td>\n",
       "      <td>0.0</td>\n",
       "      <td>0.0</td>\n",
       "      <td>Winter</td>\n",
       "      <td>No Holiday</td>\n",
       "      <td>Yes</td>\n",
       "      <td>22</td>\n",
       "      <td>140</td>\n",
       "      <td>162</td>\n",
       "    </tr>\n",
       "    <tr>\n",
       "      <th>3</th>\n",
       "      <td>01/12/2017</td>\n",
       "      <td>3</td>\n",
       "      <td>-6.2</td>\n",
       "      <td>40</td>\n",
       "      <td>0.9</td>\n",
       "      <td>0.0</td>\n",
       "      <td>0.0</td>\n",
       "      <td>Winter</td>\n",
       "      <td>No Holiday</td>\n",
       "      <td>Yes</td>\n",
       "      <td>43</td>\n",
       "      <td>105</td>\n",
       "      <td>148</td>\n",
       "    </tr>\n",
       "    <tr>\n",
       "      <th>4</th>\n",
       "      <td>01/12/2017</td>\n",
       "      <td>4</td>\n",
       "      <td>-6.0</td>\n",
       "      <td>36</td>\n",
       "      <td>2.3</td>\n",
       "      <td>0.0</td>\n",
       "      <td>0.0</td>\n",
       "      <td>Winter</td>\n",
       "      <td>No Holiday</td>\n",
       "      <td>Yes</td>\n",
       "      <td>59</td>\n",
       "      <td>38</td>\n",
       "      <td>97</td>\n",
       "    </tr>\n",
       "    <tr>\n",
       "      <th>...</th>\n",
       "      <td>...</td>\n",
       "      <td>...</td>\n",
       "      <td>...</td>\n",
       "      <td>...</td>\n",
       "      <td>...</td>\n",
       "      <td>...</td>\n",
       "      <td>...</td>\n",
       "      <td>...</td>\n",
       "      <td>...</td>\n",
       "      <td>...</td>\n",
       "      <td>...</td>\n",
       "      <td>...</td>\n",
       "      <td>...</td>\n",
       "    </tr>\n",
       "    <tr>\n",
       "      <th>8755</th>\n",
       "      <td>30/11/2018</td>\n",
       "      <td>19</td>\n",
       "      <td>4.2</td>\n",
       "      <td>34</td>\n",
       "      <td>2.6</td>\n",
       "      <td>0.0</td>\n",
       "      <td>0.0</td>\n",
       "      <td>Autumn</td>\n",
       "      <td>No Holiday</td>\n",
       "      <td>Yes</td>\n",
       "      <td>467</td>\n",
       "      <td>177</td>\n",
       "      <td>644</td>\n",
       "    </tr>\n",
       "    <tr>\n",
       "      <th>8756</th>\n",
       "      <td>30/11/2018</td>\n",
       "      <td>20</td>\n",
       "      <td>3.4</td>\n",
       "      <td>37</td>\n",
       "      <td>2.3</td>\n",
       "      <td>0.0</td>\n",
       "      <td>0.0</td>\n",
       "      <td>Autumn</td>\n",
       "      <td>No Holiday</td>\n",
       "      <td>Yes</td>\n",
       "      <td>296</td>\n",
       "      <td>63</td>\n",
       "      <td>359</td>\n",
       "    </tr>\n",
       "    <tr>\n",
       "      <th>8757</th>\n",
       "      <td>30/11/2018</td>\n",
       "      <td>21</td>\n",
       "      <td>2.6</td>\n",
       "      <td>39</td>\n",
       "      <td>0.3</td>\n",
       "      <td>0.0</td>\n",
       "      <td>0.0</td>\n",
       "      <td>Autumn</td>\n",
       "      <td>No Holiday</td>\n",
       "      <td>Yes</td>\n",
       "      <td>571</td>\n",
       "      <td>665</td>\n",
       "      <td>1236</td>\n",
       "    </tr>\n",
       "    <tr>\n",
       "      <th>8758</th>\n",
       "      <td>30/11/2018</td>\n",
       "      <td>22</td>\n",
       "      <td>2.1</td>\n",
       "      <td>41</td>\n",
       "      <td>1.0</td>\n",
       "      <td>0.0</td>\n",
       "      <td>0.0</td>\n",
       "      <td>Autumn</td>\n",
       "      <td>No Holiday</td>\n",
       "      <td>Yes</td>\n",
       "      <td>171</td>\n",
       "      <td>457</td>\n",
       "      <td>628</td>\n",
       "    </tr>\n",
       "    <tr>\n",
       "      <th>8759</th>\n",
       "      <td>30/11/2018</td>\n",
       "      <td>23</td>\n",
       "      <td>1.9</td>\n",
       "      <td>43</td>\n",
       "      <td>1.3</td>\n",
       "      <td>0.0</td>\n",
       "      <td>0.0</td>\n",
       "      <td>Autumn</td>\n",
       "      <td>No Holiday</td>\n",
       "      <td>Yes</td>\n",
       "      <td>442</td>\n",
       "      <td>401</td>\n",
       "      <td>843</td>\n",
       "    </tr>\n",
       "  </tbody>\n",
       "</table>\n",
       "<p>8760 rows × 13 columns</p>\n",
       "</div>"
      ],
      "text/plain": [
       "            Date  Hour  Temperature  Humidity  Wind speed  Rainfall  Snowfall  \\\n",
       "0     01/12/2017     0         -5.2        37         2.2       0.0       0.0   \n",
       "1     01/12/2017     1         -5.5        38         0.8       0.0       0.0   \n",
       "2     01/12/2017     2         -6.0        39         1.0       0.0       0.0   \n",
       "3     01/12/2017     3         -6.2        40         0.9       0.0       0.0   \n",
       "4     01/12/2017     4         -6.0        36         2.3       0.0       0.0   \n",
       "...          ...   ...          ...       ...         ...       ...       ...   \n",
       "8755  30/11/2018    19          4.2        34         2.6       0.0       0.0   \n",
       "8756  30/11/2018    20          3.4        37         2.3       0.0       0.0   \n",
       "8757  30/11/2018    21          2.6        39         0.3       0.0       0.0   \n",
       "8758  30/11/2018    22          2.1        41         1.0       0.0       0.0   \n",
       "8759  30/11/2018    23          1.9        43         1.3       0.0       0.0   \n",
       "\n",
       "     Seasons     Holiday Functioning Day  Partner 1  Partner 2  Total  \n",
       "0     Winter  No Holiday             Yes        207         50    257  \n",
       "1     Winter  No Holiday             Yes        139         80    219  \n",
       "2     Winter  No Holiday             Yes         22        140    162  \n",
       "3     Winter  No Holiday             Yes         43        105    148  \n",
       "4     Winter  No Holiday             Yes         59         38     97  \n",
       "...      ...         ...             ...        ...        ...    ...  \n",
       "8755  Autumn  No Holiday             Yes        467        177    644  \n",
       "8756  Autumn  No Holiday             Yes        296         63    359  \n",
       "8757  Autumn  No Holiday             Yes        571        665   1236  \n",
       "8758  Autumn  No Holiday             Yes        171        457    628  \n",
       "8759  Autumn  No Holiday             Yes        442        401    843  \n",
       "\n",
       "[8760 rows x 13 columns]"
      ]
     },
     "execution_count": 23,
     "metadata": {},
     "output_type": "execute_result"
    }
   ],
   "source": [
    "bikes[\"Total\"] = bikes[\"Partner 1\"] + bikes[\"Partner 2\"]\n",
    "bikes"
   ]
  },
  {
   "cell_type": "markdown",
   "metadata": {},
   "source": [
    "#### Total ~ Temperature"
   ]
  },
  {
   "cell_type": "code",
   "execution_count": 26,
   "metadata": {},
   "outputs": [
    {
     "name": "stdout",
     "output_type": "stream",
     "text": [
      "                            OLS Regression Results                            \n",
      "==============================================================================\n",
      "Dep. Variable:                  Total   R-squared:                       0.207\n",
      "Model:                            OLS   Adj. R-squared:                  0.207\n",
      "Method:                 Least Squares   F-statistic:                     2242.\n",
      "Date:                Sat, 09 Dec 2023   Prob (F-statistic):               0.00\n",
      "Time:                        02:37:58   Log-Likelihood:                -68003.\n",
      "No. Observations:                8581   AIC:                         1.360e+05\n",
      "Df Residuals:                    8579   BIC:                         1.360e+05\n",
      "Df Model:                           1                                         \n",
      "Covariance Type:            nonrobust                                         \n",
      "===============================================================================\n",
      "                  coef    std err          t      P>|t|      [0.025      0.975]\n",
      "-------------------------------------------------------------------------------\n",
      "Intercept     329.6584     10.618     31.047      0.000     308.844     350.472\n",
      "Temperature    28.6096      0.604     47.346      0.000      27.425      29.794\n",
      "==============================================================================\n",
      "Omnibus:                     2872.675   Durbin-Watson:                   0.902\n",
      "Prob(Omnibus):                  0.000   Jarque-Bera (JB):            11439.544\n",
      "Skew:                           1.626   Prob(JB):                         0.00\n",
      "Kurtosis:                       7.629   Cond. No.                         25.9\n",
      "==============================================================================\n",
      "\n",
      "Notes:\n",
      "[1] Standard Errors assume that the covariance matrix of the errors is correctly specified.\n"
     ]
    }
   ],
   "source": [
    "results = smf.ols(\n",
    "    'Total ~ Temperature', data=bikes\n",
    ").fit()\n",
    "\n",
    "print(results.summary())"
   ]
  },
  {
   "cell_type": "code",
   "execution_count": 29,
   "metadata": {},
   "outputs": [
    {
     "name": "stdout",
     "output_type": "stream",
     "text": [
      "Total = 329.65840965406596 + 28.609586807803204 * Temperature\n",
      "Total = 329.66 + 28.61 * Temperature\n"
     ]
    }
   ],
   "source": [
    "print(f\"Total = {results.params.Intercept} + {results.params.Temperature} * Temperature\")\n",
    "print(f\"Total = {round(results.params.Intercept, 2)} + {round(results.params.Temperature, 2)} * Temperature\")"
   ]
  },
  {
   "cell_type": "markdown",
   "metadata": {},
   "source": [
    "Коэффициенты значат, что...\n",
    "\n",
    "- Intercept = $329.66$, что когда всё остальное 0, в среднем берут 329.66 велосипедов\n",
    "- $w_\\text{Temperature} = 28.61$, что когда температура повышается на градус берут, в среднем, на 28.61 велосипедов больше "
   ]
  },
  {
   "cell_type": "markdown",
   "metadata": {},
   "source": [
    "#### Total ~ Temperature + Hour"
   ]
  },
  {
   "cell_type": "code",
   "execution_count": 73,
   "metadata": {},
   "outputs": [
    {
     "name": "stdout",
     "output_type": "stream",
     "text": [
      "                            OLS Regression Results                            \n",
      "==============================================================================\n",
      "Dep. Variable:                  Total   R-squared:                       0.292\n",
      "Model:                            OLS   Adj. R-squared:                  0.292\n",
      "Method:                 Least Squares   F-statistic:                     1769.\n",
      "Date:                Sat, 09 Dec 2023   Prob (F-statistic):               0.00\n",
      "Time:                        03:23:39   Log-Likelihood:                -67518.\n",
      "No. Observations:                8581   AIC:                         1.350e+05\n",
      "Df Residuals:                    8578   BIC:                         1.351e+05\n",
      "Df Model:                           2                                         \n",
      "Covariance Type:            nonrobust                                         \n",
      "===============================================================================\n",
      "                  coef    std err          t      P>|t|      [0.025      0.975]\n",
      "-------------------------------------------------------------------------------\n",
      "Intercept      -7.9695     14.546     -0.548      0.584     -36.483      20.544\n",
      "Temperature    26.3387      0.575     45.773      0.000      25.211      27.467\n",
      "Hour           31.8716      0.994     32.062      0.000      29.923      33.820\n",
      "==============================================================================\n",
      "Omnibus:                     2684.432   Durbin-Watson:                   1.053\n",
      "Prob(Omnibus):                  0.000   Jarque-Bera (JB):            10998.969\n",
      "Skew:                           1.498   Prob(JB):                         0.00\n",
      "Kurtosis:                       7.667   Cond. No.                         43.5\n",
      "==============================================================================\n",
      "\n",
      "Notes:\n",
      "[1] Standard Errors assume that the covariance matrix of the errors is correctly specified.\n"
     ]
    }
   ],
   "source": [
    "results = smf.ols(\n",
    "    'Total ~ Temperature + Hour', data=bikes\n",
    ").fit()\n",
    "\n",
    "print(results.summary())"
   ]
  },
  {
   "cell_type": "code",
   "execution_count": 74,
   "metadata": {},
   "outputs": [
    {
     "name": "stdout",
     "output_type": "stream",
     "text": [
      "Total = -7.969534878250242 + 26.33867931894201 * Temperature 31.87156214508179 * Hour \n",
      "Total = -7.97 + 26.34 * Temperature + 31.87 * Hour\n"
     ]
    }
   ],
   "source": [
    "print(f\"Total = {results.params.Intercept} + \"\n",
    "      f\"{results.params.Temperature} * Temperature \"\n",
    "      f\"{results.params.Hour} * Hour \"\n",
    ")\n",
    "print(f\"Total = {round(results.params.Intercept, 2)} \"\n",
    "      f\"+ {round(results.params.Temperature, 2)} * Temperature \"\n",
    "      f\"+ {round(results.params.Hour, 2)} * Hour\"\n",
    ")"
   ]
  },
  {
   "cell_type": "code",
   "execution_count": 75,
   "metadata": {},
   "outputs": [
    {
     "data": {
      "text/plain": [
       "0      -144.938\n",
       "1      -120.970\n",
       "2      -102.270\n",
       "3       -75.668\n",
       "4       -38.530\n",
       "         ...   \n",
       "8755    708.188\n",
       "8756    718.986\n",
       "8757    729.784\n",
       "8758    748.484\n",
       "8759    775.086\n",
       "Name: PredictedTotal2, Length: 8760, dtype: float64"
      ]
     },
     "execution_count": 75,
     "metadata": {},
     "output_type": "execute_result"
    }
   ],
   "source": [
    "bikes[\"PredictedTotal2\"] = -7.97 + 26.34 * bikes[\"Temperature\"] + 31.87 * bikes[\"Hour\"]\n",
    "bikes[\"PredictedTotal2\"]"
   ]
  },
  {
   "cell_type": "code",
   "execution_count": 76,
   "metadata": {},
   "outputs": [
    {
     "data": {
      "text/plain": [
       "<matplotlib.legend.Legend at 0x26f5de192d0>"
      ]
     },
     "execution_count": 76,
     "metadata": {},
     "output_type": "execute_result"
    },
    {
     "data": {
      "image/png": "[encoded data removed]",
      "text/plain": [
       "<Figure size 640x480 with 1 Axes>"
      ]
     },
     "metadata": {},
     "output_type": "display_data"
    }
   ],
   "source": [
    "import matplotlib.pyplot as plt\n",
    "\n",
    "# fig, (ax1, ax2) = plt.subplots(1, 2)\n",
    "plt.hist(bikes[\"Total\"], bins=30, alpha=0.6, color=\"green\", label=\"Истина\")\n",
    "plt.hist(bikes[\"PredictedTotal2\"], bins=30, alpha=0.6, color=\"red\", label=\"Предсказание\")\n",
    "plt.legend()"
   ]
  },
  {
   "cell_type": "markdown",
   "metadata": {},
   "source": [
    "Предсказанные количества (красный) все от -100 до 1500, чаще всего это числа около 700. \n",
    "  Модель предсказывает однообразно!\n",
    "\n",
    "Обратите внимание, что есть отрицательные значения \n",
    "  (сама регрессия этого не ограничивает, только мы понимаем, что такого — отрицательных количеств — у нас быть не может).\n",
    "\n",
    "Хорошо бы добавить категориальные переменные, например рабочий ли день `Functioning Day` ))."
   ]
  },
  {
   "cell_type": "markdown",
   "metadata": {},
   "source": [
    "#### Total ~ Temperature + Hour + FunctioningDay"
   ]
  },
  {
   "cell_type": "code",
   "execution_count": 77,
   "metadata": {},
   "outputs": [
    {
     "data": {
      "text/html": [
       "<div>\n",
       "<style scoped>\n",
       "    .dataframe tbody tr th:only-of-type {\n",
       "        vertical-align: middle;\n",
       "    }\n",
       "\n",
       "    .dataframe tbody tr th {\n",
       "        vertical-align: top;\n",
       "    }\n",
       "\n",
       "    .dataframe thead th {\n",
       "        text-align: right;\n",
       "    }\n",
       "</style>\n",
       "<table border=\"1\" class=\"dataframe\">\n",
       "  <thead>\n",
       "    <tr style=\"text-align: right;\">\n",
       "      <th></th>\n",
       "      <th>Date</th>\n",
       "      <th>Hour</th>\n",
       "      <th>Temperature</th>\n",
       "      <th>Humidity</th>\n",
       "      <th>Wind speed</th>\n",
       "      <th>Rainfall</th>\n",
       "      <th>Snowfall</th>\n",
       "      <th>Seasons</th>\n",
       "      <th>Holiday</th>\n",
       "      <th>FunctioningDay</th>\n",
       "      <th>Partner 1</th>\n",
       "      <th>Partner 2</th>\n",
       "      <th>Total</th>\n",
       "      <th>PredictedTotal2</th>\n",
       "      <th>PredictedTotal3</th>\n",
       "    </tr>\n",
       "  </thead>\n",
       "  <tbody>\n",
       "    <tr>\n",
       "      <th>0</th>\n",
       "      <td>01/12/2017</td>\n",
       "      <td>0</td>\n",
       "      <td>-5.2</td>\n",
       "      <td>37</td>\n",
       "      <td>2.2</td>\n",
       "      <td>0.0</td>\n",
       "      <td>0.0</td>\n",
       "      <td>Winter</td>\n",
       "      <td>No Holiday</td>\n",
       "      <td>Yes</td>\n",
       "      <td>207</td>\n",
       "      <td>50</td>\n",
       "      <td>257</td>\n",
       "      <td>-144.938</td>\n",
       "      <td>-125.982</td>\n",
       "    </tr>\n",
       "    <tr>\n",
       "      <th>1</th>\n",
       "      <td>01/12/2017</td>\n",
       "      <td>1</td>\n",
       "      <td>-5.5</td>\n",
       "      <td>38</td>\n",
       "      <td>0.8</td>\n",
       "      <td>0.0</td>\n",
       "      <td>0.0</td>\n",
       "      <td>Winter</td>\n",
       "      <td>No Holiday</td>\n",
       "      <td>Yes</td>\n",
       "      <td>139</td>\n",
       "      <td>80</td>\n",
       "      <td>219</td>\n",
       "      <td>-120.970</td>\n",
       "      <td>-102.470</td>\n",
       "    </tr>\n",
       "    <tr>\n",
       "      <th>2</th>\n",
       "      <td>01/12/2017</td>\n",
       "      <td>2</td>\n",
       "      <td>-6.0</td>\n",
       "      <td>39</td>\n",
       "      <td>1.0</td>\n",
       "      <td>0.0</td>\n",
       "      <td>0.0</td>\n",
       "      <td>Winter</td>\n",
       "      <td>No Holiday</td>\n",
       "      <td>Yes</td>\n",
       "      <td>22</td>\n",
       "      <td>140</td>\n",
       "      <td>162</td>\n",
       "      <td>-102.270</td>\n",
       "      <td>-84.350</td>\n",
       "    </tr>\n",
       "    <tr>\n",
       "      <th>3</th>\n",
       "      <td>01/12/2017</td>\n",
       "      <td>3</td>\n",
       "      <td>-6.2</td>\n",
       "      <td>40</td>\n",
       "      <td>0.9</td>\n",
       "      <td>0.0</td>\n",
       "      <td>0.0</td>\n",
       "      <td>Winter</td>\n",
       "      <td>No Holiday</td>\n",
       "      <td>Yes</td>\n",
       "      <td>43</td>\n",
       "      <td>105</td>\n",
       "      <td>148</td>\n",
       "      <td>-75.668</td>\n",
       "      <td>-58.142</td>\n",
       "    </tr>\n",
       "    <tr>\n",
       "      <th>4</th>\n",
       "      <td>01/12/2017</td>\n",
       "      <td>4</td>\n",
       "      <td>-6.0</td>\n",
       "      <td>36</td>\n",
       "      <td>2.3</td>\n",
       "      <td>0.0</td>\n",
       "      <td>0.0</td>\n",
       "      <td>Winter</td>\n",
       "      <td>No Holiday</td>\n",
       "      <td>Yes</td>\n",
       "      <td>59</td>\n",
       "      <td>38</td>\n",
       "      <td>97</td>\n",
       "      <td>-38.530</td>\n",
       "      <td>-21.150</td>\n",
       "    </tr>\n",
       "    <tr>\n",
       "      <th>...</th>\n",
       "      <td>...</td>\n",
       "      <td>...</td>\n",
       "      <td>...</td>\n",
       "      <td>...</td>\n",
       "      <td>...</td>\n",
       "      <td>...</td>\n",
       "      <td>...</td>\n",
       "      <td>...</td>\n",
       "      <td>...</td>\n",
       "      <td>...</td>\n",
       "      <td>...</td>\n",
       "      <td>...</td>\n",
       "      <td>...</td>\n",
       "      <td>...</td>\n",
       "      <td>...</td>\n",
       "    </tr>\n",
       "    <tr>\n",
       "      <th>8755</th>\n",
       "      <td>30/11/2018</td>\n",
       "      <td>19</td>\n",
       "      <td>4.2</td>\n",
       "      <td>34</td>\n",
       "      <td>2.6</td>\n",
       "      <td>0.0</td>\n",
       "      <td>0.0</td>\n",
       "      <td>Autumn</td>\n",
       "      <td>No Holiday</td>\n",
       "      <td>Yes</td>\n",
       "      <td>467</td>\n",
       "      <td>177</td>\n",
       "      <td>644</td>\n",
       "      <td>708.188</td>\n",
       "      <td>727.842</td>\n",
       "    </tr>\n",
       "    <tr>\n",
       "      <th>8756</th>\n",
       "      <td>30/11/2018</td>\n",
       "      <td>20</td>\n",
       "      <td>3.4</td>\n",
       "      <td>37</td>\n",
       "      <td>2.3</td>\n",
       "      <td>0.0</td>\n",
       "      <td>0.0</td>\n",
       "      <td>Autumn</td>\n",
       "      <td>No Holiday</td>\n",
       "      <td>Yes</td>\n",
       "      <td>296</td>\n",
       "      <td>63</td>\n",
       "      <td>359</td>\n",
       "      <td>718.986</td>\n",
       "      <td>737.874</td>\n",
       "    </tr>\n",
       "    <tr>\n",
       "      <th>8757</th>\n",
       "      <td>30/11/2018</td>\n",
       "      <td>21</td>\n",
       "      <td>2.6</td>\n",
       "      <td>39</td>\n",
       "      <td>0.3</td>\n",
       "      <td>0.0</td>\n",
       "      <td>0.0</td>\n",
       "      <td>Autumn</td>\n",
       "      <td>No Holiday</td>\n",
       "      <td>Yes</td>\n",
       "      <td>571</td>\n",
       "      <td>665</td>\n",
       "      <td>1236</td>\n",
       "      <td>729.784</td>\n",
       "      <td>747.906</td>\n",
       "    </tr>\n",
       "    <tr>\n",
       "      <th>8758</th>\n",
       "      <td>30/11/2018</td>\n",
       "      <td>22</td>\n",
       "      <td>2.1</td>\n",
       "      <td>41</td>\n",
       "      <td>1.0</td>\n",
       "      <td>0.0</td>\n",
       "      <td>0.0</td>\n",
       "      <td>Autumn</td>\n",
       "      <td>No Holiday</td>\n",
       "      <td>Yes</td>\n",
       "      <td>171</td>\n",
       "      <td>457</td>\n",
       "      <td>628</td>\n",
       "      <td>748.484</td>\n",
       "      <td>766.026</td>\n",
       "    </tr>\n",
       "    <tr>\n",
       "      <th>8759</th>\n",
       "      <td>30/11/2018</td>\n",
       "      <td>23</td>\n",
       "      <td>1.9</td>\n",
       "      <td>43</td>\n",
       "      <td>1.3</td>\n",
       "      <td>0.0</td>\n",
       "      <td>0.0</td>\n",
       "      <td>Autumn</td>\n",
       "      <td>No Holiday</td>\n",
       "      <td>Yes</td>\n",
       "      <td>442</td>\n",
       "      <td>401</td>\n",
       "      <td>843</td>\n",
       "      <td>775.086</td>\n",
       "      <td>792.234</td>\n",
       "    </tr>\n",
       "  </tbody>\n",
       "</table>\n",
       "<p>8760 rows × 15 columns</p>\n",
       "</div>"
      ],
      "text/plain": [
       "            Date  Hour  Temperature  Humidity  Wind speed  Rainfall  Snowfall  \\\n",
       "0     01/12/2017     0         -5.2        37         2.2       0.0       0.0   \n",
       "1     01/12/2017     1         -5.5        38         0.8       0.0       0.0   \n",
       "2     01/12/2017     2         -6.0        39         1.0       0.0       0.0   \n",
       "3     01/12/2017     3         -6.2        40         0.9       0.0       0.0   \n",
       "4     01/12/2017     4         -6.0        36         2.3       0.0       0.0   \n",
       "...          ...   ...          ...       ...         ...       ...       ...   \n",
       "8755  30/11/2018    19          4.2        34         2.6       0.0       0.0   \n",
       "8756  30/11/2018    20          3.4        37         2.3       0.0       0.0   \n",
       "8757  30/11/2018    21          2.6        39         0.3       0.0       0.0   \n",
       "8758  30/11/2018    22          2.1        41         1.0       0.0       0.0   \n",
       "8759  30/11/2018    23          1.9        43         1.3       0.0       0.0   \n",
       "\n",
       "     Seasons     Holiday FunctioningDay  Partner 1  Partner 2  Total  \\\n",
       "0     Winter  No Holiday            Yes        207         50    257   \n",
       "1     Winter  No Holiday            Yes        139         80    219   \n",
       "2     Winter  No Holiday            Yes         22        140    162   \n",
       "3     Winter  No Holiday            Yes         43        105    148   \n",
       "4     Winter  No Holiday            Yes         59         38     97   \n",
       "...      ...         ...            ...        ...        ...    ...   \n",
       "8755  Autumn  No Holiday            Yes        467        177    644   \n",
       "8756  Autumn  No Holiday            Yes        296         63    359   \n",
       "8757  Autumn  No Holiday            Yes        571        665   1236   \n",
       "8758  Autumn  No Holiday            Yes        171        457    628   \n",
       "8759  Autumn  No Holiday            Yes        442        401    843   \n",
       "\n",
       "      PredictedTotal2  PredictedTotal3  \n",
       "0            -144.938         -125.982  \n",
       "1            -120.970         -102.470  \n",
       "2            -102.270          -84.350  \n",
       "3             -75.668          -58.142  \n",
       "4             -38.530          -21.150  \n",
       "...               ...              ...  \n",
       "8755          708.188          727.842  \n",
       "8756          718.986          737.874  \n",
       "8757          729.784          747.906  \n",
       "8758          748.484          766.026  \n",
       "8759          775.086          792.234  \n",
       "\n",
       "[8760 rows x 15 columns]"
      ]
     },
     "execution_count": 77,
     "metadata": {},
     "output_type": "execute_result"
    }
   ],
   "source": [
    "# сперва переименуем\n",
    "bikes = bikes.rename({\"Functioning Day\": \"FunctioningDay\"}, axis=1)\n",
    "bikes"
   ]
  },
  {
   "cell_type": "code",
   "execution_count": 78,
   "metadata": {},
   "outputs": [
    {
     "name": "stdout",
     "output_type": "stream",
     "text": [
      "                            OLS Regression Results                            \n",
      "==============================================================================\n",
      "Dep. Variable:                  Total   R-squared:                       0.329\n",
      "Model:                            OLS   Adj. R-squared:                  0.329\n",
      "Method:                 Least Squares   F-statistic:                     1402.\n",
      "Date:                Sat, 09 Dec 2023   Prob (F-statistic):               0.00\n",
      "Time:                        03:24:04   Log-Likelihood:                -67287.\n",
      "No. Observations:                8581   AIC:                         1.346e+05\n",
      "Df Residuals:                    8577   BIC:                         1.346e+05\n",
      "Df Model:                           3                                         \n",
      "Covariance Type:            nonrobust                                         \n",
      "=========================================================================================\n",
      "                            coef    std err          t      P>|t|      [0.025      0.975]\n",
      "-----------------------------------------------------------------------------------------\n",
      "Intercept              -789.0165     38.564    -20.460      0.000    -864.611    -713.422\n",
      "FunctioningDay[T.Yes]   803.2314     36.889     21.774      0.000     730.921     875.542\n",
      "Temperature              26.9621      0.561     48.068      0.000      25.863      28.062\n",
      "Hour                     31.5969      0.968     32.648      0.000      29.700      33.494\n",
      "==============================================================================\n",
      "Omnibus:                     2853.346   Durbin-Watson:                   1.106\n",
      "Prob(Omnibus):                  0.000   Jarque-Bera (JB):            12666.722\n",
      "Skew:                           1.571   Prob(JB):                         0.00\n",
      "Kurtosis:                       8.055   Cond. No.                         161.\n",
      "==============================================================================\n",
      "\n",
      "Notes:\n",
      "[1] Standard Errors assume that the covariance matrix of the errors is correctly specified.\n"
     ]
    }
   ],
   "source": [
    "results = smf.ols(\n",
    "    'Total ~ Temperature + Hour + FunctioningDay', data=bikes\n",
    ").fit()\n",
    "\n",
    "print(results.summary())"
   ]
  },
  {
   "cell_type": "code",
   "execution_count": 79,
   "metadata": {},
   "outputs": [
    {
     "data": {
      "text/plain": [
       "Intercept               -789.016517\n",
       "FunctioningDay[T.Yes]    803.231422\n",
       "Temperature               26.962118\n",
       "Hour                      31.596925\n",
       "dtype: float64"
      ]
     },
     "execution_count": 79,
     "metadata": {},
     "output_type": "execute_result"
    }
   ],
   "source": [
    "results.params"
   ]
  },
  {
   "cell_type": "code",
   "execution_count": 80,
   "metadata": {},
   "outputs": [
    {
     "name": "stdout",
     "output_type": "stream",
     "text": [
      "Total = -789.0165167297456 + 26.962118011110157 * Temperature + 31.596924862662206 * Hour + 803.2314221550456 * FunctiongDay[=Yes] \n",
      "Total = -789.02 + 26.96 * Temperature + 31.6 * Hour + 803.23 * FunctiongDay[=Yes] \n"
     ]
    }
   ],
   "source": [
    "print(f\"Total = {results.params.Intercept} \"\n",
    "      f\"+ {results.params.Temperature} * Temperature \"\n",
    "      f\"+ {results.params.Hour} * Hour \"\n",
    "      f\"+ {results.params.loc['FunctioningDay[T.Yes]']} * FunctiongDay[=Yes] \"\n",
    ")\n",
    "print(f\"Total = {round(results.params.Intercept, 2)} \"\n",
    "      f\"+ {round(results.params.Temperature, 2)} * Temperature \"\n",
    "      f\"+ {round(results.params.Hour, 2)} * Hour \"\n",
    "      f\"+ {round(results.params.loc['FunctioningDay[T.Yes]'], 2)} * FunctiongDay[=Yes] \"\n",
    ")"
   ]
  },
  {
   "cell_type": "code",
   "execution_count": 81,
   "metadata": {},
   "outputs": [
    {
     "data": {
      "text/html": [
       "<div>\n",
       "<style scoped>\n",
       "    .dataframe tbody tr th:only-of-type {\n",
       "        vertical-align: middle;\n",
       "    }\n",
       "\n",
       "    .dataframe tbody tr th {\n",
       "        vertical-align: top;\n",
       "    }\n",
       "\n",
       "    .dataframe thead th {\n",
       "        text-align: right;\n",
       "    }\n",
       "</style>\n",
       "<table border=\"1\" class=\"dataframe\">\n",
       "  <thead>\n",
       "    <tr style=\"text-align: right;\">\n",
       "      <th></th>\n",
       "      <th>Date</th>\n",
       "      <th>Hour</th>\n",
       "      <th>Temperature</th>\n",
       "      <th>Humidity</th>\n",
       "      <th>Wind speed</th>\n",
       "      <th>Rainfall</th>\n",
       "      <th>Snowfall</th>\n",
       "      <th>Seasons</th>\n",
       "      <th>Holiday</th>\n",
       "      <th>FunctioningDay</th>\n",
       "      <th>Partner 1</th>\n",
       "      <th>Partner 2</th>\n",
       "      <th>Total</th>\n",
       "      <th>PredictedTotal2</th>\n",
       "      <th>PredictedTotal3</th>\n",
       "    </tr>\n",
       "  </thead>\n",
       "  <tbody>\n",
       "    <tr>\n",
       "      <th>0</th>\n",
       "      <td>01/12/2017</td>\n",
       "      <td>0</td>\n",
       "      <td>-5.2</td>\n",
       "      <td>37</td>\n",
       "      <td>2.2</td>\n",
       "      <td>0.0</td>\n",
       "      <td>0.0</td>\n",
       "      <td>Winter</td>\n",
       "      <td>No Holiday</td>\n",
       "      <td>Yes</td>\n",
       "      <td>207</td>\n",
       "      <td>50</td>\n",
       "      <td>257</td>\n",
       "      <td>-144.938</td>\n",
       "      <td>-125.982</td>\n",
       "    </tr>\n",
       "    <tr>\n",
       "      <th>1</th>\n",
       "      <td>01/12/2017</td>\n",
       "      <td>1</td>\n",
       "      <td>-5.5</td>\n",
       "      <td>38</td>\n",
       "      <td>0.8</td>\n",
       "      <td>0.0</td>\n",
       "      <td>0.0</td>\n",
       "      <td>Winter</td>\n",
       "      <td>No Holiday</td>\n",
       "      <td>Yes</td>\n",
       "      <td>139</td>\n",
       "      <td>80</td>\n",
       "      <td>219</td>\n",
       "      <td>-120.970</td>\n",
       "      <td>-102.470</td>\n",
       "    </tr>\n",
       "    <tr>\n",
       "      <th>2</th>\n",
       "      <td>01/12/2017</td>\n",
       "      <td>2</td>\n",
       "      <td>-6.0</td>\n",
       "      <td>39</td>\n",
       "      <td>1.0</td>\n",
       "      <td>0.0</td>\n",
       "      <td>0.0</td>\n",
       "      <td>Winter</td>\n",
       "      <td>No Holiday</td>\n",
       "      <td>Yes</td>\n",
       "      <td>22</td>\n",
       "      <td>140</td>\n",
       "      <td>162</td>\n",
       "      <td>-102.270</td>\n",
       "      <td>-84.350</td>\n",
       "    </tr>\n",
       "    <tr>\n",
       "      <th>3</th>\n",
       "      <td>01/12/2017</td>\n",
       "      <td>3</td>\n",
       "      <td>-6.2</td>\n",
       "      <td>40</td>\n",
       "      <td>0.9</td>\n",
       "      <td>0.0</td>\n",
       "      <td>0.0</td>\n",
       "      <td>Winter</td>\n",
       "      <td>No Holiday</td>\n",
       "      <td>Yes</td>\n",
       "      <td>43</td>\n",
       "      <td>105</td>\n",
       "      <td>148</td>\n",
       "      <td>-75.668</td>\n",
       "      <td>-58.142</td>\n",
       "    </tr>\n",
       "    <tr>\n",
       "      <th>4</th>\n",
       "      <td>01/12/2017</td>\n",
       "      <td>4</td>\n",
       "      <td>-6.0</td>\n",
       "      <td>36</td>\n",
       "      <td>2.3</td>\n",
       "      <td>0.0</td>\n",
       "      <td>0.0</td>\n",
       "      <td>Winter</td>\n",
       "      <td>No Holiday</td>\n",
       "      <td>Yes</td>\n",
       "      <td>59</td>\n",
       "      <td>38</td>\n",
       "      <td>97</td>\n",
       "      <td>-38.530</td>\n",
       "      <td>-21.150</td>\n",
       "    </tr>\n",
       "    <tr>\n",
       "      <th>...</th>\n",
       "      <td>...</td>\n",
       "      <td>...</td>\n",
       "      <td>...</td>\n",
       "      <td>...</td>\n",
       "      <td>...</td>\n",
       "      <td>...</td>\n",
       "      <td>...</td>\n",
       "      <td>...</td>\n",
       "      <td>...</td>\n",
       "      <td>...</td>\n",
       "      <td>...</td>\n",
       "      <td>...</td>\n",
       "      <td>...</td>\n",
       "      <td>...</td>\n",
       "      <td>...</td>\n",
       "    </tr>\n",
       "    <tr>\n",
       "      <th>8755</th>\n",
       "      <td>30/11/2018</td>\n",
       "      <td>19</td>\n",
       "      <td>4.2</td>\n",
       "      <td>34</td>\n",
       "      <td>2.6</td>\n",
       "      <td>0.0</td>\n",
       "      <td>0.0</td>\n",
       "      <td>Autumn</td>\n",
       "      <td>No Holiday</td>\n",
       "      <td>Yes</td>\n",
       "      <td>467</td>\n",
       "      <td>177</td>\n",
       "      <td>644</td>\n",
       "      <td>708.188</td>\n",
       "      <td>727.842</td>\n",
       "    </tr>\n",
       "    <tr>\n",
       "      <th>8756</th>\n",
       "      <td>30/11/2018</td>\n",
       "      <td>20</td>\n",
       "      <td>3.4</td>\n",
       "      <td>37</td>\n",
       "      <td>2.3</td>\n",
       "      <td>0.0</td>\n",
       "      <td>0.0</td>\n",
       "      <td>Autumn</td>\n",
       "      <td>No Holiday</td>\n",
       "      <td>Yes</td>\n",
       "      <td>296</td>\n",
       "      <td>63</td>\n",
       "      <td>359</td>\n",
       "      <td>718.986</td>\n",
       "      <td>737.874</td>\n",
       "    </tr>\n",
       "    <tr>\n",
       "      <th>8757</th>\n",
       "      <td>30/11/2018</td>\n",
       "      <td>21</td>\n",
       "      <td>2.6</td>\n",
       "      <td>39</td>\n",
       "      <td>0.3</td>\n",
       "      <td>0.0</td>\n",
       "      <td>0.0</td>\n",
       "      <td>Autumn</td>\n",
       "      <td>No Holiday</td>\n",
       "      <td>Yes</td>\n",
       "      <td>571</td>\n",
       "      <td>665</td>\n",
       "      <td>1236</td>\n",
       "      <td>729.784</td>\n",
       "      <td>747.906</td>\n",
       "    </tr>\n",
       "    <tr>\n",
       "      <th>8758</th>\n",
       "      <td>30/11/2018</td>\n",
       "      <td>22</td>\n",
       "      <td>2.1</td>\n",
       "      <td>41</td>\n",
       "      <td>1.0</td>\n",
       "      <td>0.0</td>\n",
       "      <td>0.0</td>\n",
       "      <td>Autumn</td>\n",
       "      <td>No Holiday</td>\n",
       "      <td>Yes</td>\n",
       "      <td>171</td>\n",
       "      <td>457</td>\n",
       "      <td>628</td>\n",
       "      <td>748.484</td>\n",
       "      <td>766.026</td>\n",
       "    </tr>\n",
       "    <tr>\n",
       "      <th>8759</th>\n",
       "      <td>30/11/2018</td>\n",
       "      <td>23</td>\n",
       "      <td>1.9</td>\n",
       "      <td>43</td>\n",
       "      <td>1.3</td>\n",
       "      <td>0.0</td>\n",
       "      <td>0.0</td>\n",
       "      <td>Autumn</td>\n",
       "      <td>No Holiday</td>\n",
       "      <td>Yes</td>\n",
       "      <td>442</td>\n",
       "      <td>401</td>\n",
       "      <td>843</td>\n",
       "      <td>775.086</td>\n",
       "      <td>792.234</td>\n",
       "    </tr>\n",
       "  </tbody>\n",
       "</table>\n",
       "<p>8760 rows × 15 columns</p>\n",
       "</div>"
      ],
      "text/plain": [
       "            Date  Hour  Temperature  Humidity  Wind speed  Rainfall  Snowfall  \\\n",
       "0     01/12/2017     0         -5.2        37         2.2       0.0       0.0   \n",
       "1     01/12/2017     1         -5.5        38         0.8       0.0       0.0   \n",
       "2     01/12/2017     2         -6.0        39         1.0       0.0       0.0   \n",
       "3     01/12/2017     3         -6.2        40         0.9       0.0       0.0   \n",
       "4     01/12/2017     4         -6.0        36         2.3       0.0       0.0   \n",
       "...          ...   ...          ...       ...         ...       ...       ...   \n",
       "8755  30/11/2018    19          4.2        34         2.6       0.0       0.0   \n",
       "8756  30/11/2018    20          3.4        37         2.3       0.0       0.0   \n",
       "8757  30/11/2018    21          2.6        39         0.3       0.0       0.0   \n",
       "8758  30/11/2018    22          2.1        41         1.0       0.0       0.0   \n",
       "8759  30/11/2018    23          1.9        43         1.3       0.0       0.0   \n",
       "\n",
       "     Seasons     Holiday FunctioningDay  Partner 1  Partner 2  Total  \\\n",
       "0     Winter  No Holiday            Yes        207         50    257   \n",
       "1     Winter  No Holiday            Yes        139         80    219   \n",
       "2     Winter  No Holiday            Yes         22        140    162   \n",
       "3     Winter  No Holiday            Yes         43        105    148   \n",
       "4     Winter  No Holiday            Yes         59         38     97   \n",
       "...      ...         ...            ...        ...        ...    ...   \n",
       "8755  Autumn  No Holiday            Yes        467        177    644   \n",
       "8756  Autumn  No Holiday            Yes        296         63    359   \n",
       "8757  Autumn  No Holiday            Yes        571        665   1236   \n",
       "8758  Autumn  No Holiday            Yes        171        457    628   \n",
       "8759  Autumn  No Holiday            Yes        442        401    843   \n",
       "\n",
       "      PredictedTotal2  PredictedTotal3  \n",
       "0            -144.938         -125.982  \n",
       "1            -120.970         -102.470  \n",
       "2            -102.270          -84.350  \n",
       "3             -75.668          -58.142  \n",
       "4             -38.530          -21.150  \n",
       "...               ...              ...  \n",
       "8755          708.188          727.842  \n",
       "8756          718.986          737.874  \n",
       "8757          729.784          747.906  \n",
       "8758          748.484          766.026  \n",
       "8759          775.086          792.234  \n",
       "\n",
       "[8760 rows x 15 columns]"
      ]
     },
     "execution_count": 81,
     "metadata": {},
     "output_type": "execute_result"
    }
   ],
   "source": [
    "bikes[\"PredictedTotal3\"] = -789.02 + 26.96 * bikes[\"Temperature\"] + 31.6 * bikes[\"Hour\"] + 803.23 * (bikes[\"FunctioningDay\"] == \"Yes\")\n",
    "bikes"
   ]
  },
  {
   "cell_type": "markdown",
   "metadata": {},
   "source": [
    "Раньше для нерабочих дней предсказывалось разное, сейчас в основном отрицательные значения"
   ]
  },
  {
   "cell_type": "code",
   "execution_count": 84,
   "metadata": {},
   "outputs": [
    {
     "data": {
      "text/html": [
       "<div>\n",
       "<style scoped>\n",
       "    .dataframe tbody tr th:only-of-type {\n",
       "        vertical-align: middle;\n",
       "    }\n",
       "\n",
       "    .dataframe tbody tr th {\n",
       "        vertical-align: top;\n",
       "    }\n",
       "\n",
       "    .dataframe thead th {\n",
       "        text-align: right;\n",
       "    }\n",
       "</style>\n",
       "<table border=\"1\" class=\"dataframe\">\n",
       "  <thead>\n",
       "    <tr style=\"text-align: right;\">\n",
       "      <th></th>\n",
       "      <th>Date</th>\n",
       "      <th>Hour</th>\n",
       "      <th>Temperature</th>\n",
       "      <th>Humidity</th>\n",
       "      <th>Wind speed</th>\n",
       "      <th>Rainfall</th>\n",
       "      <th>Snowfall</th>\n",
       "      <th>Seasons</th>\n",
       "      <th>Holiday</th>\n",
       "      <th>FunctioningDay</th>\n",
       "      <th>Partner 1</th>\n",
       "      <th>Partner 2</th>\n",
       "      <th>Total</th>\n",
       "      <th>PredictedTotal2</th>\n",
       "      <th>PredictedTotal3</th>\n",
       "    </tr>\n",
       "  </thead>\n",
       "  <tbody>\n",
       "    <tr>\n",
       "      <th>3144</th>\n",
       "      <td>11/04/2018</td>\n",
       "      <td>0</td>\n",
       "      <td>14.4</td>\n",
       "      <td>82</td>\n",
       "      <td>4.6</td>\n",
       "      <td>0.0</td>\n",
       "      <td>0.0</td>\n",
       "      <td>Spring</td>\n",
       "      <td>No Holiday</td>\n",
       "      <td>No</td>\n",
       "      <td>0</td>\n",
       "      <td>0</td>\n",
       "      <td>0</td>\n",
       "      <td>371.326</td>\n",
       "      <td>-400.796</td>\n",
       "    </tr>\n",
       "    <tr>\n",
       "      <th>3145</th>\n",
       "      <td>11/04/2018</td>\n",
       "      <td>1</td>\n",
       "      <td>13.6</td>\n",
       "      <td>81</td>\n",
       "      <td>3.6</td>\n",
       "      <td>0.0</td>\n",
       "      <td>0.0</td>\n",
       "      <td>Spring</td>\n",
       "      <td>No Holiday</td>\n",
       "      <td>No</td>\n",
       "      <td>0</td>\n",
       "      <td>0</td>\n",
       "      <td>0</td>\n",
       "      <td>382.124</td>\n",
       "      <td>-390.764</td>\n",
       "    </tr>\n",
       "    <tr>\n",
       "      <th>3146</th>\n",
       "      <td>11/04/2018</td>\n",
       "      <td>2</td>\n",
       "      <td>NaN</td>\n",
       "      <td>80</td>\n",
       "      <td>3.9</td>\n",
       "      <td>0.0</td>\n",
       "      <td>0.0</td>\n",
       "      <td>Spring</td>\n",
       "      <td>No Holiday</td>\n",
       "      <td>No</td>\n",
       "      <td>0</td>\n",
       "      <td>0</td>\n",
       "      <td>0</td>\n",
       "      <td>NaN</td>\n",
       "      <td>NaN</td>\n",
       "    </tr>\n",
       "    <tr>\n",
       "      <th>3147</th>\n",
       "      <td>11/04/2018</td>\n",
       "      <td>3</td>\n",
       "      <td>11.6</td>\n",
       "      <td>81</td>\n",
       "      <td>3.1</td>\n",
       "      <td>0.0</td>\n",
       "      <td>0.0</td>\n",
       "      <td>Spring</td>\n",
       "      <td>No Holiday</td>\n",
       "      <td>No</td>\n",
       "      <td>0</td>\n",
       "      <td>0</td>\n",
       "      <td>0</td>\n",
       "      <td>393.184</td>\n",
       "      <td>-381.484</td>\n",
       "    </tr>\n",
       "    <tr>\n",
       "      <th>3148</th>\n",
       "      <td>11/04/2018</td>\n",
       "      <td>4</td>\n",
       "      <td>10.2</td>\n",
       "      <td>83</td>\n",
       "      <td>3.5</td>\n",
       "      <td>0.0</td>\n",
       "      <td>0.0</td>\n",
       "      <td>Spring</td>\n",
       "      <td>No Holiday</td>\n",
       "      <td>No</td>\n",
       "      <td>0</td>\n",
       "      <td>0</td>\n",
       "      <td>0</td>\n",
       "      <td>388.178</td>\n",
       "      <td>-387.628</td>\n",
       "    </tr>\n",
       "    <tr>\n",
       "      <th>...</th>\n",
       "      <td>...</td>\n",
       "      <td>...</td>\n",
       "      <td>...</td>\n",
       "      <td>...</td>\n",
       "      <td>...</td>\n",
       "      <td>...</td>\n",
       "      <td>...</td>\n",
       "      <td>...</td>\n",
       "      <td>...</td>\n",
       "      <td>...</td>\n",
       "      <td>...</td>\n",
       "      <td>...</td>\n",
       "      <td>...</td>\n",
       "      <td>...</td>\n",
       "      <td>...</td>\n",
       "    </tr>\n",
       "    <tr>\n",
       "      <th>8251</th>\n",
       "      <td>09/11/2018</td>\n",
       "      <td>19</td>\n",
       "      <td>11.9</td>\n",
       "      <td>71</td>\n",
       "      <td>2.7</td>\n",
       "      <td>0.0</td>\n",
       "      <td>0.0</td>\n",
       "      <td>Autumn</td>\n",
       "      <td>No Holiday</td>\n",
       "      <td>No</td>\n",
       "      <td>0</td>\n",
       "      <td>0</td>\n",
       "      <td>0</td>\n",
       "      <td>911.006</td>\n",
       "      <td>132.204</td>\n",
       "    </tr>\n",
       "    <tr>\n",
       "      <th>8252</th>\n",
       "      <td>09/11/2018</td>\n",
       "      <td>20</td>\n",
       "      <td>11.9</td>\n",
       "      <td>72</td>\n",
       "      <td>2.5</td>\n",
       "      <td>0.0</td>\n",
       "      <td>0.0</td>\n",
       "      <td>Autumn</td>\n",
       "      <td>No Holiday</td>\n",
       "      <td>No</td>\n",
       "      <td>0</td>\n",
       "      <td>0</td>\n",
       "      <td>0</td>\n",
       "      <td>942.876</td>\n",
       "      <td>163.804</td>\n",
       "    </tr>\n",
       "    <tr>\n",
       "      <th>8253</th>\n",
       "      <td>09/11/2018</td>\n",
       "      <td>21</td>\n",
       "      <td>11.4</td>\n",
       "      <td>74</td>\n",
       "      <td>1.9</td>\n",
       "      <td>0.0</td>\n",
       "      <td>0.0</td>\n",
       "      <td>Autumn</td>\n",
       "      <td>No Holiday</td>\n",
       "      <td>No</td>\n",
       "      <td>0</td>\n",
       "      <td>0</td>\n",
       "      <td>0</td>\n",
       "      <td>961.576</td>\n",
       "      <td>181.924</td>\n",
       "    </tr>\n",
       "    <tr>\n",
       "      <th>8254</th>\n",
       "      <td>09/11/2018</td>\n",
       "      <td>22</td>\n",
       "      <td>11.2</td>\n",
       "      <td>75</td>\n",
       "      <td>1.7</td>\n",
       "      <td>0.0</td>\n",
       "      <td>0.0</td>\n",
       "      <td>Autumn</td>\n",
       "      <td>No Holiday</td>\n",
       "      <td>No</td>\n",
       "      <td>0</td>\n",
       "      <td>0</td>\n",
       "      <td>0</td>\n",
       "      <td>988.178</td>\n",
       "      <td>208.132</td>\n",
       "    </tr>\n",
       "    <tr>\n",
       "      <th>8255</th>\n",
       "      <td>09/11/2018</td>\n",
       "      <td>23</td>\n",
       "      <td>10.9</td>\n",
       "      <td>76</td>\n",
       "      <td>1.2</td>\n",
       "      <td>0.0</td>\n",
       "      <td>0.0</td>\n",
       "      <td>Autumn</td>\n",
       "      <td>No Holiday</td>\n",
       "      <td>No</td>\n",
       "      <td>0</td>\n",
       "      <td>0</td>\n",
       "      <td>0</td>\n",
       "      <td>1012.146</td>\n",
       "      <td>231.644</td>\n",
       "    </tr>\n",
       "  </tbody>\n",
       "</table>\n",
       "<p>295 rows × 15 columns</p>\n",
       "</div>"
      ],
      "text/plain": [
       "            Date  Hour  Temperature  Humidity  Wind speed  Rainfall  Snowfall  \\\n",
       "3144  11/04/2018     0         14.4        82         4.6       0.0       0.0   \n",
       "3145  11/04/2018     1         13.6        81         3.6       0.0       0.0   \n",
       "3146  11/04/2018     2          NaN        80         3.9       0.0       0.0   \n",
       "3147  11/04/2018     3         11.6        81         3.1       0.0       0.0   \n",
       "3148  11/04/2018     4         10.2        83         3.5       0.0       0.0   \n",
       "...          ...   ...          ...       ...         ...       ...       ...   \n",
       "8251  09/11/2018    19         11.9        71         2.7       0.0       0.0   \n",
       "8252  09/11/2018    20         11.9        72         2.5       0.0       0.0   \n",
       "8253  09/11/2018    21         11.4        74         1.9       0.0       0.0   \n",
       "8254  09/11/2018    22         11.2        75         1.7       0.0       0.0   \n",
       "8255  09/11/2018    23         10.9        76         1.2       0.0       0.0   \n",
       "\n",
       "     Seasons     Holiday FunctioningDay  Partner 1  Partner 2  Total  \\\n",
       "3144  Spring  No Holiday             No          0          0      0   \n",
       "3145  Spring  No Holiday             No          0          0      0   \n",
       "3146  Spring  No Holiday             No          0          0      0   \n",
       "3147  Spring  No Holiday             No          0          0      0   \n",
       "3148  Spring  No Holiday             No          0          0      0   \n",
       "...      ...         ...            ...        ...        ...    ...   \n",
       "8251  Autumn  No Holiday             No          0          0      0   \n",
       "8252  Autumn  No Holiday             No          0          0      0   \n",
       "8253  Autumn  No Holiday             No          0          0      0   \n",
       "8254  Autumn  No Holiday             No          0          0      0   \n",
       "8255  Autumn  No Holiday             No          0          0      0   \n",
       "\n",
       "      PredictedTotal2  PredictedTotal3  \n",
       "3144          371.326         -400.796  \n",
       "3145          382.124         -390.764  \n",
       "3146              NaN              NaN  \n",
       "3147          393.184         -381.484  \n",
       "3148          388.178         -387.628  \n",
       "...               ...              ...  \n",
       "8251          911.006          132.204  \n",
       "8252          942.876          163.804  \n",
       "8253          961.576          181.924  \n",
       "8254          988.178          208.132  \n",
       "8255         1012.146          231.644  \n",
       "\n",
       "[295 rows x 15 columns]"
      ]
     },
     "execution_count": 84,
     "metadata": {},
     "output_type": "execute_result"
    }
   ],
   "source": [
    "bikes[bikes[\"FunctioningDay\"] == \"No\"]"
   ]
  },
  {
   "cell_type": "code",
   "execution_count": null,
   "metadata": {},
   "outputs": [
    {
     "data": {
      "text/plain": [
       "Intercept               -789.016517\n",
       "FunctioningDay[T.Yes]    803.231422\n",
       "Temperature               26.962118\n",
       "Hour                      31.596925\n",
       "dtype: float64"
      ]
     },
     "metadata": {},
     "output_type": "display_data"
    }
   ],
   "source": [
    "results.params"
   ]
  },
  {
   "cell_type": "markdown",
   "metadata": {},
   "source": [
    "Итак, коэффициенты значат, что...\n",
    "\n",
    "- FunctioningDay[T.Yes] = $803.23$ значит, что когда день рабочий, то берут на 803 велосипеда больше, чем в нерабочий  \n",
    "  (такая математика... мы-то понимаем, что в нерабочий всегда 0)\n",
    "- Intercept = $-789$, что когда всё остальное 0, т.е. температура 0 и час 0 и день нерабочий, то в среднем берут -789 велосипедов 🤯\n",
    "- $w_\\text{Temperature} = 26.96$, что когда температура повышается на градус берут, в среднем, на 26.96 велосипедов больше \n",
    "- $w_\\text{Hour} = 31.60$, что когда час повышается на час берут, в среднем, на 31.6 велосипедов больше \n",
    "\n",
    "**Час — очевидный кандидат на превращение в категориальную переменную**\n",
    "\n",
    "Так или иначе, стало ли распределение сейчас лучше?"
   ]
  },
  {
   "cell_type": "code",
   "execution_count": 85,
   "metadata": {},
   "outputs": [
    {
     "data": {
      "text/plain": [
       "<matplotlib.legend.Legend at 0x26f5ded9c10>"
      ]
     },
     "execution_count": 85,
     "metadata": {},
     "output_type": "execute_result"
    },
    {
     "data": {
      "image/png": "[encoded data removed]",
      "text/plain": [
       "<Figure size 640x480 with 1 Axes>"
      ]
     },
     "metadata": {},
     "output_type": "display_data"
    }
   ],
   "source": [
    "import matplotlib.pyplot as plt\n",
    "\n",
    "# fig, (ax1, ax2) = plt.subplots(1, 2)\n",
    "plt.hist(bikes[\"Total\"], bins=30, alpha=0.6, color=\"green\", label=\"Истина\")\n",
    "plt.hist(bikes[\"PredictedTotal3\"], bins=30, alpha=0.6, color=\"red\", label=\"Предсказание\")\n",
    "plt.legend()"
   ]
  },
  {
   "cell_type": "markdown",
   "metadata": {},
   "source": [
    "Не очень понятно, как будто особо не поменялось..."
   ]
  },
  {
   "cell_type": "markdown",
   "metadata": {},
   "source": [
    "#### Total ~ Temperature + HourCat + FunctioningDay"
   ]
  },
  {
   "cell_type": "markdown",
   "metadata": {},
   "source": [
    "Превратим час в категорию"
   ]
  },
  {
   "cell_type": "code",
   "execution_count": 89,
   "metadata": {},
   "outputs": [
    {
     "data": {
      "text/plain": [
       "<Axes: title={'center': 'Total'}, xlabel='Hour'>"
      ]
     },
     "execution_count": 89,
     "metadata": {},
     "output_type": "execute_result"
    },
    {
     "data": {
      "image/png": "[encoded data removed]",
      "text/plain": [
       "<Figure size 640x480 with 1 Axes>"
      ]
     },
     "metadata": {},
     "output_type": "display_data"
    }
   ],
   "source": [
    "bikes.boxplot(\"Total\", by=\"Hour\")"
   ]
  },
  {
   "cell_type": "code",
   "execution_count": 102,
   "metadata": {},
   "outputs": [
    {
     "data": {
      "text/html": [
       "<div>\n",
       "<style scoped>\n",
       "    .dataframe tbody tr th:only-of-type {\n",
       "        vertical-align: middle;\n",
       "    }\n",
       "\n",
       "    .dataframe tbody tr th {\n",
       "        vertical-align: top;\n",
       "    }\n",
       "\n",
       "    .dataframe thead th {\n",
       "        text-align: right;\n",
       "    }\n",
       "</style>\n",
       "<table border=\"1\" class=\"dataframe\">\n",
       "  <thead>\n",
       "    <tr style=\"text-align: right;\">\n",
       "      <th></th>\n",
       "      <th>Hour</th>\n",
       "      <th>HourCat</th>\n",
       "    </tr>\n",
       "  </thead>\n",
       "  <tbody>\n",
       "    <tr>\n",
       "      <th>0</th>\n",
       "      <td>0</td>\n",
       "      <td>night</td>\n",
       "    </tr>\n",
       "    <tr>\n",
       "      <th>1</th>\n",
       "      <td>1</td>\n",
       "      <td>night</td>\n",
       "    </tr>\n",
       "    <tr>\n",
       "      <th>2</th>\n",
       "      <td>2</td>\n",
       "      <td>night</td>\n",
       "    </tr>\n",
       "    <tr>\n",
       "      <th>3</th>\n",
       "      <td>3</td>\n",
       "      <td>night</td>\n",
       "    </tr>\n",
       "    <tr>\n",
       "      <th>4</th>\n",
       "      <td>4</td>\n",
       "      <td>night</td>\n",
       "    </tr>\n",
       "    <tr>\n",
       "      <th>...</th>\n",
       "      <td>...</td>\n",
       "      <td>...</td>\n",
       "    </tr>\n",
       "    <tr>\n",
       "      <th>8755</th>\n",
       "      <td>19</td>\n",
       "      <td>evening-commute</td>\n",
       "    </tr>\n",
       "    <tr>\n",
       "      <th>8756</th>\n",
       "      <td>20</td>\n",
       "      <td>evening-commute</td>\n",
       "    </tr>\n",
       "    <tr>\n",
       "      <th>8757</th>\n",
       "      <td>21</td>\n",
       "      <td>evening-commute</td>\n",
       "    </tr>\n",
       "    <tr>\n",
       "      <th>8758</th>\n",
       "      <td>22</td>\n",
       "      <td>evening</td>\n",
       "    </tr>\n",
       "    <tr>\n",
       "      <th>8759</th>\n",
       "      <td>23</td>\n",
       "      <td>evening</td>\n",
       "    </tr>\n",
       "  </tbody>\n",
       "</table>\n",
       "<p>8760 rows × 2 columns</p>\n",
       "</div>"
      ],
      "text/plain": [
       "      Hour          HourCat\n",
       "0        0            night\n",
       "1        1            night\n",
       "2        2            night\n",
       "3        3            night\n",
       "4        4            night\n",
       "...    ...              ...\n",
       "8755    19  evening-commute\n",
       "8756    20  evening-commute\n",
       "8757    21  evening-commute\n",
       "8758    22          evening\n",
       "8759    23          evening\n",
       "\n",
       "[8760 rows x 2 columns]"
      ]
     },
     "execution_count": 102,
     "metadata": {},
     "output_type": "execute_result"
    }
   ],
   "source": [
    "HourCat = pd.cut(\n",
    "    bikes[\"Hour\"],\n",
    "    [0, 7, 9, 18, 21, 24],\n",
    "    labels=[\"night\", \"morning-commute\", \"work\", \"evening-commute\", \"evening\"],\n",
    "    include_lowest=True,\n",
    "    # ordered=False\n",
    ")\n",
    "bikes[\"HourCat\"] = HourCat\n",
    "\n",
    "bikes[[\"Hour\", \"HourCat\"]]"
   ]
  },
  {
   "cell_type": "code",
   "execution_count": 103,
   "metadata": {},
   "outputs": [
    {
     "name": "stdout",
     "output_type": "stream",
     "text": [
      "                            OLS Regression Results                            \n",
      "==============================================================================\n",
      "Dep. Variable:                  Total   R-squared:                       0.335\n",
      "Model:                            OLS   Adj. R-squared:                  0.334\n",
      "Method:                 Least Squares   F-statistic:                     719.5\n",
      "Date:                Sat, 09 Dec 2023   Prob (F-statistic):               0.00\n",
      "Time:                        03:43:31   Log-Likelihood:                -67250.\n",
      "No. Observations:                8581   AIC:                         1.345e+05\n",
      "Df Residuals:                    8574   BIC:                         1.346e+05\n",
      "Df Model:                           6                                         \n",
      "Covariance Type:            nonrobust                                         \n",
      "==============================================================================================\n",
      "                                 coef    std err          t      P>|t|      [0.025      0.975]\n",
      "----------------------------------------------------------------------------------------------\n",
      "Intercept                   -719.8570     37.974    -18.957      0.000    -794.294    -645.420\n",
      "HourCat[T.morning-commute]   467.9016     25.587     18.287      0.000     417.745     518.058\n",
      "HourCat[T.work]              371.8507     16.061     23.152      0.000     340.367     403.334\n",
      "HourCat[T.evening-commute]   656.2726     21.972     29.869      0.000     613.203     699.343\n",
      "HourCat[T.evening]           404.8545     25.705     15.750      0.000     354.467     455.242\n",
      "FunctioningDay[T.Yes]        802.7847     36.738     21.851      0.000     730.769     874.801\n",
      "Temperature                   26.9670      0.566     47.675      0.000      25.858      28.076\n",
      "==============================================================================\n",
      "Omnibus:                     2919.691   Durbin-Watson:                   1.097\n",
      "Prob(Omnibus):                  0.000   Jarque-Bera (JB):            13784.548\n",
      "Skew:                           1.588   Prob(JB):                         0.00\n",
      "Kurtosis:                       8.335   Cond. No.                         139.\n",
      "==============================================================================\n",
      "\n",
      "Notes:\n",
      "[1] Standard Errors assume that the covariance matrix of the errors is correctly specified.\n"
     ]
    }
   ],
   "source": [
    "results = smf.ols(\n",
    "    'Total ~ Temperature + HourCat + FunctioningDay', data=bikes\n",
    ").fit()\n",
    "\n",
    "print(results.summary())"
   ]
  },
  {
   "cell_type": "code",
   "execution_count": 104,
   "metadata": {},
   "outputs": [
    {
     "data": {
      "text/plain": [
       "Intercept                    -719.856988\n",
       "HourCat[T.morning-commute]    467.901566\n",
       "HourCat[T.work]               371.850687\n",
       "HourCat[T.evening-commute]    656.272594\n",
       "HourCat[T.evening]            404.854507\n",
       "FunctioningDay[T.Yes]         802.784667\n",
       "Temperature                    26.967010\n",
       "dtype: float64"
      ]
     },
     "execution_count": 104,
     "metadata": {},
     "output_type": "execute_result"
    }
   ],
   "source": [
    "results.params"
   ]
  },
  {
   "cell_type": "code",
   "execution_count": 107,
   "metadata": {},
   "outputs": [
    {
     "name": "stdout",
     "output_type": "stream",
     "text": [
      "Total = -719.8569880371184 + 26.96700990807263 * Temperature + 467.9015663284492 * HourCat[T.morning-commute] + 371.8506866336138 * HourCat[T.work] + 656.2725938516267 * HourCat[T.evening-commute] + 404.8545074338631 * HourCat[T.evening] + 802.7846671578114 * FunctiongDay[=Yes] \n",
      "Total = -719.8569880371184 + 26.97 * Temperature + 467.9 * HourCat[T.morning-commute] + 371.85 * HourCat[T.work] + 656.27 * HourCat[T.evening-commute] + 404.85 * HourCat[T.evening] + 802.78 * FunctiongDay[=Yes] \n"
     ]
    }
   ],
   "source": [
    "\n",
    "\n",
    "print(f\"Total = {results.params.Intercept} \"\n",
    "      f\"+ {results.params.Temperature} * Temperature \"\n",
    "      f\"+ {results.params.loc['HourCat[T.morning-commute]']} * HourCat[T.morning-commute] \"\n",
    "      f\"+ {results.params.loc['HourCat[T.work]']} * HourCat[T.work] \"\n",
    "      f\"+ {results.params.loc['HourCat[T.evening-commute]']} * HourCat[T.evening-commute] \"\n",
    "      f\"+ {results.params.loc['HourCat[T.evening]']} * HourCat[T.evening] \"\n",
    "      f\"+ {results.params.loc['FunctioningDay[T.Yes]']} * FunctiongDay[=Yes] \"\n",
    ")\n",
    "print(f\"Total = {results.params.Intercept} \"\n",
    "      f\"+ {round(results.params.Temperature, 2)} * Temperature \"\n",
    "      f\"+ {round(results.params.loc['HourCat[T.morning-commute]'], 2)} * HourCat[T.morning-commute] \"\n",
    "      f\"+ {round(results.params.loc['HourCat[T.work]'], 2)} * HourCat[T.work] \"\n",
    "      f\"+ {round(results.params.loc['HourCat[T.evening-commute]'], 2)} * HourCat[T.evening-commute] \"\n",
    "      f\"+ {round(results.params.loc['HourCat[T.evening]'], 2)} * HourCat[T.evening] \"\n",
    "      f\"+ {round(results.params.loc['FunctioningDay[T.Yes]'], 2)} * FunctiongDay[=Yes] \"\n",
    ")"
   ]
  },
  {
   "cell_type": "code",
   "execution_count": 109,
   "metadata": {},
   "outputs": [],
   "source": [
    "bikes[\"PredictedTotal4\"] = (\n",
    "    -719.8569880371184\n",
    "    + 26.97 * bikes[\"Temperature\"]\n",
    "    + 467.9 * (bikes[\"HourCat\"] == \"morning-commute\")\n",
    "    + 371.85 * (bikes[\"HourCat\"] == \"work\")\n",
    "    + 656.27 * (bikes[\"HourCat\"] == \"evening-commute\")\n",
    "    + 404.85 * (bikes[\"HourCat\"] == \"evening\")\n",
    "    + 802.78 * (bikes[\"FunctioningDay\"] == \"Yes\")\n",
    ")\n"
   ]
  },
  {
   "cell_type": "code",
   "execution_count": 111,
   "metadata": {},
   "outputs": [
    {
     "data": {
      "text/plain": [
       "<matplotlib.legend.Legend at 0x26f5f801c10>"
      ]
     },
     "execution_count": 111,
     "metadata": {},
     "output_type": "execute_result"
    },
    {
     "data": {
      "image/png": "[encoded data removed]",
      "text/plain": [
       "<Figure size 640x480 with 1 Axes>"
      ]
     },
     "metadata": {},
     "output_type": "display_data"
    }
   ],
   "source": [
    "import matplotlib.pyplot as plt\n",
    "\n",
    "plt.hist(bikes[\"Total\"], bins=30, alpha=0.6, color=\"green\", label=\"Истина\")\n",
    "plt.hist(bikes[\"PredictedTotal4\"], bins=30, alpha=0.6, color=\"red\", label=\"Предсказание\")\n",
    "plt.legend()"
   ]
  },
  {
   "cell_type": "markdown",
   "metadata": {},
   "source": [
    "Как будто немного лучше, но не сильно.\n",
    "Можно пробовать разные комбинации (по-хорошему, они выбираются по информации из большой таблицы `.summary()`)\n",
    "Также независимой переменной может быть бинарная."
   ]
  },
  {
   "cell_type": "markdown",
   "metadata": {},
   "source": [
    "#### Бинарная независимая переменная FunctioningDay ~ Total"
   ]
  },
  {
   "cell_type": "code",
   "execution_count": 115,
   "metadata": {},
   "outputs": [
    {
     "data": {
      "text/plain": [
       "0       True\n",
       "1       True\n",
       "2       True\n",
       "3       True\n",
       "4       True\n",
       "        ... \n",
       "8755    True\n",
       "8756    True\n",
       "8757    True\n",
       "8758    True\n",
       "8759    True\n",
       "Name: FunctioningDayBin, Length: 8760, dtype: bool"
      ]
     },
     "execution_count": 115,
     "metadata": {},
     "output_type": "execute_result"
    }
   ],
   "source": [
    "bikes[\"FunctioningDayBin\"]"
   ]
  },
  {
   "cell_type": "code",
   "execution_count": 119,
   "metadata": {},
   "outputs": [
    {
     "name": "stdout",
     "output_type": "stream",
     "text": [
      "<class 'pandas.core.frame.DataFrame'>\n",
      "RangeIndex: 8760 entries, 0 to 8759\n",
      "Data columns (total 18 columns):\n",
      " #   Column             Non-Null Count  Dtype   \n",
      "---  ------             --------------  -----   \n",
      " 0   Date               8760 non-null   object  \n",
      " 1   Hour               8760 non-null   int64   \n",
      " 2   Temperature        8581 non-null   float64 \n",
      " 3   Humidity           8760 non-null   int64   \n",
      " 4   Wind speed         8760 non-null   float64 \n",
      " 5   Rainfall           8760 non-null   float64 \n",
      " 6   Snowfall           8760 non-null   float64 \n",
      " 7   Seasons            8760 non-null   object  \n",
      " 8   Holiday            8760 non-null   object  \n",
      " 9   FunctioningDay     8760 non-null   object  \n",
      " 10  Partner 1          8760 non-null   int64   \n",
      " 11  Partner 2          8760 non-null   int64   \n",
      " 12  Total              8760 non-null   int64   \n",
      " 13  PredictedTotal2    8581 non-null   float64 \n",
      " 14  PredictedTotal3    8581 non-null   float64 \n",
      " 15  HourCat            8760 non-null   category\n",
      " 16  PredictedTotal4    8581 non-null   float64 \n",
      " 17  FunctioningDayBin  8760 non-null   bool    \n",
      "dtypes: bool(1), category(1), float64(7), int64(5), object(4)\n",
      "memory usage: 1.1+ MB\n"
     ]
    }
   ],
   "source": [
    "bikes.info()"
   ]
  },
  {
   "cell_type": "code",
   "execution_count": 124,
   "metadata": {},
   "outputs": [
    {
     "name": "stdout",
     "output_type": "stream",
     "text": [
      "Warning: Maximum number of iterations has been exceeded.\n",
      "         Current function value: 0.001916\n",
      "         Iterations: 35\n"
     ]
    },
    {
     "name": "stderr",
     "output_type": "stream",
     "text": [
      "c:\\prog\\python311\\Lib\\site-packages\\statsmodels\\base\\model.py:607: ConvergenceWarning: Maximum Likelihood optimization failed to converge. Check mle_retvals\n",
      "  warnings.warn(\"Maximum Likelihood optimization failed to \"\n"
     ]
    },
    {
     "data": {
      "text/html": [
       "<table class=\"simpletable\">\n",
       "<caption>Logit Regression Results</caption>\n",
       "<tr>\n",
       "  <th>Dep. Variable:</th>   <td>FunctioningDayBin</td> <th>  No. Observations:  </th>  <td>  8760</td> \n",
       "</tr>\n",
       "<tr>\n",
       "  <th>Model:</th>                 <td>Logit</td>       <th>  Df Residuals:      </th>  <td>  8758</td> \n",
       "</tr>\n",
       "<tr>\n",
       "  <th>Method:</th>                 <td>MLE</td>        <th>  Df Model:          </th>  <td>     1</td> \n",
       "</tr>\n",
       "<tr>\n",
       "  <th>Date:</th>            <td>Sat, 09 Dec 2023</td>  <th>  Pseudo R-squ.:     </th>  <td>0.9870</td> \n",
       "</tr>\n",
       "<tr>\n",
       "  <th>Time:</th>                <td>04:05:22</td>      <th>  Log-Likelihood:    </th> <td> -16.780</td>\n",
       "</tr>\n",
       "<tr>\n",
       "  <th>converged:</th>             <td>False</td>       <th>  LL-Null:           </th> <td> -1290.3</td>\n",
       "</tr>\n",
       "<tr>\n",
       "  <th>Covariance Type:</th>     <td>nonrobust</td>     <th>  LLR p-value:       </th>  <td> 0.000</td> \n",
       "</tr>\n",
       "</table>\n",
       "<table class=\"simpletable\">\n",
       "<tr>\n",
       "      <td></td>         <th>coef</th>     <th>std err</th>      <th>z</th>      <th>P>|z|</th>  <th>[0.025</th>    <th>0.975]</th>  \n",
       "</tr>\n",
       "<tr>\n",
       "  <th>Intercept</th> <td>   -4.5884</td> <td>    0.580</td> <td>   -7.907</td> <td> 0.000</td> <td>   -5.726</td> <td>   -3.451</td>\n",
       "</tr>\n",
       "<tr>\n",
       "  <th>Total</th>     <td>   22.3200</td> <td> 4090.897</td> <td>    0.005</td> <td> 0.996</td> <td>-7995.690</td> <td> 8040.330</td>\n",
       "</tr>\n",
       "</table><br/><br/>Possibly complete quasi-separation: A fraction 0.97 of observations can be<br/>perfectly predicted. This might indicate that there is complete<br/>quasi-separation. In this case some parameters will not be identified."
      ],
      "text/latex": [
       "\\begin{center}\n",
       "\\begin{tabular}{lclc}\n",
       "\\toprule\n",
       "\\textbf{Dep. Variable:}   & FunctioningDayBin & \\textbf{  No. Observations:  } &     8760    \\\\\n",
       "\\textbf{Model:}           &       Logit       & \\textbf{  Df Residuals:      } &     8758    \\\\\n",
       "\\textbf{Method:}          &        MLE        & \\textbf{  Df Model:          } &        1    \\\\\n",
       "\\textbf{Date:}            &  Sat, 09 Dec 2023 & \\textbf{  Pseudo R-squ.:     } &   0.9870    \\\\\n",
       "\\textbf{Time:}            &      04:05:22     & \\textbf{  Log-Likelihood:    } &   -16.780   \\\\\n",
       "\\textbf{converged:}       &       False       & \\textbf{  LL-Null:           } &   -1290.3   \\\\\n",
       "\\textbf{Covariance Type:} &     nonrobust     & \\textbf{  LLR p-value:       } &    0.000    \\\\\n",
       "\\bottomrule\n",
       "\\end{tabular}\n",
       "\\begin{tabular}{lcccccc}\n",
       "                   & \\textbf{coef} & \\textbf{std err} & \\textbf{z} & \\textbf{P$> |$z$|$} & \\textbf{[0.025} & \\textbf{0.975]}  \\\\\n",
       "\\midrule\n",
       "\\textbf{Intercept} &      -4.5884  &        0.580     &    -7.907  &         0.000        &       -5.726    &       -3.451     \\\\\n",
       "\\textbf{Total}     &      22.3200  &     4090.897     &     0.005  &         0.996        &    -7995.690    &     8040.330     \\\\\n",
       "\\bottomrule\n",
       "\\end{tabular}\n",
       "%\\caption{Logit Regression Results}\n",
       "\\end{center}\n",
       "\n",
       "Possibly complete quasi-separation: A fraction 0.97 of observations can be \\newline\n",
       " perfectly predicted. This might indicate that there is complete \\newline\n",
       " quasi-separation. In this case some parameters will not be identified."
      ],
      "text/plain": [
       "<class 'statsmodels.iolib.summary.Summary'>\n",
       "\"\"\"\n",
       "                           Logit Regression Results                           \n",
       "==============================================================================\n",
       "Dep. Variable:      FunctioningDayBin   No. Observations:                 8760\n",
       "Model:                          Logit   Df Residuals:                     8758\n",
       "Method:                           MLE   Df Model:                            1\n",
       "Date:                Sat, 09 Dec 2023   Pseudo R-squ.:                  0.9870\n",
       "Time:                        04:05:22   Log-Likelihood:                -16.780\n",
       "converged:                      False   LL-Null:                       -1290.3\n",
       "Covariance Type:            nonrobust   LLR p-value:                     0.000\n",
       "==============================================================================\n",
       "                 coef    std err          z      P>|z|      [0.025      0.975]\n",
       "------------------------------------------------------------------------------\n",
       "Intercept     -4.5884      0.580     -7.907      0.000      -5.726      -3.451\n",
       "Total         22.3200   4090.897      0.005      0.996   -7995.690    8040.330\n",
       "==============================================================================\n",
       "\n",
       "Possibly complete quasi-separation: A fraction 0.97 of observations can be\n",
       "perfectly predicted. This might indicate that there is complete\n",
       "quasi-separation. In this case some parameters will not be identified.\n",
       "\"\"\""
      ]
     },
     "execution_count": 124,
     "metadata": {},
     "output_type": "execute_result"
    }
   ],
   "source": [
    "bikes[\"FunctioningDayBin\"] = (bikes[\"FunctioningDay\"] == \"Yes\").astype(\"int\")\n",
    "logit_results = smf.logit(\"FunctioningDayBin ~ Total\", data=bikes).fit()\n",
    "\n",
    "logit_results.summary()"
   ]
  },
  {
   "cell_type": "code",
   "execution_count": 125,
   "metadata": {},
   "outputs": [
    {
     "data": {
      "text/plain": [
       "Intercept    -4.588363\n",
       "Total        22.320014\n",
       "dtype: float64"
      ]
     },
     "execution_count": 125,
     "metadata": {},
     "output_type": "execute_result"
    }
   ],
   "source": [
    "logit_results.params\n"
   ]
  },
  {
   "cell_type": "markdown",
   "metadata": {},
   "source": [
    "*Требует дальнейшего описания*"
   ]
  }
 ],
 "metadata": {
  "kernelspec": {
   "display_name": "Python 3 (ipykernel)",
   "language": "python",
   "name": "python3"
  },
  "language_info": {
   "codemirror_mode": {
    "name": "ipython",
    "version": 3
   },
   "file_extension": ".py",
   "mimetype": "text/x-python",
   "name": "python",
   "nbconvert_exporter": "python",
   "pygments_lexer": "ipython3",
   "version": "3.11.3"
  }
 },
 "nbformat": 4,
 "nbformat_minor": 5
}
